{
 "cells": [
  {
   "cell_type": "markdown",
   "id": "60a8a06a",
   "metadata": {},
   "source": [
    "# Pole Vulnerability Analysis"
   ]
  },
  {
   "cell_type": "markdown",
   "id": "9924b2f9",
   "metadata": {},
   "source": [
    "Paper used for reference to derive the calculations below: https://link.springer.com/article/10.1007/s13753-019-0219-8"
   ]
  },
  {
   "cell_type": "markdown",
   "id": "215ef5a0",
   "metadata": {},
   "source": [
    "<img src=\"pole_figure.png\">"
   ]
  },
  {
   "cell_type": "markdown",
   "id": "5170ea7c",
   "metadata": {},
   "source": [
    "Resilience metric i.e. sum of gravitational force and wind force:\n",
    "\n",
    "$F(\\theta,h,r,V) = F_{g{\\bot}}+F_{w{\\bot}} $ "
   ]
  },
  {
   "cell_type": "markdown",
   "id": "e650cc39",
   "metadata": {},
   "source": [
    "$F(\\theta,h,r,V) = mgsin\\theta + 0.00512CK_zG_hC_dV^2hrcos\\theta $\n",
    "\n"
   ]
  },
  {
   "cell_type": "markdown",
   "id": "1a9ced07",
   "metadata": {},
   "source": [
    "$\\theta $ = tilt angle from vertical\n",
    "\n",
    "$m$ = pole mass\n",
    "\n",
    "$g$ = gravity\n",
    "\n",
    "$C$ = constant converting the wind force from pound-force (lbf) to Newton (N). Needed since the wind force and the height of the pole were considered as miles per hour and ft. \n",
    "\n",
    "$K_z$ = the exposure coefficient \n",
    "\n",
    "$G_h$ = gust response factor \n",
    "\n",
    "$C_d$ = drag coefficient "
   ]
  },
  {
   "cell_type": "markdown",
   "id": "34febcc9",
   "metadata": {},
   "source": [
    "### Resilience Conditions"
   ]
  },
  {
   "cell_type": "markdown",
   "id": "5fb7b98e",
   "metadata": {},
   "source": [
    "    \n",
    "   Healthy (resilient): $ 0<=\\theta<15 $ \n",
    "   \n",
    "   Critical (moderately resilient): $ 15<=\\theta<25 $\n",
    "   \n",
    "   Unhealthy (non-resilient): $ 25<=\\theta $\n",
    "    "
   ]
  },
  {
   "cell_type": "code",
   "execution_count": null,
   "id": "482cfea4",
   "metadata": {},
   "outputs": [],
   "source": []
  }
 ],
 "metadata": {
  "kernelspec": {
   "display_name": "Python 3",
   "language": "python",
   "name": "python3"
  },
  "language_info": {
   "codemirror_mode": {
    "name": "ipython",
    "version": 3
   },
   "file_extension": ".py",
   "mimetype": "text/x-python",
   "name": "python",
   "nbconvert_exporter": "python",
   "pygments_lexer": "ipython3",
   "version": "3.9.4"
  }
 },
 "nbformat": 4,
 "nbformat_minor": 5
}
