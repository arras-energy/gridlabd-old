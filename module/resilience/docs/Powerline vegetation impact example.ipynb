{
 "cells": [
  {
   "cell_type": "code",
   "execution_count": 1,
   "metadata": {},
   "outputs": [],
   "source": [
    "import ipyplot"
   ]
  },
  {
   "cell_type": "code",
   "execution_count": 2,
   "metadata": {},
   "outputs": [
    {
     "data": {
      "text/html": [
       "\n",
       "    <style>\n",
       "        #ipyplot-html-viewer-toggle-MeSwY2pZqEsG6VJjbx5SSi {\n",
       "            position: absolute;\n",
       "            top: -9999px;\n",
       "            left: -9999px;\n",
       "            visibility: hidden;\n",
       "        }\n",
       "\n",
       "        #ipyplot-html-viewer-label-MeSwY2pZqEsG6VJjbx5SSi { \n",
       "            position: relative;\n",
       "            display: inline-block;\n",
       "            cursor: pointer;\n",
       "            color: blue;\n",
       "            text-decoration: underline;\n",
       "        }\n",
       "\n",
       "        #ipyplot-html-viewer-textarea-MeSwY2pZqEsG6VJjbx5SSi {\n",
       "            background: lightgrey;\n",
       "            width: 100%;\n",
       "            height: 0px;\n",
       "            display: none;\n",
       "        }\n",
       "\n",
       "        #ipyplot-html-viewer-toggle-MeSwY2pZqEsG6VJjbx5SSi:checked ~ #ipyplot-html-viewer-textarea-MeSwY2pZqEsG6VJjbx5SSi {\n",
       "            height: 200px;\n",
       "            display: block;\n",
       "        }\n",
       "\n",
       "        #ipyplot-html-viewer-toggle-MeSwY2pZqEsG6VJjbx5SSi:checked + #ipyplot-html-viewer-label-MeSwY2pZqEsG6VJjbx5SSi:after {\n",
       "            content: \"hide html\";\n",
       "            position: absolute;\n",
       "            top: 0;\n",
       "            left: 0;\n",
       "            right: 0;\n",
       "            bottom: 0;\n",
       "            background: white;\n",
       "            cursor: pointer;\n",
       "            color: blue;\n",
       "            text-decoration: underline;\n",
       "        }\n",
       "    </style>\n",
       "    <div>\n",
       "        <input type=\"checkbox\" id=\"ipyplot-html-viewer-toggle-MeSwY2pZqEsG6VJjbx5SSi\">\n",
       "        <label id=\"ipyplot-html-viewer-label-MeSwY2pZqEsG6VJjbx5SSi\" for=\"ipyplot-html-viewer-toggle-MeSwY2pZqEsG6VJjbx5SSi\">show html</label>\n",
       "        <textarea id=\"ipyplot-html-viewer-textarea-MeSwY2pZqEsG6VJjbx5SSi\" readonly>\n",
       "            \n",
       "        <style>\n",
       "        #ipyplot-imgs-container-div-TJx9YvPGbvChqUMNDaCucv {\n",
       "            width: 100%;\n",
       "            height: 100%;\n",
       "            margin: 0%;\n",
       "            overflow: auto;\n",
       "            position: relative;\n",
       "            overflow-y: scroll;\n",
       "        }\n",
       "\n",
       "        div.ipyplot-placeholder-div-TJx9YvPGbvChqUMNDaCucv {\n",
       "            width: 500px;\n",
       "            display: inline-block;\n",
       "            margin: 3px;\n",
       "            position: relative;\n",
       "        }\n",
       "\n",
       "        div.ipyplot-content-div-TJx9YvPGbvChqUMNDaCucv {\n",
       "            width: 500px;\n",
       "            background: white;\n",
       "            display: inline-block;\n",
       "            vertical-align: top;\n",
       "            text-align: center;\n",
       "            position: relative;\n",
       "            border: 2px solid #ddd;\n",
       "            top: 0;\n",
       "            left: 0;\n",
       "        }\n",
       "\n",
       "        div.ipyplot-content-div-TJx9YvPGbvChqUMNDaCucv span.ipyplot-img-close {\n",
       "            display: none;\n",
       "        }\n",
       "\n",
       "        div.ipyplot-content-div-TJx9YvPGbvChqUMNDaCucv span {\n",
       "            width: 100%;\n",
       "            height: 100%;\n",
       "            position: absolute;\n",
       "            top: 0;\n",
       "            left: 0;\n",
       "        }\n",
       "\n",
       "        div.ipyplot-content-div-TJx9YvPGbvChqUMNDaCucv img {\n",
       "            width: 500px;\n",
       "        }\n",
       "\n",
       "        div.ipyplot-content-div-TJx9YvPGbvChqUMNDaCucv span.ipyplot-img-close:hover {\n",
       "            cursor: zoom-out;\n",
       "        }\n",
       "        div.ipyplot-content-div-TJx9YvPGbvChqUMNDaCucv span.ipyplot-img-expand:hover {\n",
       "            cursor: zoom-in;\n",
       "        }\n",
       "\n",
       "        div[id^=ipyplot-content-div-TJx9YvPGbvChqUMNDaCucv]:target {\n",
       "            transform: scale(2.5);\n",
       "            transform-origin: left top;\n",
       "            z-index: 5000;\n",
       "            top: 0;\n",
       "            left: 0;\n",
       "            position: absolute;\n",
       "        }\n",
       "\n",
       "        div[id^=ipyplot-content-div-TJx9YvPGbvChqUMNDaCucv]:target span.ipyplot-img-close {\n",
       "            display: block;\n",
       "        }\n",
       "\n",
       "        div[id^=ipyplot-content-div-TJx9YvPGbvChqUMNDaCucv]:target span.ipyplot-img-expand {\n",
       "            display: none;\n",
       "        }\n",
       "        </style>\n",
       "    <div id=\"ipyplot-imgs-container-div-TJx9YvPGbvChqUMNDaCucv\">\n",
       "    <div class=\"ipyplot-placeholder-div-TJx9YvPGbvChqUMNDaCucv\">\n",
       "        <div id=\"ipyplot-content-div-TJx9YvPGbvChqUMNDaCucv-UBJkC3Y9J2WAyLhprnmrZg\" class=\"ipyplot-content-div-TJx9YvPGbvChqUMNDaCucv\">\n",
       "            <h4 style=\"font-size: 12px; word-wrap: break-word;\">0</h4>\n",
       "            <h4 style=\"font-size: 9px; padding-left: 10px; padding-right: 10px; width: 95%; word-wrap: break-word; white-space: normal;\">MarinCounty-Vegetation-CanopyCover-2020-Summer-00010m.tiff</h4><img src=\"MarinCounty-Vegetation-CanopyCover-2020-Summer-00010m.tiff\"/>\n",
       "            <a href=\"#!\">\n",
       "                <span class=\"ipyplot-img-close\"/>\n",
       "            </a>\n",
       "            <a href=\"#ipyplot-content-div-TJx9YvPGbvChqUMNDaCucv-UBJkC3Y9J2WAyLhprnmrZg\">\n",
       "                <span class=\"ipyplot-img-expand\"/>\n",
       "            </a>\n",
       "        </div>\n",
       "    </div>\n",
       "    </div>\n",
       "        </textarea>\n",
       "    </div>\n",
       "    "
      ],
      "text/plain": [
       "<IPython.core.display.HTML object>"
      ]
     },
     "metadata": {},
     "output_type": "display_data"
    },
    {
     "data": {
      "text/html": [
       "\n",
       "        <style>\n",
       "        #ipyplot-imgs-container-div-TJx9YvPGbvChqUMNDaCucv {\n",
       "            width: 100%;\n",
       "            height: 100%;\n",
       "            margin: 0%;\n",
       "            overflow: auto;\n",
       "            position: relative;\n",
       "            overflow-y: scroll;\n",
       "        }\n",
       "\n",
       "        div.ipyplot-placeholder-div-TJx9YvPGbvChqUMNDaCucv {\n",
       "            width: 500px;\n",
       "            display: inline-block;\n",
       "            margin: 3px;\n",
       "            position: relative;\n",
       "        }\n",
       "\n",
       "        div.ipyplot-content-div-TJx9YvPGbvChqUMNDaCucv {\n",
       "            width: 500px;\n",
       "            background: white;\n",
       "            display: inline-block;\n",
       "            vertical-align: top;\n",
       "            text-align: center;\n",
       "            position: relative;\n",
       "            border: 2px solid #ddd;\n",
       "            top: 0;\n",
       "            left: 0;\n",
       "        }\n",
       "\n",
       "        div.ipyplot-content-div-TJx9YvPGbvChqUMNDaCucv span.ipyplot-img-close {\n",
       "            display: none;\n",
       "        }\n",
       "\n",
       "        div.ipyplot-content-div-TJx9YvPGbvChqUMNDaCucv span {\n",
       "            width: 100%;\n",
       "            height: 100%;\n",
       "            position: absolute;\n",
       "            top: 0;\n",
       "            left: 0;\n",
       "        }\n",
       "\n",
       "        div.ipyplot-content-div-TJx9YvPGbvChqUMNDaCucv img {\n",
       "            width: 500px;\n",
       "        }\n",
       "\n",
       "        div.ipyplot-content-div-TJx9YvPGbvChqUMNDaCucv span.ipyplot-img-close:hover {\n",
       "            cursor: zoom-out;\n",
       "        }\n",
       "        div.ipyplot-content-div-TJx9YvPGbvChqUMNDaCucv span.ipyplot-img-expand:hover {\n",
       "            cursor: zoom-in;\n",
       "        }\n",
       "\n",
       "        div[id^=ipyplot-content-div-TJx9YvPGbvChqUMNDaCucv]:target {\n",
       "            transform: scale(2.5);\n",
       "            transform-origin: left top;\n",
       "            z-index: 5000;\n",
       "            top: 0;\n",
       "            left: 0;\n",
       "            position: absolute;\n",
       "        }\n",
       "\n",
       "        div[id^=ipyplot-content-div-TJx9YvPGbvChqUMNDaCucv]:target span.ipyplot-img-close {\n",
       "            display: block;\n",
       "        }\n",
       "\n",
       "        div[id^=ipyplot-content-div-TJx9YvPGbvChqUMNDaCucv]:target span.ipyplot-img-expand {\n",
       "            display: none;\n",
       "        }\n",
       "        </style>\n",
       "    <div id=\"ipyplot-imgs-container-div-TJx9YvPGbvChqUMNDaCucv\">\n",
       "    <div class=\"ipyplot-placeholder-div-TJx9YvPGbvChqUMNDaCucv\">\n",
       "        <div id=\"ipyplot-content-div-TJx9YvPGbvChqUMNDaCucv-UBJkC3Y9J2WAyLhprnmrZg\" class=\"ipyplot-content-div-TJx9YvPGbvChqUMNDaCucv\">\n",
       "            <h4 style=\"font-size: 12px; word-wrap: break-word;\">0</h4>\n",
       "            <h4 style=\"font-size: 9px; padding-left: 10px; padding-right: 10px; width: 95%; word-wrap: break-word; white-space: normal;\">MarinCounty-Vegetation-CanopyCover-2020-Summer-00010m.tiff</h4><img src=\"MarinCounty-Vegetation-CanopyCover-2020-Summer-00010m.tiff\"/>\n",
       "            <a href=\"#!\">\n",
       "                <span class=\"ipyplot-img-close\"/>\n",
       "            </a>\n",
       "            <a href=\"#ipyplot-content-div-TJx9YvPGbvChqUMNDaCucv-UBJkC3Y9J2WAyLhprnmrZg\">\n",
       "                <span class=\"ipyplot-img-expand\"/>\n",
       "            </a>\n",
       "        </div>\n",
       "    </div>\n",
       "    </div>"
      ],
      "text/plain": [
       "<IPython.core.display.HTML object>"
      ]
     },
     "metadata": {},
     "output_type": "display_data"
    }
   ],
   "source": [
    "ipyplot.plot_images([\"MarinCounty-Vegetation-CanopyCover-2020-Summer-00010m.tiff\"],img_width=500)"
   ]
  },
  {
   "cell_type": "code",
   "execution_count": 3,
   "metadata": {},
   "outputs": [],
   "source": [
    "from PIL import Image\n",
    "import IPython.display as dsp\n",
    "import numpy as np\n",
    "from scipy.interpolate import interp1d\n",
    "import pandas as pd"
   ]
  },
  {
   "cell_type": "code",
   "execution_count": 4,
   "metadata": {},
   "outputs": [],
   "source": [
    "# res = 10 # TIFF resolution in meters\n",
    "# dd = res*39/12 # image resolution in feet\n",
    "# box = {\"N\":38.317511, \"S\":37.816952, \"E\":-122.372121, \"W\":-123.024393}\n",
    "# print('size:',data.shape)\n",
    "\n",
    "def get_values(specs,p0,p1):\n",
    "    img = Image.open(\"MarinCounty-Vegetation-CanopyCover-2020-Summer-00010m.tiff\")\n",
    "    data = np.array(img)\n",
    "    x0 = int((p0[\"lon\"]-box[\"W\"])/(box[\"E\"]-box[\"W\"])*data.shape[0])\n",
    "    y0 = int((p0[\"lat\"]-box[\"N\"])/(box[\"S\"]-box[\"N\"])*data.shape[1])\n",
    "    x1 = int((p1[\"lon\"]-box[\"W\"])/(box[\"E\"]-box[\"W\"])*data.shape[0])\n",
    "    y1 = int((p1[\"lat\"]-box[\"N\"])/(box[\"S\"]-box[\"N\"])*data.shape[1])\n",
    "    dx = x1-x0\n",
    "    dy = y1-y0\n",
    "    s = 0.0\n",
    "    n = 0\n",
    "    zz = []\n",
    "    tt = []\n",
    "    if abs(dx) > abs(dy): # iterate over x\n",
    "        y = y0\n",
    "        r = dy/dx\n",
    "        for x in range(x0,x1+1,np.sign(dx)):\n",
    "            zz.append(data[int(x),int(y)])\n",
    "            tt.append(np.sqrt((x0-x)*(x0-x)+(y0-y)*(y0-y))*dd)\n",
    "            y += r\n",
    "    else: # iterate over y\n",
    "        x = x0\n",
    "        r = dx/dy\n",
    "        for y in range(y0,y1+1,np.sign(dy)):\n",
    "            zz.append(data[int(x),int(y)])\n",
    "            tt.append(np.sqrt((x0-x)*(x0-x)+(y0-y)*(y0-y))*dd)\n",
    "            x += r\n",
    "    d = round(np.sqrt(dx*dx+dy*dy)*dd) # distance in feet\n",
    "    zz = np.array(zz)\n",
    "    t = np.array(tt)\n",
    "    z = list(map(lambda x:float(x/res/res),list(map(interp1d(t,zz),np.arange(tt[0],tt[-1],1.0)))))\n",
    "    return {\n",
    "        \"from\" : p0,\n",
    "        \"to\" :p1,\n",
    "        \"min\":zz.min(),\n",
    "        \"max\":zz.max(),\n",
    "        \"avg\":np.round(zz.mean(),1),\n",
    "        \"std\":np.round(zz.std(),1),\n",
    "        \"len\":d,\n",
    "        \"t\" : np.arange(tt[0],tt[-1],1.0),\n",
    "        \"z\": np.array(z),\n",
    "    }\n"
   ]
  },
  {
   "cell_type": "code",
   "execution_count": 5,
   "metadata": {},
   "outputs": [
    {
     "name": "stdout",
     "output_type": "stream",
     "text": [
      "{'from': {'lat': 38.131435, 'lon': -122.740464}, 'to': {'lat': 38.110846, 'lon': -122.724984}, 'min': 1, 'max': 84, 'avg': 14.4, 'std': 25.1, 'len': 8990, 't': array([0.000e+00, 1.000e+00, 2.000e+00, ..., 8.988e+03, 8.989e+03,\n",
      "       8.990e+03]), 'z': array([0.79      , 0.79026918, 0.79053836, ..., 0.01      , 0.01      ,\n",
      "       0.01      ])}\n"
     ]
    }
   ],
   "source": [
    "res = 10 # TIFF resolution in meters\n",
    "dd = res*39/12 # image resolution in feet\n",
    "box = {\"N\":38.317511, \"S\":37.816952, \"E\":-122.372121, \"W\":-123.024393}\n",
    "#print('size:',data.shape)\n",
    "\n",
    "result = get_values(\"MarinCounty-Vegetation-CanopyCover-2020-Summer-00010m.tiff\",{\"lat\":38.131435, \"lon\":-122.740464},{\"lat\":38.110846, \"lon\":-122.724984})\n",
    "img = Image.open(\"MarinCounty-Vegetation-CanopyCover-2020-Summer-00010m.tiff\")\n",
    "data = np.array(img)\n",
    "print(result)"
   ]
  },
  {
   "cell_type": "code",
   "execution_count": 6,
   "metadata": {},
   "outputs": [
    {
     "data": {
      "image/png": "[encoded data removed]",
      "text/plain": [
       "<Figure size 1080x360 with 1 Axes>"
      ]
     },
     "metadata": {
      "needs_background": "light"
     },
     "output_type": "display_data"
    }
   ],
   "source": [
    "import matplotlib.pyplot as plt\n",
    "plt.figure(1,figsize=(15,5))\n",
    "plt.plot(result[\"t\"],result[\"z\"]*100)\n",
    "plt.xlabel('Line location (ft)')\n",
    "plt.ylabel('Canopy cover (%)')\n",
    "plt.ylim([0,100])\n",
    "plt.grid()\n",
    "plt.title(f\"Marin County Canopy Cover 2020 Summer from {result['from']} to {result['to']}\")\n",
    "plt.show()"
   ]
  },
  {
   "cell_type": "code",
   "execution_count": 7,
   "metadata": {},
   "outputs": [
    {
     "data": {
      "text/plain": [
       "array([0.000e+00, 1.000e+00, 2.000e+00, ..., 8.988e+03, 8.989e+03,\n",
       "       8.990e+03])"
      ]
     },
     "execution_count": 7,
     "metadata": {},
     "output_type": "execute_result"
    }
   ],
   "source": [
    "result['t']"
   ]
  },
  {
   "cell_type": "code",
   "execution_count": 8,
   "metadata": {},
   "outputs": [],
   "source": [
    "df = pd.DataFrame(data=result['t'], columns= ['t'])"
   ]
  },
  {
   "cell_type": "code",
   "execution_count": 9,
   "metadata": {},
   "outputs": [],
   "source": [
    "df['z'] = pd.DataFrame(data=result['z'], columns= ['z'])"
   ]
  },
  {
   "cell_type": "code",
   "execution_count": 10,
   "metadata": {},
   "outputs": [],
   "source": [
    "df.to_csv(\"output.csv\",index=False)"
   ]
  },
  {
   "cell_type": "code",
   "execution_count": 11,
   "metadata": {},
   "outputs": [],
   "source": [
    "import pandas as pd"
   ]
  },
  {
   "cell_type": "code",
   "execution_count": 12,
   "metadata": {},
   "outputs": [
    {
     "data": {
      "text/plain": [
       "0    0.0\n",
       "1    2.1\n",
       "2    2.1\n",
       "3    1.5\n",
       "4    3.1\n",
       "Name: Wspd (m/s), dtype: float64"
      ]
     },
     "execution_count": 12,
     "metadata": {},
     "output_type": "execute_result"
    }
   ],
   "source": [
    "df = pd.read_csv('TMY3-SF.csv')\n",
    "# Hourly wind speed\n",
    "wspd = df['Wspd (m/s)']\n",
    "wspd.head()"
   ]
  },
  {
   "cell_type": "code",
   "execution_count": 47,
   "metadata": {},
   "outputs": [],
   "source": [
    "# Vegetation contact\n",
    "\n",
    "# # V: wind speed - From TMY3\n",
    "# V = 1\n",
    "# # d: line diameter in m\n",
    "# d = 1\n",
    "# # beta: line windage coefficient\n",
    "# beta = 1\n",
    "\n",
    "F_w = d*beta*V^2\n",
    "\n",
    "# w: line weight\n",
    "w = 1\n",
    "\n",
    "# t: line location\n",
    "# y : observed line sag (for now just assume it to be 1m)\n",
    "\n",
    "\n",
    "\n",
    "# T1: temperature(degC); A: conductor area(m^2); H: horizontal tension(need to be given)(N); S: span length(m); W: conductor unit weight(N/m)\n",
    "# E: modulous of elasticity(Pa)\n",
    "\n",
    "T1 = 15\n",
    "H1 = 15450\n",
    "A = 0.0004029\n",
    "S = 300\n",
    "W1 = 10.89\n",
    "E = 58.9*10**9\n",
    "\n",
    "# Total conductor length\n",
    "L1 = S*(1+(S**2*W1**2/(24*H1**2)))\n",
    "# Initial sag\n",
    "D_init = H1/W1*(np.cosh(S/(2*H1/W1))-1)\n",
    "\n",
    "# With ice and wind\n",
    "# rho: density of ice(kg/m^3)\n",
    "rho = 915\n",
    "# t: thickness(m)\n",
    "t = 0.0125\n",
    "\n",
    "# d = diameter(m)\n",
    "d = 0.0261\n",
    "W_ice = rho*np.pi*t*(d+t)\n",
    "\n",
    "\n",
    "D_total = d+2*t\n",
    "# P_wind: wind pressure(pa)\n",
    "P_wind = 190\n",
    "W_wind = P_wind*D_total\n",
    "\n",
    "W_total = np.sqrt(W_wind**2+(W1+W_ice)**2)\n",
    "# Sag with wind and ice\n",
    "D_total = H1/W_total*(np.cosh(S/(2*H1/W_total))-1)\n",
    "\n",
    "# Blowout angle\n",
    "theta = np.tan(W_wind/(W_ice+W1))**(-1)\n",
    "D_l = D_total*np.sin(theta)\n",
    "# D_v = D_total*np.cos(theta)\n",
    "\n",
    "# D_l = y*np.sin((np.tan(w/F_w))**-1)\n",
    "\n",
    "# S: susceptibility\n",
    "S = 0.1\n",
    "\n",
    "D_v = S*V\n",
    "\n",
    "# D: right-of-way distance\n",
    "D = 30\n",
    "# R: vegetation growth rate (ft/yr)\n",
    "R = 3.28\n",
    "# dT: time since right-of-way was maintained\n",
    "dT = 5\n",
    "\n",
    "D_o = D - R*dT\n",
    "\n",
    "if D_o >= 0:\n",
    "    P_c = (D_l+D_v)/2\n",
    "else:\n",
    "    P_c = 0"
   ]
  },
  {
   "cell_type": "code",
   "execution_count": 48,
   "metadata": {},
   "outputs": [
    {
     "data": {
      "text/plain": [
       "4.820817233606873"
      ]
     },
     "execution_count": 48,
     "metadata": {},
     "output_type": "execute_result"
    }
   ],
   "source": [
    "P_c"
   ]
  },
  {
   "cell_type": "code",
   "execution_count": 31,
   "metadata": {},
   "outputs": [],
   "source": [
    "# Vegetation fall\n",
    "R_f = D_o/D\n",
    "\n",
    "# A : age of the tree?\n",
    "A = 20\n",
    "\n",
    "V_c = (100-A)/5 + 10\n",
    "\n",
    "if V >= V_c:\n",
    "    P_f = R_f*V/V_c\n",
    "else:\n",
    "    P_f = 0\n"
   ]
  },
  {
   "cell_type": "code",
   "execution_count": 32,
   "metadata": {},
   "outputs": [
    {
     "data": {
      "text/plain": [
       "0"
      ]
     },
     "execution_count": 32,
     "metadata": {},
     "output_type": "execute_result"
    }
   ],
   "source": [
    "P_f"
   ]
  },
  {
   "cell_type": "code",
   "execution_count": null,
   "metadata": {},
   "outputs": [],
   "source": []
  }
 ],
 "metadata": {
  "kernelspec": {
   "display_name": "Python 3",
   "language": "python",
   "name": "python3"
  },
  "language_info": {
   "codemirror_mode": {
    "name": "ipython",
    "version": 3
   },
   "file_extension": ".py",
   "mimetype": "text/x-python",
   "name": "python",
   "nbconvert_exporter": "python",
   "pygments_lexer": "ipython3",
   "version": "3.7.7"
  }
 },
 "nbformat": 4,
 "nbformat_minor": 4
}
