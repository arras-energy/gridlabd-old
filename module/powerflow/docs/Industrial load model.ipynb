{
 "cells": [
  {
   "cell_type": "markdown",
   "id": "b665e014",
   "metadata": {},
   "source": [
    "This notebook documents the industrial load model."
   ]
  },
  {
   "cell_type": "markdown",
   "id": "e123f4eb",
   "metadata": {},
   "source": [
    "# Load Composition\n",
    "Industrial loads are classified using the NAICS coding system.  Each type of industrial load have a typical load composition at nameplate capacity $P_0$. These values are stored in the `naics_data_file.csv` file.  The following is a sample:\n",
    "\n",
    "| NAICS | Code    | Industrial Load Type       | MA   | MB   | MC   | MD |  PE  |  PZ  |  PI  |\n",
    "| ----- | ------- | -------------------------- | ---- | ---- | ---- | -- | ---- | ---- | ---- |\n",
    "| 339   | IND_OTH | Industrial - Other         | 0.10 | 0.30 | 0.30 | 0   | 0.20 | 0.05 | 0.05 | \n",
    "| 211   | IND_SHG | Shale Gas Extraction Plant |    0 | 0.20 | 0.40 | 0   | 0.40 |    0 |    0 | \n",
    "| 212   | IND_MIN | Mining                     | 0.25 | 0.25 | 0.30 | 0   | 0.20 |    0 |    0 | \n",
    "\n",
    "The industrial load model uses the composite load model (see NERC) and the NAICS load composition data.  Seven load components comprise the composite load model:\n",
    "* $P_Z$ - constant impedance loads\n",
    "* $P_I$ - constant current loads\n",
    "* $M_A$ - 3 phase motors with constant torque and low inertia\n",
    "* $M_B$ - 3 phase motors with speed-squared torque and high inertia\n",
    "* $M_C$ - 3 phase motors with speed-squared torque and low inertia\n",
    "* $M_D$ - single phase induction motors driving compressors\n",
    "* $P_E$ - power electronic drives\n",
    "The load components must add to 1.0."
   ]
  },
  {
   "cell_type": "markdown",
   "id": "4759d34f",
   "metadata": {},
   "source": [
    "# Load Schedule\n",
    "Loads vary according to schedules, which vary by month, weekday, and hour for the time $t$. Loads can be varied in aggregate $P_{s}(t)$, or by individual components $A_s(t)$, $B_s(t)$, $C_s(t)$, $D_s(t)$, $E_s(t)$, $I_s(t)$, and $Z_s(t)$. The load schedule is always defined per unit nameplate load."
   ]
  },
  {
   "cell_type": "markdown",
   "id": "7739a01d",
   "metadata": {},
   "source": [
    "# Load Calculation\n",
    "The total disaggregated real constant impedance, current, and power are computed as\n",
    "$$\n",
    "    \\begin{array}{lll}\n",
    "        P = ( A_s(t)~M_A + B_s(t)~M_B + C_S(t)~M_C + D_s(t)~M_D + E_s(t)~P_E ) P_0,\n",
    "    \\\\\n",
    "        Z = Z_s(t)~P_Z~P_0, \\quad \\mathrm{and}\n",
    "    \\\\\n",
    "        I = I_s(t)~P_I~P_0 \n",
    "    \\end{array}\n",
    "$$\n",
    "respectively, and the total aggregated real power is computed as\n",
    "$$\n",
    "    P = P_{s}(t) ~ P_0.\n",
    "$$\n",
    "\n",
    "The reactive constant power is\n",
    "$$\n",
    "    Q = P \\tan(\\cos^{-1}(P_F))\n",
    "$$"
   ]
  }
 ],
 "metadata": {
  "kernelspec": {
   "display_name": "Python 3",
   "language": "python",
   "name": "python3"
  },
  "language_info": {
   "codemirror_mode": {
    "name": "ipython",
    "version": 3
   },
   "file_extension": ".py",
   "mimetype": "text/x-python",
   "name": "python",
   "nbconvert_exporter": "python",
   "pygments_lexer": "ipython3",
   "version": "3.10.8"
  }
 },
 "nbformat": 4,
 "nbformat_minor": 5
}
