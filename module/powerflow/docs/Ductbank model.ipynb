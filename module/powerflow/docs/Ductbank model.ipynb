{
 "cells": [
  {
   "cell_type": "markdown",
   "metadata": {},
   "source": [
    "The ductbank model is the equilibrium thermal model (i.e., thermal mass is not considered) described by the following:\n",
    "\n",
    "$$\n",
    "    Q   \\xrightarrow{} (T_C) \n",
    "        \\xrightarrow{U_I} (T_A) \n",
    "        \\xrightarrow{U_A} (T_D)\n",
    "        \\xrightarrow{U_S} (T_G)\n",
    "$$\n",
    "\n",
    "where\n",
    "- $Q$ is the thermal heat from the cable losses (input)\n",
    "- $T_C$ is the temperature of the cable\n",
    "- $U_I$ is the conductance of the cable insulation\n",
    "- $T_A$ is the duct air temperature\n",
    "- $U_A$ is the conductance of the duct air gap\n",
    "- $T_D$ is the temperature of the duct\n",
    "- $U_S$ is the conductance of the duct shell\n",
    "- $T_G$ is the temperature of the ground (input)"
   ]
  },
  {
   "cell_type": "markdown",
   "metadata": {},
   "source": [
    "The equilibrium temperatures are calculated as follows\n",
    "\n",
    "$$\n",
    "    T_D = T_G + { Q \\over U_S }, \\qquad\n",
    "    T_A = T_D + { Q \\over U_A }, \\qquad \\mathrm{and} \\qquad\n",
    "    T_C = T_A + { Q \\over U_I }\n",
    "$$"
   ]
  },
  {
   "cell_type": "markdown",
   "metadata": {},
   "source": [
    "The conductance of the air gap is computed as follows:\n",
    "\n",
    "1. The cross sectional area of air $A$ is the overall cross section of the duct  $A_0$ less the overall cross section of cables in the duct $A_C$, including insulation, i.e.,\n",
    "\n",
    "$$\n",
    "    A = A_0 - A_C\n",
    "$$\n",
    "\n",
    "2. The mean distance from cable to duct $D$ is one half the square root of the cross sectional area of air, i.e.,\n",
    "\n",
    "$$\n",
    "    D = { \\sqrt{A} \\over 2 }\n",
    "$$\n",
    "\n",
    "3. The conductance of the air gap is the conductivity of air at ambient conditions divided by the mean distance, i.e.,\n",
    "\n",
    "$$\n",
    "    U_A = { 0.02572 \\over D }\n",
    "$$\n"
   ]
  },
  {
   "cell_type": "markdown",
   "metadata": {},
   "source": [
    "The conductance of the duct shell is computed as follows:\n",
    "1. TODO"
   ]
  },
  {
   "cell_type": "code",
   "execution_count": null,
   "metadata": {},
   "outputs": [],
   "source": []
  }
 ],
 "metadata": {
  "kernelspec": {
   "display_name": "Python 3",
   "language": "python",
   "name": "python3"
  },
  "language_info": {
   "codemirror_mode": {
    "name": "ipython",
    "version": 3
   },
   "file_extension": ".py",
   "mimetype": "text/x-python",
   "name": "python",
   "nbconvert_exporter": "python",
   "pygments_lexer": "ipython3",
   "version": "3.7.16"
  }
 },
 "nbformat": 4,
 "nbformat_minor": 4
}
