{
 "cells": [
  {
   "cell_type": "markdown",
   "metadata": {},
   "source": [
    "The ductbank model is the equilibrium thermal model (i.e., thermal mass is not considered) described by the following:\n",
    "\n",
    "$$\n",
    "    Q   \\xrightarrow{} (T_C) \n",
    "        \\xrightarrow{U_I} (T_S) \n",
    "        \\xrightarrow{U_A} (T_I)\n",
    "        \\xrightarrow{U_D} (T_O)\n",
    "        \\xrightarrow{U_F} (T_G)\n",
    "$$\n",
    "\n",
    "where\n",
    "- $Q$ is the thermal heat from the cable losses (input)\n",
    "- $T_C$ is the temperature of the cable core\n",
    "- $U_I$ is the thermal conductance of the cable insulation\n",
    "- $T_S$ is the temperature of the cable shield\n",
    "- $U_A$ is the thermal conductance of the duct air gap\n",
    "- $T_I$ is the temperature of the duct inner surface\n",
    "- $U_D$ is the thermal conductance of the duct core\n",
    "- $T_O$ is the temperature of the duct outer surface\n",
    "- $U_F$ is the thermal conductance of the fill soil\n",
    "- $T_G$ is the temperature of the surface ground"
   ]
  },
  {
   "cell_type": "markdown",
   "metadata": {},
   "source": [
    "The equilibrium temperatures are calculated as follows\n",
    "\n",
    "$$\n",
    "    T_O = T_G + { Q \\over U_F }, \\qquad\n",
    "    T_I = T_O + { Q \\over U_D }, \\qquad\n",
    "    T_S = T_I + { Q \\over U_A }, \\qquad\n",
    "    T_C = T_S + { Q \\over U_I }\n",
    "$$"
   ]
  },
  {
   "cell_type": "markdown",
   "metadata": {},
   "source": [
    "The conductance of the air gap is computed as follows:\n",
    "\n",
    "1. The cross sectional area of air $A$ is the overall cross section of the duct  $A_0$ less the overall cross section of cables in the duct $A_C$, including insulation, i.e.,\n",
    "\n",
    "$$\n",
    "    A = A_0 - A_C\n",
    "$$\n",
    "\n",
    "2. The mean distance from cable to duct $D$ is one half the square root of the cross sectional area of air, i.e.,\n",
    "\n",
    "$$\n",
    "    D = { \\sqrt{A} \\over 2 }\n",
    "$$\n",
    "\n",
    "3. The conductance of the air gap is the effective conductivity of air at ambient conditions divided by the mean distance, i.e.,\n",
    "\n",
    "$$\n",
    "    U_A = { 0.026 \\over D }\n",
    "$$\n"
   ]
  },
  {
   "cell_type": "markdown",
   "metadata": {},
   "source": [
    "The conductance of the duct is computed as follows:\n",
    "1. The duct cross-sectional area is\n",
    "\n",
    "$$\n",
    "    A_D = 4 L \\sqrt{A_0}\n",
    "$$\n",
    "\n",
    "where $L$ is the length of the duct.\n",
    "\n",
    "2. The conductance of the duct is computed as follows\n",
    "\n",
    "$$\n",
    "    U_D = A_D U_{duct} \n",
    "$$\n",
    "\n",
    "where $U_{duct}$ is composed from the table below according to the material used."
   ]
  },
  {
   "cell_type": "markdown",
   "metadata": {},
   "source": [
    "For the above calculations the following R-values and U-values may be used according the material type:\n",
    "\n",
    "| Material | U-value (W/K.m) |\n",
    "| :------- | --------------- | \n",
    "| ___Shell___\n",
    "| PVC              | 0.19 |\n",
    "| ___Core___       |||\n",
    "| Concrete         | 0.92 |\n",
    "| ___Fill soil___      |||\n",
    "| Damp soil        | 1.00 |\n",
    "| Average soil     | 0.80 |\n",
    "| Dry soil         | 0.60 |\n",
    "| ___Cable insulation___ |||\n",
    "| Rubber           | 0.10 |\n",
    "| Polyethylene     | 0.46 |\n",
    "| __Air__|||\n",
    "| Standard conditions | 0.026 |\n"
   ]
  },
  {
   "cell_type": "code",
   "execution_count": 1,
   "metadata": {},
   "outputs": [],
   "source": [
    "from math import *\n",
    "# U-value table\n",
    "U = {\n",
    "    \"PVC\" : 0.19,\n",
    "    \"CONCRETE\" : 0.92,\n",
    "    \"WETSOIL\" : 1.00,\n",
    "    \"SOIL\" : 0.80,\n",
    "    \"DRYSOIL\" : 0.60,\n",
    "    \"RUBBER\" : 0.10,\n",
    "    \"PE\" : 0.46,\n",
    "    \"AIR\" : 0.20,\n",
    "} # W/K.m (per-unit thickness)"
   ]
  },
  {
   "cell_type": "markdown",
   "metadata": {},
   "source": [
    "# Example"
   ]
  },
  {
   "cell_type": "markdown",
   "metadata": {},
   "source": [
    "Consider a duct with 6 cables of length 1000 meters, each with a loss of 1 kW in a duct bank of nominal cross sectional area 0.1 m$^2$.  The cables are 2.5 cm in diameter with 1 cm of rubber insulation.  The duct shell is 1 cm of PVC. The duct core is 40 cm thick concrete and the fill is 60 cm of average moisture soil. The ground temperature is $10^{\\mathrm{o}}\\mathrm{C}$."
   ]
  },
  {
   "cell_type": "code",
   "execution_count": 97,
   "metadata": {},
   "outputs": [],
   "source": [
    "# conditions as specified\n",
    "N = 6 # number of cables\n",
    "Q = 1 # lineal cable heat gain (W/m)\n",
    "A0 = 0.01 # duct cross sectional area (m^2)\n",
    "TG = 25.0 # ground temperature (degC)\n",
    "DI = 0.01 # cable insulation thickness (m)\n",
    "DC = 0.025 # cable diameter (M)\n",
    "DD = 0.40 # duct thickness\n",
    "DF = 0.60 # fill thickness"
   ]
  },
  {
   "cell_type": "code",
   "execution_count": 98,
   "metadata": {},
   "outputs": [],
   "source": [
    "# insulator conductance = cable area * insulation U-value / insulation thickness\n",
    "IA = N*(DC*pi) # insulation area (m^2)\n",
    "UI = U[\"RUBBER\"] / DI * IA # W/K"
   ]
  },
  {
   "cell_type": "code",
   "execution_count": 99,
   "metadata": {},
   "outputs": [
    {
     "data": {
      "text/plain": [
       "4.1559278843836225"
      ]
     },
     "execution_count": 99,
     "metadata": {},
     "output_type": "execute_result"
    }
   ],
   "source": [
    "# air conductance\n",
    "AC = N*(DC/4)**2*pi # cable cross sectional area (m^2)\n",
    "A = A0-AC # air cross sectional area (m^2)\n",
    "if A <= 0: raise Exception(\"duct is too small\")\n",
    "D = sqrt(A)/2 # mean air gap from cable to duct (m)\n",
    "UA = U[\"AIR\"]/D # W/K\n",
    "UA"
   ]
  },
  {
   "cell_type": "code",
   "execution_count": 100,
   "metadata": {},
   "outputs": [
    {
     "data": {
      "text/plain": [
       "2.3"
      ]
     },
     "execution_count": 100,
     "metadata": {},
     "output_type": "execute_result"
    }
   ],
   "source": [
    "# duct conductance\n",
    "UD = U[\"CONCRETE\"]/DD # Concrete duct thickness DD\n",
    "UD"
   ]
  },
  {
   "cell_type": "code",
   "execution_count": 101,
   "metadata": {},
   "outputs": [
    {
     "data": {
      "text/plain": [
       "1.0"
      ]
     },
     "execution_count": 101,
     "metadata": {},
     "output_type": "execute_result"
    }
   ],
   "source": [
    "# fill conductance\n",
    "UF = U[\"DRYSOIL\"]/DF # soil thickness DF\n",
    "UF "
   ]
  },
  {
   "cell_type": "code",
   "execution_count": 102,
   "metadata": {},
   "outputs": [
    {
     "name": "stdout",
     "output_type": "stream",
     "text": [
      "                        UI=4.71            UA=4.16            US=0.70 \n",
      "Q=6     ---> (TC=36.3 ) ------> (TS=35.1 ) ------> (TD=33.6 ) ------> (TG=25.0 )\n"
     ]
    }
   ],
   "source": [
    "# temperature gradient\n",
    "US = 1/(1/UD+1/UF)\n",
    "TD = TG + N*Q/US\n",
    "TS = TD + N*Q/UA\n",
    "TC = TS + N*Q/UI\n",
    "print('                       ','           '.\n",
    "      join(['%2s=%-5.2f'%(x,globals()[x]) for x in ['UI','UA','US']]))\n",
    "print('Q=%-5.0f --->'%(N*Q),' ------> '.\n",
    "      join([\"(%2s=%-5.1f)\"%(x,globals()[x]) for x in [\"TC\",\"TS\",\"TD\",\"TG\"]]))\n"
   ]
  },
  {
   "cell_type": "markdown",
   "metadata": {},
   "source": [
    "# Validation"
   ]
  },
  {
   "cell_type": "code",
   "execution_count": 66,
   "metadata": {},
   "outputs": [],
   "source": [
    "# Typical SCE 4x2 Duct Bank\n",
    "N = 3 # cables\n",
    "M = 6 # channels\n",
    "A0 = M*(5*0.0254/2)**2*pi # 5 inch channel\n",
    "TG = 25 # degC\n",
    "DI = 1.65*0.0254 # 1.65 inch insulation\n",
    "DC = 2.0236*0.0254 # overall cable diameter\n",
    "DD = 3.0*0.0254 # concrete thickness\n",
    "DF = 3.0*0.0254 # fill thickness\n",
    "Q = (0.97/1600)**2 * 650 # R=0.97 Ohm/mile at 650 A"
   ]
  },
  {
   "cell_type": "code",
   "execution_count": 54,
   "metadata": {},
   "outputs": [],
   "source": [
    "# insulator conductance = cable area * insulation U-value / insulation thickness\n",
    "IA = N*(DC*pi) # insulation area (m^2)\n",
    "UI = U[\"PE\"] / DI * IA # W/K"
   ]
  },
  {
   "cell_type": "code",
   "execution_count": 65,
   "metadata": {},
   "outputs": [],
   "source": [
    "# air conductance\n",
    "AC = N*(DC/4)**2*pi # cable cross sectional area (m^2)\n",
    "A = (A0-AC)/M # air cross sectional area per duct (m^2)\n",
    "if A <= 0: raise Exception(\"duct is too small\")\n",
    "D = sqrt(A)/2 # mean air gap from cable to duct (m)\n",
    "AD = 4*sqrt(A) # effective air surface area\n",
    "UA = U[\"AIR\"]/D*AD # W/K"
   ]
  },
  {
   "cell_type": "code",
   "execution_count": 56,
   "metadata": {},
   "outputs": [],
   "source": [
    "# duct conductance\n",
    "Ucore = U[\"CONCRETE\"]/DD # Concrete duct thickness\n",
    "Ufill = U[\"DRYSOIL\"]/DF\n",
    "US = AD*(1/Ufill+1/Ucore) # W/K"
   ]
  },
  {
   "cell_type": "code",
   "execution_count": 57,
   "metadata": {},
   "outputs": [
    {
     "name": "stdout",
     "output_type": "stream",
     "text": [
      "                        UI=5.32            UA=1.60            US=0.09 \n",
      "Q=0     ---> (TC=25.0 ) ------> (TS=25.0 ) ------> (TD=25.0 ) ------> (TG=25.0 )\n"
     ]
    }
   ],
   "source": [
    "# temperature gradient\n",
    "TD = TG + N*Q/US\n",
    "TS = TD + N*Q/UA\n",
    "TC = TS + N*Q/UI\n",
    "print('                       ','           '.\n",
    "      join(['%2s=%-5.2f'%(x,globals()[x]) for x in ['UI','UA','US']]))\n",
    "print('Q=%-5.0f --->'%(N*Q),' ------> '.\n",
    "      join([\"(%2s=%-5.1f)\"%(x,globals()[x]) for x in [\"TC\",\"TS\",\"TD\",\"TG\"]]))\n"
   ]
  },
  {
   "cell_type": "code",
   "execution_count": null,
   "metadata": {},
   "outputs": [],
   "source": []
  }
 ],
 "metadata": {
  "kernelspec": {
   "display_name": "Python 3",
   "language": "python",
   "name": "python3"
  },
  "language_info": {
   "codemirror_mode": {
    "name": "ipython",
    "version": 3
   },
   "file_extension": ".py",
   "mimetype": "text/x-python",
   "name": "python",
   "nbconvert_exporter": "python",
   "pygments_lexer": "ipython3",
   "version": "3.7.16"
  }
 },
 "nbformat": 4,
 "nbformat_minor": 4
}
