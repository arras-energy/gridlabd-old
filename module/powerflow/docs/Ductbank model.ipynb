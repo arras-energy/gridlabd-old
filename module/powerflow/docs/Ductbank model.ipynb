{
 "cells": [
  {
   "cell_type": "markdown",
   "metadata": {},
   "source": [
    "The ductbank model is the equilibrium thermal model (i.e., thermal mass is not considered) described by the following:\n",
    "\n",
    "$$\n",
    "    Q   \\xrightarrow{} (T_C) \n",
    "        \\xrightarrow{U_I} (T_S) \n",
    "        \\xrightarrow{U_A} (T_D)\n",
    "        \\xrightarrow{U_S} (T_G)\n",
    "$$\n",
    "\n",
    "where\n",
    "- $Q$ is the thermal heat from the cable losses (input)\n",
    "- $T_C$ is the temperature of the cable core\n",
    "- $U_I$ is the conductance of the cable insulation\n",
    "- $T_S$ is the temperature of the cable surface\n",
    "- $U_A$ is the conductance of the duct air gap\n",
    "- $T_D$ is the temperature of the duct inner surface\n",
    "- $U_S$ is the conductance of the duct shell, core, and fill\n",
    "- $T_G$ is the temperature of the ground (input)"
   ]
  },
  {
   "cell_type": "markdown",
   "metadata": {},
   "source": [
    "The equilibrium temperatures are calculated as follows\n",
    "\n",
    "$$\n",
    "    T_D = T_G + { Q \\over U_S }, \\qquad\n",
    "    T_S = T_D + { Q \\over U_A }, \\qquad \\mathrm{and} \\qquad\n",
    "    T_C = T_S + { Q \\over U_I }\n",
    "$$"
   ]
  },
  {
   "cell_type": "markdown",
   "metadata": {},
   "source": [
    "The conductance of the air gap is computed as follows:\n",
    "\n",
    "1. The cross sectional area of air $A$ is the overall cross section of the duct  $A_0$ less the overall cross section of cables in the duct $A_C$, including insulation, i.e.,\n",
    "\n",
    "$$\n",
    "    A = A_0 - A_C\n",
    "$$\n",
    "\n",
    "2. The mean distance from cable to duct $D$ is one half the square root of the cross sectional area of air, i.e.,\n",
    "\n",
    "$$\n",
    "    D = { \\sqrt{A} \\over 2 }\n",
    "$$\n",
    "\n",
    "3. The conductance of the air gap is the conductivity of air at ambient conditions divided by the mean distance, i.e.,\n",
    "\n",
    "$$\n",
    "    U_A = { 0.026 \\over D }\n",
    "$$\n"
   ]
  },
  {
   "cell_type": "markdown",
   "metadata": {},
   "source": [
    "The conductance of the duct shell is computed as follows:\n",
    "1. The duct shell cross-sectional area is\n",
    "\n",
    "$$\n",
    "    A_D = 4 L \\sqrt{A_0}\n",
    "$$\n",
    "\n",
    "where $L$ is the length of the duct.\n",
    "\n",
    "2. The conductance of the shell is computed as follows\n",
    "\n",
    "$$\n",
    "    U_S = { A_D \\over U_{shell}^{-1} + U_{core}^{-1} + U_{fill}^{-1} } \n",
    "$$\n",
    "\n",
    "where $U_*$ is taken from the table below according to the material used."
   ]
  },
  {
   "cell_type": "markdown",
   "metadata": {},
   "source": [
    "For the above calculations the following R-values and U-values may be used according the material type:\n",
    "\n",
    "| Material | U-value (W/K.m) |\n",
    "| :------- | --------------- | \n",
    "| ___Shell___\n",
    "| PVC              | 0.19 |\n",
    "| ___Core___       |||\n",
    "| Concrete         | 0.92 |\n",
    "| ___Fill soil___      |||\n",
    "| Damp soil        | 1.00 |\n",
    "| Average soil     | 0.80 |\n",
    "| Dry soil         | 0.60 |\n",
    "| ___Cable insulation___ |||\n",
    "| Rubber           | 0.10 |\n",
    "| Polyethylene     | 0.46 |\n",
    "| __Air__|||\n",
    "| Standard conditions | 0.026 |\n"
   ]
  },
  {
   "cell_type": "markdown",
   "metadata": {},
   "source": [
    "# Example"
   ]
  },
  {
   "cell_type": "markdown",
   "metadata": {},
   "source": [
    "Consider a duct with 6 cables of length 1000 meters, each with a loss of 1 kW in a duct bank of nominal cross sectional area 0.1 m$^2$.  The cables are 2.5 cm in diameter with 1 cm of rubber insulation.  The duct shell is 1 cm of PVC. The duct core is 40 cm thick concrete and the fill is 60 cm of average moisture soil. The ground temperature is $10^{\\mathrm{o}}\\mathrm{C}$."
   ]
  },
  {
   "cell_type": "code",
   "execution_count": 1,
   "metadata": {},
   "outputs": [],
   "source": [
    "# conditions as specified\n",
    "from math import *\n",
    "N = 6 # number of cables\n",
    "L = 1e3 # duct length (m)\n",
    "Q = 1e3 # cable loss (W)\n",
    "A0 = 0.01 # duct cross sectional area (m^2)\n",
    "TG = 10.0 # ground temperature (degC)\n",
    "DI = 0.01 # cable insulation thickness (m)\n",
    "DC = 0.025 # cable diameter (M)\n",
    "DS = 0.01 # shell thickness\n",
    "DD = 0.40 # duct thickness\n",
    "DF = 0.60 # fill thickness"
   ]
  },
  {
   "cell_type": "code",
   "execution_count": 2,
   "metadata": {},
   "outputs": [],
   "source": [
    "# U-value table\n",
    "U = {\n",
    "    \"PVC\" : 0.19,\n",
    "    \"CONCRETE\" : 0.92,\n",
    "    \"WETSOIL\" : 1.00,\n",
    "    \"SOIL\" : 0.80,\n",
    "    \"DRYSOIL\" : 0.60,\n",
    "    \"RUBBER\" : 0.10,\n",
    "    \"PE\" : 0.46,\n",
    "    \"AIR\" : 0.026,\n",
    "} # W/K.m (per-unit thickness)"
   ]
  },
  {
   "cell_type": "code",
   "execution_count": 3,
   "metadata": {},
   "outputs": [],
   "source": [
    "# insulator conductance = cable area * insulation U-value / insulation thickness\n",
    "IA = N*(DC*pi) * L # insulation area (m^2)\n",
    "UI = U[\"RUBBER\"] / DI * IA # W/K"
   ]
  },
  {
   "cell_type": "code",
   "execution_count": 4,
   "metadata": {},
   "outputs": [],
   "source": [
    "# air conductance\n",
    "AC = N*(DC/4)**2*pi # cable cross sectional area (m^2)\n",
    "A = A0-AC # air cross sectional area (m^2)\n",
    "if A <= 0: raise Exception(\"duct is too small\")\n",
    "D = sqrt(A)/2 # mean air gap from cable to duct (m)\n",
    "AD = 4*sqrt(A)*L # effective air surface area\n",
    "UA = U[\"AIR\"]/D*AD # W/K"
   ]
  },
  {
   "cell_type": "code",
   "execution_count": 5,
   "metadata": {},
   "outputs": [],
   "source": [
    "# duct conductance\n",
    "AD = 4*sqrt(A0)*L # duct surface area\n",
    "Ushell = U[\"PVC\"]/DS # PVC\n",
    "Ucore = U[\"CONCRETE\"]/DD # Concrete duct thickness\n",
    "Ufill = U[\"SOIL\"]/DF # soil thickness\n",
    "US = AD/(1/Ushell+1/Ucore+1/Ufill) # W/K"
   ]
  },
  {
   "cell_type": "code",
   "execution_count": 6,
   "metadata": {},
   "outputs": [
    {
     "name": "stdout",
     "output_type": "stream",
     "text": [
      "                        US=323             UA=208             UI=4712 \n",
      "Q=6000  ---> (TC=58.7 ) ------> (TS=57.4 ) ------> (TD=28.6 ) ------> (TG=10.0 )\n"
     ]
    }
   ],
   "source": [
    "# temperature gradient\n",
    "TD = TG + N*Q/US\n",
    "TS = TD + N*Q/UA\n",
    "TC = TS + N*Q/UI\n",
    "print('                       ','           '.\n",
    "      join(['%2s=%-5.0f'%(x,globals()[x]) for x in ['US','UA','UI']]))\n",
    "print('Q=%-5.0f --->'%(N*Q),' ------> '.\n",
    "      join([\"(%2s=%-5.1f)\"%(x,globals()[x]) for x in [\"TC\",\"TS\",\"TD\",\"TG\"]]))\n"
   ]
  }
 ],
 "metadata": {
  "kernelspec": {
   "display_name": "Python 3",
   "language": "python",
   "name": "python3"
  },
  "language_info": {
   "codemirror_mode": {
    "name": "ipython",
    "version": 3
   },
   "file_extension": ".py",
   "mimetype": "text/x-python",
   "name": "python",
   "nbconvert_exporter": "python",
   "pygments_lexer": "ipython3",
   "version": "3.7.16"
  }
 },
 "nbformat": 4,
 "nbformat_minor": 4
}
