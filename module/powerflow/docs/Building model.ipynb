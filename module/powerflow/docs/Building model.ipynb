{
 "cells": [
  {
   "cell_type": "markdown",
   "id": "cc3a4e11",
   "metadata": {},
   "source": [
    "This building model is a simplified faster version of the full two-zone building model. It assume the building is always at thermal equilibrium unless the set-point temperature is changed."
   ]
  },
  {
   "cell_type": "markdown",
   "id": "b9400995",
   "metadata": {},
   "source": [
    "# Building dynamics\n",
    "Buildings can be simulated using a reduced-order model using a discrete transfer function based on the thermal properties of the building.  The transfer function can be derived for a two-variable model using the indoor air temperature $T_A$ and building mass temperature $T_M$ as they respond to changes in outdoor air temperature $T_O$ and changes in heat gains to the air $Q_A$ and mass $Q_M$, i.e.,\n",
    "$$\n",
    "    C_A \\dot T_A = U_A ( T_O - T_A ) + U_I ( T_M - T_A ) + Q_A \\qquad (1)\n",
    "$$\n",
    "$$\n",
    "    C_M \\dot T_M = U_I (T_A - T_M ) + U_M ( T_O - T_M ) + Q_M \\qquad (2)\n",
    "$$\n",
    "where\n",
    "* $C_A$ is the heat capacity of the air volume;\n",
    "* $C_M$ is the heat capacity of the building mass;\n",
    "* $U_A$ is the conductance between the indoor to outdoor air;\n",
    "* $U_I$ is the conductance between the indoor air and the building mass,; and\n",
    "* $U_M$ is the conductance between the building mass and the outdoor air.\n",
    "\n",
    "The heat gains to the air come from the following sources:\n",
    "* $Q_E E$, the internal enduse electric loads, where $Q_E$ is installed capacity of electric end-uses and $E$ is the fraction of electric end-uses active;\n",
    "* $Q_G G$, the internal enduse gas loads, where $Q_G$ is the heat retained in the building for installed capacity of gas enduses and $G$ is the fraction of gas end-uses active;\n",
    "* $Q_O H$, the occupancy heat gains where $Q_O$ is the heat gain for a single person, and $H$ is the number of people present;\n",
    "* $Q_V H$, the ventilation heat gains, where $Q_V$ is the heat gain for fresh air per person; and\n",
    "* $M Q_H$, the HVAC heat gains, where $M$ is the system mode, and $Q_H$ is the nameplate system capacity.\n",
    "Thus\n",
    "$$\n",
    "    Q_A = E Q_E + G Q_G + H (Q_O+Q_V) + M Q_H\n",
    "$$\n",
    "\n",
    "The heat gains to the mass from the solar gains to building envelope and mass through windows, such that $Q_M = S_A Q_S$, where $S_A$ is the solar exposure area of the building mass, and $Q_S$ is the total insolation.\n",
    "\n",
    "The HVAC system mode is included as a state variable such that the mode $M$ represents the state of the HVAC system given the indoor air temperature setpoint $T_S$ deviation from $T_A$ with a proportional gain $K$, where $M>0$ for heating, and $M<0$ for cooling. "
   ]
  },
  {
   "cell_type": "markdown",
   "id": "d2bcd31c",
   "metadata": {},
   "source": [
    "# System dynamics\n",
    "The state space model is thus\n",
    "$$\n",
    "    \\left[ \\begin{matrix} \\dot T_A \\\\ \\dot T_M \\\\ \\dot M \\end{matrix} \\right]\n",
    "    =\n",
    "    \\left[ \\begin{matrix} \n",
    "        -{U_A+U_I \\over C_A} & {U_I \\over C_A} & {Q_H \\over C_A}\n",
    "    \\\\\n",
    "        {U_I \\over C_M} & -{U_M+U_I \\over C_M} & 0\n",
    "    \\\\\n",
    "        K & 0 & 0\n",
    "    \\end{matrix} \\right]\n",
    "    \\left[ \\begin{matrix} T_A \\\\ T_M \\\\ M \\end{matrix} \\right]\n",
    "    +\n",
    "    \\left[ \\begin{matrix} \n",
    "        { U_A \\over C_A } & {Q_E \\over C_A} & {Q_G \\over C_A} & {Q_O+Q_V \\over C_A} & 0 & 0\n",
    "    \\\\\n",
    "        { U_M \\over C_M } & 0 & 0 & 0 & {S_A \\over C_M} & 0\n",
    "    \\\\\n",
    "        0 & 0 & 0 & 0 & 0 & -K\n",
    "    \\end{matrix} \\right]\n",
    "    \\left[ \\begin{matrix} T_O \\\\ E \\\\ G \\\\ H \\\\ Q_S \\\\ T_S \\end{matrix} \\right]\n",
    "    \\qquad(3)\n",
    "$$"
   ]
  },
  {
   "cell_type": "markdown",
   "id": "29efa3bb",
   "metadata": {},
   "source": [
    "# System Sizing\n",
    "\n",
    "If the system size is not given, then $Q_H$ must be calculated for the design conditions.  The heating system capacity is found by solving Eq. (3) at steady-state for $Q_H$ given the $T_O=T_H$, $T_A=T_S$, $E=G=H=Q_S=0$, and $M=1/D_F$, the system over-design factor. This gives us the equation\n",
    "$$\n",
    "    \\left[ \\begin{matrix} 0 \\\\ 0 \\end{matrix} \\right]\n",
    "    =\n",
    "    \\left[ \\begin{matrix} \n",
    "        {U_I \\over C_A} & {1 \\over D_F C_A} \\\\\n",
    "        -{U_M+U_I \\over C_M} & 0\n",
    "    \\end{matrix} \\right]\n",
    "    \\left[ \\begin{matrix} T_M \\\\ Q_H \\end{matrix} \\right]\n",
    "    +\n",
    "    \\left[ \\begin{matrix} \n",
    "        {U_A \\over C_A} & -{U_A+U_I \\over C_A} \\\\\n",
    "        {U_M \\over C_M} & {U_I \\over C_M}\n",
    "    \\end{matrix} \\right]\n",
    "    \\left[ \\begin{matrix} T_H \\\\ T_S \\end{matrix} \\right],\n",
    "$$\n",
    "which we solve for $Q_H$.\n",
    "The same method is used for cooling but with all internal gains on and maximum solar gain.\n",
    "$$\n",
    "    \\left[ \\begin{matrix} 0 \\\\ 0 \\end{matrix} \\right]\n",
    "    =\n",
    "    \\left[ \\begin{matrix} \n",
    "        {U_I \\over C_A} & {1 \\over D_F C_A} \\\\\n",
    "        -{U_M+U_I \\over C_M} & 0\n",
    "    \\end{matrix} \\right]\n",
    "    \\left[ \\begin{matrix} T_M \\\\ Q_H \\end{matrix} \\right]\n",
    "    +\n",
    "    \\left[ \\begin{matrix} \n",
    "        {U_A \\over C_A} & -{U_A+U_I \\over C_A} & 0 \\\\\n",
    "        {U_M \\over C_M} & {U_I \\over C_M} & { QE+QG+QO+QV+1300S_A \\over CA }\n",
    "    \\end{matrix} \\right]\n",
    "    \\left[ \\begin{matrix} T_H \\\\ T_S \\\\ 1 \\end{matrix} \\right].\n",
    "$$\n",
    "The required system capacity is the greater of these two values."
   ]
  },
  {
   "cell_type": "markdown",
   "id": "81db93cc",
   "metadata": {},
   "source": [
    "# State space model\n",
    "The canonical state-space model is for this system is\n",
    "$$\n",
    "    \\dot x = A~x + B~u\n",
    "$$\n",
    "$$\n",
    "    \\dot y = C~x + D~u\n",
    "$$\n",
    "where\n",
    "* $ x = \\left[ \\begin{matrix} T_A \\\\ T_M \\end{matrix} \\right] $,\n",
    "* $ A = \\left[ \\begin{matrix}\n",
    "        {U_A+U_I \\over C_A} & -{U_I \\over C_A}\n",
    "    \\\\\n",
    "        -{U_A \\over C_M} & {U_M+U_I \\over C_M}\n",
    "    \\end{matrix} \\right] $,\n",
    "* $ B = \\left[ \\begin{matrix}\n",
    "        -{U_A \\over C_A} & {1 \\over C_A} & 0\n",
    "    \\\\\n",
    "        -{U_M \\over C_A} & 0 & {1 \\over C_M}\n",
    "    \\end{matrix} \\right] $,\n",
    "* $ u = \\left[ \\begin{matrix} T_O \\\\ Q_A \\\\ Q_M \\end{matrix} \\right] $,\n",
    "* $ y = \\left[ \\begin{matrix} P \\\\ Q \\end{matrix} \\right] $,\n",
    "* $ C = \\left[ \\begin{matrix} \\end{matrix} \\right] $,\n",
    "* $ D = \\left[ \\begin{matrix}\n",
    "        -{U_A \\over C_A} & {1 \\over C_A} & 0\n",
    "    \\\\\n",
    "        -{U_M \\over C_A} & 0 & {1 \\over C_M}\n",
    "    \\end{matrix} \\right] $,"
   ]
  },
  {
   "cell_type": "markdown",
   "id": "e944c1f0",
   "metadata": {},
   "source": [
    "# Equilibrium Conditions\n",
    "The equilibrium condition $\\bar x$ is computed by solving for $\\dot x = 0$, i.e.,\n",
    "$$\n",
    "    \\bar x = -A^{-1} B u,\n",
    "$$\n",
    "the result of include the duty cycle $\\bar M$ required to maintain the indoor air temperature setpoint."
   ]
  },
  {
   "cell_type": "code",
   "execution_count": null,
   "id": "6ae08b42",
   "metadata": {},
   "outputs": [],
   "source": []
  }
 ],
 "metadata": {
  "kernelspec": {
   "display_name": "Python 3",
   "language": "python",
   "name": "python3"
  },
  "language_info": {
   "codemirror_mode": {
    "name": "ipython",
    "version": 3
   },
   "file_extension": ".py",
   "mimetype": "text/x-python",
   "name": "python",
   "nbconvert_exporter": "python",
   "pygments_lexer": "ipython3",
   "version": "3.10.8"
  }
 },
 "nbformat": 4,
 "nbformat_minor": 5
}
