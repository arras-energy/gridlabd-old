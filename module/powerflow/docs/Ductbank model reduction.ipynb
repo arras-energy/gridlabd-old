{
 "cells": [
  {
   "cell_type": "markdown",
   "metadata": {},
   "source": [
    "This notebook is used to calculate the simplified ductbank model in GridLAB-D based on a detailed model of a ductbank.\n",
    "\n",
    "----"
   ]
  },
  {
   "cell_type": "markdown",
   "metadata": {},
   "source": [
    "The ductbank model is the equilibrium thermal model (i.e., thermal mass is not considered) described by the following:\n",
    "\n",
    "$$\n",
    "    Q   \\xrightarrow{} (T_C) \n",
    "        \\xrightarrow{U_I} (T_S) \n",
    "        \\xrightarrow{U_A} (T_I)\n",
    "        \\xrightarrow{U_D} (T_O)\n",
    "        \\xrightarrow{U_F} (T_G)\n",
    "$$\n",
    "\n",
    "where\n",
    "- $Q$ is the thermal heat from the cable losses (input)\n",
    "- $T_C$ is the temperature of the cable core\n",
    "- $U_I$ is the thermal conductance of the cable insulation\n",
    "- $T_S$ is the temperature of the cable shield\n",
    "- $U_A$ is the thermal conductance of the duct air gap\n",
    "- $T_I$ is the temperature of the duct inner surface\n",
    "- $U_D$ is the thermal conductance of the duct core\n",
    "- $T_O$ is the temperature of the duct outer surface\n",
    "- $U_F$ is the thermal conductance of the fill soil\n",
    "- $T_G$ is the temperature of the surface ground"
   ]
  },
  {
   "cell_type": "markdown",
   "metadata": {},
   "source": [
    "![Example Box 3x2](box3x2.png \"Example Box 3x2\")"
   ]
  },
  {
   "cell_type": "code",
   "execution_count": 19,
   "metadata": {},
   "outputs": [],
   "source": [
    "import sys\n",
    "from numpy import pi, sqrt, array, set_printoptions\n",
    "\n",
    "set_printoptions(formatter={'float_kind':\"{:6.4g}\".format})\n",
    "\n",
    "INPUT = sys.stdin\n",
    "OUTPUT = sys.stdout\n",
    "\n",
    "def error(msg,code=None):\n",
    "\tprint(f\"ERROR [create_ductbank]: {msg} (code %d)\",file=sys.stderr)\n",
    "\tif type(code) is int:\n",
    "\t\texit(code)\n",
    "\n",
    "class Ductbank:\n",
    "\n",
    "    name = None\n",
    "    surface_temperature = 25.0 # degC\n",
    "    warning_cable_temperature = 80.0 # degC\n",
    "    alert_cable_temperature = 90.0 # degC\"\n",
    "    duct_ROH = 60.0 # W.cm/K\n",
    "    insulation_ROH = 120.0 # W.cm/K\n",
    "    insulation_thickness = 1.0 # cm\n",
    "    air_ROH = 20.0 # W.cm/K\n",
    "    rows = 3\n",
    "    columns = 2\n",
    "    channel_diameter = 5 # in\n",
    "    horizontal_spacing = 1.5 # in\n",
    "    vertical_spacing = 0.5 # in\n",
    "    side_thickness = 1.5 # in\n",
    "    top_thickness = 1.5 # in\n",
    "    bottom_thickness = 1.5 # in\n",
    "    cable_diameter = 1 # in\n",
    "    channel_loading = [[3,0],[0,3],[3,0]] # cable count in each duct\n",
    "    channel_heating = [[1,0],[0,1],[1,0]] # W/m \n",
    "\n",
    "    def A(self,i,j):\n",
    "        d = 0.0\n",
    "        # vertical spacing\n",
    "        if i == 0:\n",
    "            d += self.top_thickness\n",
    "        elif i < self.rows-1:\n",
    "            d += self.vertical_spacing\n",
    "        if i == self.rows-1:\n",
    "            d += self.top_thickness\n",
    "        elif i < self.rows-1:\n",
    "            d += self.vertical_spacing\n",
    "        # horizontal spacing\n",
    "        if j == 0:\n",
    "            d += self.side_thickness\n",
    "        elif i < self.columns-1:\n",
    "            d += self.horizontal_spacing\n",
    "        if j == self.columns-1:\n",
    "            d += self.side_thickness\n",
    "        elif i < self.columns-1:\n",
    "            d += self.horizontal_spacing\n",
    "        Ud = d*self.duct_ROH/100 \n",
    "        Ui = self.insulation_ROH*self.insulation_thickness\n",
    "        A = (self.channel_diameter/2)**2 * pi\n",
    "        C = (self.cable_diameter/2)**2 * pi * self.channel_loading[i][j]\n",
    "        if C > A:\n",
    "            raise f\"channel {i},{j} is overloaded\"\n",
    "        Ua = sqrt(A-C)/2.54 * self.air_ROH\n",
    "        return 1/(1/Ud+1/Ui+1/Ua)\n",
    "\n",
    "    def B(self,i,k):\n",
    "        if k == 0: # temperature term\n",
    "            R = 0\n",
    "            for j in range(self.columns):\n",
    "                if i > 0: # not top row\n",
    "                    if j == 0 or j == self.columns-1: # side (not sure whether 1 or both)\n",
    "                        d = 0.0\n",
    "                        if i == 0: # left side\n",
    "                            d += self.side_thickness\n",
    "                        if i == self.columns - 1: # right side\n",
    "                            d += self.side_thickness\n",
    "                        if d > 0:\n",
    "                            R += 100/(d*self.duct_ROH)\n",
    "                else: # top row\n",
    "                    if j > 0 or j <self.columns-1: # not side duct\n",
    "                        R += 100/(self.top_thickness*self.duct_ROH)\n",
    "                    else: # side (not sure whether 1 or both)\n",
    "                        d = 0.0\n",
    "                        if i == 0: # left side\n",
    "                            d += self.side_thickness\n",
    "                        if i == self.columns - 1: # right side\n",
    "                            d += self.side_thickness\n",
    "                        if d > 0 :\n",
    "                            R +=  100/(d*self.duct_ROH/100 + self.top_thickness*self.duct_ROH)\n",
    "            return 1/R if R > 0 else 0.0\n",
    "        else: # heat gain term\n",
    "            return 1 if i+1 == k else 0            \n",
    "\n",
    "    def u(self,i,j):\n",
    "        return self.channel_loading[i][j]"
   ]
  },
  {
   "cell_type": "code",
   "execution_count": 20,
   "metadata": {},
   "outputs": [],
   "source": [
    "ductbank = Ductbank()"
   ]
  },
  {
   "cell_type": "code",
   "execution_count": 21,
   "metadata": {},
   "outputs": [
    {
     "name": "stdout",
     "output_type": "stream",
     "text": [
      "object ductbank\n",
      "{\n",
      "    air_ROH \"20.0\";\n",
      "    alert_cable_temperature \"90.0\";\n",
      "    bottom_thickness \"1.5\";\n",
      "    cable_diameter \"1\";\n",
      "    channel_diameter \"5\";\n",
      "    channel_heating \"[[1, 0], [0, 1], [1, 0]]\";\n",
      "    channel_loading \"[[3, 0], [0, 3], [3, 0]]\";\n",
      "    columns \"2\";\n",
      "    duct_ROH \"60.0\";\n",
      "    horizontal_spacing \"1.5\";\n",
      "    insulation_ROH \"120.0\";\n",
      "    insulation_thickness \"1.0\";\n",
      "    rows \"3\";\n",
      "    side_thickness \"1.5\";\n",
      "    surface_temperature \"25.0\";\n",
      "    top_thickness \"1.5\";\n",
      "    vertical_spacing \"0.5\";\n",
      "    warning_cable_temperature \"80.0\";\n",
      "}\n"
     ]
    }
   ],
   "source": [
    "from numpy.linalg import solve\n",
    "print(\"object ductbank\",file=OUTPUT)\n",
    "print(\"{\",file=OUTPUT)\n",
    "for tag in dir(ductbank):\n",
    "    if not tag.startswith(\"_\"):\n",
    "        value = getattr(ductbank,tag)\n",
    "        if type(value) in [str,float,int,list] and value != None:\n",
    "            print(f'    {tag} \"{value}\";',file=OUTPUT)\n",
    "print(\"}\",file=OUTPUT)"
   ]
  },
  {
   "cell_type": "code",
   "execution_count": 28,
   "metadata": {},
   "outputs": [
    {
     "name": "stdout",
     "output_type": "stream",
     "text": [
      "[[2.6865888693871147, 2.7003125793287506, 1.4211392139025807, 1.4173288755847764, 1.682251500950693, 1.6876220959996424], [2.6865888693871147, 2.7003125793287506, 1.4211392139025807, 1.4173288755847764, 1.682251500950693, 1.6876220959996424], [2.6865888693871147, 2.7003125793287506, 1.4211392139025807, 1.4173288755847764, 1.682251500950693, 1.6876220959996424], [2.6865888693871147, 2.7003125793287506, 1.4211392139025807, 1.4173288755847764, 1.682251500950693, 1.6876220959996424], [2.6865888693871147, 2.7003125793287506, 1.4211392139025807, 1.4173288755847764, 1.682251500950693, 1.6876220959996424], [2.6865888693871147, 2.7003125793287506, 1.4211392139025807, 1.4173288755847764, 1.682251500950693, 1.6876220959996424]]\n",
      "[[ 2.687    2.7  1.421  1.417  1.682  1.688]\n",
      " [ 2.687    2.7  1.421  1.417  1.682  1.688]\n",
      " [ 2.687    2.7  1.421  1.417  1.682  1.688]\n",
      " [ 2.687    2.7  1.421  1.417  1.682  1.688]\n",
      " [ 2.687    2.7  1.421  1.417  1.682  1.688]\n",
      " [ 2.687    2.7  1.421  1.417  1.682  1.688]]\n",
      "3\n",
      "6\n",
      "A =\n",
      "[[ 2.687    2.7  1.421  1.417  1.682  1.688]\n",
      " [ 2.687    2.7  1.421  1.417  1.682  1.688]\n",
      " [ 2.687    2.7  1.421  1.417  1.682  1.688]\n",
      " [ 2.687    2.7  1.421  1.417  1.682  1.688]\n",
      " [ 2.687    2.7  1.421  1.417  1.682  1.688]\n",
      " [ 2.687    2.7  1.421  1.417  1.682  1.688]]\n"
     ]
    }
   ],
   "source": [
    "K = ductbank.rows*ductbank.columns\n",
    "A = []\n",
    "for r in range(K):\n",
    "    A.append([])\n",
    "    for i in range(ductbank.rows):\n",
    "        for j in range(ductbank.columns):\n",
    "            A[r].append(ductbank.A(i,j))\n",
    "\n",
    "print(A)\n",
    "A = array(A)\n",
    "print(A)\n",
    "print(ductbank.rows)\n",
    "print(K)\n",
    "print(\"A =\\n\" + str(A))"
   ]
  },
  {
   "cell_type": "code",
   "execution_count": 29,
   "metadata": {},
   "outputs": [
    {
     "name": "stdout",
     "output_type": "stream",
     "text": [
      "[[0.44999999999999996, 1, 0, 0, 0, 0, 0], [0.44999999999999996, 0, 1, 0, 0, 0, 0], [0.0, 0, 0, 1, 0, 0, 0], [0.0, 0, 0, 0, 1, 0, 0], [0.0, 0, 0, 0, 0, 1, 0], [0.0, 0, 0, 0, 0, 0, 1]]\n",
      "B =\n",
      "[[  0.45      1      0      0      0      0      0]\n",
      " [  0.45      0      1      0      0      0      0]\n",
      " [     0      0      0      1      0      0      0]\n",
      " [     0      0      0      0      1      0      0]\n",
      " [     0      0      0      0      0      1      0]\n",
      " [     0      0      0      0      0      0      1]]\n"
     ]
    }
   ],
   "source": [
    "B = []\n",
    "for i in range(K):\n",
    "    B.append([])\n",
    "    for j in range(K+1):\n",
    "        B[i].append(ductbank.B(i,j))\n",
    "print(B)\n",
    "B = array(B)\n",
    "print(\"B =\\n\" + str(B))"
   ]
  },
  {
   "cell_type": "code",
   "execution_count": 26,
   "metadata": {},
   "outputs": [
    {
     "name": "stdout",
     "output_type": "stream",
     "text": [
      "u =\n",
      "[[    25]\n",
      " [     3]\n",
      " [     0]\n",
      " [     0]\n",
      " [     3]\n",
      " [     3]\n",
      " [     0]]\n"
     ]
    },
    {
     "ename": "ValueError",
     "evalue": "operands could not be broadcast together with shapes (6,7) (7,1) ",
     "output_type": "error",
     "traceback": [
      "\u001b[0;31m---------------------------------------------------------------------------\u001b[0m",
      "\u001b[0;31mValueError\u001b[0m                                Traceback (most recent call last)",
      "Input \u001b[0;32mIn [26]\u001b[0m, in \u001b[0;36m<cell line: 8>\u001b[0;34m()\u001b[0m\n\u001b[1;32m      6\u001b[0m u \u001b[38;5;241m=\u001b[39m array([u])\u001b[38;5;241m.\u001b[39mtranspose()\n\u001b[1;32m      7\u001b[0m \u001b[38;5;28mprint\u001b[39m(\u001b[38;5;124m\"\u001b[39m\u001b[38;5;124mu =\u001b[39m\u001b[38;5;130;01m\\n\u001b[39;00m\u001b[38;5;124m\"\u001b[39m \u001b[38;5;241m+\u001b[39m \u001b[38;5;28mstr\u001b[39m(u))\n\u001b[0;32m----> 8\u001b[0m \u001b[38;5;28mprint\u001b[39m(\u001b[43mnp\u001b[49m\u001b[38;5;241;43m.\u001b[39;49m\u001b[43mmultiply\u001b[49m\u001b[43m(\u001b[49m\u001b[43mB\u001b[49m\u001b[43m,\u001b[49m\u001b[43mu\u001b[49m\u001b[43m)\u001b[49m)\n",
      "\u001b[0;31mValueError\u001b[0m: operands could not be broadcast together with shapes (6,7) (7,1) "
     ]
    }
   ],
   "source": [
    "import numpy as np\n",
    "u = [ductbank.surface_temperature]\n",
    "for i in range(ductbank.rows):\n",
    "    for j in range(ductbank.columns):\n",
    "        u.append(ductbank.u(i,j))\n",
    "u = array([u]).transpose()\n",
    "print(\"u =\\n\" + str(u))\n",
    "print(np.multiply(B,u))"
   ]
  },
  {
   "cell_type": "code",
   "execution_count": 25,
   "metadata": {},
   "outputs": [
    {
     "ename": "LinAlgError",
     "evalue": "Singular matrix",
     "output_type": "error",
     "traceback": [
      "\u001b[0;31m---------------------------------------------------------------------------\u001b[0m",
      "\u001b[0;31mLinAlgError\u001b[0m                               Traceback (most recent call last)",
      "Input \u001b[0;32mIn [25]\u001b[0m, in \u001b[0;36m<cell line: 1>\u001b[0;34m()\u001b[0m\n\u001b[0;32m----> 1\u001b[0m \u001b[43msolve\u001b[49m\u001b[43m(\u001b[49m\u001b[43mA\u001b[49m\u001b[43m,\u001b[49m\u001b[43mB\u001b[49m\u001b[38;5;129;43m@u\u001b[39;49m\u001b[43m)\u001b[49m\n",
      "File \u001b[0;32m<__array_function__ internals>:180\u001b[0m, in \u001b[0;36msolve\u001b[0;34m(*args, **kwargs)\u001b[0m\n",
      "File \u001b[0;32m/Library/Frameworks/Python.framework/Versions/3.8/lib/python3.8/site-packages/numpy/linalg/linalg.py:393\u001b[0m, in \u001b[0;36msolve\u001b[0;34m(a, b)\u001b[0m\n\u001b[1;32m    391\u001b[0m signature \u001b[38;5;241m=\u001b[39m \u001b[38;5;124m'\u001b[39m\u001b[38;5;124mDD->D\u001b[39m\u001b[38;5;124m'\u001b[39m \u001b[38;5;28;01mif\u001b[39;00m isComplexType(t) \u001b[38;5;28;01melse\u001b[39;00m \u001b[38;5;124m'\u001b[39m\u001b[38;5;124mdd->d\u001b[39m\u001b[38;5;124m'\u001b[39m\n\u001b[1;32m    392\u001b[0m extobj \u001b[38;5;241m=\u001b[39m get_linalg_error_extobj(_raise_linalgerror_singular)\n\u001b[0;32m--> 393\u001b[0m r \u001b[38;5;241m=\u001b[39m \u001b[43mgufunc\u001b[49m\u001b[43m(\u001b[49m\u001b[43ma\u001b[49m\u001b[43m,\u001b[49m\u001b[43m \u001b[49m\u001b[43mb\u001b[49m\u001b[43m,\u001b[49m\u001b[43m \u001b[49m\u001b[43msignature\u001b[49m\u001b[38;5;241;43m=\u001b[39;49m\u001b[43msignature\u001b[49m\u001b[43m,\u001b[49m\u001b[43m \u001b[49m\u001b[43mextobj\u001b[49m\u001b[38;5;241;43m=\u001b[39;49m\u001b[43mextobj\u001b[49m\u001b[43m)\u001b[49m\n\u001b[1;32m    395\u001b[0m \u001b[38;5;28;01mreturn\u001b[39;00m wrap(r\u001b[38;5;241m.\u001b[39mastype(result_t, copy\u001b[38;5;241m=\u001b[39m\u001b[38;5;28;01mFalse\u001b[39;00m))\n",
      "File \u001b[0;32m/Library/Frameworks/Python.framework/Versions/3.8/lib/python3.8/site-packages/numpy/linalg/linalg.py:88\u001b[0m, in \u001b[0;36m_raise_linalgerror_singular\u001b[0;34m(err, flag)\u001b[0m\n\u001b[1;32m     87\u001b[0m \u001b[38;5;28;01mdef\u001b[39;00m \u001b[38;5;21m_raise_linalgerror_singular\u001b[39m(err, flag):\n\u001b[0;32m---> 88\u001b[0m     \u001b[38;5;28;01mraise\u001b[39;00m LinAlgError(\u001b[38;5;124m\"\u001b[39m\u001b[38;5;124mSingular matrix\u001b[39m\u001b[38;5;124m\"\u001b[39m)\n",
      "\u001b[0;31mLinAlgError\u001b[0m: Singular matrix"
     ]
    }
   ],
   "source": [
    "solve(A,B@u)"
   ]
  },
  {
   "cell_type": "code",
   "execution_count": null,
   "metadata": {},
   "outputs": [],
   "source": []
  }
 ],
 "metadata": {
  "kernelspec": {
   "display_name": "Python 3 (ipykernel)",
   "language": "python",
   "name": "python3"
  },
  "language_info": {
   "codemirror_mode": {
    "name": "ipython",
    "version": 3
   },
   "file_extension": ".py",
   "mimetype": "text/x-python",
   "name": "python",
   "nbconvert_exporter": "python",
   "pygments_lexer": "ipython3",
   "version": "3.8.0"
  }
 },
 "nbformat": 4,
 "nbformat_minor": 4
}
