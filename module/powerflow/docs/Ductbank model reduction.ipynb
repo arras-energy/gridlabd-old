{
 "cells": [
  {
   "cell_type": "markdown",
   "metadata": {},
   "source": [
    "This notebook is used to calculate the simplified ductbank model in GridLAB-D based on a detailed model of a ductbank.\n",
    "\n",
    "----"
   ]
  },
  {
   "cell_type": "markdown",
   "metadata": {},
   "source": [
    "The ductbank model is the equilibrium thermal model (i.e., thermal mass is not considered) described by the following:\n",
    "\n",
    "$$\n",
    "    Q   \\xrightarrow{} (T_C) \n",
    "        \\xrightarrow{U_I} (T_S) \n",
    "        \\xrightarrow{U_A} (T_I)\n",
    "        \\xrightarrow{U_D} (T_O)\n",
    "        \\xrightarrow{U_F} (T_G)\n",
    "$$\n",
    "\n",
    "where\n",
    "- $Q$ is the thermal heat from the cable losses (input)\n",
    "- $T_C$ is the temperature of the cable core\n",
    "- $U_I$ is the thermal conductance of the cable insulation\n",
    "- $T_S$ is the temperature of the cable shield\n",
    "- $U_A$ is the thermal conductance of the duct air gap\n",
    "- $T_I$ is the temperature of the duct inner surface\n",
    "- $U_D$ is the thermal conductance of the duct core\n",
    "- $T_O$ is the temperature of the duct outer surface\n",
    "- $U_F$ is the thermal conductance of the fill soil\n",
    "- $T_G$ is the temperature of the surface ground"
   ]
  },
  {
   "cell_type": "markdown",
   "metadata": {},
   "source": [
    "![Example Box 3x2](box3x2.png \"Example Box 3x2\")"
   ]
  },
  {
   "cell_type": "markdown",
   "metadata": {},
   "source": [
    "$$\n",
    "    \\left[ \\begin{matrix}\n",
    "        -U_{vo}-U_{ho}-U_{hi}-U_{vi} & U_{hi} & 0 & 0 & 0 & 0\n",
    "    \\\\\n",
    "        U_{vi} & 0 & 0 & 0 & 0 & 0\n",
    "    \\\\\n",
    "        0 & 0 & 0 & 0 & 0 & 0\n",
    "    \\\\\n",
    "        0 & 0 & 0 & 0 & 0 & 0\n",
    "    \\\\\n",
    "        0 & 0 & 0 & 0 & 0 & 0\n",
    "    \\\\\n",
    "        0 & 0 & 0 & 0 & 0 & 0    \n",
    "    \\end{matrix} \\right]\n",
    "    \\left[ \\begin{matrix}\n",
    "        T_{11} \\\\ T_{12} \\\\ T_{21} \\\\ T_{22} \\\\ T_{31} \\\\ T_{32}\n",
    "    \\end{matrix} \\right]\n",
    "    =\n",
    "    \\left[ \\begin{matrix}\n",
    "        U_{vo}+U_{ho} & 1 & 0 & 0 & 0 & 0 & 0\n",
    "    \\\\\n",
    "        0 & 0 & 1 & 0 & 0 & 0 & 0\n",
    "    \\\\\n",
    "        0 & 0 & 0 & 1 & 0 & 0 & 0\n",
    "    \\\\\n",
    "        0 & 0 & 0 & 0 & 1 & 0 & 0\n",
    "    \\\\\n",
    "        0 & 0 & 0 & 0 & 0 & 1 & 0\n",
    "    \\\\\n",
    "        0 & 0 & 0 & 0 & 0 & 0 & 1\n",
    "    \\end{matrix} \\right]\n",
    "    \\left[ \\begin{matrix}\n",
    "        T_G \\\\ Q_{11} \\\\ Q_{12} \\\\ Q_{21} \\\\ Q_{22} \\\\ Q_{31} \\\\ Q_{32}\n",
    "    \\end{matrix} \\right]\n",
    "$$"
   ]
  },
  {
   "cell_type": "code",
   "execution_count": 1,
   "metadata": {},
   "outputs": [],
   "source": [
    "T_ambient = 2500 # W.m/K\n",
    "fill_RHO = 6000 # W.m/K\n",
    "soil_RHO = 12000 # W.m/K\n",
    "bank_D = 36 * 0.0254 # m\n",
    "bank_H = 22.5 * 0.0254 # m\n",
    "bank_W = 18.5 * 0.0254 # m\n",
    "duct_R = 2.5 * 0.0254 # m\n",
    "h_spacing = 7 * 0.0254 # m\n",
    "v_spacing = 5.5 * 0.0254 # m"
   ]
  },
  {
   "cell_type": "code",
   "execution_count": null,
   "metadata": {},
   "outputs": [],
   "source": []
  }
 ],
 "metadata": {
  "kernelspec": {
   "display_name": "Python 3",
   "language": "python",
   "name": "python3"
  },
  "language_info": {
   "codemirror_mode": {
    "name": "ipython",
    "version": 3
   },
   "file_extension": ".py",
   "mimetype": "text/x-python",
   "name": "python",
   "nbconvert_exporter": "python",
   "pygments_lexer": "ipython3",
   "version": "3.9.16"
  }
 },
 "nbformat": 4,
 "nbformat_minor": 4
}
