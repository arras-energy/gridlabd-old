{
 "cells": [
  {
   "cell_type": "markdown",
   "id": "f32523ef",
   "metadata": {},
   "source": [
    "The ductbank model computes the thermal equilibrium of a duct bank with $L_{ij}$ cables lying in an $N \\times M$ matrix of ducts in a ductbank.\n",
    "\n",
    "The physical properties of the duct bank are given as:\n",
    "\n",
    "* $D$, the duct inner diameter in cm,\n",
    "* $H$, the horizontal spacing in cm,\n",
    "* $V$, vertical spacing in cm,\n",
    "* $T$, top spacing in cm,\n",
    "* $S$, side spacing in cm,\n",
    "* $B$, bottom spacing in cm,\n",
    "* $G$, soil depth in cm,\n",
    "* $ROH_g$, ROH ground in cm.K/W,\n",
    "* $ROH_f$, ROH fill in cm,.K/W, and\n",
    "* $R_d$, R-value of ducts in K/W\n",
    "\n",
    "The heat inputs are given as $Q_ij$ in W for the $N \\times M$ ducts.\n",
    "\n",
    "The output air temperature input is given as $T_o$ in $^\\circ$C."
   ]
  },
  {
   "cell_type": "markdown",
   "id": "e09df69d",
   "metadata": {},
   "source": [
    "# Methodology\n",
    "\n",
    "We assume that the temperature of the duct bank fill is uniform. This assumption is reasonable when the thermal conductivity of the ductbank is high, which is necessary to facilitate effective heat dissipation from individual ducts to the soil.  This thermal model is illustrated in Figure 1.\n",
    "\n",
    "$$\n",
    "    \\left. \\begin{array}{r}\n",
    "    (T_1) \\overset{U_1} \\to \\\\\n",
    "    \\vdots \\quad \\\\\n",
    "    (T_K) \\overset{U_K} \\to\n",
    "    \\end{array} \\right\\}\n",
    "    (T_d) \\overset{U_g} \\to (T_o)\n",
    "$$\n",
    "\n",
    "*<center>Figure 1: Ductbank thermal model</center>*\n",
    "\n",
    "The steady state temperature of the ductbank is found using the heat balance equation\n",
    "\n",
    "$$\n",
    "    (T_o-T_d) U_g + \\sum_K (T_k-T_d) U_k = 0\n",
    "$$\n",
    "\n",
    "where \n",
    "* $T_o$ is the outdoor air temperature in $^\\circ$C,\n",
    "* $T_d$ is the ductbank temperature in $^\\circ$C, \n",
    "* $U_g$ is the ground conductivity in W/K, \n",
    "* $U_k$ is the cable $k$'s conductivity in W/K,\n",
    "* $T_k$ is the temperature of the cable $k$ in $^\\circ$C,"
   ]
  },
  {
   "cell_type": "markdown",
   "id": "88314576",
   "metadata": {},
   "source": [
    "The heat balance equation for each cable $k$ is given by\n",
    "\n",
    "$$\n",
    "    (T_d-T_k) U_k + Q_k = 0\n",
    "$$\n",
    "\n",
    "where\n",
    "* $Q_k$ is the heat gain from the electric loses in the cable, in W."
   ]
  },
  {
   "cell_type": "markdown",
   "id": "e72829d4",
   "metadata": {},
   "source": [
    "We use the following physical parameters of the ductbank:\n",
    "* $R_d$ is the duct R-value in K/W.m$^2$,\n",
    "* $R_a$ is the air gap effective R-value in K/W.m$^2$,\n",
    "* $R_c$ is the cable insulation R-value in K/W.m$^2$,\n",
    "* $L$ is the length of the duct in m,\n",
    "* $D$ is the diameter of the duct in m, and\n",
    "* $X$ is the effective ductbank ground interface width in m.\n",
    "* $Y$ is the effective ductbank ground interface height in m.\n",
    "\n",
    "The ground U-value is \n",
    "\n",
    "$$\n",
    "    U_g = \\frac{L ~ W}{ROH_g ~ G}\n",
    "$$\n",
    "\n",
    "where\n",
    "* $L$ is the length of the ductbank in m; and\n",
    "* $ROH_g$ is the resistivity of the soil per unit thickness per unit area, in K/W.m$^3$.\n",
    "\n",
    "For any given duct $k$, the U-value to the duct bank surface is in the horizontal direction is $U_{i}=\\frac{S+Hj-D/2}{ROH_f} + \\frac{S+H(M-j)-D/2}{ROH_f}$ where $ROH_f$ is the resistivity of the fill per unit thickness per unit area, in K/W.m$^3$. Similarly, in the vertical direction we have $U_{j}=\\frac{T+V*i-D/2}{ROH_f}+\\frac{B+V(N-j)-D/2}{ROH_f}$.\n",
    "\n",
    "We define $X$ as the total width of the ductbank in m and $Y$ is the total height of the ductbank in m such that $X = 2S+H(M-1)+MD$ and $Y=T+B+V(N-1)+ND$, and find an approximation for the U-value for each duct $k$ is\n",
    "\n",
    "$$\n",
    "    U_k = \\frac{L ~ 2(X+Y)}{R_c + R_a + R_d + ROH_f~(X+Y-2D)}.\n",
    "$$"
   ]
  },
  {
   "cell_type": "markdown",
   "id": "f6c39aaf",
   "metadata": {},
   "source": [
    "We construct the matrices $\\mathbf{A}$ and $\\mathbf{B}$ such that\n",
    "\n",
    "$$\n",
    "    \\mathbf{A} ~ \\mathbf{x} + \\mathbf{B} ~ \\mathbf{u} = 0\n",
    "$$\n",
    "\n",
    "with $\\mathbf{x} = [{T_d~T_1~\\cdots~T_K}]^T$ and $\\mathbf{u} = [{T_o~Q_1~\\cdots~Q_K}]^T$,\n",
    "\n",
    "and find\n",
    "\n",
    "$$\n",
    "    \\mathbf{A} = \\left[ \\begin{array}{cc}\n",
    "        -U_g-K~U_k & U_k ~ 1_{(K)}\n",
    "    \\\\  U_k ~ 1_{(K)}^T & - U_k ~ I_{(K)}\n",
    "    \\end{array} \\right]\n",
    "    \\qquad \\mathrm{and} \\qquad\n",
    "    \\mathbf{B} = \\left[ \\begin{array}{cc}\n",
    "    U_g & 0_{(K)} \\\\ 0_{(K)}^T & I_{(K)}\n",
    "    \\end{array} \\right]\n",
    "$$"
   ]
  },
  {
   "cell_type": "markdown",
   "id": "3d62d27b",
   "metadata": {},
   "source": [
    "Solving for $\\mathbf{x}$ we have\n",
    "\n",
    "$$\n",
    "    \\mathbf{x} = -A^{-1}~B~u = \\left[ \\begin{array}{cc}\n",
    "       1 & \\alpha ~ 1_{(K)}\n",
    "    \\\\ 1_{(K)}^T & \\alpha~1_{(K \\times K)} + \\beta~I_{(K)}\n",
    "    \\end{array} \\right]\n",
    "$$\n",
    "\n",
    "where\n",
    "* $\\alpha = \\frac{1}{U_g}$; and\n",
    "* $\\beta = \\frac{U_g+U_k}{U_k~U_g}$"
   ]
  },
  {
   "cell_type": "markdown",
   "id": "6f5bcf3d",
   "metadata": {},
   "source": [
    "For any given condition $\\mathbf{u}$ we will always have the equilibrium condition\n",
    "\n",
    "$$\n",
    "    \\mathbf{x} = \\left[ \\begin{array}{cc}\n",
    "       1 & \\alpha ~ 1_{(K)}\n",
    "    \\\\ 1_{(K)}^T & \\alpha~1_{(K \\times K)} + \\beta~I_{(K)}\n",
    "    \\end{array} \\right] \\mathbf{u}\n",
    "$$\n",
    "\n",
    "or in terms of the state and input variables\n",
    "\n",
    "$$\n",
    "    \\left[ \\begin{array}{c}\n",
    "        T_d \\\\ T_1 \\\\ \\vdots \\\\ T_K\n",
    "    \\end{array} \\right] \n",
    "    = \\left[ \\begin{array}{cc}\n",
    "       1 & \\left[\\frac{1}{U_g}\\right]_{(K)}\n",
    "    \\\\ \n",
    "        1_{(K)}^T & \\left[\\frac{1}{U_g}\\right]_{(K \\times K)} + \\frac{1}{U_k}~I_{(K)}\n",
    "    \\end{array} \\right]\n",
    "    \\left[ \\begin{array}{c}\n",
    "        T_o \\\\ Q_1 \\\\ \\vdots \\\\ Q_K\n",
    "    \\end{array} \\right]\n",
    "$$"
   ]
  },
  {
   "cell_type": "markdown",
   "id": "0bbbe0b7",
   "metadata": {},
   "source": [
    "# Example\n",
    "The following example illustrates the result of applying this methodology to an arbitrary 2x3 duct bank with 2 cables lying in duct 1. Cable 1 has 3x the load of cable 2, with a lineal heat loss of 2.0 W/m."
   ]
  },
  {
   "cell_type": "code",
   "execution_count": 1,
   "id": "bfc7aa76",
   "metadata": {},
   "outputs": [],
   "source": [
    "N = 3 # rows of ducts\n",
    "M = 2 # columns\n",
    "D = 12.7 # duct inner diameter (cm)\n",
    "I = 1.0 # insulation thickness (cm)\n",
    "J = 1.0 # duct thickness (cm)\n",
    "H = 3.8 # duct horizontal spacing (cm)\n",
    "V = 0.0 # duct vertical spacing (cm)\n",
    "T = 1.9 # top spacing (cm)\n",
    "S = 7.6 # side spacing (cm)\n",
    "B = 1.9 # bottom spacing (cm)\n",
    "G = 91.5 # soil depth (cm)\n",
    "ROHg = 120.0 # ground ROH (cm.K/W)\n",
    "ROHf = 60.0 # fill ROH (cm.K/W)\n",
    "Rd = 4.0*J/100 # duct R-value (K.m^2/W)\n",
    "Rc = 0.15*I/100 # insulation R-value (K.m^2/W)\n",
    "Ra = 3.00*D/100 # air-gap R-value (K.m^2/W)\n",
    "L = 1000 # cable/duct length (m)\n",
    "P = 3.1416*D/100 # duct effective fill interface width (m)\n",
    "X = 2*S + M*D + (M-1)*H # ductbank width\n",
    "Y = T+B + N*D + (N-1)*V # ductbank height\n",
    "\n",
    "To = 25.0 # outdoor air temperature (degC)\n",
    "Q = [[1],[],[],[1],[1],[]] # heat gains from cables in ducts (W/m)"
   ]
  },
  {
   "cell_type": "code",
   "execution_count": 2,
   "id": "d8d6628b",
   "metadata": {},
   "outputs": [],
   "source": [
    "Ug = L*P/(ROHg*G) # ground U-value\n",
    "Uk = L*2*(X+Y)/(Rc + Ra + Rd + ROHf*(X+Y-D)) # duct U-value (excluding fill)"
   ]
  },
  {
   "cell_type": "code",
   "execution_count": 3,
   "id": "ebd09d56",
   "metadata": {},
   "outputs": [],
   "source": [
    "from numpy import *\n",
    "set_printoptions(formatter={'float_kind':\"{:10.4f}\".format})\n",
    "from numpy.linalg import *\n",
    "u = array([hstack([To,[y for x in Q for y in x]])]).transpose()\n",
    "K = len(u) - 1 # number of cables\n",
    "A = zeros((K+1,K+1))\n",
    "B = zeros((K+1,K+1))"
   ]
  },
  {
   "cell_type": "code",
   "execution_count": 4,
   "id": "cbe436b4",
   "metadata": {
    "scrolled": true
   },
   "outputs": [
    {
     "data": {
      "text/plain": [
       "(array([[ -117.2806,    39.0814,    39.0814,    39.0814],\n",
       "        [   39.0814,   -39.0814,     0.0000,     0.0000],\n",
       "        [   39.0814,     0.0000,   -39.0814,     0.0000],\n",
       "        [   39.0814,     0.0000,     0.0000,   -39.0814]]),\n",
       " array([[  -27.5200,   -27.5200,   -27.5200,   -27.5200],\n",
       "        [  -27.5200,   -27.5455,   -27.5200,   -27.5200],\n",
       "        [  -27.5200,   -27.5200,   -27.5455,   -27.5200],\n",
       "        [  -27.5200,   -27.5200,   -27.5200,   -27.5455]]))"
      ]
     },
     "execution_count": 4,
     "metadata": {},
     "output_type": "execute_result"
    }
   ],
   "source": [
    "A[0,0] = -Ug - K*Uk\n",
    "A[1:K+1,0] = Uk\n",
    "for k in range(1,K+1): A[0,k] = Uk; A[k,k] = -Uk;\n",
    "A,inv(A)"
   ]
  },
  {
   "cell_type": "code",
   "execution_count": 5,
   "id": "963cee1b",
   "metadata": {},
   "outputs": [
    {
     "data": {
      "text/plain": [
       "array([[    0.0363,     0.0000,     0.0000,     0.0000],\n",
       "       [    0.0000,     1.0000,     0.0000,     0.0000],\n",
       "       [    0.0000,     0.0000,     1.0000,     0.0000],\n",
       "       [    0.0000,     0.0000,     0.0000,     1.0000]])"
      ]
     },
     "execution_count": 5,
     "metadata": {},
     "output_type": "execute_result"
    }
   ],
   "source": [
    "B[0,0] = Ug\n",
    "for k in range(1,K+1): B[k,k] = 1\n",
    "B"
   ]
  },
  {
   "cell_type": "code",
   "execution_count": 6,
   "id": "32fcb13d",
   "metadata": {},
   "outputs": [
    {
     "data": {
      "text/plain": [
       "array([[    1.0000,    27.5200,    27.5200,    27.5200],\n",
       "       [    1.0000,    27.5455,    27.5200,    27.5200],\n",
       "       [    1.0000,    27.5200,    27.5455,    27.5200],\n",
       "       [    1.0000,    27.5200,    27.5200,    27.5455]])"
      ]
     },
     "execution_count": 6,
     "metadata": {},
     "output_type": "execute_result"
    }
   ],
   "source": [
    "nAinvB=-inv(A)@B\n",
    "nAinvB"
   ]
  },
  {
   "cell_type": "code",
   "execution_count": 7,
   "id": "0e01aa4c",
   "metadata": {},
   "outputs": [
    {
     "data": {
      "text/plain": [
       "array([[   25.0000],\n",
       "       [    1.0000],\n",
       "       [    1.0000],\n",
       "       [    1.0000]])"
      ]
     },
     "execution_count": 7,
     "metadata": {},
     "output_type": "execute_result"
    }
   ],
   "source": [
    "u"
   ]
  },
  {
   "cell_type": "code",
   "execution_count": 8,
   "id": "4c7a1bb8",
   "metadata": {},
   "outputs": [
    {
     "name": "stdout",
     "output_type": "stream",
     "text": [
      "cond = 3.6e+05\n"
     ]
    },
    {
     "data": {
      "text/plain": [
       "array([[  107.5599],\n",
       "       [  107.5855],\n",
       "       [  107.5855],\n",
       "       [  107.5855]])"
      ]
     },
     "execution_count": 8,
     "metadata": {},
     "output_type": "execute_result"
    }
   ],
   "source": [
    "print(\"cond = {:.2g}\".format(cond(nAinvB)))\n",
    "nAinvB@u"
   ]
  },
  {
   "cell_type": "code",
   "execution_count": 9,
   "id": "38292c2c",
   "metadata": {},
   "outputs": [
    {
     "data": {
      "text/plain": [
       "(117.3, 39.1, 0.036, 'OK')"
      ]
     },
     "execution_count": 9,
     "metadata": {},
     "output_type": "execute_result"
    }
   ],
   "source": [
    "a = Ug+K*Uk\n",
    "b = Uk\n",
    "c = Ug\n",
    "round(a,1),round(b,1),round(c,3),\"OK\" if round(a+A[0,0],4)==round(b-A[0,1],4)==round(c-B[0,0],4)==0.0 else \"FAIL\""
   ]
  },
  {
   "cell_type": "code",
   "execution_count": 10,
   "id": "409b1bba",
   "metadata": {},
   "outputs": [
    {
     "data": {
      "text/plain": [
       "(27.52, 27.55, 'FAIL')"
      ]
     },
     "execution_count": 10,
     "metadata": {},
     "output_type": "execute_result"
    }
   ],
   "source": [
    "alpha = 1/Ug\n",
    "beta = 1/Uk + 1/Ug\n",
    "round(alpha,2),round(beta,2),\"OK\" if round(alpha+1/(b-a),4)==round(beta+a/(b*(b-a)),4)==0.0 else \"FAIL\""
   ]
  },
  {
   "cell_type": "code",
   "execution_count": 11,
   "id": "cb7d9e35",
   "metadata": {},
   "outputs": [
    {
     "data": {
      "text/plain": [
       "array([[    1.0000,    27.5200,    27.5200,    27.5200],\n",
       "       [    1.0000,    27.5455,    27.5200,    27.5200],\n",
       "       [    1.0000,    27.5200,    27.5455,    27.5200],\n",
       "       [    1.0000,    27.5200,    27.5200,    27.5455]])"
      ]
     },
     "execution_count": 11,
     "metadata": {},
     "output_type": "execute_result"
    }
   ],
   "source": [
    "M = vstack([hstack([1,[1/Ug]*K]),hstack([[[1]]*K,ones((K,K))*1/Ug+eye(K)*(1/Uk)])])\n",
    "M"
   ]
  },
  {
   "cell_type": "markdown",
   "id": "d48d14a3",
   "metadata": {},
   "source": [
    "Observe that this is the same as $-\\mathbf{A}^{-1}\\mathbf{B}$.\n",
    "\n",
    "The solution is then"
   ]
  },
  {
   "cell_type": "code",
   "execution_count": 12,
   "id": "51232d87",
   "metadata": {},
   "outputs": [
    {
     "data": {
      "text/plain": [
       "array([[  107.5599],\n",
       "       [  107.5855],\n",
       "       [  107.5855],\n",
       "       [  107.5855]])"
      ]
     },
     "execution_count": 12,
     "metadata": {},
     "output_type": "execute_result"
    }
   ],
   "source": [
    "M@u"
   ]
  },
  {
   "cell_type": "markdown",
   "id": "3da14636",
   "metadata": {},
   "source": [
    "Yay."
   ]
  }
 ],
 "metadata": {
  "kernelspec": {
   "display_name": "Python 3",
   "language": "python",
   "name": "python3"
  },
  "language_info": {
   "codemirror_mode": {
    "name": "ipython",
    "version": 3
   },
   "file_extension": ".py",
   "mimetype": "text/x-python",
   "name": "python",
   "nbconvert_exporter": "python",
   "pygments_lexer": "ipython3",
   "version": "3.10.11"
  }
 },
 "nbformat": 4,
 "nbformat_minor": 5
}
