{
 "cells": [
  {
   "cell_type": "markdown",
   "metadata": {},
   "source": [
    "# Apartment Model Example\n",
    "\n",
    "The following example illustrates this method.  The method requires a linear algebra library:"
   ]
  },
  {
   "cell_type": "code",
   "execution_count": 197,
   "metadata": {},
   "outputs": [],
   "source": [
    "import numpy as np\n",
    "from numpy import linalg as LA\n",
    "import matplotlib.pyplot as plt\n",
    "from scipy.integrate import odeint\n",
    "def prfloat(x,n=10,m=4,f=\"g\"):\n",
    "    if x == 0.0:\n",
    "        return \" \"*(n-1) + \"0\"\n",
    "    else:\n",
    "        return f\"%{n}.{m}f\"%x\n",
    "def DUMP(_a,_b=None):\n",
    "    if _b == None: \n",
    "        _t = str(eval(_a))\n",
    "        if _t.find('\\n') > 0:\n",
    "            print(f\"{_a} = \\n{_t}\")\n",
    "        else:\n",
    "            print(f\"{_a} = {eval(_a)}\")\n",
    "    else:\n",
    "        _t = str(eval(_b))\n",
    "        if _t.find('\\n') > 0:\n",
    "            print(f\"{_b} = # {_a}\\n{_t}\")\n",
    "        else:\n",
    "            print(f\"{_b} = {eval(_b)} # {_a}\")\n",
    "np.set_printoptions(precision=4,floatmode='fixed',formatter={'float':lambda x: prfloat(x,10,4,\"f\")})"
   ]
  },
  {
   "cell_type": "code",
   "execution_count": 198,
   "metadata": {},
   "outputs": [],
   "source": [
    "# Table 3: Building design parameters\n",
    "N = 2 # 10 floors\n",
    "M = 2 # 20 units per floor\n",
    "X = 24 # unit width (ft)\n",
    "Y = 40 # unit depth (ft)\n",
    "Z = 8 # unit height (ft)\n",
    "W = 6 # corridor width (ft)\n",
    "F = 1 # floor thickness (ft)\n",
    "I = 1 # Wall thickness (ft)\n",
    "\n",
    "Kx = 0 # corridor is not exterior\n",
    "Kd = 1 # corridor is double-sided\n",
    "omega = 0.5 # exterior window/wall ratio\n",
    "beta = .8 # fraction of units that are occupied\n",
    "alpha = .75 # Fraction of area in walls that is insulation compared to building material\n",
    "a = .5 # fraction of heat gain that goes to zone instead of mass\n",
    "b = 1-a # fraction of heat gain that is taken up directly by mass\n",
    "\n",
    "\n",
    "\n"
   ]
  },
  {
   "cell_type": "code",
   "execution_count": 199,
   "metadata": {},
   "outputs": [],
   "source": [
    "# Table 5: Derived building properties\n",
    "A = X*Y # unit floor area (sf)\n",
    "Ad = 3*6.7 # unit door area (sf)\n",
    "Aw_unit = omega*X*Z # unit window area (sf)\n",
    "Aw_core = omega*W*Z # core window area (sf)\n",
    "Au = Y*Z # unit-unit wall area (sf)\n",
    "Ao = X*Z - Aw_unit # unit-outdoor wall area (sf)\n",
    "Ac = X*Z - Ad # unit-core wall area (sf)\n",
    "Ah = W*Z # Core exterior wall ares (sf)\n",
    "Ah_w = Ah - Aw_core # Core exterior wall with window (sf)\n",
    "Ah_d = Ah - Ad # Core exterior wall with door (sf)\n",
    "\n",
    "\n",
    "# components\n",
    "Xl = M * X * (1 - .5 * Kd)\n",
    "Al = Xl * Z\n",
    "Ac_sides = 2*Ah*(1-Kx) # ??? Ah may not include window or door\n",
    "Ac_aptwall = N*Al*(Kd+1) # ??? do you include doors\n",
    "Ac_external = N*Al*(1-Kx)*(1-Kd)\n",
    "Ac_floor = N*Xl*W\n",
    "Ac_ceiling = N*Xl*W\n",
    "\n"
   ]
  },
  {
   "cell_type": "code",
   "execution_count": 200,
   "metadata": {},
   "outputs": [],
   "source": [
    "# Table 4: Building thermal properties\n",
    "R_ext = 20\n",
    "R_int = 5\n",
    "R_window = 2\n",
    "R_door = 4.75\n",
    "R_mass = R_ext/2\n",
    "R_floor = 10\n",
    "R_roof = 38\n",
    "R_ground = 60\n",
    "\n",
    "R_C_window = (Ah_w/R_ext)+(Aw_core/R_window)\n",
    "R_C_door = (Ah_d/R_ext)+(Ad/R_door)"
   ]
  },
  {
   "cell_type": "code",
   "execution_count": 201,
   "metadata": {},
   "outputs": [],
   "source": [
    "# Table 5: Derived building properties\n",
    "V = X*Y*Z # unit volume (cf)\n",
    "V_outsidewalls = 2*N*I*(Al+Au*(Kd+1)+Ah*(Kx-1))\n",
    "V_innerwalls = N*I*(M-1-Kd)*Au\n",
    "V_unitfloors = N*A*F\n",
    "V_unitceiling = A*F\n",
    "V_corewalls = N*Al*I*(2*Kd+(1-Kd)*(1-Kx))\n",
    "V_corefloor = N*Xl*W*F\n",
    "V_coreceiling = Xl*W*F\n",
    "\n",
    "\n",
    "V_totalwalls = V_outsidewalls + V_innerwalls  +V_corewalls \n",
    "V_totalfloors=  V_unitfloors + V_unitceiling+ V_corefloor  +V_coreceiling\n"
   ]
  },
  {
   "cell_type": "code",
   "execution_count": 202,
   "metadata": {},
   "outputs": [],
   "source": [
    "# C_int = 2000 # occupied unit interior thermal capacitance (Btu/degF)\n",
    "\n",
    "Sint = 10.0 # Unit interior mass heat capacity per Apartment floor area (Btu/degF.sf)\n",
    "Sfloor = 150.0\n",
    "\n",
    "c_building = .3 # specific heat of wood (hardwood) (Btu/lbm.F)\n",
    "rho_material = 45 # density of wood (hardwood) (lbm/cf)\n",
    "rho_wallmaterial = 45 # density of wood (hardwood) (lbm/cf)\n",
    "rho_floormaterial = 45 # density of wood (hardwood) (lbm/cf)\n",
    "rho_air = 0.07489 # density of air at 70 F (lbm/cf)\n",
    "c_air = 0.2404 # specific heat of air at 70 F (Btu/lbm.F)\n",
    "rho_insulation = 1\n",
    "\n",
    "\n",
    "\n",
    "Sair = rho_air*c_air\n",
    "Cint = Sint*A\n",
    "\n",
    "\n",
    "M_walls = V_totalwalls *(alpha*rho_insulation+(1-alpha)*rho_wallmaterial)\n",
    "c_walls = .3\n",
    "M_floors = V_totalfloors*rho_floormaterial\n",
    "c_floors =.3\n"
   ]
  },
  {
   "cell_type": "code",
   "execution_count": 203,
   "metadata": {},
   "outputs": [],
   "source": [
    "# set zone heat gains\n",
    "Q_Rad_A = 0 # solar gains to occupied apartments (computed from weather data)\n",
    "Q_Vent_A = 0 # ventilation gains to occupied apartments (computed from weather data)\n",
    "Q_Enduse_A = 0 # electric load gains to occupied aparments (computed from equipment data)\n",
    "\n",
    "Q_Rad_U = 0 # solar gains to unoccupied apartments (computed from weather data)\n",
    "Q_Vent_U = 0 # ventilation gains to occupied apartments (computed from weather data)\n",
    "\n",
    "Q_Rad_C = 0 # solar gains to core spaces (computed from weather data)\n",
    "Q_Vent_C = 0 # ventilation gains to core spaces (computed from weather data)\n",
    "Q_Enduse_C = 0 # electric load gains to core spaces (computed from equipment data)\n",
    "\n",
    "Q_Gains_A = Q_Rad_A + Q_Vent_A + Q_Enduse_A\n",
    "Q_Gains_U = Q_Rad_U + Q_Vent_U \n",
    "Q_Gains_C = Q_Rad_C + Q_Vent_C + Q_Enduse_C\n",
    "Q_Gains_M = 0\n"
   ]
  },
  {
   "cell_type": "code",
   "execution_count": 204,
   "metadata": {},
   "outputs": [],
   "source": [
    "# set outdoor temperature \n",
    "T_O = 100.0 # computed from weather data relative the apartment setpoint (e.g., T_A = 40 degF - T_O)\n",
    "unit_temperature = 55.0\n",
    "vacant_temperature = 65.0\n",
    "core_temperature = 60.0\n",
    "mass_temperature = 45.0\n",
    "building_setpoint_temp = 70.0\n",
    "unit_mode = 0\n",
    "vacant_mode = 0\n",
    "core_mode = 0"
   ]
  },
  {
   "cell_type": "code",
   "execution_count": 205,
   "metadata": {},
   "outputs": [],
   "source": [
    "# Building mode\n",
    "m = np.sign(building_setpoint_temp - T_O) # -1 for cooling, +1 for heating"
   ]
  },
  {
   "cell_type": "markdown",
   "metadata": {},
   "source": [
    "The HVAC system capabilities are"
   ]
  },
  {
   "cell_type": "code",
   "execution_count": 206,
   "metadata": {},
   "outputs": [],
   "source": [
    "# set heat/cool constraints\n",
    "u_min = np.array([[-np.inf],[-np.inf],[-np.inf]])\n",
    "u_max = np.array([[np.inf],[np.inf],[np.inf]])\n",
    "\n",
    "# temperature setpoints\n",
    "T_unoccupied = 10 # unoccupied zone temperature setpoint offset (degF)\n",
    "T_core = 5 # core zone temperature setpoint offset (degF)"
   ]
  },
  {
   "cell_type": "code",
   "execution_count": 207,
   "metadata": {},
   "outputs": [
    {
     "name": "stdout",
     "output_type": "stream",
     "text": [
      "Table 7: Capacitance calculations (Btu/degF)\n",
      "\n",
      "C_A  C_U  C_C  C_M\n",
      "---- ---- ---- ----\n",
      " 442  111   41 97166\n"
     ]
    }
   ],
   "source": [
    "# Table 7: Capacitance calculations\n",
    "C_A = N * M * beta * V * Sair\n",
    "C_U = N * M * (1-beta) * V * Sair\n",
    "C_C = N * Xl * Ah * Sair\n",
    "C_M = M_walls*c_walls + M_floors*c_floors + N*M*Sint*A\n",
    "\n",
    "print(\"Table 7: Capacitance calculations (Btu/degF)\\n\\n\"\n",
    "     + \"C_A  C_U  C_C  C_M\\n\"\n",
    "     + \"---- ---- ---- ----\\n\"\n",
    "     + \"%4.0f %4.0f %4.0f %4.0f\"\n",
    "     % (C_A,C_U,C_C,C_M))"
   ]
  },
  {
   "cell_type": "code",
   "execution_count": 208,
   "metadata": {},
   "outputs": [],
   "source": [
    "# Table 6: Conductance calculations\n",
    "U_OA_windowwall = N * M * beta * ((Ao/R_ext)+(Aw_unit))\n",
    "U_OU_windowwall = ((1-beta)/beta) * U_OA_windowwall\n",
    "U_OA_sidewall = 2*N*beta*(1+Kd)*(Au/R_ext)\n",
    "U_OU_sidewall = ((1-beta)/beta) * U_OA_sidewall\n",
    "U_OA_roof = M*beta*(A/(R_floor+R_roof))\n",
    "U_OU_roof = ((1-beta)/beta) * U_OA_roof\n",
    "U_OA_floor = M*beta*(A/(R_floor+R_ground))\n",
    "U_OU_floor = ((1-beta)/beta) * U_OA_floor\n",
    "U_UA_innerwalls = 2*N*M*beta*(1-beta)*(Au/R_int)\n",
    "U_UA_floor = (N-1)*beta*M*(1-beta)*(A/R_floor)\n",
    "U_UA_ceiling = (N-1)*beta*M*(1-beta)*(A/R_floor)\n",
    "U_AU_floor = U_UA_ceiling\n",
    "U_UA_ceiling = U_UA_floor\n",
    "U_OC_sides = 2*N*(1-Kx)*(R_C_window+R_C_door)\n",
    "U_OC_wall = (Al/R_ext)*(1-Kd)\n",
    "U_OC_floor = Al/(R_floor+R_ground)\n",
    "U_OC_roof = Al/(R_floor+R_roof)"
   ]
  },
  {
   "cell_type": "code",
   "execution_count": 209,
   "metadata": {},
   "outputs": [
    {
     "name": "stdout",
     "output_type": "stream",
     "text": [
      "Table 6a: Conductance calculations Occupied Apartments (Btu/degF.h)\n",
      "U_OA U_UA U_CA U_MA\n",
      "---- ---- ---- ----\n",
      " 479  143  124  905\n",
      "\n",
      "Table 6b: Conductance calculations Unoccupied Apartments (Btu/degF.h)\n",
      "U_OU U_UA U_UC U_MU\n",
      "---- ---- ---- ----\n",
      " 120  143   31  226\n",
      "\n",
      "Table 6c: Conductance calculations Building Core (Btu/degF.h)\n",
      "U_OC U_CA U_UC U_MC\n",
      "---- ---- ---- ----\n",
      "  82  124   31  144\n",
      "\n",
      "Table 6d: Conductance calculations Building Mass (Btu/degF.h)\n",
      "U_OM U_MA U_MU U_MC\n",
      "---- ---- ---- ----\n",
      " 352  905  226  144\n"
     ]
    }
   ],
   "source": [
    "# Occupied Apartment\n",
    "U_OA = U_OA_windowwall + U_OA_sidewall + U_OA_floor + U_OA_roof\n",
    "U_UA = U_UA_innerwalls + U_UA_floor + U_UA_ceiling\n",
    "U_CA = N*M*beta*((Ac/((1-Kx)*R_int+Kx*R_ext)+(Ad/R_door)))\n",
    "U_MA = N*M*beta*((2*(A+Au)+Ao+Ac)/R_mass)\n",
    "\n",
    "# Unoccupied Apartment\n",
    "U_OU = U_OU_windowwall + U_OU_sidewall + U_OU_floor + U_OU_roof\n",
    "U_UA = U_UA\n",
    "U_UC = ((1-beta)/beta)*U_CA\n",
    "U_MU = ((1-beta)/beta)*U_MA\n",
    "\n",
    "# Building Core\n",
    "U_OC = U_OC_sides + U_OC_wall + U_OC_floor + U_OC_roof\n",
    "U_CA = U_CA\n",
    "U_UC = U_UC\n",
    "U_MC = (Ac_sides + Ac_aptwall + Ac_external + Ac_floor + Ac_ceiling)/R_mass\n",
    "\n",
    "# Building Mass\n",
    "U_OM = (2*N*(Al*(1+Kx)+Au*(1+Kd)+Ah*(1-Kx)+W*Xl*Kx))/R_mass\n",
    "U_MA = U_MA\n",
    "U_MU = U_MU\n",
    "U_MC = U_MC\n",
    "\n",
    "\n",
    "print(\"Table 6a: Conductance calculations Occupied Apartments (Btu/degF.h)\\n\" + \n",
    "      \"U_OA U_UA U_CA U_MA\\n\" +\n",
    "      \"---- ---- ---- ----\\n\" +\n",
    "      \"%4.0f %4.0f %4.0f %4.0f\" \n",
    "      % (U_OA,U_UA,U_CA,U_MA))\n",
    "print(\"\\nTable 6b: Conductance calculations Unoccupied Apartments (Btu/degF.h)\\n\" + \n",
    "      \"U_OU U_UA U_UC U_MU\\n\" +\n",
    "      \"---- ---- ---- ----\\n\" +\n",
    "      \"%4.0f %4.0f %4.0f %4.0f\" \n",
    "      % (U_OU,U_UA,U_UC,U_MU))\n",
    "print(\"\\nTable 6c: Conductance calculations Building Core (Btu/degF.h)\\n\" + \n",
    "      \"U_OC U_CA U_UC U_MC\\n\" +\n",
    "      \"---- ---- ---- ----\\n\" +\n",
    "      \"%4.0f %4.0f %4.0f %4.0f\" \n",
    "      % (U_OC,U_CA,U_UC,U_MC))\n",
    "print(\"\\nTable 6d: Conductance calculations Building Mass (Btu/degF.h)\\n\" + \n",
    "      \"U_OM U_MA U_MU U_MC\\n\" +\n",
    "      \"---- ---- ---- ----\\n\" +\n",
    "      \"%4.0f %4.0f %4.0f %4.0f\" \n",
    "      % (U_OM,U_MA,U_MU,U_MC))"
   ]
  },
  {
   "cell_type": "code",
   "execution_count": 210,
   "metadata": {},
   "outputs": [
    {
     "name": "stdout",
     "output_type": "stream",
     "text": [
      "Thermal conditions\n",
      "\n",
      " Q_A  Q_U  Q_C Q_M  T_O \n",
      "       kBtu/h      degF\n",
      "---- ---- ---- ---- ----\n",
      "   0    0    0    0  100\n"
     ]
    }
   ],
   "source": [
    "# Thermal conditions\n",
    "q = np.array([[Q_Gains_A], [Q_Gains_U], [Q_Gains_C], [Q_Gains_M] ,[T_O]])\n",
    "print(\"Thermal conditions\\n\\n\"\n",
    "     + \" Q_A  Q_U  Q_C Q_M  T_O \\n\"\n",
    "     + \"       kBtu/h      degF\\n\"\n",
    "     + \"---- ---- ---- ---- ----\")\n",
    "print(\"%4.0f %4.0f %4.0f %4.0f %4.0f\"\n",
    "     % (q[0],q[1],q[2],q[3],q[4]))"
   ]
  },
  {
   "cell_type": "code",
   "execution_count": 211,
   "metadata": {},
   "outputs": [
    {
     "name": "stdout",
     "output_type": "stream",
     "text": [
      "A = \n",
      "[[   -3.7309     0.3240     0.2793     2.0452]\n",
      " [    1.2960    -4.7029     0.2793     2.0452]\n",
      " [    2.9787     0.7447    -9.1729     3.4715]\n",
      " [    0.0093     0.0023     0.0015    -0.0167]]\n"
     ]
    }
   ],
   "source": [
    "\n",
    "# compute the solution matrices\n",
    "A = np.array([ \n",
    "      [-(U_OA+U_UA+U_CA+U_MA)/C_A,                   U_UA/C_A,                   U_CA/C_A,                   U_MA/C_A],\n",
    "      [                  U_UA/C_U, -(U_OU+U_UA+U_UC+U_MU)/C_U,                   U_UC/C_U,                   U_MU/C_U],\n",
    "      [                  U_CA/C_C,                   U_UC/C_C, -(U_OC+U_CA+U_UC+U_MC)/C_C,                   U_MC/C_C],\n",
    "      [                  U_MA/C_M,                   U_MU/C_M,                   U_MC/C_M, -(U_OM+U_MA+U_MU+U_MC)/C_M]\n",
    "    ])\n",
    "DUMP(\"A\")"
   ]
  },
  {
   "cell_type": "code",
   "execution_count": 212,
   "metadata": {},
   "outputs": [
    {
     "name": "stdout",
     "output_type": "stream",
     "text": [
      "B1 = \n",
      "[[    0.0011          0          0          0     1.0824]\n",
      " [         0     0.0045          0          0     1.0824]\n",
      " [         0          0     0.0121          0     1.9780]\n",
      " [    0.0000     0.0000     0.0000     0.0000     0.0036]]\n"
     ]
    }
   ],
   "source": [
    "\n",
    "B1 = np.array([ \n",
    "       [  a/C_A,     0,     0, 0, U_OA/C_A],\n",
    "       [      0, a/C_U,     0, 0, U_OU/C_U],\n",
    "       [      0,     0, a/C_C, 0, U_OC/C_C],\n",
    "       [  b/C_M, b/C_M, b/C_M, 1/C_M, U_OM/C_M]\n",
    "      ])\n",
    "DUMP(\"B1\")"
   ]
  },
  {
   "cell_type": "code",
   "execution_count": 213,
   "metadata": {},
   "outputs": [
    {
     "name": "stdout",
     "output_type": "stream",
     "text": [
      "B2 = \n",
      "[[    0.0011          0          0]\n",
      " [         0     0.0045          0]\n",
      " [         0          0     0.0121]\n",
      " [    0.0000     0.0000     0.0000]]\n"
     ]
    }
   ],
   "source": [
    "B2 = np.array([ \n",
    "       [ a/C_A,     0,     0],\n",
    "       [     0, a/C_U,     0],\n",
    "       [     0,     0, a/C_C],\n",
    "       [ b/C_M, b/C_M, b/C_M]\n",
    "      ])\n",
    "DUMP(\"B2\")"
   ]
  },
  {
   "cell_type": "code",
   "execution_count": 214,
   "metadata": {},
   "outputs": [
    {
     "name": "stdout",
     "output_type": "stream",
     "text": [
      "Temperatures (degF)\n",
      "\n",
      "Zone   T(0) dT/dt  Teq   Set \n",
      "----- ----- ----- ----- -----\n",
      "T_A    55.0   0.0 100.0  70.0\n",
      "T_U    65.0   0.0 100.0  80.0\n",
      "T_C    60.0   0.0 100.0  75.0\n",
      "T_M    45.0  -0.0 100.0   --\n"
     ]
    }
   ],
   "source": [
    "# initial temperature\n",
    "T0 = np.array([[unit_temperature],[vacant_temperature],[core_temperature],[mass_temperature]])\n",
    "\n",
    "T_set = np.full((4,1),building_setpoint_temp) - m * np.array([[0],[T_unoccupied],[T_core],[0]])\n",
    "\n",
    "# Steady state temperatures without HVAC heating/cooling \n",
    "T_eq = -LA.inv(A) @ B1 @ q \n",
    "\n",
    "dT = A @ T_eq + B1 @ q\n",
    "\n",
    "print(\"Temperatures (degF)\\n\\n\"\n",
    "     + \"Zone   T(0) dT/dt  Teq   Set \\n\"\n",
    "     + \"----- ----- ----- ----- -----\")\n",
    "print(\"%-5.5s %5.1f %5.1f %5.1f %5.1f\" % ('T_A',T0[0],dT[0],T_eq[0],T_set[0]))\n",
    "print(\"%-5.5s %5.1f %5.1f %5.1f %5.1f\" % ('T_U',T0[1],dT[1],T_eq[1],T_set[1]))\n",
    "print(\"%-5.5s %5.1f %5.1f %5.1f %5.1f\" % ('T_C',T0[2],dT[2],T_eq[2],T_set[2]))\n",
    "print(\"%-5.5s %5.1f %5.1f %5.1f   --\" % ('T_M',T0[3],dT[3],T_eq[3]))"
   ]
  },
  {
   "cell_type": "code",
   "execution_count": 215,
   "metadata": {},
   "outputs": [
    {
     "name": "stdout",
     "output_type": "stream",
     "text": [
      "[   69.2116]\n"
     ]
    }
   ],
   "source": [
    "# Solve for Equilibrium temperature for Building Mass explicitly\n",
    "Q_HVAC_A = -((-T_set[0]*(U_OA+U_UA+U_CA+U_MA)+U_UA*T_set[1]+U_CA*T_set[2]+U_OA*T_O)/a)-q[0]\n",
    "Q_HVAC_U = -((T_set[0]*U_UA-T_set[1]*(U_OU+U_UA+U_UC+U_MU)+U_UC*T_set[2]+U_OU*T_O)/a)-q[1]\n",
    "Q_HVAC_C = -((T_set[0]*(U_CA)+U_UC*T_set[1]-(U_OC+U_CA+U_UC+U_MC)*T_set[2]+U_OC*T_O)/a)-q[2]\n",
    "\n",
    "T_M_eq = (T_set[0]*(U_MA)+U_MU*T_set[1]+U_MC*T_set[2]+U_OM*T_O + (1-a) * (q[0]+q[1]+q[2] +Q_HVAC_A+Q_HVAC_U+Q_HVAC_C)+q[3])/(U_OM+U_MA+U_MU+U_MC+((1-a)/a)*(U_MA+U_MU+U_MC))\n",
    "\n",
    "print(T_M_eq)\n",
    "\n",
    "# replace default setpoint value for Building Mass\n",
    "T_set[3] = T_M_eq\n",
    "\n"
   ]
  },
  {
   "cell_type": "code",
   "execution_count": 216,
   "metadata": {},
   "outputs": [
    {
     "name": "stdout",
     "output_type": "stream",
     "text": [
      "u = \n",
      "[[-31410.0513]\n",
      " [ 3268.4267]\n",
      " [-1508.7215]]\n",
      "shortfall = 0 kBtu/h\n",
      "dTA = -2.60 degF/h\n",
      "dTU = -2.60 degF/h\n",
      "dTC = -2.31 degF/h\n",
      "dTM = 0.21 degF/h\n",
      "dt = 1382 sec\n"
     ]
    }
   ],
   "source": [
    "\n",
    "# solve for the required control\n",
    "u_req = -LA.pinv(B2) @ (A @ T_set + B1 @ q)\n",
    "\n",
    "# constrain the solution\n",
    "\n",
    "# u = u_req\n",
    "u = np.array([np.hstack((u_max,np.array([np.hstack((u_req,u_min)).max(axis=1)]).transpose())).min(axis=1)]).transpose()\n",
    "DUMP('u')\n",
    "\n",
    "u_shortfall = u_req - u\n",
    "\n",
    "# compute the temperature changes\n",
    "dT = A @ T0 + B1 @ q + B2 @ u\n",
    "\n",
    "# compute time to change dTmax degF\n",
    "dTmax = 1.0\n",
    "deltat = dTmax * 3600/max(abs(dT))[0]\n",
    "# show me\n",
    "print(\"shortfall = %.0f kBtu/h\" % (sum(u_req - u)))\n",
    "print(\"dTA = %.2f degF/h\" % (dT[0]))\n",
    "print(\"dTU = %.2f degF/h\" % (dT[1]))\n",
    "print(\"dTC = %.2f degF/h\" % (dT[2]))\n",
    "print(\"dTM = %.2f degF/h\" % (dT[3]))\n",
    "print(\"dt = %.0f sec\" % (deltat))"
   ]
  },
  {
   "cell_type": "code",
   "execution_count": 217,
   "metadata": {},
   "outputs": [
    {
     "name": "stdout",
     "output_type": "stream",
     "text": [
      "T_eq_hvac = \n",
      "[[   70.0000]\n",
      " [   80.0000]\n",
      " [   75.0000]\n",
      " [   69.2116]]\n"
     ]
    }
   ],
   "source": [
    "# Verify steady state temperatures with HVAC\n",
    "T_eq_hvac = - LA.inv(A)@(B1@q+B2@u)\n",
    "DUMP(\"T_eq_hvac\")"
   ]
  },
  {
   "cell_type": "code",
   "execution_count": 218,
   "metadata": {},
   "outputs": [
    {
     "data": {
      "image/png": "[encoded data removed]",
      "text/plain": [
       "<Figure size 720x720 with 1 Axes>"
      ]
     },
     "metadata": {
      "needs_background": "light"
     },
     "output_type": "display_data"
    },
    {
     "name": "stdout",
     "output_type": "stream",
     "text": [
      "Equilibrium Temperature (degF)\n",
      "\n",
      "               Field             Occupied           Unoccupied                 Core                 Mass\n",
      "               -----                    -                    -                    -                    -\n",
      "Initial Temp [C]                     55.0                 65.0                 60.0                 45.0\n",
      "Set-point Temp [C]                   70.0                 80.0                 75.0                 69.2\n",
      "Actual Equilibrium Temp [C]                 70.0                 80.0                 75.0                 69.2\n",
      "Gains [Btu/h]                         0.0                  0.0                  0.0                  0.0\n",
      "HVAC EQ Power [Btu/h]             -31410.1               3268.4              -1508.7\n",
      "HVAC Shortfall [Btu/h]                  0.0                  0.0                  0.0\n"
     ]
    }
   ],
   "source": [
    "\n",
    "# def f(time):\n",
    "#        t = [0,time]\n",
    "#        y = odeint(dTdt,T0.transpose()[0],t,args=(A,B1,B2,q,u))\n",
    "#        return [y[-1]][0]\n",
    "\n",
    "def dTdt (T,t,A,B1,B2,q,u):\n",
    "       Ttrans = np.array([T]).transpose()\n",
    "       dTdt = A @ Ttrans + B1 @ q + B2 @ u\n",
    "       return dTdt.transpose()[0]\n",
    "\n",
    "plt.style.use('_mpl-gallery')\n",
    "\n",
    "# make data\n",
    "start = 0\n",
    "end = 72\n",
    "steps = 1000\n",
    "t = np.linspace(start, end, steps)\n",
    "\n",
    "yt = odeint(dTdt,T0.transpose()[0],t,args=(A,B1,B2,q,u))\n",
    "\n",
    "yA = yt[:,0]\n",
    "yU = yt[:,1]\n",
    "yC = yt[:,2]\n",
    "yM = yt[:,3]\n",
    "\n",
    "# plot\n",
    "fig, ax = plt.subplots(figsize=(10,10))\n",
    "\n",
    "ax.plot(t, yA, linewidth=2.0, label='Occupied Apartment')\n",
    "ax.plot(t, yU, linewidth=2.0, label='Unoccupied Apartment')\n",
    "ax.plot(t, yC, linewidth=2.0, label='Building Core')\n",
    "ax.plot(t, yM, linewidth=2.0, label='Building Mass')\n",
    "\n",
    "\n",
    "ax.set_xlabel('Time (hr)')\n",
    "ax.set_ylabel('Temperature (F)')\n",
    "ax.set_title('Transient Temperature response for Apartment Building')\n",
    "\n",
    "\n",
    "plt.legend()\n",
    "\n",
    "plt.show()\n",
    "\n",
    "\n",
    "# Tinf = f(100000)\n",
    "\n",
    "print(\"Equilibrium Temperature (degF)\\n\")\n",
    "print(\"%20.30s %20.30s %20.30s %20.30s %20.30s\" % ('Field', 'Occupied', 'Unoccupied' ,'Core' ,'Mass'))\n",
    "print(\"%20.30s %20.1s %20.1s %20.1s %20.1s\" % ('-----', '-----', '-----' ,'-----' ,'-----'))\n",
    "print(\"%-20.30s %20.1f %20.1f %20.1f %20.1f\" % ('Initial Temp [C]',T0[0],T0[1],T0[2],T0[3]))\n",
    "print(\"%-20.30s %20.1f %20.1f %20.1f %20.1f\" % ('Set-point Temp [C]',T_set[0],T_set[1],T_set[2],T_set[3]))\n",
    "print(\"%-20.30s %20.1f %20.1f %20.1f %20.1f\" % ('Actual Equilibrium Temp [C]',T_eq_hvac[0],T_eq_hvac[1],T_eq_hvac[2],T_eq_hvac[3]))\n",
    "print(\"%-20.30s %20.1f %20.1f %20.1f %20.1f\" % ('Gains [Btu/h]',q[0],q[1],q[2],q[3]))\n",
    "print(\"%-20.30s %20.1f %20.1f %20.1f\" % ('HVAC EQ Power [Btu/h]',u[0],u[1],u[2]))\n",
    "print(\"%-20.30s %20.1f %20.1f %20.1f\" % ('HVAC Shortfall [Btu/h]',u_shortfall[0],u_shortfall[1],u_shortfall[2]))\n",
    "\n"
   ]
  },
  {
   "cell_type": "code",
   "execution_count": 219,
   "metadata": {},
   "outputs": [
    {
     "name": "stdout",
     "output_type": "stream",
     "text": [
      "C_A = 442.455392256 # occupied zone heat capacity (Btu/degF)\n",
      "C_U = 110.61384806399997 # unoccupied zone heat capacity (Btu/degF)\n",
      "C_C = 41.480193024 # core zone heat capacity (Btu/degF)\n",
      "C_M = 97166.4 # mass heat capacity (Btu/degF)\n",
      "Q_Rad_A = 0 # occupied zone solar gain\n",
      "Q_Vent_A = 0 # occupied zone ventilation gain\n",
      "Q_Enduse_A = 0 # occupied zone equipment gain\n",
      "Q_Rad_U = 0 # unoccupied zone solar gain\n",
      "Q_Rad_C = 0 # core zone solar gain\n",
      "Q_Vent_C = 0 # core zone ventilation gain\n"
     ]
    }
   ],
   "source": [
    "DUMP(\"occupied zone heat capacity (Btu/degF)\",\"C_A\")\n",
    "DUMP(\"unoccupied zone heat capacity (Btu/degF)\",\"C_U\")\n",
    "DUMP(\"core zone heat capacity (Btu/degF)\",\"C_C\")\n",
    "DUMP(\"mass heat capacity (Btu/degF)\",\"C_M\")\n",
    "DUMP(\"occupied zone solar gain\",\"Q_Rad_A\")\n",
    "DUMP(\"occupied zone ventilation gain\",\"Q_Vent_A\")\n",
    "DUMP(\"occupied zone equipment gain\",\"Q_Enduse_A\")\n",
    "DUMP(\"unoccupied zone solar gain\",\"Q_Rad_U\")\n",
    "DUMP(\"core zone solar gain\",\"Q_Rad_C\")\n",
    "DUMP(\"core zone ventilation gain\",\"Q_Vent_C\")"
   ]
  },
  {
   "cell_type": "code",
   "execution_count": 220,
   "metadata": {},
   "outputs": [
    {
     "name": "stdout",
     "output_type": "stream",
     "text": [
      "N = 2 # number of floors\n",
      "M = 2 # number of units per floor\n",
      "X = 24 # unit width (ft)\n",
      "Y = 40 # unit depth (ft)\n",
      "Z = 8 # unit height (ft)\n",
      "W = 6 # core width (ft)\n",
      "A = # unit floor area (sf)\n",
      "[[   -3.7309     0.3240     0.2793     2.0452]\n",
      " [    1.2960    -4.7029     0.2793     2.0452]\n",
      " [    2.9787     0.7447    -9.1729     3.4715]\n",
      " [    0.0093     0.0023     0.0015    -0.0167]]\n",
      "Aw_unit = 96.0 # unit window area (sf)\n",
      "Ad = 20.1 # unit door area (sf)\n",
      "Au = 320 # unit wall area (sf)\n",
      "Ao = 96.0 # unit exterior wall area (sf)\n",
      "Ac = 171.9 # unit core wall area (sf)\n",
      "V = 7680 # unit volume (cf)\n",
      "beta = 0.8 # occupancy factor (pu)\n",
      "Kx = 0 # indoor core fraction (pu)\n",
      "Kd = 1 # indoor core double loading fraction (pu)\n",
      "F = 1 # floor thickness (ft)\n",
      "rho_air = 0.07489 # volumetric air density (lb/cf)\n",
      "Sair = 0.018003556 # air specific heat capacity (Btu/degF/cf)\n",
      "Sint = 10.0 # interior mass loading (Btu/degF/sf)\n",
      "Cint = 9600.0 # interior heat capacity (Btu/degF)\n",
      "Sfloor = 150.0 # density of floor mass (lb/cf)\n"
     ]
    }
   ],
   "source": [
    "DUMP(\"number of floors\",\"N\")\n",
    "DUMP(\"number of units per floor\",\"M\")\n",
    "DUMP(\"unit width (ft)\",\"X\")\n",
    "DUMP(\"unit depth (ft)\",\"Y\")\n",
    "DUMP(\"unit height (ft)\",\"Z\")\n",
    "DUMP(\"core width (ft)\",\"W\")\n",
    "DUMP(\"unit floor area (sf)\",\"A\")\n",
    "DUMP(\"unit window area (sf)\",\"Aw_unit\")\n",
    "DUMP(\"unit door area (sf)\",\"Ad\")\n",
    "DUMP(\"unit wall area (sf)\",\"Au\")\n",
    "DUMP(\"unit exterior wall area (sf)\",\"Ao\")\n",
    "DUMP(\"unit core wall area (sf)\",\"Ac\")\n",
    "DUMP(\"unit volume (cf)\",\"V\")\n",
    "DUMP(\"occupancy factor (pu)\",\"beta\")\n",
    "DUMP(\"indoor core fraction (pu)\",\"Kx\")\n",
    "DUMP(\"indoor core double loading fraction (pu)\",\"Kd\")\n",
    "DUMP(\"floor thickness (ft)\",\"F\")\n",
    "DUMP(\"volumetric air density (lb/cf)\",\"rho_air\")\n",
    "DUMP(\"air specific heat capacity (Btu/degF/cf)\",\"Sair\")\n",
    "DUMP(\"interior mass loading (Btu/degF/sf)\",\"Sint\")\n",
    "DUMP(\"interior heat capacity (Btu/degF)\",\"Cint\")\n",
    "DUMP(\"density of floor mass (lb/cf)\",\"Sfloor\")"
   ]
  }
 ],
 "metadata": {
  "interpreter": {
   "hash": "5dd43c27dd4851e231d53e68adaf4ed22550d27d64f952a02d449ec2cb825d5a"
  },
  "kernelspec": {
   "display_name": "Python 3.10.4 ('.venv': venv)",
   "language": "python",
   "name": "python3"
  },
  "language_info": {
   "codemirror_mode": {
    "name": "ipython",
    "version": 3
   },
   "file_extension": ".py",
   "mimetype": "text/x-python",
   "name": "python",
   "nbconvert_exporter": "python",
   "pygments_lexer": "ipython3",
   "version": "3.10.4"
  }
 },
 "nbformat": 4,
 "nbformat_minor": 2
}
