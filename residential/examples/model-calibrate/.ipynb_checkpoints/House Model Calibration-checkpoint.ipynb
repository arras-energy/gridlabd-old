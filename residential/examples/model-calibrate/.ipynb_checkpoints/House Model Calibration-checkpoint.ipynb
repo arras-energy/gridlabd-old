{
 "cells": [
  {
   "cell_type": "markdown",
   "metadata": {},
   "source": [
    "# Problem\n",
    "We would like to calibrate a GridLAB-D house model based on a data collected from a house.  The house parameters we wish to calibrate are the indoor-outdoor and air-mass conductivities $U_A$ and $U_M$, the air and mass heat capacities $C_A$ and $C_M$, and the HVAC system heating and cooling efficieicies $\\eta_H$ and $\\eta_C$.  The available data is the hourly outdoor air temperature $T_O$, indoor air temperature $T_A$, heating and cooling setpoints $T_H$ and $T_C$, and the total electric energy demand of the HVAC system."
   ]
  },
  {
   "cell_type": "markdown",
   "metadata": {},
   "source": [
    "# Methodology\n",
    "To solve this problem we must perform a piecewise regression based on a second order thermal model of the house.  The thermal model we will calibrate is given by two differential equations for the heat balance:\n",
    "$$\n",
    "    \\left \\{ \\begin{array}{lclclcl}\n",
    "        U_A(T_A-T_O) &-& U_M(T_A-T_M) &+& C_A \\dot T_A & = & Q\n",
    "    \\\\\n",
    "        & & U_M(T_A-T_M) &+& C_M \\dot T_M & = & 0.\n",
    "    \\end{array} \\right .\n",
    "$$\n",
    "where the heat gain $Q = Q_i + Q_h + Q_c$.  We will evaluate $Q_i = \\eta_i ~ P_i(t)$, $Q_h = \\eta_h ~ P_h(t)$, and $Q_c = \\eta_c ~ P_c(t)$\n",
    "with\n",
    "* $P_i$ is the power supplied to the enduses,\n",
    "* $P_h$ is the power supplied to the heating system,\n",
    "* $P_c$ is the power supplied to the cooling system,\n",
    "* $\\eta_i$ is the fraction of internal heat gains \n",
    "* $\\eta_h$ is the heating system coefficient of performance, and\n",
    "* $\\eta_c$ is the cooling system coefficient of performance."
   ]
  },
  {
   "cell_type": "markdown",
   "metadata": {},
   "source": [
    "We combine the two equations to find the total house heat balance:\n",
    "$$\n",
    "    U_A(T_A-T_O) + C_A \\dot T_A + C_M \\dot T_M = Q.\n",
    "$$"
   ]
  },
  {
   "cell_type": "markdown",
   "metadata": {},
   "source": [
    "When the indoor air temperature is maintained at the constant setpoint $T_S$ we have $\\int_t^{t+\\Delta t} T_A(t) ~ dt = T_S ~ \\Delta t$ and $\\dot T_a = 0 \\implies \\dot T_M = 0$. Then we can integrate $Q$ over the interval $(t,t+\\Delta t)$ to find\n",
    "$$\n",
    "    E(t,\\Delta t) = U_A ~ T(t,\\Delta t).\n",
    "$$\n",
    "where the value of $D_H$ is determined based on the setpoint temperature, e.g.,\n",
    "$$\n",
    "    T(t) = \\left\\{ \\begin{array}{lll}\n",
    "        \\int_t^{t+\\Delta t} [ T_O(t) - T_H ] ~ dt & : T_O(t) < T_H &\n",
    "    \\\\\n",
    "        \\int_t^{t+\\Delta t} [ T_O(t) - T_C ] ~ dt & : T_O(t) > T_C &\n",
    "    \\\\\n",
    "        0 & : otherwise\n",
    "    \\end{array} \\right.\n",
    "$$"
   ]
  },
  {
   "cell_type": "markdown",
   "metadata": {},
   "source": [
    "We can estimate the value of $U_A$ by computing\n",
    "$$\n",
    "    U_A = (\\mathbf{A}^T~\\mathbf{A})^{-1} ~ \\mathbf{A}^T ~ \\mathbf{y}\n",
    "$$\n",
    "where\n",
    "$$\n",
    "    \\begin{array}{cc}\n",
    "        \\mathbf{A} = \\begin{bmatrix}\n",
    "            D_H(0) \\\\\n",
    "            \\vdots \\\\\n",
    "            D_H(8760)\n",
    "        \\end{bmatrix} &\n",
    "        \\mathrm{and} &\n",
    "        \\mathbf{y} = \\begin{bmatrix}\n",
    "            E(0) \\\\\n",
    "            \\vdots \\\\\n",
    "            E(8760)\n",
    "        \\end{bmatrix}\n",
    "    \\end{array}\n",
    "$$"
   ]
  },
  {
   "cell_type": "markdown",
   "metadata": {},
   "source": [
    "# Solution\n",
    "We generate a dataset using the GridLAB-D model in [house.glm](http://localhost:8888/edit/house.glm). This model is design to be run twice.  The first time it runs a reference model, and the second time it runs the calibrated model.  At the end of the first run, the model calibration process is run (see [calibrate.py](http://localhost:8888/edit/calibrate.py)) and the second time, the model evaluation process is run (see [evaluate.py](http://localhost:8888/edit/evaluate.py))."
   ]
  },
  {
   "cell_type": "code",
   "execution_count": 2,
   "metadata": {},
   "outputs": [
    {
     "name": "stdout",
     "output_type": "stream",
     "text": [
      "WARNING  [INIT] : RBSA2010 implicit enduse data is not valid for individual enduses\n",
      "WARNING  [INIT] : last warning message was repeated 8 times\n",
      "WARNING  [INIT] : house_e:1 has no parent triplex_meter defined; using static voltages\n",
      "eta_i: 2737 Btu/kWh, eta_h: 14254 Btu/kWh, eta_c: 5833 Btu/kWh\n",
      "key    Bh   Bc    dd     Qb    Uh   Uc   UA \n",
      "----- ---- ---- ------ ------ ---- ---- ----\n",
      " 6070   60   70  511.0   3384  849  338  593\n",
      " 5970   59   70  601.7   3440  925  323  624\n",
      " 6170   61   70  432.6   3329  785  352  568\n",
      " 6069   60   69  540.8   3374  854  314  584\n",
      " 6071   60   71  479.9   3392  844  364  604\n",
      " 6171   61   71  401.1   3338  780  379  579\n",
      " 6271   62   71  333.2   3284  726  393  559\n",
      " 6172   61   72  369.1   3347  775  406  591\n",
      " 6272   62   72  300.9   3294  721  420  571\n",
      " 6372   63   72  241.3   3242  676  434  555\n",
      " 6273   62   73  268.6   3302  717  448  583\n",
      " 6373   63   73  208.5   3251  671  463  567\n",
      " 6473   64   73  155.7   3200  633  477  555\n",
      " 6374   63   74  171.4   3259  667  496  582\n",
      " 6474   64   74  118.0   3210  628  510  569\n",
      " 6574   65   74   70.8   3159  596  525  560\n",
      " 6475   64   75   69.9   3217  625  556  590\n",
      " 6575   65   75   21.9   3167  593  571  582\n",
      " 6675   66   75   21.3   3117  565  586  576\n",
      " 6576   65   76   28.1   3175  589  617  603\n",
      " 6675   66   75   21.3   3117  565  586  576\n",
      " 6775   67   75   60.4   3064  542  603  573\n",
      " 6674   66   74   28.5   3108  568  540  554\n",
      " 6676   66   76   72.1   3126  562  634  598\n",
      "Inferred UA....  575.6 Btu/degF.h\n",
      "Baseload.......    1.1 kW\n",
      "\r"
     ]
    }
   ],
   "source": [
    "!gridlabd house.glm"
   ]
  },
  {
   "cell_type": "code",
   "execution_count": null,
   "metadata": {},
   "outputs": [],
   "source": []
  }
 ],
 "metadata": {
  "kernelspec": {
   "display_name": "Python 3",
   "language": "python",
   "name": "python3"
  },
  "language_info": {
   "codemirror_mode": {
    "name": "ipython",
    "version": 3
   },
   "file_extension": ".py",
   "mimetype": "text/x-python",
   "name": "python",
   "nbconvert_exporter": "python",
   "pygments_lexer": "ipython3",
   "version": "3.7.2"
  }
 },
 "nbformat": 4,
 "nbformat_minor": 2
}
