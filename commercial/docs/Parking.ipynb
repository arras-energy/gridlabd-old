{
 "cells": [
  {
   "cell_type": "markdown",
   "metadata": {},
   "source": [
    "This document describes the commercial parking structure model and runs a number of examples to illustrate its use and key features."
   ]
  },
  {
   "cell_type": "markdown",
   "metadata": {},
   "source": [
    "# Commercial Parking Structures\n",
    "Commercial parking structures can be generally described as multi-level buildings that provides a large number of parking spots, a subset of which are equipped with electric vehicle chargers.  Parking structures may be equipped with lights and fans.  Multi-level parking structures may also have elevators to transport people between levels.\n",
    "\n",
    "Total power demand depends on lighting, fans, elevators and electric vehicle chargers.\n",
    "\n",
    "Revenue depends on fixed and hourly parking fees, and electricity supply for vehicle connected to chargers."
   ]
  },
  {
   "cell_type": "markdown",
   "metadata": {},
   "source": [
    "## Parking Structure Parameters\n",
    "\n",
    "- $Total Size$: (static input) the total number of parking spots installed\n",
    "- $Total Chargers$: (static input) the total number of electric vehicle chargers installed\n",
    "- $Total Level$: (static input) the total number of levels in the parking structure\n",
    "- $Total Elevators$: (static input) the total number of elevators in the parking structure"
   ]
  },
  {
   "cell_type": "markdown",
   "metadata": {},
   "source": [
    "## Vehicle Parameters\n",
    "- $Total Cars$: (variant input) the total number of cars present in the parking structure\n",
    "- $Ev Count$: (variant input) the total number of EVs connected in the parking\n",
    "- $Ev Active$: (variant input) the number of connected EVs actively charging\n",
    "- $Ev Fraction$: (variant input) the fraction of vehicles that are electric"
   ]
  },
  {
   "cell_type": "markdown",
   "metadata": {},
   "source": [
    "## Power Parameters\n",
    "- $ElevatorUsage$: (static input) the fractional increase in elevator usage per level\n",
    "- $ElevatorUnitPower$: (variant input) the power required to move an elevator\n",
    "- $ElevatorUnitEnergy$: (variant input) the energy required to move an elevator per level\n",
    "- $ChargerUnitPower$: (variant input) the power draw of one charger when active\n",
    "- $LightingPower$: (output) the total lighting power draw\n",
    "- $ElevatorPower$: (output) the total elevator power draw\n",
    "- $FanPower$: (output) the total ventilation fan power draw\n",
    "- $ChargerPower$: (output) the total vehicle charger power draw"
   ]
  },
  {
   "cell_type": "markdown",
   "metadata": {},
   "source": [
    "## Cost Parameters\n",
    "- $Parking Fee$: (variant input) the hourly parking fee\n",
    "- $Charger Price$: (variant input) the energy charging fee\n",
    "- $Fee Waiver$: (variant input) the hourly parking fee waiver for charger occupancy\n",
    "- $Idle Penalty$: (variant input) the hourly parking fee for idle charger occupancy\n",
    "- $Total Revenue$: (output) the total revenue"
   ]
  },
  {
   "cell_type": "markdown",
   "metadata": {},
   "source": [
    "## Usage Parameters\n",
    "- $Elevator Usage$: the probability of using an elevator per level\n",
    "- $Parking log$: (output) the log of parking transactions\n",
    "- $Arrivals$: (variant input) the vehicle arrival rate\n",
    "- $Departures$: (variant input) the vehicle departure rate"
   ]
  },
  {
   "cell_type": "markdown",
   "metadata": {},
   "source": [
    "## Rules of Association\n",
    "The load composition is obtained from the end-uses as follows:\n",
    "\n",
    "| Component  | Lighting | Fans | Elevators | Chargers |\n",
    "| :--------- | :------: | :--: | :-------: | :------: |\n",
    "| Motor A    |    -     |  -   |     -     |    -     |\n",
    "| Motor B    |    -     | 1.0  |     -     |    -     |\n",
    "| Motor C    |    -     |  -   |    1.0    |    -     |\n",
    "| Motor D    |    -     |  -   |     -     |    -     |\n",
    "| Static I   |   1.0    |  -   |     -     |    -     |\n",
    "| Static R   |    -     |  -   |     -     |    -     |\n",
    "| Electronic |    -     |  -   |     -     |   1.0    |"
   ]
  },
  {
   "cell_type": "markdown",
   "metadata": {},
   "source": [
    "# Load Modeling\n",
    "The load model is updated when one of the following events occurs."
   ]
  },
  {
   "cell_type": "markdown",
   "metadata": {},
   "source": [
    "## 1. Vehicle Arrival\n",
    "Vehicle arrival is a random event based on the vehicle arrival rate $Arrivals$. \n",
    "\n",
    "When elevators are present, a vehicle arrival may result in an elevator load.  The model assumes that cars fill the parking from the ground floor. Thus when the parking lot is empty, there is little or no elevator use, and when the parking lot is full, there is significant elevator use. For each arrival the following logic is observed:\n",
    "\n",
    "- The level on which the car parks is a function of the fractional usage of the parking structure, i.e., $Level = \\mathrm{E}(TotalCars / TotalSize)$.\n",
    "\n",
    "- The probability of a non-zero elevator load is $\\rho = Level \\times ElevatorUsage$ or $1.0$, whichever is less.\n",
    "\n",
    "- If $\\rho > Uniform(0,1)$, then the elevator energy is $Level \\times ElevatorUnitEnergy$\n",
    "\n",
    "- The elevator run time is $t = ElevatorEnergy/ElevatorPower$.\n",
    "\n",
    "- TODO: handle more than one elevator by saturating $ElevatorPower$ based on $TotalElevators$.\n",
    "\n",
    "- If $EvFraction < Uniform(0,1)$ and $EvActive < TotalChargers$, then $EvActive$ is incremented and $ChargerPower = EvActive \\times ChargerUnitPower$."
   ]
  },
  {
   "cell_type": "markdown",
   "metadata": {},
   "source": [
    "## 2. Vehicle Departure\n",
    "Vehicle departure is a random event based on the vehicle departure rate $Departures$.\n",
    "\n",
    "When elevators are present, a vehicle departure may result in an elevator load. The model assumes that cars depart the parking uniformly from all floors.\n",
    "\n",
    "- The probability that a car will depart from a level is inversely proportional to the number of a levels, e.g., $Level = \\mathrm{E}(Uniform(0,ParkingSize))$.\n",
    "\n",
    "- The probability of a non-zero elevator load is $\\rho = Level \\times ElevatorUsage$ or $1.0$, whichever is less.\n",
    "\n",
    "- If $\\rho > Uniform(0,1)$, then the elevator energy is $Level \\times ElevatorUnitEnergy$\n",
    "\n",
    "- The elevator run time is $t = ElevatorEnergy/ElevatorPower$.\n",
    "\n",
    "- TODO: handle more than one elevator by saturating $ElevatorPower$ based on $TotalElevators$.\n",
    "\n",
    "- If $EvFraction < Uniform(0,1)$ and $EvActive > 0$, then $EvActive$ is decrements and $ChargerPower = EvActive \\times ChargerUnitPower$."
   ]
  },
  {
   "cell_type": "markdown",
   "metadata": {},
   "source": [
    "## 3. Vehicle Charged\n",
    "\n",
    "TODO: address vehicle full-charge events"
   ]
  }
 ],
 "metadata": {
  "kernelspec": {
   "display_name": "Python 3",
   "language": "python",
   "name": "python3"
  },
  "language_info": {
   "codemirror_mode": {
    "name": "ipython",
    "version": 3
   },
   "file_extension": ".py",
   "mimetype": "text/x-python",
   "name": "python",
   "nbconvert_exporter": "python",
   "pygments_lexer": "ipython3",
   "version": "3.7.3"
  }
 },
 "nbformat": 4,
 "nbformat_minor": 2
}
