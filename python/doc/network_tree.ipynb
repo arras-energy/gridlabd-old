{
 "cells": [
  {
   "cell_type": "markdown",
   "metadata": {},
   "source": [
    "# Distribution network graph simplification"
   ]
  },
  {
   "cell_type": "markdown",
   "metadata": {},
   "source": [
    "Copyright: Alyona Ivanova SLAC National Laboratory Feb 2019"
   ]
  },
  {
   "cell_type": "markdown",
   "metadata": {},
   "source": [
    "This code uses gridlabd model .json dump to extract the information for a distribution network graph and completes two tasks: <br>\n",
    "1. Series simplification of components <br>\n",
    "2. Enumeration of nodes based on their level on the network tree\n",
    "\n",
    "The instructions for extracting a json file from a gridlab-d model see link __https://github.com/dchassin/gridlabd/wiki/json__"
   ]
  },
  {
   "cell_type": "markdown",
   "metadata": {},
   "source": [
    "First, the relevant python libraries are imported :"
   ]
  },
  {
   "cell_type": "code",
   "execution_count": 1,
   "metadata": {},
   "outputs": [],
   "source": [
    "import networkx as nx \n",
    "import matplotlib.pyplot as plt\n",
    "import json\n",
    "import operator\n",
    "%matplotlib inline"
   ]
  },
  {
   "cell_type": "markdown",
   "metadata": {},
   "source": [
    "Defining the class for loading the json file as :"
   ]
  },
  {
   "cell_type": "code",
   "execution_count": 2,
   "metadata": {},
   "outputs": [],
   "source": [
    "class GridlabdModel :\n",
    "    def __init__(self,jsonfile):\n",
    "        fh = open(jsonfile)\n",
    "        self.model = json.load(fh)\n",
    "        assert(self.model[\"application\"]=='gridlabd')\n",
    "        assert(self.model[\"version\"]>='4.0.0')"
   ]
  },
  {
   "cell_type": "markdown",
   "metadata": {},
   "source": [
    "This function processes the json file and finds all the objects in the model and categorizes them accordingly. Returns all the nodes with two branches and the edges that correlate to those nodes."
   ]
  },
  {
   "cell_type": "code",
   "execution_count": 3,
   "metadata": {},
   "outputs": [],
   "source": [
    "def object_def() : \n",
    "    model = GridlabdModel('gridlabd.json')\n",
    "    substation_node = []\n",
    "    nodes = {} # does not include the substation node\n",
    "    links_from = []\n",
    "    links_to = []\n",
    "    links = []\n",
    "    edges = {}\n",
    "    switch_pos = []\n",
    "    class_set = set()\n",
    "    count_links = {}\n",
    "    two_branch_nodes = {}\n",
    "    two_branch_nodes_attr = {}\n",
    "    two_branch_nodes_list = []\n",
    "    two_branch_links_list = []\n",
    "    two_edge_list_temp = []\n",
    "    two_edge_list = []\n",
    "    two_edge_node = {}\n",
    "    simple_links = []\n",
    "    \n",
    "    for obj,data in model.model[\"objects\"].items() :\n",
    "        class_set.add(data[\"class\"]) #set of all class types in the model\n",
    "        # defining the node and the swing bus \n",
    "        if data[\"class\"]==\"node\" or data[\"class\"]==\"meter\" :\n",
    "            if data[\"bustype\"] == \"SWING\" :\n",
    "                substation_node = obj\n",
    "                nodes[obj]=data\n",
    "            nodes[obj]=data\n",
    "        if data[\"class\"]==\"triplex_load\":\n",
    "            nodes[obj]=data\n",
    "        if data[\"class\"] == \"capacitor\" :\n",
    "            nodes[obj]=data\n",
    "            links.append((data[\"parent\"],obj))\n",
    "         #defining the links \n",
    "        if data[\"class\"] == \"overhead_line\" or  data[\"class\"] == \"underground_line\"  or data[\"class\"] == \"transformer\" or data[\"class\"] == \"switch\":\n",
    "            # assuming that every object is a node \n",
    "            if data[\"class\"] == \"switch\" :\n",
    "                if data[\"status\"] == \"OPEN\" : \n",
    "                    print(\"switch open\")\n",
    "                else :\n",
    "                    nodes[obj]=data\n",
    "                    links.append((data[\"from\"],obj)) # to node\n",
    "                    links.append((obj,data[\"to\"]))# from node\n",
    "            else :\n",
    "                nodes[obj]=data\n",
    "                links.append((data[\"from\"],obj)) # to node\n",
    "                links.append((obj,data[\"to\"]))# from node\n",
    "\n",
    "        # check for lateral or OPEN switches\n",
    "        if data[\"class\"]==\"switch\":\n",
    "            switch_pos.append(data[\"status\"])\n",
    "        # summary of line configurations \n",
    "        \n",
    "    print(nodes)\n",
    "    print(links)\n",
    "    links_from, links_to = zip(*links)\n",
    "    \n",
    "    # counting the number of branches that each node has\n",
    "    # i is each node \n",
    "    for i in nodes : \n",
    "        # Getting each pair of links that has the node in it and takes the length of the list \n",
    "        # This then determines the number of branch at each node\n",
    "        # count_links - dictionary that contains all the nodes with their corresponding branch count\n",
    "        count_links[i] =  len([item for item in links if i in item])\n",
    "\n",
    "    # Compiling a new dictionary of nodes that have two branches and gathering their from and to coordinates\n",
    "    for link,value in count_links.items() : \n",
    "        if value==2 : \n",
    "            two_branch_nodes_list.append(link)\n",
    "            link_from = [link_from for link_from in links if link == link_from[1]]\n",
    "            element_from = link_from[0][0]\n",
    "            link_to = [link_to for link_to in links if link == link_to[0]]\n",
    "            element_to = link_to[0][1]\n",
    "            two_branch_nodes[link] = [element_from, element_to]\n",
    "            two_branch_nodes_attr[link] = nodes[link]\n",
    "            two_branch_links_list.append([element_from,element_to])\n",
    "            two_edge_list_temp.append((element_from,link))\n",
    "            two_edge_list_temp.append((link,element_to))\n",
    "    two_edge_list_temp = set(two_edge_list_temp)\n",
    "\n",
    "    for link in two_edge_list_temp : \n",
    "        if link[0] in two_branch_nodes_list : \n",
    "            if link[1] in two_branch_nodes_list :\n",
    "                two_edge_list.append(link)\n",
    "    return two_branch_nodes_attr, two_edge_list, nodes, links, substation_node\n"
   ]
  },
  {
   "cell_type": "markdown",
   "metadata": {},
   "source": [
    "The following function uses all the nodes with the corresponding links as an input and returns all the graphs that are connected seperately. "
   ]
  },
  {
   "cell_type": "code",
   "execution_count": 4,
   "metadata": {},
   "outputs": [],
   "source": [
    "def series_graphs(two_branch_nodes_attr, two_edge_list) :\n",
    "    G = nx.Graph()\n",
    "\n",
    "    for node,attr in two_branch_nodes_attr.items() : \n",
    "        G.add_node(node, data = attr)\n",
    "    G.add_edges_from(two_edge_list)\n",
    "    graphs = list(nx.connected_component_subgraphs(G))\n",
    "    # number of subgraphs to be compressed \n",
    "    len_of_subgraphs = len(graphs)-1\n",
    "    return graphs"
   ]
  },
  {
   "cell_type": "markdown",
   "metadata": {},
   "source": [
    "Defines the position for plotting. The plotting is done according to the level of the object in the distribution system."
   ]
  },
  {
   "cell_type": "code",
   "execution_count": 5,
   "metadata": {},
   "outputs": [],
   "source": [
    "def hierarchy_pos(G, root, levels=None, width=1., height=1.):\n",
    "    '''If there is a cycle that is reachable from root, then this will see infinite recursion.\n",
    "       G: the graph\n",
    "       root: the root node\n",
    "       levels: a dictionary\n",
    "               key: level number (starting from 0)\n",
    "               value: number of nodes in this level\n",
    "       width: horizontal space allocated for drawing\n",
    "       height: vertical space allocated for drawing'''\n",
    "    TOTAL = \"total\"\n",
    "    CURRENT = \"current\"\n",
    "    def make_levels(levels, node=root, currentLevel=0, parent=None):\n",
    "        \"\"\"Compute the number of nodes for each level\n",
    "        \"\"\"\n",
    "        if not currentLevel in levels:\n",
    "            levels[currentLevel] = {TOTAL : 0, CURRENT : 0}\n",
    "        levels[currentLevel][TOTAL] += 1\n",
    "        neighbors = G.neighbors(node)\n",
    "        for neighbor in neighbors:\n",
    "            if not neighbor == parent:\n",
    "                levels =  make_levels(levels, neighbor, currentLevel + 1, node)\n",
    "        return levels\n",
    "\n",
    "    def make_pos(pos, node=root, currentLevel=0, parent=None, vert_loc=0):\n",
    "        dx = 1/levels[currentLevel][TOTAL]\n",
    "        left = dx/2\n",
    "        pos[node] = ((left + dx*levels[currentLevel][CURRENT])*width, vert_loc)\n",
    "        levels[currentLevel][CURRENT] += 1\n",
    "        neighbors = G.neighbors(node)\n",
    "        for neighbor in neighbors:\n",
    "            if not neighbor == parent:\n",
    "                pos = make_pos(pos, neighbor, currentLevel + 1, node, vert_loc-vert_gap)\n",
    "        return pos\n",
    "    if levels is None:\n",
    "        levels = make_levels({})\n",
    "    else:\n",
    "        levels = {l:{TOTAL: levels[l], CURRENT:0} for l in levels}\n",
    "    vert_gap = height / (max([l for l in levels])+1)\n",
    "    return make_pos({})"
   ]
  },
  {
   "cell_type": "markdown",
   "metadata": {},
   "source": [
    "This function sounds the levels for each node and returns a list of nodes and the corresponding levels."
   ]
  },
  {
   "cell_type": "code",
   "execution_count": 6,
   "metadata": {},
   "outputs": [],
   "source": [
    "# Editing this to record the number of levels in the attributes \n",
    "def count_levels(G_p, node_levels, node, currentLevel=0, parent=None):\n",
    "        \"\"\"Compute the number of nodes for each level\"\"\"\n",
    "        # if new level...\n",
    "        if not currentLevel in node_levels:\n",
    "            node_levels[node]=currentLevel\n",
    "        # Find the neighbors of current node\n",
    "        neighbors = G_p.neighbors(node) # returns a list of nodes connected to 'node'\n",
    "        for neighbor in neighbors:\n",
    "            if not neighbor == parent:\n",
    "                node_levels = count_levels(G_p, node_levels, neighbor, currentLevel + 1, node)\n",
    "        return node_levels\n",
    "   "
   ]
  },
  {
   "cell_type": "markdown",
   "metadata": {},
   "source": [
    "Function for plotting the original expanded graph."
   ]
  },
  {
   "cell_type": "code",
   "execution_count": 7,
   "metadata": {},
   "outputs": [],
   "source": [
    "# NOT SURE THIS IS NECESSARY\n",
    "def original_graph(nodes, links) :\n",
    "    G_org = nx.Graph()\n",
    "    G_org.add_edges_from(links)\n",
    "    for node,attr in nodes.items() : \n",
    "        G_org.add_node(node, data = attr)\n",
    "   # G_org=nx.convert_node_labels_to_integers(G_org, ordering = \"default\")\n",
    "    return G_org"
   ]
  },
  {
   "cell_type": "markdown",
   "metadata": {},
   "source": [
    "Function that performs the simplification of the system. "
   ]
  },
  {
   "cell_type": "code",
   "execution_count": 8,
   "metadata": {},
   "outputs": [],
   "source": [
    "def graph_simplification(nodes, links, graphs, root_node) : \n",
    "    simple_nodes = nodes.copy() # dictionary\n",
    "    simple_links = links.copy() # list\n",
    "\n",
    "\n",
    "    # Adding the edges into a simplified graph\n",
    "    for graph in graphs : \n",
    "        temp_list = list(graph.edges())\n",
    "    # deleting the links that are associated with compression\n",
    "        for i in range(len(temp_list)) : \n",
    "            if temp_list[i] in simple_links : \n",
    "                simple_links.remove(temp_list[i])\n",
    "            if (temp_list[i][1], temp_list[i][0]) in simple_links: \n",
    "                simple_links.remove((temp_list[i][1], temp_list[i][0]))\n",
    "                links.remove((temp_list[i][1], temp_list[i][0]))\n",
    "                links.append((temp_list[i][0], temp_list[i][1]))\n",
    "    # Adding the nodes into a simplified graph\n",
    "    for graph in graphs : \n",
    "        for i in range(len(list(graph.nodes))) :  \n",
    "            del simple_nodes[list(graph.nodes)[i]]\n",
    "        # Assigning the first node name to the aggregate sum of collapsed nodes \n",
    "            for link in simple_links :\n",
    "                if list(graph.nodes)[i] in link[1] : \n",
    "                    aggr_node = list(graph.nodes)[i]\n",
    "        simple_nodes[aggr_node] = graph.nodes(data=True)\n",
    "\n",
    "    simple_links_final = simple_links.copy()\n",
    "    for graph in graphs :\n",
    "        temp_list = list(graph.edges())\n",
    "        for i in range(len(list(graph.nodes))) :  \n",
    "            for link in simple_links :\n",
    "                    if list(graph.nodes)[i] in link[1] : \n",
    "                        aggr_node = list(graph.nodes)[i]\n",
    "        for ind,link in enumerate(simple_links) :\n",
    "            for temp in temp_list :\n",
    "                if temp[1] in link[0] :\n",
    "                    simple_links_final[ind]=(aggr_node,link[1])\n",
    "                if temp[0] in link[0] : \n",
    "                    simple_links_final[ind]=(aggr_node,link[1])\n",
    "\n",
    "    \n",
    "    \n",
    "\n",
    "    G_p, G_p_sort_new = relabel_graph(simple_nodes, simple_links_final, root_node)\n",
    "    \n",
    "    print(\"Any cycles? %s \" % nx.cycle_basis(G_p))\n",
    "    print(\"Directed? %s \" % nx.is_directed(G_p))\n",
    "    print(\"Is it a tree? %s \" % nx.is_tree(G_p))\n",
    "    \n",
    "    return G_p, G_p_sort_new\n"
   ]
  },
  {
   "cell_type": "markdown",
   "metadata": {},
   "source": [
    "Function responsible for reordering the graph and then renaming the graph names to integer value. Note, if just renaming the nodes that are already in the desired order - this funcition is not required and only the nx.convert_node_labels_to_integers(G) is required (as seen in __main__) "
   ]
  },
  {
   "cell_type": "code",
   "execution_count": 9,
   "metadata": {},
   "outputs": [],
   "source": [
    "def relabel_graph(simple_nodes, simple_links_final, root_node) : \n",
    "    G_p = nx.OrderedGraph()\n",
    "    for node,attr in simple_nodes.items() : \n",
    "        G_p.add_node(node, data = attr)\n",
    "    G_p.add_edges_from(simple_links_final)\n",
    "    G_p_sort = nx.OrderedGraph() #graph with sorted nodes \n",
    "    G_p_sort_new = nx.OrderedGraph()\n",
    "    nodes_with_levels = {}\n",
    "    final_levels = count_levels(G_p, {},root_node)\n",
    "    final_levels = dict(sorted(final_levels.items(), key=operator.itemgetter(1)))\n",
    "    # Populate the nodes dictionary with level numbers \n",
    "    \n",
    "    for n,n_val in final_levels.items() : \n",
    "        nodes_with_levels[n] = {\"level\" : final_levels[n],\"node_attr\": simple_nodes[n]}\n",
    "\n",
    "    for node, attr in nodes_with_levels.items() :\n",
    "        G_p_sort.add_node(node, data = attr)\n",
    "\n",
    "    # Note, the edges have to be added after the nodes to preserve the order \n",
    "    G_p_sort.add_edges_from(simple_links_final) \n",
    "    G_p_sort_new=nx.convert_node_labels_to_integers(G_p_sort)\n",
    "    \n",
    "    return G_p, G_p_sort_new"
   ]
  },
  {
   "cell_type": "markdown",
   "metadata": {},
   "source": [
    "This function uses the original graph and cuts it. Returns the lower portion of the graph including the input node specified."
   ]
  },
  {
   "cell_type": "code",
   "execution_count": 10,
   "metadata": {},
   "outputs": [],
   "source": [
    "def graph_cut(G, node) : \n",
    "    # input: full graph that's enumerated and the node of interest \n",
    "    # Find the two neighbors of node \n",
    "    neighbor_nodes = list(G.neighbors(node))\n",
    "    target_node_level = G.node[node]['data']['level']\n",
    "    for i in range(len(neighbor_nodes)) : \n",
    "        level = G.node[neighbor_nodes[i]]['data']['level']\n",
    "        if level < target_node_level : \n",
    "            G.remove_edge(node, neighbor_nodes[i])\n",
    "\n",
    "    # list of two graphs\n",
    "    graphs = list(nx.connected_component_subgraphs(G))\n",
    "    # Check the levels of the nodes in each graph \n",
    "    for graph in graphs : \n",
    "        #  Find the subgraph that contains the node specified \n",
    "        if node in graph : \n",
    "            G = graph\n",
    "    return G"
   ]
  },
  {
   "cell_type": "markdown",
   "metadata": {},
   "source": [
    "Main function for execution of the program. Includes examples as to how to specify nodes and cuts. "
   ]
  },
  {
   "cell_type": "code",
   "execution_count": 11,
   "metadata": {},
   "outputs": [
    {
     "name": "stdout",
     "output_type": "stream",
     "text": [
      "switch open\n",
      "switch open\n",
      "{'line_node101_node102': {'id': '5', 'class': 'overhead_line', 'rank': '1', 'clock': '2018-01-30 00:00:00 EST', 'schedule_skew': '0', 'rng_state': '470211272', 'heartbeat': '0', 'guid': '0x2b7ad57a4a2827ad751659381bec8edd', 'flags': '0x100', 'configuration': 'lc_default', 'length': '+175 ft', 'status': 'CLOSED', 'from': 'node_101', 'to': 'node_102', 'power_in': '+103046+9.95923d VA', 'power_out': '+103038+9.9553d VA', 'power_out_real': '+101487 W', 'power_losses': '+10.3896+52.7736d VA', 'power_in_A': '+34970.2+12.5486d VA', 'power_in_B': '+32188.4+4.64119d VA', 'power_in_C': '+36088.6+12.188d VA', 'power_out_A': '+34966.9+12.5432d VA', 'power_out_B': '+32187.3+4.63835d VA', 'power_out_C': '+36085.3+12.1848d VA', 'power_losses_A': '+4.63822+57.337d VA', 'power_losses_B': '+1.96671+58.6798d VA', 'power_losses_C': '+3.85245+44.244d VA', 'current_out_A': '+10.7142-9.8942j A', 'current_out_B': '-12.1205-5.72671j A', 'current_out_C': '+3.20292+14.6904j A', 'current_in_A': '+10.7142-9.8942j A', 'current_in_B': '-12.1205-5.72671j A', 'current_in_C': '+3.20292+14.6904j A', 'fault_current_in_A': '+0+0j A', 'fault_current_in_B': '+0+0j A', 'fault_current_in_C': '+0+0j A', 'fault_current_out_A': '+0+0j A', 'fault_current_out_B': '+0+0j A', 'fault_current_out_C': '+0+0j A', 'fault_voltage_A': '+0+0i A', 'fault_voltage_B': '+0+0i A', 'fault_voltage_C': '+0+0i A', 'flow_direction': 'CF|BF|AF', 'mean_repair_time': '+0 s', 'continuous_rating': '+1000 A', 'emergency_rating': '+2000 A', 'inrush_convergence_value': '+0.0001 V', 'phases': 'ABCN', 'nominal_voltage': '+2401.78 V'}, 'line_node102_node103': {'id': '6', 'class': 'overhead_line', 'rank': '1', 'clock': '2018-01-30 00:00:00 EST', 'schedule_skew': '0', 'rng_state': '101027544', 'heartbeat': '0', 'guid': '0x20d435cb1dcc65c95daea2c62db95b74', 'flags': '0x100', 'configuration': 'lc_default', 'length': '+175 ft', 'status': 'CLOSED', 'from': 'node_102', 'to': 'node_103', 'power_in': '+44991.8+14.8703d VA', 'power_out': '+44989.9+14.8679d VA', 'power_out_real': '+43483.6 W', 'power_losses': '+3.06541+49.6652d VA', 'power_in_A': '+15814.5+20.3749d VA', 'power_in_B': '+8245.83+3.5588d VA', 'power_in_C': '+21164.8+15.142d VA', 'power_out_A': '+15814.5+20.3716d VA', 'power_out_B': '+8245.76+3.56109d VA', 'power_out_C': '+21162.8+15.1384d VA', 'power_losses_A': '+0.916007+71.3457d VA', 'power_losses_B': '+0.33937-73.3835d VA', 'power_losses_C': '+2.39989+48.3773d VA', 'current_out_A': '+4.19074-5.09341j A', 'current_out_B': '-3.07688-1.52533j A', 'current_out_C': '+2.3206+8.50788j A', 'current_in_A': '+4.19074-5.09341j A', 'current_in_B': '-3.07688-1.52533j A', 'current_in_C': '+2.3206+8.50788j A', 'fault_current_in_A': '+0+0j A', 'fault_current_in_B': '+0+0j A', 'fault_current_in_C': '+0+0j A', 'fault_current_out_A': '+0+0j A', 'fault_current_out_B': '+0+0j A', 'fault_current_out_C': '+0+0j A', 'fault_voltage_A': '+0+0i A', 'fault_voltage_B': '+0+0i A', 'fault_voltage_C': '+0+0i A', 'flow_direction': 'CF|BF|AF', 'mean_repair_time': '+0 s', 'continuous_rating': '+1000 A', 'emergency_rating': '+2000 A', 'inrush_convergence_value': '+0.0001 V', 'phases': 'ABCN', 'nominal_voltage': '+2401.78 V'}, 'line_node201_node202': {'id': '7', 'class': 'overhead_line', 'rank': '1', 'clock': '2018-01-30 00:00:00 EST', 'schedule_skew': '0', 'rng_state': '1457850878', 'heartbeat': '0', 'guid': '0x6f16edf3dfb259c768ebecbf8111d692', 'flags': '0x100', 'configuration': 'lc_default', 'length': '+175 ft', 'status': 'CLOSED', 'from': 'node_201', 'to': 'node_202', 'power_in': '+95673.1+14.9729d VA', 'power_out': '+95663.4+14.9667d VA', 'power_out_real': '+92418.1 W', 'power_losses': '+16.9684+47.1502d VA', 'power_in_A': '+25356.4+15.0645d VA', 'power_in_B': '+20182.9+4.4888d VA', 'power_in_C': '+50601.3+19.089d VA', 'power_out_A': '+25358.3+15.0599d VA', 'power_out_B': '+20181.2+4.49535d VA', 'power_out_C': '+50590.1+19.0776d VA', 'power_losses_A': '+2.80725+31.4071d VA', 'power_losses_B': '+2.89186-48.4578d VA', 'power_losses_C': '+14.9974+61.1955d VA', 'current_out_A': '+7.44627-7.50825j A', 'current_out_B': '-7.59029-3.61099j A', 'current_out_C': '+6.93333+19.9093j A', 'current_in_A': '+7.44627-7.50825j A', 'current_in_B': '-7.59029-3.61099j A', 'current_in_C': '+6.93333+19.9093j A', 'fault_current_in_A': '+0+0j A', 'fault_current_in_B': '+0+0j A', 'fault_current_in_C': '+0+0j A', 'fault_current_out_A': '+0+0j A', 'fault_current_out_B': '+0+0j A', 'fault_current_out_C': '+0+0j A', 'fault_voltage_A': '+0+0i A', 'fault_voltage_B': '+0+0i A', 'fault_voltage_C': '+0+0i A', 'flow_direction': 'CF|BF|AR', 'mean_repair_time': '+0 s', 'continuous_rating': '+1000 A', 'emergency_rating': '+2000 A', 'inrush_convergence_value': '+0.0001 V', 'phases': 'ABCN', 'nominal_voltage': '+2401.78 V'}, 'line_node202_node203': {'id': '8', 'class': 'overhead_line', 'rank': '1', 'clock': '2018-01-30 00:00:00 EST', 'schedule_skew': '0', 'rng_state': '1458777923', 'heartbeat': '0', 'guid': '0x50a19a0cab9e39c055218844e0d4e0d4', 'flags': '0x100', 'configuration': 'lc_default', 'length': '+175 ft', 'status': 'CLOSED', 'from': 'node_202', 'to': 'node_203', 'power_in': '+52716.4+5.15284d VA', 'power_out': '+52713.8+5.14788d VA', 'power_out_real': '+52501.2 W', 'power_losses': '+7.15266+41.9328d VA', 'power_in_A': '+25358.3+15.0599d VA', 'power_in_B': '+20181.2+4.49535d VA', 'power_in_C': '+8612-23.5141d VA', 'power_out_A': '+25354+15.0558d VA', 'power_out_B': '+20182+4.48827d VA', 'power_out_C': '+8612.3-23.5095d VA', 'power_losses_A': '+4.72283+37.4023d VA', 'power_losses_B': '+2.62783+67.1395d VA', 'power_losses_C': '+0.7491-42.9369d VA', 'current_out_A': '+7.44627-7.50825j A', 'current_out_B': '-7.59029-3.61099j A', 'current_out_C': '-1.42478+3.29386j A', 'current_in_A': '+7.44627-7.50825j A', 'current_in_B': '-7.59029-3.61099j A', 'current_in_C': '-1.42478+3.29386j A', 'fault_current_in_A': '+0+0j A', 'fault_current_in_B': '+0+0j A', 'fault_current_in_C': '+0+0j A', 'fault_current_out_A': '+0+0j A', 'fault_current_out_B': '+0+0j A', 'fault_current_out_C': '+0+0j A', 'fault_voltage_A': '+0+0i A', 'fault_voltage_B': '+0+0i A', 'fault_voltage_C': '+0+0i A', 'flow_direction': 'CR|BR|AF', 'mean_repair_time': '+0 s', 'continuous_rating': '+1000 A', 'emergency_rating': '+2000 A', 'inrush_convergence_value': '+0.0001 V', 'phases': 'ABCN', 'nominal_voltage': '+2401.78 V'}, 'line_node301_node302': {'id': '9', 'class': 'overhead_line', 'rank': '1', 'clock': '2018-01-30 00:00:00 EST', 'schedule_skew': '0', 'rng_state': '2007237709', 'heartbeat': '0', 'guid': '0x7675d30764e58e33388e90919ef7fc95', 'flags': '0x100', 'configuration': 'lc_default', 'length': '+175 ft', 'status': 'CLOSED', 'from': 'node_301', 'to': 'node_302', 'power_in': '+89522.9+26.6212d VA', 'power_out': '+89477.1+26.5891d VA', 'power_out_real': '+80013.9 W', 'power_losses': '+67.8721+74.1482d VA', 'power_in_A': '+89522.9+26.6212d VA', 'power_in_B': '+1.46284e-07-134.97d VA', 'power_in_C': '+1.27569e-07+83.0589d VA', 'power_out_A': '+89477.1+26.5891d VA', 'power_out_B': '+1.46363e-07-134.971d VA', 'power_out_C': '+1.2754e-07+83.0842d VA', 'power_losses_A': '+67.8721+74.1482d VA', 'power_losses_B': '+7.92426e-11+43.1037d VA', 'power_losses_C': '+6.36254e-11+20.723d VA', 'current_out_A': '+20.4461-31.2379j A', 'current_out_B': '+5.88187e-11-1.587e-11j A', 'current_out_C': '+5.2772e-11+6.32028e-12j A', 'current_in_A': '+20.4461-31.2379j A', 'current_in_B': '+5.88187e-11-1.587e-11j A', 'current_in_C': '+5.2772e-11+6.32028e-12j A', 'fault_current_in_A': '+0+0j A', 'fault_current_in_B': '+0+0j A', 'fault_current_in_C': '+0+0j A', 'fault_current_out_A': '+0+0j A', 'fault_current_out_B': '+0+0j A', 'fault_current_out_C': '+0+0j A', 'fault_voltage_A': '+0+0i A', 'fault_voltage_B': '+0+0i A', 'fault_voltage_C': '+0+0i A', 'flow_direction': 'CN|BN|AF', 'mean_repair_time': '+0 s', 'continuous_rating': '+1000 A', 'emergency_rating': '+2000 A', 'inrush_convergence_value': '+0.0001 V', 'phases': 'ABCN', 'nominal_voltage': '+2401.78 V'}, 'line_node302_node303': {'id': '10', 'class': 'overhead_line', 'rank': '1', 'clock': '2018-01-30 00:00:00 EST', 'schedule_skew': '0', 'rng_state': '823564440', 'heartbeat': '0', 'guid': '0x194672d7b0453433645ab5d436fb4b9', 'flags': '0x100', 'configuration': 'lc_default', 'length': '+175 ft', 'status': 'CLOSED', 'from': 'node_302', 'to': 'node_303', 'power_in': '+44744.3+26.5971d VA', 'power_out': '+44732.8+26.5811d VA', 'power_out_real': '+40004.6 W', 'power_losses': '+16.9724+74.1482d VA', 'power_in_A': '+44744.3+26.5971d VA', 'power_in_B': '+3.84238e-08+161.977d VA', 'power_in_C': '+4.68647e-08-99.1819d VA', 'power_out_A': '+44732.8+26.5811d VA', 'power_out_B': '+3.84342e-08+161.976d VA', 'power_out_C': '+4.68592e-08-99.1692d VA', 'power_losses_A': '+16.9724+74.1482d VA', 'power_losses_B': '+1.04029e-11-19.957d VA', 'power_losses_C': '+1.16911e-11-18.4489d VA', 'current_out_A': '+10.2222-15.6224j A', 'current_out_B': '+1.07114e-11+1.18767e-11j A', 'current_out_C': '-1.92841e-11-3.08731e-12j A', 'current_in_A': '+10.2222-15.6224j A', 'current_in_B': '+1.07114e-11+1.18767e-11j A', 'current_in_C': '-1.92841e-11-3.08731e-12j A', 'fault_current_in_A': '+0+0j A', 'fault_current_in_B': '+0+0j A', 'fault_current_in_C': '+0+0j A', 'fault_current_out_A': '+0+0j A', 'fault_current_out_B': '+0+0j A', 'fault_current_out_C': '+0+0j A', 'fault_voltage_A': '+0+0i A', 'fault_voltage_B': '+0+0i A', 'fault_voltage_C': '+0+0i A', 'flow_direction': 'CN|BN|AF', 'mean_repair_time': '+0 s', 'continuous_rating': '+1000 A', 'emergency_rating': '+2000 A', 'inrush_convergence_value': '+0.0001 V', 'phases': 'ABCN', 'nominal_voltage': '+2401.78 V'}, 'line_node101_load101': {'id': '11', 'class': 'overhead_line', 'rank': '1', 'clock': '2018-01-30 00:00:00 EST', 'schedule_skew': '0', 'rng_state': '1115438165', 'heartbeat': '0', 'guid': '0x4f708d9ba51f48c17f6a9908a0ed8d19', 'flags': '0x100', 'configuration': 'lc_default', 'length': '+175 ft', 'status': 'CLOSED', 'from': 'node_101', 'to': 'load_101', 'power_in': '+62818+5.72595d VA', 'power_out': '+62815.3+5.72334d VA', 'power_out_real': '+62502.2 W', 'power_losses': '+3.89852+52.9031d VA', 'power_in_A': '+19423+6.17081d VA', 'power_in_B': '+23944.5+5.00914d VA', 'power_in_C': '+19453.6+6.16405d VA', 'power_out_A': '+19421.6+6.16936d VA', 'power_out_B': '+23943.3+5.00491d VA', 'power_out_C': '+19453.5+6.16227d VA', 'power_losses_A': '+1.43718+26.0976d VA', 'power_losses_B': '+2.11911+61.5662d VA', 'power_losses_C': '+0.616011+85.1767d VA', 'current_out_A': '+6.52442-4.80034j A', 'current_out_B': '-9.04345-4.20202j A', 'current_out_C': '+0.885958+8.05637j A', 'current_in_A': '+6.52442-4.80034j A', 'current_in_B': '-9.04345-4.20202j A', 'current_in_C': '+0.885958+8.05637j A', 'fault_current_in_A': '+0+0j A', 'fault_current_in_B': '+0+0j A', 'fault_current_in_C': '+0+0j A', 'fault_current_out_A': '+0+0j A', 'fault_current_out_B': '+0+0j A', 'fault_current_out_C': '+0+0j A', 'fault_voltage_A': '+0+0i A', 'fault_voltage_B': '+0+0i A', 'fault_voltage_C': '+0+0i A', 'flow_direction': 'CF|BF|AF', 'mean_repair_time': '+0 s', 'continuous_rating': '+1000 A', 'emergency_rating': '+2000 A', 'inrush_convergence_value': '+0.0001 V', 'phases': 'ABCN', 'nominal_voltage': '+2401.78 V'}, 'line_node102_load102': {'id': '12', 'class': 'overhead_line', 'rank': '1', 'clock': '2018-01-30 00:00:00 EST', 'schedule_skew': '0', 'rng_state': '1784484492', 'heartbeat': '0', 'guid': '0x64c9e1468a4f11ed21e01e8272d3fa29', 'flags': '0x100', 'configuration': 'lc_default', 'length': '+175 ft', 'status': 'CLOSED', 'from': 'node_102', 'to': 'load_102', 'power_in': '+58339.1+6.16665d VA', 'power_out': '+58336.7+6.16397d VA', 'power_out_real': '+57999.4 W', 'power_losses': '+3.71034+53.4485d VA', 'power_in_A': '+19419.8+6.1722d VA', 'power_in_B': '+23943.4+5.01012d VA', 'power_in_C': '+14988.5+8.00717d VA', 'power_out_A': '+19418+6.17016d VA', 'power_out_B': '+23942.8+5.00499d VA', 'power_out_C': '+14988.6+8.00748d VA', 'power_losses_A': '+1.92256+27.2233d VA', 'power_losses_B': '+2.23661+78.4782d VA', 'power_losses_C': '+0.104995-59.4719d VA', 'current_out_A': '+6.52342-4.80079j A', 'current_out_B': '-9.04365-4.20138j A', 'current_out_C': '+0.882327+6.18257j A', 'current_in_A': '+6.52342-4.80079j A', 'current_in_B': '-9.04365-4.20138j A', 'current_in_C': '+0.882327+6.18257j A', 'fault_current_in_A': '+0+0j A', 'fault_current_in_B': '+0+0j A', 'fault_current_in_C': '+0+0j A', 'fault_current_out_A': '+0+0j A', 'fault_current_out_B': '+0+0j A', 'fault_current_out_C': '+0+0j A', 'fault_voltage_A': '+0+0i A', 'fault_voltage_B': '+0+0i A', 'fault_voltage_C': '+0+0i A', 'flow_direction': 'CR|BF|AF', 'mean_repair_time': '+0 s', 'continuous_rating': '+1000 A', 'emergency_rating': '+2000 A', 'inrush_convergence_value': '+0.0001 V', 'phases': 'ABCN', 'nominal_voltage': '+2401.78 V'}, 'line_node103_load103': {'id': '13', 'class': 'overhead_line', 'rank': '1', 'clock': '2018-01-30 00:00:00 EST', 'schedule_skew': '0', 'rng_state': '74243042', 'heartbeat': '0', 'guid': '0x69582e43d28416937d4242ee08be3a4a', 'flags': '0x100', 'configuration': 'lc_default', 'length': '+175 ft', 'status': 'CLOSED', 'from': 'node_103', 'to': 'load_103', 'power_in': '+76241.9+4.71707d VA', 'power_out': '+76237.9+4.71356d VA', 'power_out_real': '+75980.1 W', 'power_losses': '+6.26826+52.4657d VA', 'power_in_A': '+19420.3+6.16922d VA', 'power_in_B': '+28427+4.21935d VA', 'power_in_C': '+28402.9+4.22241d VA', 'power_out_A': '+19419.4+6.16986d VA', 'power_out_B': '+28424.1+4.21482d VA', 'power_out_C': '+28402.9+4.21709d VA', 'power_losses_A': '+0.923359-7.34418d VA', 'power_losses_B': '+3.70224+41.5738d VA', 'power_losses_C': '+2.63532+87.0981d VA', 'current_out_A': '+6.52355-4.80095j A', 'current_out_B': '-10.6672-5.13632j A', 'current_out_C': '+0.89582+11.8017j A', 'current_in_A': '+6.52355-4.80095j A', 'current_in_B': '-10.6672-5.13632j A', 'current_in_C': '+0.89582+11.8017j A', 'fault_current_in_A': '+0+0j A', 'fault_current_in_B': '+0+0j A', 'fault_current_in_C': '+0+0j A', 'fault_current_out_A': '+0+0j A', 'fault_current_out_B': '+0+0j A', 'fault_current_out_C': '+0+0j A', 'fault_voltage_A': '+0+0i A', 'fault_voltage_B': '+0+0i A', 'fault_voltage_C': '+0+0i A', 'flow_direction': 'CF|BF|AF', 'mean_repair_time': '+0 s', 'continuous_rating': '+1000 A', 'emergency_rating': '+2000 A', 'inrush_convergence_value': '+0.0001 V', 'phases': 'ABCN', 'nominal_voltage': '+2401.78 V'}, 'line_node201_load201': {'id': '14', 'class': 'overhead_line', 'rank': '1', 'clock': '2018-01-30 00:00:00 EST', 'schedule_skew': '0', 'rng_state': '114807987', 'heartbeat': '0', 'guid': '0x63e61aa86c1422e36f50cb15e3a8d81c', 'flags': '0x100', 'configuration': 'lc_default', 'length': '+175 ft', 'status': 'CLOSED', 'from': 'node_201', 'to': 'load_201', 'power_in': '+22346.1-3.54648d VA', 'power_out': '+22345.2-3.55705d VA', 'power_out_real': '+22302.2 W', 'power_losses': '+4.22065+74.1482d VA', 'power_in_A': '+3.77382e-08+83.8404d VA', 'power_in_B': '+1.15254e-08-111.341d VA', 'power_in_C': '+22346.1-3.54648d VA', 'power_out_A': '+3.77423e-08+83.8437d VA', 'power_out_B': '+1.15241e-08-111.337d VA', 'power_out_C': '+22345.2-3.55705d VA', 'power_losses_A': '+4.69822e-12-68.205d VA', 'power_losses_B': '+1.55691e-12-36.9609d VA', 'power_losses_C': '+4.22065+74.1482d VA', 'current_out_A': '-6.40465e-12-1.43761e-11j A', 'current_out_B': '+3.74456e-12-3.00293e-12j A', 'current_out_C': '-0.557814+9.29333j A', 'current_in_A': '-6.40465e-12-1.43761e-11j A', 'current_in_B': '+3.74456e-12-3.00293e-12j A', 'current_in_C': '-0.557814+9.29333j A', 'fault_current_in_A': '+0+0j A', 'fault_current_in_B': '+0+0j A', 'fault_current_in_C': '+0+0j A', 'fault_current_out_A': '+0+0j A', 'fault_current_out_B': '+0+0j A', 'fault_current_out_C': '+0+0j A', 'fault_voltage_A': '+0+0i A', 'fault_voltage_B': '+0+0i A', 'fault_voltage_C': '+0+0i A', 'flow_direction': 'CF|BN|AN', 'mean_repair_time': '+0 s', 'continuous_rating': '+1000 A', 'emergency_rating': '+2000 A', 'inrush_convergence_value': '+0.0001 V', 'phases': 'ABCN', 'nominal_voltage': '+2401.78 V'}, 'line_node202_load202': {'id': '15', 'class': 'overhead_line', 'rank': '1', 'clock': '2018-01-30 00:00:00 EST', 'schedule_skew': '0', 'rng_state': '1137522503', 'heartbeat': '0', 'guid': '0xd74f2495837bb9f20af4c7c887962e8', 'flags': '0x100', 'configuration': 'lc_default', 'length': '+175 ft', 'status': 'CLOSED', 'from': 'node_202', 'to': 'load_202', 'power_in': '+44632.2+26.581d VA', 'power_out': '+44620.8+26.5651d VA', 'power_out_real': '+39910.1 W', 'power_losses': '+16.8447+74.1482d VA', 'power_in_A': '+1.24021e-08-49.3469d VA', 'power_in_B': '+2.13539e-08-89.6022d VA', 'power_in_C': '+44632.2+26.581d VA', 'power_out_A': '+1.24052e-08-49.3474d VA', 'power_out_B': '+2.13512e-08-89.5886d VA', 'power_out_C': '+44620.8+26.5651d VA', 'power_losses_A': '+3.0843e-12+51.5266d VA', 'power_losses_B': '+5.76318e-12-28.5546d VA', 'power_losses_C': '+16.8447+74.1482d VA', 'current_out_A': '+4.88498e-12+1.6982e-12j A', 'current_out_B': '+4.38494e-12-7.73781e-12j A', 'current_out_C': '+8.3581+16.6154j A', 'current_in_A': '+4.88498e-12+1.6982e-12j A', 'current_in_B': '+4.38494e-12-7.73781e-12j A', 'current_in_C': '+8.3581+16.6154j A', 'fault_current_in_A': '+0+0j A', 'fault_current_in_B': '+0+0j A', 'fault_current_in_C': '+0+0j A', 'fault_current_out_A': '+0+0j A', 'fault_current_out_B': '+0+0j A', 'fault_current_out_C': '+0+0j A', 'fault_voltage_A': '+0+0i A', 'fault_voltage_B': '+0+0i A', 'fault_voltage_C': '+0+0i A', 'flow_direction': 'CF|BN|AN', 'mean_repair_time': '+0 s', 'continuous_rating': '+1000 A', 'emergency_rating': '+2000 A', 'inrush_convergence_value': '+0.0001 V', 'phases': 'ABCN', 'nominal_voltage': '+2401.78 V'}, 'line_node203_load203': {'id': '16', 'class': 'overhead_line', 'rank': '1', 'clock': '2018-01-30 00:00:00 EST', 'schedule_skew': '0', 'rng_state': '1441282327', 'heartbeat': '0', 'guid': '0x3291c5785ddc32da330c22652bfebe1f', 'flags': '0x100', 'configuration': 'lc_default', 'length': '+175 ft', 'status': 'CLOSED', 'from': 'node_203', 'to': 'load_203', 'power_in': '+22363.5+26.5731d VA', 'power_out': '+22360.7+26.5651d VA', 'power_out_real': '+20000 W', 'power_losses': '+4.2363+74.1482d VA', 'power_in_A': '+22363.5+26.5731d VA', 'power_in_B': '+6.53573e-08-160.236d VA', 'power_in_C': '+6.05364e-08-99.0427d VA', 'power_out_A': '+22360.7+26.5651d VA', 'power_out_B': '+6.53661e-08-160.236d VA', 'power_out_C': '+6.05329e-08-99.0364d VA', 'power_losses_A': '+4.2363+74.1482d VA', 'power_losses_B': '+8.84552e-12+17.8771d VA', 'power_losses_C': '+7.54448e-12-18.6676d VA', 'current_out_A': '+5.11346-7.80072j A', 'current_out_B': '+2.67928e-11+4.8046e-12j A', 'current_out_C': '-2.49205e-11-3.91331e-12j A', 'current_in_A': '+5.11346-7.80072j A', 'current_in_B': '+2.67928e-11+4.8046e-12j A', 'current_in_C': '-2.49205e-11-3.91331e-12j A', 'fault_current_in_A': '+0+0j A', 'fault_current_in_B': '+0+0j A', 'fault_current_in_C': '+0+0j A', 'fault_current_out_A': '+0+0j A', 'fault_current_out_B': '+0+0j A', 'fault_current_out_C': '+0+0j A', 'fault_voltage_A': '+0+0i A', 'fault_voltage_B': '+0+0i A', 'fault_voltage_C': '+0+0i A', 'flow_direction': 'CN|BN|AF', 'mean_repair_time': '+0 s', 'continuous_rating': '+1000 A', 'emergency_rating': '+2000 A', 'inrush_convergence_value': '+0.0001 V', 'phases': 'ABCN', 'nominal_voltage': '+2401.78 V'}, 'line_node301_load301': {'id': '17', 'class': 'overhead_line', 'rank': '1', 'clock': '2018-01-30 00:00:00 EST', 'schedule_skew': '0', 'rng_state': '16531729', 'heartbeat': '0', 'guid': '0x4f87189c8c187e0069a4fe5a3c98c530', 'flags': '0x100', 'configuration': 'lc_default', 'length': '+175 ft', 'status': 'CLOSED', 'from': 'node_301', 'to': 'load_301', 'power_in': '+44732.8+26.5811d VA', 'power_out': '+44721.4+26.5651d VA', 'power_out_real': '+40000 W', 'power_losses': '+16.9463+74.1482d VA', 'power_in_A': '+44732.8+26.5811d VA', 'power_in_B': '+7.05138e-08-102.023d VA', 'power_in_C': '+1.04057e-08+57.2858d VA', 'power_out_A': '+44721.4+26.5651d VA', 'power_out_B': '+7.05328e-08-102.023d VA', 'power_out_C': '+1.04045e-08+57.2984d VA', 'power_losses_A': '+16.9463+74.1482d VA', 'power_losses_B': '+1.90865e-11+76.0907d VA', 'power_losses_C': '+2.59327e-12-5.00997d VA', 'current_out_A': '+10.2274-15.6018j A', 'current_out_B': '+1.96323e-11-2.18394e-11j A', 'current_out_C': '+3.65219e-12+2.33591e-12j A', 'current_in_A': '+10.2274-15.6018j A', 'current_in_B': '+1.96323e-11-2.18394e-11j A', 'current_in_C': '+3.65219e-12+2.33591e-12j A', 'fault_current_in_A': '+0+0j A', 'fault_current_in_B': '+0+0j A', 'fault_current_in_C': '+0+0j A', 'fault_current_out_A': '+0+0j A', 'fault_current_out_B': '+0+0j A', 'fault_current_out_C': '+0+0j A', 'fault_voltage_A': '+0+0i A', 'fault_voltage_B': '+0+0i A', 'fault_voltage_C': '+0+0i A', 'flow_direction': 'CN|BN|AF', 'mean_repair_time': '+0 s', 'continuous_rating': '+1000 A', 'emergency_rating': '+2000 A', 'inrush_convergence_value': '+0.0001 V', 'phases': 'ABCN', 'nominal_voltage': '+2401.78 V'}, 'line_node302_load302': {'id': '18', 'class': 'overhead_line', 'rank': '1', 'clock': '2018-01-30 00:00:00 EST', 'schedule_skew': '0', 'rng_state': '823378840', 'heartbeat': '0', 'guid': '0x347686641fccf6cf2d24beb32d394ac2', 'flags': '0x100', 'configuration': 'lc_default', 'length': '+175 ft', 'status': 'CLOSED', 'from': 'node_302', 'to': 'load_302', 'power_in': '+44732.8+26.5811d VA', 'power_out': '+44721.4+26.5651d VA', 'power_out_real': '+40000 W', 'power_losses': '+16.9637+74.1482d VA', 'power_in_A': '+44732.8+26.5811d VA', 'power_in_B': '+1.59624e-08+151.155d VA', 'power_in_C': '+1.5196e-08+108.75d VA', 'power_out_A': '+44721.4+26.5651d VA', 'power_out_B': '+1.59667e-08+151.155d VA', 'power_out_C': '+1.51943e-08+108.763d VA', 'power_losses_A': '+16.9637+74.1482d VA', 'power_losses_B': '+4.32056e-12-30.7626d VA', 'power_losses_C': '+3.78991e-12+46.3971d VA', 'current_out_A': '+10.2239-15.6155j A', 'current_out_B': '+3.44436e-12+5.68168e-12j A', 'current_out_C': '+5.99343e-12-2.04459e-12j A', 'current_in_A': '+10.2239-15.6155j A', 'current_in_B': '+3.44436e-12+5.68168e-12j A', 'current_in_C': '+5.99343e-12-2.04459e-12j A', 'fault_current_in_A': '+0+0j A', 'fault_current_in_B': '+0+0j A', 'fault_current_in_C': '+0+0j A', 'fault_current_out_A': '+0+0j A', 'fault_current_out_B': '+0+0j A', 'fault_current_out_C': '+0+0j A', 'fault_voltage_A': '+0+0i A', 'fault_voltage_B': '+0+0i A', 'fault_voltage_C': '+0+0i A', 'flow_direction': 'CN|BN|AF', 'mean_repair_time': '+0 s', 'continuous_rating': '+1000 A', 'emergency_rating': '+2000 A', 'inrush_convergence_value': '+0.0001 V', 'phases': 'ABCN', 'nominal_voltage': '+2401.78 V'}, 'line_node303_load303': {'id': '19', 'class': 'overhead_line', 'rank': '1', 'clock': '2018-01-30 00:00:00 EST', 'schedule_skew': '0', 'rng_state': '143542612', 'heartbeat': '0', 'guid': '0x764766e441092e6d23eda4a345f8fb9a', 'flags': '0x100', 'configuration': 'lc_default', 'length': '+175 ft', 'status': 'CLOSED', 'from': 'node_303', 'to': 'load_303', 'power_in': '+44732.8+26.5811d VA', 'power_out': '+44721.4+26.5651d VA', 'power_out_real': '+40000 W', 'power_losses': '+16.9724+74.1482d VA', 'power_in_A': '+44732.8+26.5811d VA', 'power_in_B': '+7.84282e-09-72.7415d VA', 'power_in_C': '+5.38337e-08+57.8633d VA', 'power_out_A': '+44721.4+26.5651d VA', 'power_out_B': '+7.84494e-09-72.742d VA', 'power_out_C': '+5.38275e-08+57.876d VA', 'power_losses_A': '+16.9724+74.1482d VA', 'power_losses_B': '+2.12279e-12+74.6747d VA', 'power_losses_C': '+1.34312e-11-4.51855d VA', 'current_out_A': '+10.2222-15.6224j A', 'current_out_B': '+7.15872e-13-3.18412e-12j A', 'current_out_C': '+1.90141e-11+1.19105e-11j A', 'current_in_A': '+10.2222-15.6224j A', 'current_in_B': '+7.15872e-13-3.18412e-12j A', 'current_in_C': '+1.90141e-11+1.19105e-11j A', 'fault_current_in_A': '+0+0j A', 'fault_current_in_B': '+0+0j A', 'fault_current_in_C': '+0+0j A', 'fault_current_out_A': '+0+0j A', 'fault_current_out_B': '+0+0j A', 'fault_current_out_C': '+0+0j A', 'fault_voltage_A': '+0+0i A', 'fault_voltage_B': '+0+0i A', 'fault_voltage_C': '+0+0i A', 'flow_direction': 'CN|BN|AF', 'mean_repair_time': '+0 s', 'continuous_rating': '+1000 A', 'emergency_rating': '+2000 A', 'inrush_convergence_value': '+0.0001 V', 'phases': 'ABCN', 'nominal_voltage': '+2401.78 V'}, 'tf_main': {'id': '21', 'class': 'transformer', 'rank': '1', 'clock': '2018-01-30 00:00:00 EST', 'schedule_skew': '0', 'rng_state': '1474833169', 'heartbeat': '0', 'guid': '0x5be55e7638b1a48779aa77dcc3d57bfb', 'flags': '0x100', 'configuration': 'tc_default', 'climate': '', 'ambient_temperature': '+0 degC', 'top_oil_hot_spot_temperature': '+0 degC', 'winding_hot_spot_temperature': '+0 degC', 'percent_loss_of_life': '+0', 'aging_constant': '+0', 'use_thermal_model': 'FALSE', 'transformer_replacement_count': '+0', 'aging_granularity': '+0 s', 'phase_A_primary_flux_value': '+0 Wb', 'phase_B_primary_flux_value': '+0 Wb', 'phase_C_primary_flux_value': '+0 Wb', 'phase_A_secondary_flux_value': '+0 Wb', 'phase_B_secondary_flux_value': '+0 Wb', 'phase_C_secondary_flux_value': '+0 Wb', 'status': 'CLOSED', 'from': 'node_001', 'to': 'node_002', 'power_in': '+413424+15.2338d VA', 'power_out': '+413013+15.0947d VA', 'power_out_real': '+398763 W', 'power_losses': '+1083.6+82.875d VA', 'power_in_A': '+139741+33.4193d VA', 'power_in_B': '+105850+0.915609d VA', 'power_in_C': '+178953+9.64265d VA', 'power_out_A': '+212201+21.1043d VA', 'power_out_B': '+76315.3+4.71631d VA', 'power_out_C': '+127194+11.2774d VA', 'power_losses_A': 'nan+0j VA', 'power_losses_B': 'nan+0j VA', 'power_losses_C': 'nan+0j VA', 'current_out_A': '+88.4953-51.2773d A', 'current_out_B': '+31.7826-154.785d A', 'current_out_C': '+52.9929+78.6111d A', 'current_in_A': '+9.35335-6.17192j A', 'current_in_B': '-4.36112-7.2824j A', 'current_in_C': '-4.99222+13.4543j A', 'fault_current_in_A': '+0+0j A', 'fault_current_in_B': '+0+0j A', 'fault_current_in_C': '+0+0j A', 'fault_current_out_A': '+0+0j A', 'fault_current_out_B': '+0+0j A', 'fault_current_out_C': '+0+0j A', 'fault_voltage_A': '+0+0i A', 'fault_voltage_B': '+0+0i A', 'fault_voltage_C': '+0+0i A', 'flow_direction': 'CF|BF|AR', 'mean_repair_time': '+0 s', 'continuous_rating': '+5000 A', 'emergency_rating': '+5000 A', 'inrush_convergence_value': '+0.0001 V', 'phases': 'ABCN', 'nominal_voltage': '+12470 V'}, 'node_001': {'id': '22', 'class': 'node', 'rank': '6', 'clock': '2018-01-30 00:00:00 EST', 'schedule_skew': '0', 'rng_state': '1264817709', 'heartbeat': '0', 'guid': '0x7a3b723817fa7a014d945203f4ef8836', 'flags': '0x100', 'bustype': 'SWING', 'busflags': 'HASSOURCE', 'reference_bus': '', 'maximum_voltage_error': '+0.01247 V', 'voltage_A': '+12470+0d V', 'voltage_B': '+12470-120d V', 'voltage_C': '+12470+120d V', 'voltage_AB': '+21598.7+30d V', 'voltage_BC': '+21598.7-90d V', 'voltage_CA': '+21598.7+150d V', 'mean_repair_time': '+0 s', 'frequency_measure_type': 'NONE', 'sfm_Tf': '+0.01 s', 'pll_Kp': '+10 pu', 'pll_Ki': '+100 pu', 'measured_angle_A': '+0 rad', 'measured_frequency_A': '+60 Hz', 'measured_angle_B': '+0 rad', 'measured_frequency_B': '+60 Hz', 'measured_angle_C': '+0 rad', 'measured_frequency_C': '+60 Hz', 'measured_frequency': '+60 Hz', 'service_status': 'IN_SERVICE', 'service_status_double': '-1', 'previous_uptime': '-1 min', 'current_uptime': '+0 min', 'Norton_dynamic': 'FALSE', 'generator_dynamic': 'FALSE', 'GFA_enable': 'FALSE', 'GFA_freq_low_trip': '+59.5 Hz', 'GFA_freq_high_trip': '+60.5 Hz', 'GFA_volt_low_trip': '+0.8 pu', 'GFA_volt_high_trip': '+1.2 pu', 'GFA_reconnect_time': '+300 s', 'GFA_freq_disconnect_time': '+0.2 s', 'GFA_volt_disconnect_time': '+0.2 s', 'GFA_status': 'TRUE', 'GFA_trip_method': 'NONE', 'topological_parent': '', 'phases': 'ABCN', 'nominal_voltage': '+12470 V'}, 'node_002': {'id': '23', 'class': 'node', 'rank': '4', 'clock': '2018-01-30 00:00:00 EST', 'schedule_skew': '0', 'rng_state': '1998097157', 'heartbeat': '0', 'guid': '0x468b215875a6e5875dd8f6022dc553d4', 'flags': '0x100', 'bustype': 'PQ', 'busflags': 'HASSOURCE', 'reference_bus': '', 'maximum_voltage_error': '+0.00240178 V', 'voltage_A': '+2397.87-30.173d V', 'voltage_B': '+2401.17-150.069d V', 'voltage_C': '+2400.22+89.8884d V', 'voltage_AB': '+4153.91-0.0982486d V', 'voltage_BC': '+4159.01-120.097d V', 'voltage_CA': '+4156.55+119.842d V', 'mean_repair_time': '+0 s', 'frequency_measure_type': 'NONE', 'sfm_Tf': '+0.01 s', 'pll_Kp': '+10 pu', 'pll_Ki': '+100 pu', 'measured_angle_A': '+0 rad', 'measured_frequency_A': '+60 Hz', 'measured_angle_B': '+0 rad', 'measured_frequency_B': '+60 Hz', 'measured_angle_C': '+0 rad', 'measured_frequency_C': '+60 Hz', 'measured_frequency': '+60 Hz', 'service_status': 'IN_SERVICE', 'service_status_double': '-1', 'previous_uptime': '-1 min', 'current_uptime': '+0 min', 'Norton_dynamic': 'FALSE', 'generator_dynamic': 'FALSE', 'GFA_enable': 'FALSE', 'GFA_freq_low_trip': '+59.5 Hz', 'GFA_freq_high_trip': '+60.5 Hz', 'GFA_volt_low_trip': '+0.8 pu', 'GFA_volt_high_trip': '+1.2 pu', 'GFA_reconnect_time': '+300 s', 'GFA_freq_disconnect_time': '+0.2 s', 'GFA_volt_disconnect_time': '+0.2 s', 'GFA_status': 'TRUE', 'GFA_trip_method': 'NONE', 'topological_parent': '', 'phases': 'ABCN', 'nominal_voltage': '+2401.78 V'}, 'node_101': {'id': '24', 'class': 'node', 'rank': '4', 'clock': '2018-01-30 00:00:00 EST', 'schedule_skew': '0', 'rng_state': '1817129560', 'heartbeat': '0', 'guid': '0x3c8c726797e1020820821332b11dd01c', 'flags': '0x100', 'bustype': 'PQ', 'busflags': 'HASSOURCE', 'reference_bus': '', 'maximum_voltage_error': '+0.00240178 V', 'voltage_A': '+2397.87-30.173d V', 'voltage_B': '+2401.17-150.069d V', 'voltage_C': '+2400.22+89.8885d V', 'voltage_AB': '+4153.91-0.0982189d V', 'voltage_BC': '+4159.01-120.097d V', 'voltage_CA': '+4156.55+119.842d V', 'mean_repair_time': '+0 s', 'frequency_measure_type': 'NONE', 'sfm_Tf': '+0.01 s', 'pll_Kp': '+10 pu', 'pll_Ki': '+100 pu', 'measured_angle_A': '+0 rad', 'measured_frequency_A': '+60 Hz', 'measured_angle_B': '+0 rad', 'measured_frequency_B': '+60 Hz', 'measured_angle_C': '+0 rad', 'measured_frequency_C': '+60 Hz', 'measured_frequency': '+60 Hz', 'service_status': 'IN_SERVICE', 'service_status_double': '-1', 'previous_uptime': '-1 min', 'current_uptime': '+0 min', 'Norton_dynamic': 'FALSE', 'generator_dynamic': 'FALSE', 'GFA_enable': 'FALSE', 'GFA_freq_low_trip': '+59.5 Hz', 'GFA_freq_high_trip': '+60.5 Hz', 'GFA_volt_low_trip': '+0.8 pu', 'GFA_volt_high_trip': '+1.2 pu', 'GFA_reconnect_time': '+300 s', 'GFA_freq_disconnect_time': '+0.2 s', 'GFA_volt_disconnect_time': '+0.2 s', 'GFA_status': 'TRUE', 'GFA_trip_method': 'NONE', 'topological_parent': '', 'phases': 'ABCN', 'nominal_voltage': '+2401.78 V'}, 'node_102': {'id': '25', 'class': 'meter', 'rank': '4', 'clock': '2018-01-30 00:00:00 EST', 'schedule_skew': '0', 'rng_state': '1131570933', 'heartbeat': '0', 'guid': '0x38d7073d6d5e6a644ec8ab7d0dc00a80', 'flags': '0x100', 'measured_real_energy': '+0 Wh', 'measured_real_energy_delta': '+0 Wh', 'measured_reactive_energy': '+0 VAh', 'measured_reactive_energy_delta': '+0 VAh', 'measured_energy_delta_timestep': '-1 s', 'measured_power': '+103038+9.9553d VA', 'measured_power_A': '+34966.9+12.5432d VA', 'measured_power_B': '+32187.3+4.63835d VA', 'measured_power_C': '+36085.3+12.1848d VA', 'measured_demand': '+101487 W', 'measured_real_power': '+101487 W', 'measured_reactive_power': '+17813.2 VAr', 'meter_power_consumption': '+0+0j VA', 'measured_voltage_A': '+2397.65-30.1783d V', 'measured_voltage_B': '+2401.08-150.072d V', 'measured_voltage_C': '+2400+89.8852d V', 'measured_voltage_AB': '+4153.59-0.101346d V', 'measured_voltage_BC': '+4158.76-120.101d V', 'measured_voltage_CA': '+4156.21+119.837d V', 'measured_real_max_voltage_in_interval_A': '+0', 'measured_real_max_voltage_in_interval_B': '+0', 'measured_real_max_voltage_in_interval_C': '+0', 'measured_reactive_max_voltage_in_interval_A': '+0', 'measured_reactive_max_voltage_in_interval_B': '+0', 'measured_reactive_max_voltage_in_interval_C': '+0', 'measured_real_max_voltage_in_interval_AB': '+0', 'measured_real_max_voltage_in_interval_BC': '+0', 'measured_real_max_voltage_in_interval_CA': '+0', 'measured_reactive_max_voltage_in_interval_AB': '+0', 'measured_reactive_max_voltage_in_interval_BC': '+0', 'measured_reactive_max_voltage_in_interval_CA': '+0', 'measured_real_min_voltage_in_interval_A': '+0', 'measured_real_min_voltage_in_interval_B': '+0', 'measured_real_min_voltage_in_interval_C': '+0', 'measured_reactive_min_voltage_in_interval_A': '+0', 'measured_reactive_min_voltage_in_interval_B': '+0', 'measured_reactive_min_voltage_in_interval_C': '+0', 'measured_real_min_voltage_in_interval_AB': '+0', 'measured_real_min_voltage_in_interval_BC': '+0', 'measured_real_min_voltage_in_interval_CA': '+0', 'measured_reactive_min_voltage_in_interval_AB': '+0', 'measured_reactive_min_voltage_in_interval_BC': '+0', 'measured_reactive_min_voltage_in_interval_CA': '+0', 'measured_avg_voltage_mag_in_interval_A': '+0', 'measured_avg_voltage_mag_in_interval_B': '+0', 'measured_avg_voltage_mag_in_interval_C': '+0', 'measured_avg_voltage_mag_in_interval_AB': '+0', 'measured_avg_voltage_mag_in_interval_BC': '+0', 'measured_avg_voltage_mag_in_interval_CA': '+0', 'measured_current_A': '+10.7142-9.8942j A', 'measured_current_B': '-12.1205-5.72671j A', 'measured_current_C': '+3.20292+14.6904j A', 'customer_interrupted': 'FALSE', 'customer_interrupted_secondary': 'FALSE', 'monthly_bill': '+0 $', 'previous_monthly_bill': '+0 $', 'previous_monthly_energy': '+0 kWh', 'monthly_fee': '+0 $', 'monthly_energy': '+0 kWh', 'bill_mode': 'NONE', 'power_market': '', 'bill_day': '15', 'price': '+0 $/kWh', 'price_base': '+0 $/kWh', 'first_tier_price': '+0 $/kWh', 'first_tier_energy': '+0 kWh', 'second_tier_price': '+0 $/kWh', 'second_tier_energy': '+0 kWh', 'third_tier_price': '+0 $/kWh', 'third_tier_energy': '+0 kWh', 'bustype': 'PQ', 'busflags': 'HASSOURCE', 'reference_bus': '', 'maximum_voltage_error': '+0.00240178 V', 'voltage_A': '+2397.65-30.1783d V', 'voltage_B': '+2401.08-150.072d V', 'voltage_C': '+2400+89.8852d V', 'voltage_AB': '+4153.59-0.101346d V', 'voltage_BC': '+4158.76-120.101d V', 'voltage_CA': '+4156.21+119.837d V', 'mean_repair_time': '+0 s', 'frequency_measure_type': 'NONE', 'sfm_Tf': '+0.01 s', 'pll_Kp': '+10 pu', 'pll_Ki': '+100 pu', 'measured_angle_A': '+0 rad', 'measured_frequency_A': '+60 Hz', 'measured_angle_B': '+0 rad', 'measured_frequency_B': '+60 Hz', 'measured_angle_C': '+0 rad', 'measured_frequency_C': '+60 Hz', 'measured_frequency': '+60 Hz', 'service_status': 'IN_SERVICE', 'service_status_double': '-1', 'previous_uptime': '-1 min', 'current_uptime': '+0 min', 'Norton_dynamic': 'FALSE', 'generator_dynamic': 'FALSE', 'GFA_enable': 'FALSE', 'GFA_freq_low_trip': '+59.5 Hz', 'GFA_freq_high_trip': '+60.5 Hz', 'GFA_volt_low_trip': '+0.8 pu', 'GFA_volt_high_trip': '+1.2 pu', 'GFA_reconnect_time': '+300 s', 'GFA_freq_disconnect_time': '+0.2 s', 'GFA_volt_disconnect_time': '+0.2 s', 'GFA_status': 'TRUE', 'GFA_trip_method': 'NONE', 'topological_parent': '', 'phases': 'ABCN', 'nominal_voltage': '+2401.78 V'}, 'node_103': {'id': '26', 'class': 'meter', 'rank': '4', 'clock': '2018-01-30 00:00:00 EST', 'schedule_skew': '0', 'rng_state': '197493099', 'heartbeat': '0', 'guid': '0x6ff99d465f31632e27f47fc8059be19c', 'flags': '0x100', 'measured_real_energy': '+0 Wh', 'measured_real_energy_delta': '+0 Wh', 'measured_reactive_energy': '+0 VAh', 'measured_reactive_energy_delta': '+0 VAh', 'measured_energy_delta_timestep': '-1 s', 'measured_power': '+44989.9+14.8679d VA', 'measured_power_A': '+15814.5+20.3716d VA', 'measured_power_B': '+8245.76+3.56109d VA', 'measured_power_C': '+21162.8+15.1384d VA', 'measured_demand': '+43483.6 W', 'measured_real_power': '+43483.6 W', 'measured_reactive_power': '+11544 VAr', 'meter_power_consumption': '+0+0j VA', 'measured_voltage_A': '+2397.64-30.1816d V', 'measured_voltage_B': '+2401.06-150.07d V', 'measured_voltage_C': '+2399.77+89.8817d V', 'measured_voltage_AB': '+4153.45-0.101979d V', 'measured_voltage_BC': '+4158.66-120.103d V', 'measured_voltage_CA': '+4156.01+119.835d V', 'measured_real_max_voltage_in_interval_A': '+0', 'measured_real_max_voltage_in_interval_B': '+0', 'measured_real_max_voltage_in_interval_C': '+0', 'measured_reactive_max_voltage_in_interval_A': '+0', 'measured_reactive_max_voltage_in_interval_B': '+0', 'measured_reactive_max_voltage_in_interval_C': '+0', 'measured_real_max_voltage_in_interval_AB': '+0', 'measured_real_max_voltage_in_interval_BC': '+0', 'measured_real_max_voltage_in_interval_CA': '+0', 'measured_reactive_max_voltage_in_interval_AB': '+0', 'measured_reactive_max_voltage_in_interval_BC': '+0', 'measured_reactive_max_voltage_in_interval_CA': '+0', 'measured_real_min_voltage_in_interval_A': '+0', 'measured_real_min_voltage_in_interval_B': '+0', 'measured_real_min_voltage_in_interval_C': '+0', 'measured_reactive_min_voltage_in_interval_A': '+0', 'measured_reactive_min_voltage_in_interval_B': '+0', 'measured_reactive_min_voltage_in_interval_C': '+0', 'measured_real_min_voltage_in_interval_AB': '+0', 'measured_real_min_voltage_in_interval_BC': '+0', 'measured_real_min_voltage_in_interval_CA': '+0', 'measured_reactive_min_voltage_in_interval_AB': '+0', 'measured_reactive_min_voltage_in_interval_BC': '+0', 'measured_reactive_min_voltage_in_interval_CA': '+0', 'measured_avg_voltage_mag_in_interval_A': '+0', 'measured_avg_voltage_mag_in_interval_B': '+0', 'measured_avg_voltage_mag_in_interval_C': '+0', 'measured_avg_voltage_mag_in_interval_AB': '+0', 'measured_avg_voltage_mag_in_interval_BC': '+0', 'measured_avg_voltage_mag_in_interval_CA': '+0', 'measured_current_A': '+4.19074-5.09341j A', 'measured_current_B': '-3.07688-1.52533j A', 'measured_current_C': '+2.3206+8.50788j A', 'customer_interrupted': 'FALSE', 'customer_interrupted_secondary': 'FALSE', 'monthly_bill': '+0 $', 'previous_monthly_bill': '+0 $', 'previous_monthly_energy': '+0 kWh', 'monthly_fee': '+0 $', 'monthly_energy': '+0 kWh', 'bill_mode': 'NONE', 'power_market': '', 'bill_day': '15', 'price': '+0 $/kWh', 'price_base': '+0 $/kWh', 'first_tier_price': '+0 $/kWh', 'first_tier_energy': '+0 kWh', 'second_tier_price': '+0 $/kWh', 'second_tier_energy': '+0 kWh', 'third_tier_price': '+0 $/kWh', 'third_tier_energy': '+0 kWh', 'bustype': 'PQ', 'busflags': 'HASSOURCE', 'reference_bus': '', 'maximum_voltage_error': '+0.00240178 V', 'voltage_A': '+2397.64-30.1816d V', 'voltage_B': '+2401.06-150.07d V', 'voltage_C': '+2399.77+89.8817d V', 'voltage_AB': '+4153.45-0.101979d V', 'voltage_BC': '+4158.66-120.103d V', 'voltage_CA': '+4156.01+119.835d V', 'mean_repair_time': '+0 s', 'frequency_measure_type': 'NONE', 'sfm_Tf': '+0.01 s', 'pll_Kp': '+10 pu', 'pll_Ki': '+100 pu', 'measured_angle_A': '+0 rad', 'measured_frequency_A': '+60 Hz', 'measured_angle_B': '+0 rad', 'measured_frequency_B': '+60 Hz', 'measured_angle_C': '+0 rad', 'measured_frequency_C': '+60 Hz', 'measured_frequency': '+60 Hz', 'service_status': 'IN_SERVICE', 'service_status_double': '-1', 'previous_uptime': '-1 min', 'current_uptime': '+0 min', 'Norton_dynamic': 'FALSE', 'generator_dynamic': 'FALSE', 'GFA_enable': 'FALSE', 'GFA_freq_low_trip': '+59.5 Hz', 'GFA_freq_high_trip': '+60.5 Hz', 'GFA_volt_low_trip': '+0.8 pu', 'GFA_volt_high_trip': '+1.2 pu', 'GFA_reconnect_time': '+300 s', 'GFA_freq_disconnect_time': '+0.2 s', 'GFA_volt_disconnect_time': '+0.2 s', 'GFA_status': 'TRUE', 'GFA_trip_method': 'NONE', 'topological_parent': '', 'phases': 'ABCN', 'nominal_voltage': '+2401.78 V'}, 'node_201': {'id': '27', 'class': 'node', 'rank': '4', 'clock': '2018-01-30 00:00:00 EST', 'schedule_skew': '0', 'rng_state': '1404280278', 'heartbeat': '0', 'guid': '0x3a64e28b1a20dea070a56c251a2b17d9', 'flags': '0x100', 'bustype': 'PQ', 'busflags': 'HASSOURCE', 'reference_bus': '', 'maximum_voltage_error': '+0.00240178 V', 'voltage_A': '+2397.87-30.173d V', 'voltage_B': '+2401.17-150.069d V', 'voltage_C': '+2400.22+89.8885d V', 'voltage_AB': '+4153.91-0.0982356d V', 'voltage_BC': '+4159.01-120.097d V', 'voltage_CA': '+4156.55+119.842d V', 'mean_repair_time': '+0 s', 'frequency_measure_type': 'NONE', 'sfm_Tf': '+0.01 s', 'pll_Kp': '+10 pu', 'pll_Ki': '+100 pu', 'measured_angle_A': '+0 rad', 'measured_frequency_A': '+60 Hz', 'measured_angle_B': '+0 rad', 'measured_frequency_B': '+60 Hz', 'measured_angle_C': '+0 rad', 'measured_frequency_C': '+60 Hz', 'measured_frequency': '+60 Hz', 'service_status': 'IN_SERVICE', 'service_status_double': '-1', 'previous_uptime': '-1 min', 'current_uptime': '+0 min', 'Norton_dynamic': 'FALSE', 'generator_dynamic': 'FALSE', 'GFA_enable': 'FALSE', 'GFA_freq_low_trip': '+59.5 Hz', 'GFA_freq_high_trip': '+60.5 Hz', 'GFA_volt_low_trip': '+0.8 pu', 'GFA_volt_high_trip': '+1.2 pu', 'GFA_reconnect_time': '+300 s', 'GFA_freq_disconnect_time': '+0.2 s', 'GFA_volt_disconnect_time': '+0.2 s', 'GFA_status': 'TRUE', 'GFA_trip_method': 'NONE', 'topological_parent': '', 'phases': 'ABCN', 'nominal_voltage': '+2401.78 V'}, 'node_202': {'id': '28', 'class': 'meter', 'rank': '4', 'clock': '2018-01-30 00:00:00 EST', 'schedule_skew': '0', 'rng_state': '893351816', 'heartbeat': '0', 'guid': '0x72486172a370e7483f723db0e2b04c0b', 'flags': '0x100', 'measured_real_energy': '+0 Wh', 'measured_real_energy_delta': '+0 Wh', 'measured_reactive_energy': '+0 VAh', 'measured_reactive_energy_delta': '+0 VAh', 'measured_energy_delta_timestep': '-1 s', 'measured_power': '+95663.4+14.9667d VA', 'measured_power_A': '+25358.3+15.0599d VA', 'measured_power_B': '+20181.2+4.49535d VA', 'measured_power_C': '+50590.1+19.0776d VA', 'measured_demand': '+92418.1 W', 'measured_real_power': '+92418.1 W', 'measured_reactive_power': '+24705.9 VAr', 'meter_power_consumption': '+0+0j VA', 'measured_voltage_A': '+2398.06-30.1776d V', 'measured_voltage_B': '+2400.96-150.062d V', 'measured_voltage_C': '+2399.69+89.8771d V', 'measured_voltage_AB': '+4153.66-0.099949d V', 'measured_voltage_BC': '+4158.75-120.101d V', 'measured_voltage_CA': '+4156.11+119.839d V', 'measured_real_max_voltage_in_interval_A': '+0', 'measured_real_max_voltage_in_interval_B': '+0', 'measured_real_max_voltage_in_interval_C': '+0', 'measured_reactive_max_voltage_in_interval_A': '+0', 'measured_reactive_max_voltage_in_interval_B': '+0', 'measured_reactive_max_voltage_in_interval_C': '+0', 'measured_real_max_voltage_in_interval_AB': '+0', 'measured_real_max_voltage_in_interval_BC': '+0', 'measured_real_max_voltage_in_interval_CA': '+0', 'measured_reactive_max_voltage_in_interval_AB': '+0', 'measured_reactive_max_voltage_in_interval_BC': '+0', 'measured_reactive_max_voltage_in_interval_CA': '+0', 'measured_real_min_voltage_in_interval_A': '+0', 'measured_real_min_voltage_in_interval_B': '+0', 'measured_real_min_voltage_in_interval_C': '+0', 'measured_reactive_min_voltage_in_interval_A': '+0', 'measured_reactive_min_voltage_in_interval_B': '+0', 'measured_reactive_min_voltage_in_interval_C': '+0', 'measured_real_min_voltage_in_interval_AB': '+0', 'measured_real_min_voltage_in_interval_BC': '+0', 'measured_real_min_voltage_in_interval_CA': '+0', 'measured_reactive_min_voltage_in_interval_AB': '+0', 'measured_reactive_min_voltage_in_interval_BC': '+0', 'measured_reactive_min_voltage_in_interval_CA': '+0', 'measured_avg_voltage_mag_in_interval_A': '+0', 'measured_avg_voltage_mag_in_interval_B': '+0', 'measured_avg_voltage_mag_in_interval_C': '+0', 'measured_avg_voltage_mag_in_interval_AB': '+0', 'measured_avg_voltage_mag_in_interval_BC': '+0', 'measured_avg_voltage_mag_in_interval_CA': '+0', 'measured_current_A': '+7.44627-7.50825j A', 'measured_current_B': '-7.59029-3.61099j A', 'measured_current_C': '+6.93333+19.9093j A', 'customer_interrupted': 'FALSE', 'customer_interrupted_secondary': 'FALSE', 'monthly_bill': '+0 $', 'previous_monthly_bill': '+0 $', 'previous_monthly_energy': '+0 kWh', 'monthly_fee': '+0 $', 'monthly_energy': '+0 kWh', 'bill_mode': 'NONE', 'power_market': '', 'bill_day': '15', 'price': '+0 $/kWh', 'price_base': '+0 $/kWh', 'first_tier_price': '+0 $/kWh', 'first_tier_energy': '+0 kWh', 'second_tier_price': '+0 $/kWh', 'second_tier_energy': '+0 kWh', 'third_tier_price': '+0 $/kWh', 'third_tier_energy': '+0 kWh', 'bustype': 'PQ', 'busflags': 'HASSOURCE', 'reference_bus': '', 'maximum_voltage_error': '+0.00240178 V', 'voltage_A': '+2398.06-30.1776d V', 'voltage_B': '+2400.96-150.062d V', 'voltage_C': '+2399.69+89.8771d V', 'voltage_AB': '+4153.66-0.099949d V', 'voltage_BC': '+4158.75-120.101d V', 'voltage_CA': '+4156.11+119.839d V', 'mean_repair_time': '+0 s', 'frequency_measure_type': 'NONE', 'sfm_Tf': '+0.01 s', 'pll_Kp': '+10 pu', 'pll_Ki': '+100 pu', 'measured_angle_A': '+0 rad', 'measured_frequency_A': '+60 Hz', 'measured_angle_B': '+0 rad', 'measured_frequency_B': '+60 Hz', 'measured_angle_C': '+0 rad', 'measured_frequency_C': '+60 Hz', 'measured_frequency': '+60 Hz', 'service_status': 'IN_SERVICE', 'service_status_double': '-1', 'previous_uptime': '-1 min', 'current_uptime': '+0 min', 'Norton_dynamic': 'FALSE', 'generator_dynamic': 'FALSE', 'GFA_enable': 'FALSE', 'GFA_freq_low_trip': '+59.5 Hz', 'GFA_freq_high_trip': '+60.5 Hz', 'GFA_volt_low_trip': '+0.8 pu', 'GFA_volt_high_trip': '+1.2 pu', 'GFA_reconnect_time': '+300 s', 'GFA_freq_disconnect_time': '+0.2 s', 'GFA_volt_disconnect_time': '+0.2 s', 'GFA_status': 'TRUE', 'GFA_trip_method': 'NONE', 'topological_parent': '', 'phases': 'ABCN', 'nominal_voltage': '+2401.78 V'}, 'node_203': {'id': '29', 'class': 'meter', 'rank': '4', 'clock': '2018-01-30 00:00:00 EST', 'schedule_skew': '0', 'rng_state': '1505795335', 'heartbeat': '0', 'guid': '0x1842f556ed2a8ea37ff1fc42afb0d782', 'flags': '0x100', 'measured_real_energy': '+0 Wh', 'measured_real_energy_delta': '+0 Wh', 'measured_reactive_energy': '+0 VAh', 'measured_reactive_energy_delta': '+0 VAh', 'measured_energy_delta_timestep': '-1 s', 'measured_power': '+22363.5+26.5731d VA', 'measured_power_A': '+22363.5+26.5731d VA', 'measured_power_B': '+6.53573e-08-160.236d VA', 'measured_power_C': '+6.05364e-08-99.0427d VA', 'measured_demand': '+20001.2 W', 'measured_real_power': '+20001.2 W', 'measured_reactive_power': '+10004.1 VAr', 'meter_power_consumption': '+0+0j VA', 'measured_voltage_A': '+2397.64-30.1816d V', 'measured_voltage_B': '+2401.06-150.07d V', 'measured_voltage_C': '+2399.77+89.8816d V', 'measured_voltage_AB': '+4153.45-0.101983d V', 'measured_voltage_BC': '+4158.66-120.103d V', 'measured_voltage_CA': '+4156.01+119.835d V', 'measured_real_max_voltage_in_interval_A': '+0', 'measured_real_max_voltage_in_interval_B': '+0', 'measured_real_max_voltage_in_interval_C': '+0', 'measured_reactive_max_voltage_in_interval_A': '+0', 'measured_reactive_max_voltage_in_interval_B': '+0', 'measured_reactive_max_voltage_in_interval_C': '+0', 'measured_real_max_voltage_in_interval_AB': '+0', 'measured_real_max_voltage_in_interval_BC': '+0', 'measured_real_max_voltage_in_interval_CA': '+0', 'measured_reactive_max_voltage_in_interval_AB': '+0', 'measured_reactive_max_voltage_in_interval_BC': '+0', 'measured_reactive_max_voltage_in_interval_CA': '+0', 'measured_real_min_voltage_in_interval_A': '+0', 'measured_real_min_voltage_in_interval_B': '+0', 'measured_real_min_voltage_in_interval_C': '+0', 'measured_reactive_min_voltage_in_interval_A': '+0', 'measured_reactive_min_voltage_in_interval_B': '+0', 'measured_reactive_min_voltage_in_interval_C': '+0', 'measured_real_min_voltage_in_interval_AB': '+0', 'measured_real_min_voltage_in_interval_BC': '+0', 'measured_real_min_voltage_in_interval_CA': '+0', 'measured_reactive_min_voltage_in_interval_AB': '+0', 'measured_reactive_min_voltage_in_interval_BC': '+0', 'measured_reactive_min_voltage_in_interval_CA': '+0', 'measured_avg_voltage_mag_in_interval_A': '+0', 'measured_avg_voltage_mag_in_interval_B': '+0', 'measured_avg_voltage_mag_in_interval_C': '+0', 'measured_avg_voltage_mag_in_interval_AB': '+0', 'measured_avg_voltage_mag_in_interval_BC': '+0', 'measured_avg_voltage_mag_in_interval_CA': '+0', 'measured_current_A': '+5.11346-7.80072j A', 'measured_current_B': '+2.67928e-11+4.8046e-12j A', 'measured_current_C': '-2.49205e-11-3.91331e-12j A', 'customer_interrupted': 'FALSE', 'customer_interrupted_secondary': 'FALSE', 'monthly_bill': '+0 $', 'previous_monthly_bill': '+0 $', 'previous_monthly_energy': '+0 kWh', 'monthly_fee': '+0 $', 'monthly_energy': '+0 kWh', 'bill_mode': 'NONE', 'power_market': '', 'bill_day': '15', 'price': '+0 $/kWh', 'price_base': '+0 $/kWh', 'first_tier_price': '+0 $/kWh', 'first_tier_energy': '+0 kWh', 'second_tier_price': '+0 $/kWh', 'second_tier_energy': '+0 kWh', 'third_tier_price': '+0 $/kWh', 'third_tier_energy': '+0 kWh', 'bustype': 'PQ', 'busflags': 'HASSOURCE', 'reference_bus': '', 'maximum_voltage_error': '+0.00240178 V', 'voltage_A': '+2397.64-30.1816d V', 'voltage_B': '+2401.06-150.07d V', 'voltage_C': '+2399.77+89.8816d V', 'voltage_AB': '+4153.45-0.101983d V', 'voltage_BC': '+4158.66-120.103d V', 'voltage_CA': '+4156.01+119.835d V', 'mean_repair_time': '+0 s', 'frequency_measure_type': 'NONE', 'sfm_Tf': '+0.01 s', 'pll_Kp': '+10 pu', 'pll_Ki': '+100 pu', 'measured_angle_A': '+0 rad', 'measured_frequency_A': '+60 Hz', 'measured_angle_B': '+0 rad', 'measured_frequency_B': '+60 Hz', 'measured_angle_C': '+0 rad', 'measured_frequency_C': '+60 Hz', 'measured_frequency': '+60 Hz', 'service_status': 'IN_SERVICE', 'service_status_double': '-1', 'previous_uptime': '-1 min', 'current_uptime': '+0 min', 'Norton_dynamic': 'FALSE', 'generator_dynamic': 'FALSE', 'GFA_enable': 'FALSE', 'GFA_freq_low_trip': '+59.5 Hz', 'GFA_freq_high_trip': '+60.5 Hz', 'GFA_volt_low_trip': '+0.8 pu', 'GFA_volt_high_trip': '+1.2 pu', 'GFA_reconnect_time': '+300 s', 'GFA_freq_disconnect_time': '+0.2 s', 'GFA_volt_disconnect_time': '+0.2 s', 'GFA_status': 'TRUE', 'GFA_trip_method': 'NONE', 'topological_parent': '', 'phases': 'ABCN', 'nominal_voltage': '+2401.78 V'}, 'node_301': {'id': '30', 'class': 'node', 'rank': '4', 'clock': '2018-01-30 00:00:00 EST', 'schedule_skew': '0', 'rng_state': '1954899097', 'heartbeat': '0', 'guid': '0x2bf469bbfdfeb1822d1991cf60097a39', 'flags': '0x100', 'bustype': 'PQ', 'busflags': 'HASSOURCE', 'reference_bus': '', 'maximum_voltage_error': '+0.00240178 V', 'voltage_A': '+2397.87-30.1729d V', 'voltage_B': '+2401.17-150.069d V', 'voltage_C': '+2400.22+89.8884d V', 'voltage_AB': '+4153.91-0.0981951d V', 'voltage_BC': '+4159.01-120.097d V', 'voltage_CA': '+4156.55+119.842d V', 'mean_repair_time': '+0 s', 'frequency_measure_type': 'NONE', 'sfm_Tf': '+0.01 s', 'pll_Kp': '+10 pu', 'pll_Ki': '+100 pu', 'measured_angle_A': '+0 rad', 'measured_frequency_A': '+60 Hz', 'measured_angle_B': '+0 rad', 'measured_frequency_B': '+60 Hz', 'measured_angle_C': '+0 rad', 'measured_frequency_C': '+60 Hz', 'measured_frequency': '+60 Hz', 'service_status': 'IN_SERVICE', 'service_status_double': '-1', 'previous_uptime': '-1 min', 'current_uptime': '+0 min', 'Norton_dynamic': 'FALSE', 'generator_dynamic': 'FALSE', 'GFA_enable': 'FALSE', 'GFA_freq_low_trip': '+59.5 Hz', 'GFA_freq_high_trip': '+60.5 Hz', 'GFA_volt_low_trip': '+0.8 pu', 'GFA_volt_high_trip': '+1.2 pu', 'GFA_reconnect_time': '+300 s', 'GFA_freq_disconnect_time': '+0.2 s', 'GFA_volt_disconnect_time': '+0.2 s', 'GFA_status': 'TRUE', 'GFA_trip_method': 'NONE', 'topological_parent': '', 'phases': 'ABCN', 'nominal_voltage': '+2401.78 V'}, 'node_302': {'id': '31', 'class': 'meter', 'rank': '4', 'clock': '2018-01-30 00:00:00 EST', 'schedule_skew': '0', 'rng_state': '1636807826', 'heartbeat': '0', 'guid': '0x1d789664a085e2661c072991ab7a7966', 'flags': '0x100', 'measured_real_energy': '+0 Wh', 'measured_real_energy_delta': '+0 Wh', 'measured_reactive_energy': '+0 VAh', 'measured_reactive_energy_delta': '+0 VAh', 'measured_energy_delta_timestep': '-1 s', 'measured_power': '+89477.1+26.5891d VA', 'measured_power_A': '+89477.1+26.5891d VA', 'measured_power_B': '+5.41853e-08+158.806d VA', 'measured_power_C': '+3.41881e-08-111.199d VA', 'measured_demand': '+80013.9 W', 'measured_real_power': '+80013.9 W', 'measured_reactive_power': '+40049 VAr', 'meter_power_consumption': '+0+0j VA', 'measured_voltage_A': '+2396.64-30.205d V', 'measured_voltage_B': '+2402.47-150.07d V', 'measured_voltage_C': '+2399.66+89.9137d V', 'measured_voltage_AB': '+4153.33-0.0972643d V', 'measured_voltage_BC': '+4159.11-120.097d V', 'measured_voltage_CA': '+4156.2+119.834d V', 'measured_real_max_voltage_in_interval_A': '+0', 'measured_real_max_voltage_in_interval_B': '+0', 'measured_real_max_voltage_in_interval_C': '+0', 'measured_reactive_max_voltage_in_interval_A': '+0', 'measured_reactive_max_voltage_in_interval_B': '+0', 'measured_reactive_max_voltage_in_interval_C': '+0', 'measured_real_max_voltage_in_interval_AB': '+0', 'measured_real_max_voltage_in_interval_BC': '+0', 'measured_real_max_voltage_in_interval_CA': '+0', 'measured_reactive_max_voltage_in_interval_AB': '+0', 'measured_reactive_max_voltage_in_interval_BC': '+0', 'measured_reactive_max_voltage_in_interval_CA': '+0', 'measured_real_min_voltage_in_interval_A': '+0', 'measured_real_min_voltage_in_interval_B': '+0', 'measured_real_min_voltage_in_interval_C': '+0', 'measured_reactive_min_voltage_in_interval_A': '+0', 'measured_reactive_min_voltage_in_interval_B': '+0', 'measured_reactive_min_voltage_in_interval_C': '+0', 'measured_real_min_voltage_in_interval_AB': '+0', 'measured_real_min_voltage_in_interval_BC': '+0', 'measured_real_min_voltage_in_interval_CA': '+0', 'measured_reactive_min_voltage_in_interval_AB': '+0', 'measured_reactive_min_voltage_in_interval_BC': '+0', 'measured_reactive_min_voltage_in_interval_CA': '+0', 'measured_avg_voltage_mag_in_interval_A': '+0', 'measured_avg_voltage_mag_in_interval_B': '+0', 'measured_avg_voltage_mag_in_interval_C': '+0', 'measured_avg_voltage_mag_in_interval_AB': '+0', 'measured_avg_voltage_mag_in_interval_BC': '+0', 'measured_avg_voltage_mag_in_interval_CA': '+0', 'measured_current_A': '+20.4461-31.2379j A', 'measured_current_B': '+1.41558e-11+1.75584e-11j A', 'measured_current_C': '-1.32907e-11-5.13189e-12j A', 'customer_interrupted': 'FALSE', 'customer_interrupted_secondary': 'FALSE', 'monthly_bill': '+0 $', 'previous_monthly_bill': '+0 $', 'previous_monthly_energy': '+0 kWh', 'monthly_fee': '+0 $', 'monthly_energy': '+0 kWh', 'bill_mode': 'NONE', 'power_market': '', 'bill_day': '15', 'price': '+0 $/kWh', 'price_base': '+0 $/kWh', 'first_tier_price': '+0 $/kWh', 'first_tier_energy': '+0 kWh', 'second_tier_price': '+0 $/kWh', 'second_tier_energy': '+0 kWh', 'third_tier_price': '+0 $/kWh', 'third_tier_energy': '+0 kWh', 'bustype': 'PQ', 'busflags': 'HASSOURCE', 'reference_bus': '', 'maximum_voltage_error': '+0.00240178 V', 'voltage_A': '+2396.64-30.205d V', 'voltage_B': '+2402.47-150.07d V', 'voltage_C': '+2399.66+89.9137d V', 'voltage_AB': '+4153.33-0.0972643d V', 'voltage_BC': '+4159.11-120.097d V', 'voltage_CA': '+4156.2+119.834d V', 'mean_repair_time': '+0 s', 'frequency_measure_type': 'NONE', 'sfm_Tf': '+0.01 s', 'pll_Kp': '+10 pu', 'pll_Ki': '+100 pu', 'measured_angle_A': '+0 rad', 'measured_frequency_A': '+60 Hz', 'measured_angle_B': '+0 rad', 'measured_frequency_B': '+60 Hz', 'measured_angle_C': '+0 rad', 'measured_frequency_C': '+60 Hz', 'measured_frequency': '+60 Hz', 'service_status': 'IN_SERVICE', 'service_status_double': '-1', 'previous_uptime': '-1 min', 'current_uptime': '+0 min', 'Norton_dynamic': 'FALSE', 'generator_dynamic': 'FALSE', 'GFA_enable': 'FALSE', 'GFA_freq_low_trip': '+59.5 Hz', 'GFA_freq_high_trip': '+60.5 Hz', 'GFA_volt_low_trip': '+0.8 pu', 'GFA_volt_high_trip': '+1.2 pu', 'GFA_reconnect_time': '+300 s', 'GFA_freq_disconnect_time': '+0.2 s', 'GFA_volt_disconnect_time': '+0.2 s', 'GFA_status': 'TRUE', 'GFA_trip_method': 'NONE', 'topological_parent': '', 'phases': 'ABCN', 'nominal_voltage': '+2401.78 V'}, 'node_303': {'id': '32', 'class': 'meter', 'rank': '4', 'clock': '2018-01-30 00:00:00 EST', 'schedule_skew': '0', 'rng_state': '563613512', 'heartbeat': '0', 'guid': '0x74b37a196e1f73c1482090f186b3814b', 'flags': '0x100', 'measured_real_energy': '+0 Wh', 'measured_real_energy_delta': '+0 Wh', 'measured_reactive_energy': '+0 VAh', 'measured_reactive_energy_delta': '+0 VAh', 'measured_energy_delta_timestep': '-1 s', 'measured_power': '+44732.8+26.5811d VA', 'measured_power_A': '+44732.8+26.5811d VA', 'measured_power_B': '+7.84282e-09-72.7415d VA', 'measured_power_C': '+5.38337e-08+57.8633d VA', 'measured_demand': '+40004.6 W', 'measured_real_power': '+40004.6 W', 'measured_reactive_power': '+20016.3 VAr', 'meter_power_consumption': '+0+0j VA', 'measured_voltage_A': '+2396.03-30.221d V', 'measured_voltage_B': '+2403.12-150.071d V', 'measured_voltage_C': '+2399.38+89.9264d V', 'measured_voltage_AB': '+4153.03-0.0967982d V', 'measured_voltage_BC': '+4159.15-120.098d V', 'measured_voltage_CA': '+4156.03+119.83d V', 'measured_real_max_voltage_in_interval_A': '+0', 'measured_real_max_voltage_in_interval_B': '+0', 'measured_real_max_voltage_in_interval_C': '+0', 'measured_reactive_max_voltage_in_interval_A': '+0', 'measured_reactive_max_voltage_in_interval_B': '+0', 'measured_reactive_max_voltage_in_interval_C': '+0', 'measured_real_max_voltage_in_interval_AB': '+0', 'measured_real_max_voltage_in_interval_BC': '+0', 'measured_real_max_voltage_in_interval_CA': '+0', 'measured_reactive_max_voltage_in_interval_AB': '+0', 'measured_reactive_max_voltage_in_interval_BC': '+0', 'measured_reactive_max_voltage_in_interval_CA': '+0', 'measured_real_min_voltage_in_interval_A': '+0', 'measured_real_min_voltage_in_interval_B': '+0', 'measured_real_min_voltage_in_interval_C': '+0', 'measured_reactive_min_voltage_in_interval_A': '+0', 'measured_reactive_min_voltage_in_interval_B': '+0', 'measured_reactive_min_voltage_in_interval_C': '+0', 'measured_real_min_voltage_in_interval_AB': '+0', 'measured_real_min_voltage_in_interval_BC': '+0', 'measured_real_min_voltage_in_interval_CA': '+0', 'measured_reactive_min_voltage_in_interval_AB': '+0', 'measured_reactive_min_voltage_in_interval_BC': '+0', 'measured_reactive_min_voltage_in_interval_CA': '+0', 'measured_avg_voltage_mag_in_interval_A': '+0', 'measured_avg_voltage_mag_in_interval_B': '+0', 'measured_avg_voltage_mag_in_interval_C': '+0', 'measured_avg_voltage_mag_in_interval_AB': '+0', 'measured_avg_voltage_mag_in_interval_BC': '+0', 'measured_avg_voltage_mag_in_interval_CA': '+0', 'measured_current_A': '+10.2222-15.6224j A', 'measured_current_B': '+7.15872e-13-3.18412e-12j A', 'measured_current_C': '+1.90141e-11+1.19105e-11j A', 'customer_interrupted': 'FALSE', 'customer_interrupted_secondary': 'FALSE', 'monthly_bill': '+0 $', 'previous_monthly_bill': '+0 $', 'previous_monthly_energy': '+0 kWh', 'monthly_fee': '+0 $', 'monthly_energy': '+0 kWh', 'bill_mode': 'NONE', 'power_market': '', 'bill_day': '15', 'price': '+0 $/kWh', 'price_base': '+0 $/kWh', 'first_tier_price': '+0 $/kWh', 'first_tier_energy': '+0 kWh', 'second_tier_price': '+0 $/kWh', 'second_tier_energy': '+0 kWh', 'third_tier_price': '+0 $/kWh', 'third_tier_energy': '+0 kWh', 'bustype': 'PQ', 'busflags': 'HASSOURCE', 'reference_bus': '', 'maximum_voltage_error': '+0.00240178 V', 'voltage_A': '+2396.03-30.221d V', 'voltage_B': '+2403.12-150.071d V', 'voltage_C': '+2399.38+89.9264d V', 'voltage_AB': '+4153.03-0.0967982d V', 'voltage_BC': '+4159.15-120.098d V', 'voltage_CA': '+4156.03+119.83d V', 'mean_repair_time': '+0 s', 'frequency_measure_type': 'NONE', 'sfm_Tf': '+0.01 s', 'pll_Kp': '+10 pu', 'pll_Ki': '+100 pu', 'measured_angle_A': '+0 rad', 'measured_frequency_A': '+60 Hz', 'measured_angle_B': '+0 rad', 'measured_frequency_B': '+60 Hz', 'measured_angle_C': '+0 rad', 'measured_frequency_C': '+60 Hz', 'measured_frequency': '+60 Hz', 'service_status': 'IN_SERVICE', 'service_status_double': '-1', 'previous_uptime': '-1 min', 'current_uptime': '+0 min', 'Norton_dynamic': 'FALSE', 'generator_dynamic': 'FALSE', 'GFA_enable': 'FALSE', 'GFA_freq_low_trip': '+59.5 Hz', 'GFA_freq_high_trip': '+60.5 Hz', 'GFA_volt_low_trip': '+0.8 pu', 'GFA_volt_high_trip': '+1.2 pu', 'GFA_reconnect_time': '+300 s', 'GFA_freq_disconnect_time': '+0.2 s', 'GFA_volt_disconnect_time': '+0.2 s', 'GFA_status': 'TRUE', 'GFA_trip_method': 'NONE', 'topological_parent': '', 'phases': 'ABCN', 'nominal_voltage': '+2401.78 V'}, 'sw_101': {'id': '42', 'class': 'switch', 'rank': '1', 'clock': '2018-01-30 00:00:00 EST', 'schedule_skew': '0', 'rng_state': '1551901393', 'heartbeat': '0', 'guid': '0x107a1a035f93f4e833e9442e9c1dcdad', 'flags': '0x100', 'phase_A_state': 'CLOSED', 'phase_B_state': 'CLOSED', 'phase_C_state': 'CLOSED', 'operating_mode': 'BANKED', 'switch_resistance': '+0.0001 Ohm', 'status': 'CLOSED', 'from': 'node_002', 'to': 'node_101', 'power_in': '+165757+8.35613d VA', 'power_out': '+165757+8.35616d VA', 'power_out_real': '+163997 W', 'power_losses': '+0.112694-45d VA', 'power_in_A': '+54315.8+10.272d VA', 'power_in_B': '+56132.6+4.79811d VA', 'power_in_C': '+55472.3+10.0789d VA', 'power_out_A': '+54315.8+10.272d VA', 'power_out_B': '+56132.6+4.79814d VA', 'power_out_C': '+55472.3+10.0789d VA', 'power_losses_A': '+0.0362815-45d VA', 'power_losses_B': '+0.0386429-45d VA', 'power_losses_C': '+0.0377691-45d VA', 'current_out_A': '+17.2386-14.6945j A', 'current_out_B': '-21.164-9.92874j A', 'current_out_C': '+4.08888+22.7468j A', 'current_in_A': '+17.2386-14.6945i A', 'current_in_B': '-21.164-9.92874i A', 'current_in_C': '+4.08888+22.7468i A', 'fault_current_in_A': '+0+0j A', 'fault_current_in_B': '+0+0j A', 'fault_current_in_C': '+0+0j A', 'fault_current_out_A': '+0+0j A', 'fault_current_out_B': '+0+0j A', 'fault_current_out_C': '+0+0j A', 'fault_voltage_A': '+0+0i A', 'fault_voltage_B': '+0+0i A', 'fault_voltage_C': '+0+0i A', 'flow_direction': 'CF|BF|AF', 'mean_repair_time': '+0 s', 'continuous_rating': '+1000 A', 'emergency_rating': '+2000 A', 'inrush_convergence_value': '+0.0001 V', 'phases': 'ABCN', 'nominal_voltage': '+2401.78 V'}, 'sw_201': {'id': '43', 'class': 'switch', 'rank': '1', 'clock': '2018-01-30 00:00:00 EST', 'schedule_skew': '0', 'rng_state': '1617819336', 'heartbeat': '0', 'guid': '0xef63de7c5dce68d79357fdc59fc9527', 'flags': '0x100', 'phase_A_state': 'CLOSED', 'phase_B_state': 'CLOSED', 'phase_C_state': 'CLOSED', 'operating_mode': 'BANKED', 'switch_resistance': '+0.0001 Ohm', 'status': 'CLOSED', 'from': 'node_002', 'to': 'node_201', 'power_in': '+117077+11.4972d VA', 'power_out': '+117077+11.4973d VA', 'power_out_real': '+114728 W', 'power_losses': '+0.0760784-45d VA', 'power_in_A': '+25356.4+15.0645d VA', 'power_in_B': '+20182.9+4.48879d VA', 'power_in_C': '+71743.5+12.204d VA', 'power_out_A': '+25356.4+15.0645d VA', 'power_out_B': '+20182.9+4.4888d VA', 'power_out_C': '+71743.5+12.204d VA', 'power_losses_A': '+0.00790693-45d VA', 'power_losses_B': '+0.00499583-45d VA', 'power_losses_C': '+0.0631756-45d VA', 'current_out_A': '+7.44627-7.50825j A', 'current_out_B': '-7.59029-3.61099j A', 'current_out_C': '+6.37551+29.2026j A', 'current_in_A': '+7.44627-7.50825i A', 'current_in_B': '-7.59029-3.61099i A', 'current_in_C': '+6.37551+29.2026i A', 'fault_current_in_A': '+0+0j A', 'fault_current_in_B': '+0+0j A', 'fault_current_in_C': '+0+0j A', 'fault_current_out_A': '+0+0j A', 'fault_current_out_B': '+0+0j A', 'fault_current_out_C': '+0+0j A', 'fault_voltage_A': '+0+0i A', 'fault_voltage_B': '+0+0i A', 'fault_voltage_C': '+0+0i A', 'flow_direction': 'CF|BF|AF', 'mean_repair_time': '+0 s', 'continuous_rating': '+1000 A', 'emergency_rating': '+2000 A', 'inrush_convergence_value': '+0.0001 V', 'phases': 'ABCN', 'nominal_voltage': '+2401.78 V'}, 'sw_301': {'id': '44', 'class': 'switch', 'rank': '1', 'clock': '2018-01-30 00:00:00 EST', 'schedule_skew': '0', 'rng_state': '1399125485', 'heartbeat': '0', 'guid': '0x50b4f72c0688586956ead51a31669bd3', 'flags': '0x100', 'phase_A_state': 'CLOSED', 'phase_B_state': 'CLOSED', 'phase_C_state': 'CLOSED', 'operating_mode': 'BANKED', 'switch_resistance': '+0.0001 Ohm', 'status': 'CLOSED', 'from': 'node_002', 'to': 'node_301', 'power_in': '+134256+26.6077d VA', 'power_out': '+134256+26.6078d VA', 'power_out_real': '+120037 W', 'power_losses': '+0.221666-45d VA', 'power_in_A': '+134256+26.6077d VA', 'power_in_B': '+7.72108e-06-105.069d VA', 'power_in_C': '+8.47173e-06+44.8884d VA', 'power_out_A': '+134256+26.6078d VA', 'power_out_B': '+7.72108e-06-105.069d VA', 'power_out_C': '+8.47173e-06+44.8884d VA', 'power_losses_A': '+0.221666-45d VA', 'power_losses_B': '+9.47012e-22-63.4349d VA', 'power_losses_C': '+0+0d VA', 'current_out_A': '+30.6736-46.8397j A', 'current_out_B': '+2.27374e-09-2.27374e-09j A', 'current_out_C': '+2.49578e-09+2.49578e-09j A', 'current_in_A': '+30.6736-46.8397i A', 'current_in_B': '+2.27374e-09-2.27374e-09i A', 'current_in_C': '+2.49578e-09+2.49578e-09i A', 'fault_current_in_A': '+0+0j A', 'fault_current_in_B': '+0+0j A', 'fault_current_in_C': '+0+0j A', 'fault_current_out_A': '+0+0j A', 'fault_current_out_B': '+0+0j A', 'fault_current_out_C': '+0+0j A', 'fault_voltage_A': '+0+0i A', 'fault_voltage_B': '+0+0i A', 'fault_voltage_C': '+0+0i A', 'flow_direction': 'CN|BN|AF', 'mean_repair_time': '+0 s', 'continuous_rating': '+1000 A', 'emergency_rating': '+2000 A', 'inrush_convergence_value': '+0.0001 V', 'phases': 'ABCN', 'nominal_voltage': '+2401.78 V'}, 'xfrm_101A': {'id': '60', 'class': 'transformer', 'rank': '1', 'clock': '2018-01-30 00:00:00 EST', 'schedule_skew': '0', 'rng_state': '1942727722', 'heartbeat': '0', 'guid': '0x310f6c715798e8a93d4896c112f4a601', 'flags': '0x100', 'configuration': 'xfmr_config', 'climate': '', 'ambient_temperature': '+0 degC', 'top_oil_hot_spot_temperature': '+0 degC', 'winding_hot_spot_temperature': '+0 degC', 'percent_loss_of_life': '+0', 'aging_constant': '+0', 'use_thermal_model': 'FALSE', 'transformer_replacement_count': '+0', 'aging_granularity': '+0 s', 'phase_A_primary_flux_value': '+0 Wb', 'phase_B_primary_flux_value': '+0 Wb', 'phase_C_primary_flux_value': '+0 Wb', 'phase_A_secondary_flux_value': '+0 Wb', 'phase_B_secondary_flux_value': '+0 Wb', 'phase_C_secondary_flux_value': '+0 Wb', 'status': 'CLOSED', 'from': 'load_101', 'to': 'node_101A', 'power_in': '+19421.6+6.16936d VA', 'power_out': '+19421.3+6.16789d VA', 'power_out_real': '+19308.9 W', 'power_losses': '+0.578522+65.5525d VA', 'power_in_A': '+19421.6+6.16936d VA', 'power_in_B': '+0+0d VA', 'power_in_C': '+0+0d VA', 'power_out_A': '+11148.2+6.978d VA', 'power_out_B': '+8243.3+732.299j VA', 'power_out_C': '+0-0j VA', 'power_losses_A': '+0.578522+65.5525d VA', 'power_losses_B': '+0+0j VA', 'power_losses_C': '+0+0j VA', 'current_out_A': '+93.0305-37.1539d A', 'current_out_B': '+69.0604+144.748d A', 'current_out_C': '+24.1173+137.394d A', 'current_in_A': '+8.10008-36.3438d A', 'current_in_B': '+0+0j A', 'current_in_C': '+0+0j A', 'fault_current_in_A': '+0+0j A', 'fault_current_in_B': '+0+0j A', 'fault_current_in_C': '+0+0j A', 'fault_current_out_A': '+0+0j A', 'fault_current_out_B': '+0+0j A', 'fault_current_out_C': '+0+0j A', 'fault_voltage_A': '+0+0i A', 'fault_voltage_B': '+0+0i A', 'fault_voltage_C': '+0+0i A', 'flow_direction': 'CN|BR|AF', 'mean_repair_time': '+0 s', 'continuous_rating': '+30000 A', 'emergency_rating': '+30000 A', 'inrush_convergence_value': '+0.0001 V', 'phases': 'AS', 'nominal_voltage': '+2401.78 V'}, 'xfrm_101B': {'id': '92', 'class': 'transformer', 'rank': '1', 'clock': '2018-01-30 00:00:00 EST', 'schedule_skew': '0', 'rng_state': '1936843598', 'heartbeat': '0', 'guid': '0x3b8e1d9e53a622994ab660c25e9aeeae', 'flags': '0x100', 'configuration': 'xfmr_config', 'climate': '', 'ambient_temperature': '+0 degC', 'top_oil_hot_spot_temperature': '+0 degC', 'winding_hot_spot_temperature': '+0 degC', 'percent_loss_of_life': '+0', 'aging_constant': '+0', 'use_thermal_model': 'FALSE', 'transformer_replacement_count': '+0', 'aging_granularity': '+0 s', 'phase_A_primary_flux_value': '+0 Wb', 'phase_B_primary_flux_value': '+0 Wb', 'phase_C_primary_flux_value': '+0 Wb', 'phase_A_secondary_flux_value': '+0 Wb', 'phase_B_secondary_flux_value': '+0 Wb', 'phase_C_secondary_flux_value': '+0 Wb', 'status': 'CLOSED', 'from': 'load_101', 'to': 'node_101B', 'power_in': '+23943.3+5.00491d VA', 'power_out': '+23942.9+5.0031d VA', 'power_out_real': '+23851.7 W', 'power_losses': '+0.356469+0.791911j VA', 'power_in_A': '+0+0d VA', 'power_in_B': '+23943.3+5.00491d VA', 'power_in_C': '+0+0d VA', 'power_out_A': '+13408.3+5.80325d VA', 'power_out_B': '+10512.1+732.3j VA', 'power_out_C': '+0+0j VA', 'power_losses_A': '+0+0j VA', 'power_losses_B': '+0.868443+65.7657d VA', 'power_losses_C': '+0+0j VA', 'current_out_A': '+111.735-155.878d A', 'current_out_B': '+87.8125+25.9401d A', 'current_out_C': '+24.1285+17.4903d A', 'current_in_A': '+0+0j A', 'current_in_B': '+9.97201-155.078d A', 'current_in_C': '+0+0j A', 'fault_current_in_A': '+0+0j A', 'fault_current_in_B': '+0+0j A', 'fault_current_in_C': '+0+0j A', 'fault_current_out_A': '+0+0j A', 'fault_current_out_B': '+0+0j A', 'fault_current_out_C': '+0+0j A', 'fault_voltage_A': '+0+0i A', 'fault_voltage_B': '+0+0i A', 'fault_voltage_C': '+0+0i A', 'flow_direction': 'CN|BF|AR', 'mean_repair_time': '+0 s', 'continuous_rating': '+30000 A', 'emergency_rating': '+30000 A', 'inrush_convergence_value': '+0.0001 V', 'phases': 'BS', 'nominal_voltage': '+2401.78 V'}, 'xfrm_101C': {'id': '124', 'class': 'transformer', 'rank': '1', 'clock': '2018-01-30 00:00:00 EST', 'schedule_skew': '0', 'rng_state': '2125083563', 'heartbeat': '0', 'guid': '0x19c5c4fab7900a0afbc2bb2659a9574', 'flags': '0x100', 'configuration': 'xfmr_config', 'climate': '', 'ambient_temperature': '+0 degC', 'top_oil_hot_spot_temperature': '+0 degC', 'winding_hot_spot_temperature': '+0 degC', 'percent_loss_of_life': '+0', 'aging_constant': '+0', 'use_thermal_model': 'FALSE', 'transformer_replacement_count': '+0', 'aging_granularity': '+0 s', 'phase_A_primary_flux_value': '+0 Wb', 'phase_B_primary_flux_value': '+0 Wb', 'phase_C_primary_flux_value': '+0 Wb', 'phase_A_secondary_flux_value': '+0 Wb', 'phase_B_secondary_flux_value': '+0 Wb', 'phase_C_secondary_flux_value': '+0 Wb', 'status': 'CLOSED', 'from': 'load_101', 'to': 'node_101C', 'power_in': '+19453.5+6.16227d VA', 'power_out': '+19453.2+6.16081d VA', 'power_out_real': '+19340.8 W', 'power_losses': '+0.239721+0.527291j VA', 'power_in_A': '+0+0d VA', 'power_in_B': '+0+0d VA', 'power_in_C': '+19453.5+6.16227d VA', 'power_out_A': '+11166.1+6.97208d VA', 'power_out_B': '+8257.32+732.299j VA', 'power_out_C': '-0+0j VA', 'power_losses_A': '+0+0j VA', 'power_losses_B': '+0+0j VA', 'power_losses_C': '+0.579225+65.5521d VA', 'current_out_A': '+93.083+82.9131d A', 'current_out_B': '+69.105-95.1827d A', 'current_out_C': '+24.1257-102.548d A', 'current_in_A': '+0+0j A', 'current_in_B': '+0+0j A', 'current_in_C': '+8.10493+83.7244d A', 'fault_current_in_A': '+0+0j A', 'fault_current_in_B': '+0+0j A', 'fault_current_in_C': '+0+0j A', 'fault_current_out_A': '+0+0j A', 'fault_current_out_B': '+0+0j A', 'fault_current_out_C': '+0+0j A', 'fault_voltage_A': '+0+0i A', 'fault_voltage_B': '+0+0i A', 'fault_voltage_C': '+0+0i A', 'flow_direction': 'CF|BR|AR', 'mean_repair_time': '+0 s', 'continuous_rating': '+30000 A', 'emergency_rating': '+30000 A', 'inrush_convergence_value': '+0.0001 V', 'phases': 'CS', 'nominal_voltage': '+2401.78 V'}, 'xfrm_102A': {'id': '156', 'class': 'transformer', 'rank': '1', 'clock': '2018-01-30 00:00:00 EST', 'schedule_skew': '0', 'rng_state': '666739982', 'heartbeat': '0', 'guid': '0x53b4b289a35ece6a345a8792c7fd763a', 'flags': '0x100', 'configuration': 'xfmr_config', 'climate': '', 'ambient_temperature': '+0 degC', 'top_oil_hot_spot_temperature': '+0 degC', 'winding_hot_spot_temperature': '+0 degC', 'percent_loss_of_life': '+0', 'aging_constant': '+0', 'use_thermal_model': 'FALSE', 'transformer_replacement_count': '+0', 'aging_granularity': '+0 s', 'phase_A_primary_flux_value': '+0 Wb', 'phase_B_primary_flux_value': '+0 Wb', 'phase_C_primary_flux_value': '+0 Wb', 'phase_A_secondary_flux_value': '+0 Wb', 'phase_B_secondary_flux_value': '+0 Wb', 'phase_C_secondary_flux_value': '+0 Wb', 'status': 'CLOSED', 'from': 'load_102', 'to': 'node_102A', 'power_in': '+19418+6.17016d VA', 'power_out': '+19417.7+6.16869d VA', 'power_out_real': '+19305.3 W', 'power_losses': '+0.578443+65.5525d VA', 'power_in_A': '+19418+6.17016d VA', 'power_in_B': '+0+0d VA', 'power_in_C': '+0+0d VA', 'power_out_A': '+11146.2+6.97867d VA', 'power_out_B': '+8241.72+732.299j VA', 'power_out_C': '+0-0j VA', 'power_losses_A': '+0.578443+65.5525d VA', 'power_losses_B': '+0+0j VA', 'power_losses_C': '+0+0j VA', 'current_out_A': '+93.0247-37.1605d A', 'current_out_B': '+69.0554+144.741d A', 'current_out_C': '+24.1164+137.388d A', 'current_in_A': '+8.09954-36.3505d A', 'current_in_B': '+0+0j A', 'current_in_C': '+0+0j A', 'fault_current_in_A': '+0+0j A', 'fault_current_in_B': '+0+0j A', 'fault_current_in_C': '+0+0j A', 'fault_current_out_A': '+0+0j A', 'fault_current_out_B': '+0+0j A', 'fault_current_out_C': '+0+0j A', 'fault_voltage_A': '+0+0i A', 'fault_voltage_B': '+0+0i A', 'fault_voltage_C': '+0+0i A', 'flow_direction': 'CN|BR|AF', 'mean_repair_time': '+0 s', 'continuous_rating': '+30000 A', 'emergency_rating': '+30000 A', 'inrush_convergence_value': '+0.0001 V', 'phases': 'AS', 'nominal_voltage': '+2401.78 V'}, 'xfrm_102B': {'id': '188', 'class': 'transformer', 'rank': '1', 'clock': '2018-01-30 00:00:00 EST', 'schedule_skew': '0', 'rng_state': '1306714039', 'heartbeat': '0', 'guid': '0x715b3646370781a36090046325c23bbf', 'flags': '0x100', 'configuration': 'xfmr_config', 'climate': '', 'ambient_temperature': '+0 degC', 'top_oil_hot_spot_temperature': '+0 degC', 'winding_hot_spot_temperature': '+0 degC', 'percent_loss_of_life': '+0', 'aging_constant': '+0', 'use_thermal_model': 'FALSE', 'transformer_replacement_count': '+0', 'aging_granularity': '+0 s', 'phase_A_primary_flux_value': '+0 Wb', 'phase_B_primary_flux_value': '+0 Wb', 'phase_C_primary_flux_value': '+0 Wb', 'phase_A_secondary_flux_value': '+0 Wb', 'phase_B_secondary_flux_value': '+0 Wb', 'phase_C_secondary_flux_value': '+0 Wb', 'status': 'CLOSED', 'from': 'load_102', 'to': 'node_102B', 'power_in': '+23942.8+5.00499d VA', 'power_out': '+23942.3+5.00318d VA', 'power_out_real': '+23851.1 W', 'power_losses': '+0.356463+0.791896j VA', 'power_in_A': '+0+0d VA', 'power_in_B': '+23942.8+5.00499d VA', 'power_in_C': '+0+0d VA', 'power_out_A': '+13408+5.80332d VA', 'power_out_B': '+10511.8+732.3j VA', 'power_out_C': '+0+0j VA', 'power_losses_A': '+0+0j VA', 'power_losses_B': '+0.868427+65.7656d VA', 'power_losses_C': '+0+0j VA', 'current_out_A': '+111.734-155.882d A', 'current_out_B': '+87.8117+25.9363d A', 'current_out_C': '+24.1284+17.4866d A', 'current_in_A': '+0+0j A', 'current_in_B': '+9.97192-155.082d A', 'current_in_C': '+0+0j A', 'fault_current_in_A': '+0+0j A', 'fault_current_in_B': '+0+0j A', 'fault_current_in_C': '+0+0j A', 'fault_current_out_A': '+0+0j A', 'fault_current_out_B': '+0+0j A', 'fault_current_out_C': '+0+0j A', 'fault_voltage_A': '+0+0i A', 'fault_voltage_B': '+0+0i A', 'fault_voltage_C': '+0+0i A', 'flow_direction': 'CN|BF|AR', 'mean_repair_time': '+0 s', 'continuous_rating': '+30000 A', 'emergency_rating': '+30000 A', 'inrush_convergence_value': '+0.0001 V', 'phases': 'BS', 'nominal_voltage': '+2401.78 V'}, 'xfrm_102C': {'id': '220', 'class': 'transformer', 'rank': '1', 'clock': '2018-01-30 00:00:00 EST', 'schedule_skew': '0', 'rng_state': '367547530', 'heartbeat': '0', 'guid': '0x7abaa03392939b9b3c5f32251ee668dd', 'flags': '0x100', 'configuration': 'xfmr_config', 'climate': '', 'ambient_temperature': '+0 degC', 'top_oil_hot_spot_temperature': '+0 degC', 'winding_hot_spot_temperature': '+0 degC', 'percent_loss_of_life': '+0', 'aging_constant': '+0', 'use_thermal_model': 'FALSE', 'transformer_replacement_count': '+0', 'aging_granularity': '+0 s', 'phase_A_primary_flux_value': '+0 Wb', 'phase_B_primary_flux_value': '+0 Wb', 'phase_C_primary_flux_value': '+0 Wb', 'phase_A_secondary_flux_value': '+0 Wb', 'phase_B_secondary_flux_value': '+0 Wb', 'phase_C_secondary_flux_value': '+0 Wb', 'status': 'CLOSED', 'from': 'load_102', 'to': 'node_102C', 'power_in': '+14988.6+8.00748d VA', 'power_out': '+14988.4+8.00636d VA', 'power_out_real': '+14842.3 W', 'power_losses': '+0.147411+0.318057j VA', 'power_in_A': '+0+0d VA', 'power_in_B': '+0+0d VA', 'power_in_C': '+14988.6+8.00748d VA', 'power_out_A': '+8937.45+8.72231d VA', 'power_out_B': '+6008.18+732.298j VA', 'power_out_C': '-0+0j VA', 'power_losses_A': '+0+0j VA', 'power_losses_B': '+0+0j VA', 'power_losses_C': '+0.350557+65.1335d VA', 'current_out_A': '+74.5104+81.1621d A', 'current_out_B': '+50.4601-97.0647d A', 'current_out_C': '+24.1251-102.549d A', 'current_in_A': '+0+0j A', 'current_in_B': '+0+0j A', 'current_in_C': '+6.24521+81.878d A', 'fault_current_in_A': '+0+0j A', 'fault_current_in_B': '+0+0j A', 'fault_current_in_C': '+0+0j A', 'fault_current_out_A': '+0+0j A', 'fault_current_out_B': '+0+0j A', 'fault_current_out_C': '+0+0j A', 'fault_voltage_A': '+0+0i A', 'fault_voltage_B': '+0+0i A', 'fault_voltage_C': '+0+0i A', 'flow_direction': 'CF|BR|AR', 'mean_repair_time': '+0 s', 'continuous_rating': '+30000 A', 'emergency_rating': '+30000 A', 'inrush_convergence_value': '+0.0001 V', 'phases': 'CS', 'nominal_voltage': '+2401.78 V'}, 'xfrm_103A': {'id': '252', 'class': 'transformer', 'rank': '1', 'clock': '2018-01-30 00:00:00 EST', 'schedule_skew': '0', 'rng_state': '720828240', 'heartbeat': '0', 'guid': '0x77d14050d5fd35146fc5a0d45368b753', 'flags': '0x100', 'configuration': 'xfmr_config', 'climate': '', 'ambient_temperature': '+0 degC', 'top_oil_hot_spot_temperature': '+0 degC', 'winding_hot_spot_temperature': '+0 degC', 'percent_loss_of_life': '+0', 'aging_constant': '+0', 'use_thermal_model': 'FALSE', 'transformer_replacement_count': '+0', 'aging_granularity': '+0 s', 'phase_A_primary_flux_value': '+0 Wb', 'phase_B_primary_flux_value': '+0 Wb', 'phase_C_primary_flux_value': '+0 Wb', 'phase_A_secondary_flux_value': '+0 Wb', 'phase_B_secondary_flux_value': '+0 Wb', 'phase_C_secondary_flux_value': '+0 Wb', 'status': 'CLOSED', 'from': 'load_103', 'to': 'node_103A', 'power_in': '+19419.4+6.16986d VA', 'power_out': '+19419.1+6.16839d VA', 'power_out_real': '+19306.7 W', 'power_losses': '+0.578473+65.5525d VA', 'power_in_A': '+19419.4+6.16986d VA', 'power_in_B': '+0+0d VA', 'power_in_C': '+0+0d VA', 'power_out_A': '+11146.9+6.97841d VA', 'power_out_B': '+8242.32+732.299j VA', 'power_out_C': '+0-0j VA', 'power_losses_A': '+0.578473+65.5525d VA', 'power_losses_B': '+0+0j VA', 'power_losses_C': '+0+0j VA', 'current_out_A': '+93.0269-37.1609d A', 'current_out_B': '+69.0573+144.74d A', 'current_out_C': '+24.1167+137.388d A', 'current_in_A': '+8.09975-36.3509d A', 'current_in_B': '+0+0j A', 'current_in_C': '+0+0j A', 'fault_current_in_A': '+0+0j A', 'fault_current_in_B': '+0+0j A', 'fault_current_in_C': '+0+0j A', 'fault_current_out_A': '+0+0j A', 'fault_current_out_B': '+0+0j A', 'fault_current_out_C': '+0+0j A', 'fault_voltage_A': '+0+0i A', 'fault_voltage_B': '+0+0i A', 'fault_voltage_C': '+0+0i A', 'flow_direction': 'CN|BR|AF', 'mean_repair_time': '+0 s', 'continuous_rating': '+30000 A', 'emergency_rating': '+30000 A', 'inrush_convergence_value': '+0.0001 V', 'phases': 'AS', 'nominal_voltage': '+2401.78 V'}, 'xfrm_103B': {'id': '284', 'class': 'transformer', 'rank': '1', 'clock': '2018-01-30 00:00:00 EST', 'schedule_skew': '0', 'rng_state': '632171277', 'heartbeat': '0', 'guid': '0x70a0669f214b910c22c3e074634e9e40', 'flags': '0x100', 'configuration': 'xfmr_config', 'climate': '', 'ambient_temperature': '+0 degC', 'top_oil_hot_spot_temperature': '+0 degC', 'winding_hot_spot_temperature': '+0 degC', 'percent_loss_of_life': '+0', 'aging_constant': '+0', 'use_thermal_model': 'FALSE', 'transformer_replacement_count': '+0', 'aging_granularity': '+0 s', 'phase_A_primary_flux_value': '+0 Wb', 'phase_B_primary_flux_value': '+0 Wb', 'phase_C_primary_flux_value': '+0 Wb', 'phase_A_secondary_flux_value': '+0 Wb', 'phase_B_secondary_flux_value': '+0 Wb', 'phase_C_secondary_flux_value': '+0 Wb', 'status': 'CLOSED', 'from': 'load_103', 'to': 'node_103B', 'power_in': '+28424.1+4.21482d VA', 'power_out': '+28423.5+4.21266d VA', 'power_out_real': '+28346.7 W', 'power_losses': '+0.497345+1.11123j VA', 'power_in_A': '+0+0d VA', 'power_in_B': '+28424.1+4.21482d VA', 'power_in_C': '+0+0d VA', 'power_out_A': '+15645.7+4.9707d VA', 'power_out_B': '+12759.8+732.302j VA', 'power_out_C': '+0+0j VA', 'power_losses_A': '+0+0j VA', 'power_losses_B': '+1.21745+65.8885d VA', 'power_losses_C': '+0+0j VA', 'current_out_A': '+130.394-155.047d A', 'current_out_B': '+106.517+26.6392d A', 'current_out_C': '+24.1277+17.4895d A', 'current_in_A': '+0+0j A', 'current_in_B': '+11.8394-154.289d A', 'current_in_C': '+0+0j A', 'fault_current_in_A': '+0+0j A', 'fault_current_in_B': '+0+0j A', 'fault_current_in_C': '+0+0j A', 'fault_current_out_A': '+0+0j A', 'fault_current_out_B': '+0+0j A', 'fault_current_out_C': '+0+0j A', 'fault_voltage_A': '+0+0i A', 'fault_voltage_B': '+0+0i A', 'fault_voltage_C': '+0+0i A', 'flow_direction': 'CN|BF|AR', 'mean_repair_time': '+0 s', 'continuous_rating': '+30000 A', 'emergency_rating': '+30000 A', 'inrush_convergence_value': '+0.0001 V', 'phases': 'BS', 'nominal_voltage': '+2401.78 V'}, 'xfrm_103C': {'id': '316', 'class': 'transformer', 'rank': '1', 'clock': '2018-01-30 00:00:00 EST', 'schedule_skew': '0', 'rng_state': '1674817977', 'heartbeat': '0', 'guid': '0x6d27631b947622657d598106ee903386', 'flags': '0x100', 'configuration': 'xfmr_config', 'climate': '', 'ambient_temperature': '+0 degC', 'top_oil_hot_spot_temperature': '+0 degC', 'winding_hot_spot_temperature': '+0 degC', 'percent_loss_of_life': '+0', 'aging_constant': '+0', 'use_thermal_model': 'FALSE', 'transformer_replacement_count': '+0', 'aging_granularity': '+0 s', 'phase_A_primary_flux_value': '+0 Wb', 'phase_B_primary_flux_value': '+0 Wb', 'phase_C_primary_flux_value': '+0 Wb', 'phase_A_secondary_flux_value': '+0 Wb', 'phase_B_secondary_flux_value': '+0 Wb', 'phase_C_secondary_flux_value': '+0 Wb', 'status': 'CLOSED', 'from': 'load_103', 'to': 'node_103C', 'power_in': '+28402.9+4.21709d VA', 'power_out': '+28402.3+4.21493d VA', 'power_out_real': '+28325.5 W', 'power_losses': '+0.497035+1.11054j VA', 'power_in_A': '+0+0d VA', 'power_in_B': '+0+0d VA', 'power_in_C': '+28402.9+4.21709d VA', 'power_out_A': '+15634.3+4.97275d VA', 'power_out_B': '+12750+732.302j VA', 'power_out_C': '-0+0j VA', 'power_losses_A': '+0+0j VA', 'power_losses_B': '+0+0j VA', 'power_losses_C': '+1.21669+65.8886d VA', 'current_out_A': '+130.356+84.9014d A', 'current_out_B': '+106.482-93.413d A', 'current_out_C': '+24.1242-102.559d A', 'current_in_A': '+0+0j A', 'current_in_B': '+0+0j A', 'current_in_C': '+11.8357+85.6592d A', 'fault_current_in_A': '+0+0j A', 'fault_current_in_B': '+0+0j A', 'fault_current_in_C': '+0+0j A', 'fault_current_out_A': '+0+0j A', 'fault_current_out_B': '+0+0j A', 'fault_current_out_C': '+0+0j A', 'fault_voltage_A': '+0+0i A', 'fault_voltage_B': '+0+0i A', 'fault_voltage_C': '+0+0i A', 'flow_direction': 'CF|BR|AR', 'mean_repair_time': '+0 s', 'continuous_rating': '+30000 A', 'emergency_rating': '+30000 A', 'inrush_convergence_value': '+0.0001 V', 'phases': 'CS', 'nominal_voltage': '+2401.78 V'}}\n",
      "[('node_101', 'line_node101_node102'), ('line_node101_node102', 'node_102'), ('node_102', 'line_node102_node103'), ('line_node102_node103', 'node_103'), ('node_201', 'line_node201_node202'), ('line_node201_node202', 'node_202'), ('node_202', 'line_node202_node203'), ('line_node202_node203', 'node_203'), ('node_301', 'line_node301_node302'), ('line_node301_node302', 'node_302'), ('node_302', 'line_node302_node303'), ('line_node302_node303', 'node_303'), ('node_101', 'line_node101_load101'), ('line_node101_load101', 'load_101'), ('node_102', 'line_node102_load102'), ('line_node102_load102', 'load_102'), ('node_103', 'line_node103_load103'), ('line_node103_load103', 'load_103'), ('node_201', 'line_node201_load201'), ('line_node201_load201', 'load_201'), ('node_202', 'line_node202_load202'), ('line_node202_load202', 'load_202'), ('node_203', 'line_node203_load203'), ('line_node203_load203', 'load_203'), ('node_301', 'line_node301_load301'), ('line_node301_load301', 'load_301'), ('node_302', 'line_node302_load302'), ('line_node302_load302', 'load_302'), ('node_303', 'line_node303_load303'), ('line_node303_load303', 'load_303'), ('node_001', 'tf_main'), ('tf_main', 'node_002'), ('node_002', 'sw_101'), ('sw_101', 'node_101'), ('node_002', 'sw_201'), ('sw_201', 'node_201'), ('node_002', 'sw_301'), ('sw_301', 'node_301'), ('load_101', 'xfrm_101A'), ('xfrm_101A', 'node_101A'), ('load_101', 'xfrm_101B'), ('xfrm_101B', 'node_101B'), ('load_101', 'xfrm_101C'), ('xfrm_101C', 'node_101C'), ('load_102', 'xfrm_102A'), ('xfrm_102A', 'node_102A'), ('load_102', 'xfrm_102B'), ('xfrm_102B', 'node_102B'), ('load_102', 'xfrm_102C'), ('xfrm_102C', 'node_102C'), ('load_103', 'xfrm_103A'), ('xfrm_103A', 'node_103A'), ('load_103', 'xfrm_103B'), ('xfrm_103B', 'node_103B'), ('load_103', 'xfrm_103C'), ('xfrm_103C', 'node_103C')]\n"
     ]
    },
    {
     "data": {
      "text/plain": [
       "<Figure size 432x288 with 0 Axes>"
      ]
     },
     "metadata": {},
     "output_type": "display_data"
    }
   ],
   "source": [
    "if __name__ == '__main__' :\n",
    "    two_branch_nodes, two_branch_edges, nodes, links, substation_node = object_def()\n",
    "    graphs = series_graphs(two_branch_nodes, two_branch_edges)\n",
    "    G_org = original_graph(nodes, links)\n",
    "    #G_p, G_p_enum = graph_simplification(nodes, links, graphs, substation_node)\n",
    "    \n",
    "    \n",
    "    \n",
    "    #### GRAPH PLOTTING ########\n",
    "    # Plot original\n",
    "    pos = hierarchy_pos(G_org,substation_node)\n",
    "    nx.draw(G_org, pos=pos, node_size=1,with_labels=True, font_size=1, width = 0.1)\n",
    "\n",
    "    plt.savefig('original_graph.png', dpi=1500)\n",
    "    plt.clf()\n",
    "    \n",
    "   # node_of_interest = 1\n",
    "  #  G = nx.OrderedGraph()\n",
    "    #G = graph_cut(G_p_enum, node_of_interest)\n",
    "    \n",
    "    # FUNCTION FOR RE-ENUMERATING THE CUT GRAPH\n",
    "    #G_enum=nx.convert_node_labels_to_integers(G)\n",
    "   # G_enum = G\n",
    "    \n",
    "    # PLOT cut GRAPH\n",
    "  #  pos_p = hierarchy_pos(G_enum,0)\n",
    "   # nx.draw(G_enum, pos=pos_p, node_size=1,with_labels=True, font_size=1, width = 0.1)\n",
    "\n",
    " #   plt.savefig('cut_graph.png', dpi=1500)\n",
    " #   plt.clf()\n",
    "    \n",
    "#     #PLOT GRAPH WITH ORIGINAL OBJECT NAMES\n",
    "#     pos_p = hierarchy_pos(G_p_sort,root_node)\n",
    "#     nx.draw(G_p_sort, pos=pos_p, node_size=1,with_labels=True, font_size=1, width =0.01)\n",
    "#     plt.savefig('heirarchy_p.png', dpi=1500) \n",
    "#     plt.clf()\n",
    "    \n",
    "#     pos_p = hierarchy_pos(G_enum,0)\n",
    "#     nx.draw(G_enum, pos=pos_p, node_size=1,with_labels=True, font_size=1, width =0.1)\n",
    "#     plt.savefig('graph_cut.png', dpi=1500) \n",
    "#     plt.clf()\n"
   ]
  },
  {
   "cell_type": "code",
   "execution_count": null,
   "metadata": {},
   "outputs": [],
   "source": []
  },
  {
   "cell_type": "code",
   "execution_count": null,
   "metadata": {},
   "outputs": [],
   "source": []
  }
 ],
 "metadata": {
  "kernelspec": {
   "display_name": "Python 3",
   "language": "python",
   "name": "python3"
  },
  "language_info": {
   "codemirror_mode": {
    "name": "ipython",
    "version": 3
   },
   "file_extension": ".py",
   "mimetype": "text/x-python",
   "name": "python",
   "nbconvert_exporter": "python",
   "pygments_lexer": "ipython3",
   "version": "3.7.0"
  }
 },
 "nbformat": 4,
 "nbformat_minor": 2
}
