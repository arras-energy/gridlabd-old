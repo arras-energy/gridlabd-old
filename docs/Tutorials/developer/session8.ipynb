{
 "cells": [
  {
   "cell_type": "markdown",
   "id": "eb6be9c9",
   "metadata": {},
   "source": [
    "# HiPAS GridLAB-D \n",
    "# Developer Training Session 8\n",
    "## Data and Model Converters\n",
    "### David P. Chassin \n",
    "### Summer 2022\n",
    "### dchassin@stanford.edu\n",
    "\n",
    "SLAC National Accelerator Laboratory\n",
    "\n",
    "Operated by Stanford University for the US Department of Energy\n"
   ]
  },
  {
   "cell_type": "markdown",
   "id": "483f04b5",
   "metadata": {
    "slideshow": {
     "slide_type": "slide"
    }
   },
   "source": [
    "# Fundamentals\n",
    "\n",
    "**Converters are automatic on the command line:**\n",
    "\n",
    "    $ gridlabd INPUT1.EXT1 INPUT2.EXT2 ... -o OUTPUT.EXT3 [OPTIONS ...]`\n",
    "\n",
    "* Syntax used for both data and model files\n",
    "\n",
    "**Two important characteristics of all data and model files**\n",
    "\n",
    "* *Format* - the structure of the data (this is the extension)\n",
    "\n",
    "* *Semantics* - the meaning of the data (this is not always obvious)\n",
    "\n",
    "**Format determined by default using file extension**\n",
    "\n",
    "* Automatic converters output to GLM by default"
   ]
  },
  {
   "cell_type": "markdown",
   "id": "cfcccebf",
   "metadata": {
    "slideshow": {
     "slide_type": "slide"
    }
   },
   "source": [
    "# Semantic hints      \n",
    "\n",
    "**Semantic information must be provided**\n",
    "\n",
    "    $ gridlabd -D csv_load_options=ami ami_data.csv\n",
    "\n",
    "**Semantic hints applied as they appear in command line**\n",
    "\n",
    "* Use `<ext>_load_options='-t <type>` for input\n",
    "* Use `<ext>_save_options='-f <format>` for output\n",
    "\n",
    "**Example**\n",
    "\n",
    "    $ gridlabd -D csv_load_options='-t ceus' ceus.csv -D csv_load_options='-t table' objects.csv -D json_save_options='-f profile' -o output.json\n"
   ]
  },
  {
   "cell_type": "markdown",
   "id": "3a8df34a",
   "metadata": {
    "slideshow": {
     "slide_type": "slide"
    }
   },
   "source": [
    "\n",
    "# Converter options\n",
    "\n",
    "**Subcommand syntax**\n",
    "\n",
    "    $ gridlabd convert -i INPUT -o OUTPUT -f TYPE1 -t TYPE2 [OPTIONS ...]\n",
    "\n",
    "**Converters usually support URLs for input**\n",
    "\n",
    "    $ gridlabd convert http://example.com/data.csv -o model.glm -f csv-table -t glm-object\n",
    "\n",
    "**All converters work as GLM macros**\n",
    "\n",
    "    #convert INPUT -o OUTPUT -f EXT-TYPE -t EXT-TYPE [OPTIONS ...]"
   ]
  },
  {
   "cell_type": "markdown",
   "id": "17bf04c4",
   "metadata": {
    "slideshow": {
     "slide_type": "slide"
    }
   },
   "source": [
    "# Formats and Semantics\n",
    "\n",
    "| Input format | Output format | Input semantics | Output Semantics | Remarks\n",
    "| :-- | :-- | :-- | :-- | :--\n",
    "| csv | glm | ceus | ceus | Load data from CEUS websites to `commercial.ceus` object\n",
    "|     |     | rbsa | rbsa | Load data from CEUS websites to `residential.rbsa` object\n",
    "|     |     | config | config | CSV table to GLM `#define` statements\n",
    "|     |     | modify | modify | CSV table to GLM `modify` directives\n",
    "|     |     | noaa-weather | weather | Convert NOAA LCD weather file to GLM weather object\n",
    "|     |     | onpoint-weather | weather | Convert Onpoint Weather file to GLM weather object\n",
    "|     |     | scada | ceus, rbsa | Convert CSV SCADA file to CEUS or RBSA objects\n",
    "|     |     | visualcrossing-weather | weather | Convert VisualCrossing weather file to GLM weather object\n",
    "| csv | kml | geodata | | Convert geodata to KML \n",
    "| json | csv | gridlabd | profile | Generate voltage profile in CSV format\n",
    "|      | html | gridlabd |  | Generate a viewable HTML file\n",
    "|      | png | gridlabd | oneline | Generate a oneline diagram\n",
    "| mdb  | glm | cyme |  | Convert Cyme models to GLM\n",
    "| zip  | glm |  |  | Extract GLM file from ZIP"
   ]
  },
  {
   "cell_type": "markdown",
   "id": "c4f95421",
   "metadata": {
    "slideshow": {
     "slide_type": "slide"
    }
   },
   "source": [
    "# CEUS data\n",
    "**CEUS loadshape data**\n",
    "\n",
    "    Month,Daytype,Hour,Heating,Cooling,Ventilation,Water_Heating,Cooking,Refrigeration,Exterior_Lig ...\n",
    "    1,WEEKDAY,0,0.7264,0.0000,0.1312,0.0383,0.0003,0.0940,0.2565,0.0768,0.0839,0.2104,0.0342,0.0000\n",
    "    1,WEEKDAY,1,0.7447,0.0000,0.1324,0.0383,0.0003,0.0940,0.2565,0.0768,0.0839,0.2104,0.0342,0.0000\n",
    "    1,WEEKDAY,2,0.7703,0.0000,0.1335,0.0383,0.0003,0.0940,0.2565,0.0773,0.0839,0.2104,0.0342,0.0000\n",
    "    1,WEEKDAY,3,0.7809,0.0000,0.1345,0.0384,0.0003,0.0940,0.2565,0.0843,0.0842,0.2107,0.0352,0.0007\n",
    "\n",
    "**Subcommand example**\n",
    "\n",
    "    $gridlabd convert -i FCZ01_AOFF.csv -o output_ceus.glm -f csv-ceus -t glm-ceus -p floor_area=25000sf -p weather=CA-Oakland_Metropolitan_Arpt.tmy3\n",
    "\n",
    "**Output GLM**\n",
    "\n",
    "    // generated by csv-ceus2glm-ceus.py\n",
    "    object ceus {\n",
    "        floor_area \"25000sf\";\n",
    "        filename \"FCZ01_AOFF.csv\";\n",
    "        weather \"CA-Oakland_Metropolitan_Arpt.tmy3\";\n",
    "    }\n"
   ]
  },
  {
   "cell_type": "markdown",
   "id": "5d3421f0",
   "metadata": {
    "slideshow": {
     "slide_type": "slide"
    }
   },
   "source": [
    "#  RBSA data\n",
    "**Input loadshape data**\n",
    "\n",
    "    Month,Daytype,Hour,Appliances,Cooking,Cooling,Electronics,ExteriorLighting, ...\n",
    "    1,WEEKDAY,0,0.1049,0.0054,0,0.0761,0,0.5003,1.4327,0.0446,0.0798,0.2213,0.1 ...\n",
    "    1,WEEKDAY,1,0.1047,0.0069,0,0.0721,0,0.5941,1.5816,0.0440,0.0870,0.2243,0.1 ...\n",
    "\n",
    "**Subcommand**\n",
    "\n",
    "    $gridlabd convert -i input_rbsa.csv -o output_rbsa.glm -f csv-rbsa -t glm-rbsa -p 'floor_area=1500sf' -p composition='Heating:{ZR:0.9;PR:0.1;PI:0.01}' ...'\n",
    "\n",
    "**Output GLM**\n",
    "\n",
    "    object rbsa \n",
    "    {\n",
    "        filename \"input_rbsa.csv\";\n",
    "        floor_area 1500 sf;\n",
    "        composition \"Heating:{ZR:0.9;PR:0.1;PI:0.01}\";\n",
    "        ...\n",
    "    }"
   ]
  },
  {
   "cell_type": "markdown",
   "id": "62905473",
   "metadata": {
    "slideshow": {
     "slide_type": "slide"
    }
   },
   "source": [
    "# Globals table\n",
    "\n",
    "**Input file**\n",
    "\n",
    "    MY_INT,1\n",
    "    MY_FLOAT,1.2\n",
    "    MY_STRING,test string\n",
    "\n",
    "**GLM file**\n",
    "\n",
    "    #convert -i input.csv -o output.glm -f csv-config -t glm-config\n",
    "    #include \"output.glm\"\n",
    "\n",
    "**Output file**\n",
    "\n",
    "    #define MY_INT=1\n",
    "    #define MY_FLOAT=1.2\n",
    "    #define MY_STRING=test string"
   ]
  },
  {
   "cell_type": "markdown",
   "id": "d4c748bc",
   "metadata": {
    "slideshow": {
     "slide_type": "slide"
    }
   },
   "source": [
    "# Property table\n",
    "\n",
    "**Input file**\n",
    "\n",
    "    load1.phases,ABC\n",
    "    load1.constant_power_A,10 kW\n",
    "    load1.constant_power_B,8 kW\n",
    "\n",
    "**GLM file**\n",
    "\n",
    "    module powerflow;\n",
    "    object load {\n",
    "        name load1;\n",
    "        nominal_voltage 120 V;\n",
    "    }\n",
    "    #convert -i test_modify.csv -o test_modify_opt.glm -f csv-modify -t glm-modify\n",
    "    #include \"test_modify_opt.glm\"\n",
    "\n",
    "**Output file**\n",
    "\n",
    "    modify load1.phases \"ABC\";\n",
    "    modify load1.constant_power_A \"10 kW\";\n",
    "    modify load1.constant_power_B \"8 kW\";"
   ]
  },
  {
   "cell_type": "markdown",
   "id": "ef427c4d",
   "metadata": {
    "slideshow": {
     "slide_type": "slide"
    }
   },
   "source": [
    "# Library data\n",
    "\n",
    "**Input file**\n",
    "\n",
    "    class,name,value1,value2\n",
    "    test,item1,1.2,3.4\n",
    "    test,item2,5.6,7.8\n",
    "\n",
    "**GLM file**\n",
    "\n",
    "    class test { double value1; double value2; }\n",
    "    #convert -i ${DIR:-.}/test_library.csv -o test_library_opt.glm -f csv-table -t glm-library\n",
    "    #include \"test_library_opt.glm\"\n",
    "\n",
    "**Output file**\n",
    "\n",
    "    object test\n",
    "    {\n",
    "        name \"item1\";\n",
    "        value1 \"1.2\";\n",
    "        value2 \"3.4\";\n",
    "    } ..."
   ]
  },
  {
   "cell_type": "markdown",
   "id": "416fe3db",
   "metadata": {
    "slideshow": {
     "slide_type": "slide"
    }
   },
   "source": [
    "# Object data\n",
    "\n",
    "**Input file**\n",
    "\n",
    "    name,value1,value2\n",
    "    item1,1.2,3.4\n",
    "    item2,5.6,7.8\n",
    "\n",
    "**GLM file**\n",
    "\n",
    "    class test { double value1; double value2; }\n",
    "    #convert -i ${DIR:-.}/test_object.csv -o test_object_opt.glm -f csv-table -t glm-object class=test\n",
    "    #include \"test_object_opt.glm\"\n",
    "\n",
    "**Output file**\n",
    "\n",
    "    object test { \n",
    "        name \"item1\";\n",
    "        value1 1.2;\n",
    "        value2 3.4;\n",
    "    } ..."
   ]
  },
  {
   "cell_type": "markdown",
   "id": "38b1bbef",
   "metadata": {
    "slideshow": {
     "slide_type": "slide"
    }
   },
   "source": [
    "# NOAA weather\n",
    "\n",
    "**Input file**\n",
    "\n",
    "    \"STATION\",\"DATE\",\"REPORT_TYPE\",\"SOURCE\",\"AWND\",\"BackupDirection\",\"BackupDistance ...\n",
    "    \"72594524283\",\"2019-01-01T00:53:00\",\"FM-15\",\"7\",,,,,,,,,,,,,,,,,,,,,,,,,,,,,,,,, ...\n",
    "    \"72594524283\",\"2019-01-01T01:53:00\",\"FM-15\",\"7\",,,,,,,,,,,,,,,,,,,,,,,,,,,,,,,,, ...\n",
    "    \"72594524283\",\"2019-01-01T02:53:00\",\"FM-15\",\"7\",,,,,,,,,,,,,,,,,,,,,,,,,,,,,,,,, ...\n",
    "    \"72594524283\",\"2019-01-01T03:53:00\",\"FM-15\",\"7\",,,,,,,,,,,,,,,,,,,,,,,,,,,,,,,,, ...\n",
    "\n",
    "**GLM file**\n",
    "\n",
    "    #input \"https://s3-us-west-1.amazonaws.com/weather.gridlabd.us/test_data/noaa.csv\" -o test_data.glm -f noaa-weather -t weather -p station_id=72594524283 -p latitude=37.7749 -p longitude=-122.4194 -p timezone=-07:00 \n",
    "\n",
    "**Output GLM**\n",
    "\n",
    "    module tape;\n",
    "    class weather {\n",
    "        char32 station_id;\n",
    "        double temperature[degF];\n",
    "        double humidity[%];\n",
    "        ..."
   ]
  },
  {
   "cell_type": "markdown",
   "id": "d861b07f",
   "metadata": {
    "slideshow": {
     "slide_type": "slide"
    }
   },
   "source": [
    "    ...\n",
    "    object weather\n",
    "    {\n",
    "        name \"test_data\";\n",
    "        station_id \"72594524283\";\n",
    "        object player\n",
    "        {\n",
    "            file \"test_data.csv\";\n",
    "            property \"temperature[degF],humidity[%],wind_speed[mph],wind_dir[deg],pressure[inHg],rainfall[in/h],opq_sky_cov[pu],solar_global[W/sf],solar_direct[W/sf],solar_diffuse[W/sf]\";\n",
    "        };\n",
    "    }\n",
    "\n",
    "**Weather data**\n",
    "\n",
    "    #datetime,temperature[degF],humidity[%],wind_speed[mph],wind_dir[deg],pressure[inHg],rainfall[in/h],opq_sky_cov[pu],solar_global[W/sf],solar_direct[W/sf],solar_diffuse[W/sf]\n",
    "    2019-01-01 00:53:00,41.0,62.0,7.0,60.0,30.03,0.0,0.0,0.0,0.0,0.0\n",
    "    2019-01-01 01:53:00,44.0,45.0,6.0,60.0,30.04,0.0,0.0,0.0,0.0,0.0\n",
    "    2019-01-01 02:53:00,37.0,67.0,6.0,90.0,30.03,0.0,0.0,0.0,0.0,0.0\n",
    "    2019-01-01 03:53:00,38.0,60.0,6.0,90.0,30.02,0.0,0.0,0.0,0.0,0.0"
   ]
  },
  {
   "cell_type": "markdown",
   "id": "9f85ac03",
   "metadata": {
    "slideshow": {
     "slide_type": "slide"
    }
   },
   "source": [
    "# TMY3 weather\n",
    "\n",
    "**Input file**\n",
    "\n",
    "    Date (MM/DD/YYYY),Time (HH:MM),ETR (W/m^2),ETRN (W/m^2),GHI (W/m^2),GHI source,G ...\n",
    "    01/01/1998,01:00,0,0,0,2,0,0,2,0,0,2,0,0,2,0,0,2,0,0,2,0,0,2,0,1,E,9,1,E,9,5.7,E ...\n",
    "    01/01/1998,02:00,0,0,0,2,0,0,2,0,0,2,0,0,2,0,0,2,0,0,2,0,0,2,0,2,E,9,2,E,9,5.8,E ...\n",
    "    01/01/1998,03:00,0,0,0,2,0,0,2,0,0,2,0,0,2,0,0,2,0,0,2,0,0,2,0,2,E,9,2,E,9,5.9,E ...\n",
    "\n",
    "**GLM file**\n",
    "\n",
    "    clock {\n",
    "        timezone \"PST+8PDT\";\n",
    "        starttime \"2022-01-01 00:00:00 PST\";\n",
    "        stoptime \"2022-01-02 00:00:00 PST\";\n",
    "    }\n",
    "    #weather get CA-Twentynine_Palms.tmy3\n",
    "    #input \"CA-Twentynine_Palms.tmy3\"\n",
    "    ...\n"
   ]
  },
  {
   "cell_type": "markdown",
   "id": "98c1f5fc",
   "metadata": {
    "slideshow": {
     "slide_type": "slide"
    }
   },
   "source": [
    "    ...\n",
    "    module tape { csv_header_type NAME; }\n",
    "    object recorder {\n",
    "        parent ${FIND class=climate};\n",
    "        file test_weather.csv;\n",
    "        interval -1;\n",
    "        property temperature;\n",
    "    }\n",
    "\n",
    "**Output file**\n",
    "\n",
    "    timestamp,temperature\n",
    "    2022-01-01 00:00:00 PST,+44.422\n",
    "    2022-01-01 01:00:00 PST,+42.262\n",
    "    2022-01-01 02:00:00 PST,+42.442\n",
    "    2022-01-01 03:00:00 PST,+42.622\n"
   ]
  },
  {
   "cell_type": "markdown",
   "id": "6df7bc92",
   "metadata": {
    "slideshow": {
     "slide_type": "slide"
    }
   },
   "source": [
    "# Cyme models\n",
    "\n",
    "**Input file**\n",
    "\n",
    "**Subcommand**\n",
    "\n",
    "**Output file**"
   ]
  },
  {
   "cell_type": "markdown",
   "id": "e1282fdd",
   "metadata": {
    "slideshow": {
     "slide_type": "skip"
    }
   },
   "source": [
    "# TODO\n",
    "\n",
    "**Input file**\n",
    "\n",
    "**Subcommand**\n",
    "\n",
    "**Output file**"
   ]
  },
  {
   "cell_type": "markdown",
   "id": "fa6ea79f",
   "metadata": {
    "slideshow": {
     "slide_type": "slide"
    }
   },
   "source": [
    "# Using OpenFIDO"
   ]
  },
  {
   "cell_type": "markdown",
   "id": "4e401f58",
   "metadata": {
    "slideshow": {
     "slide_type": "slide"
    }
   },
   "source": [
    "# Questions"
   ]
  }
 ],
 "metadata": {
  "celltoolbar": "Slideshow",
  "kernelspec": {
   "display_name": "Python 3 (ipykernel)",
   "language": "python",
   "name": "python3"
  },
  "language_info": {
   "codemirror_mode": {
    "name": "ipython",
    "version": 3
   },
   "file_extension": ".py",
   "mimetype": "text/x-python",
   "name": "python",
   "nbconvert_exporter": "python",
   "pygments_lexer": "ipython3",
   "version": "3.9.10"
  }
 },
 "nbformat": 4,
 "nbformat_minor": 5
}
