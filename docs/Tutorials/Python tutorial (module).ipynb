{
 "cells": [
  {
   "cell_type": "markdown",
   "id": "72938f59",
   "metadata": {},
   "source": [
    "# GridLAB-D Module"
   ]
  },
  {
   "cell_type": "markdown",
   "id": "0db0c4da",
   "metadata": {},
   "source": [
    "* Use `command` to send options\n",
    "* Command are processed in the order they are received\n",
    "* Errors are not caught until the start command is used\n",
    "* Compound commands must be separated"
   ]
  },
  {
   "cell_type": "code",
   "execution_count": 1,
   "id": "d39b32fd",
   "metadata": {},
   "outputs": [
    {
     "data": {
      "text/plain": [
       "[1, 2, 3]"
      ]
     },
     "execution_count": 1,
     "metadata": {},
     "output_type": "execute_result"
    }
   ],
   "source": [
    "import gridlabd\n",
    "[gridlabd.command(option) for option in \"-W developer session7_1.glm\".split()]"
   ]
  },
  {
   "cell_type": "markdown",
   "id": "956017c2",
   "metadata": {},
   "source": [
    "`command` returns the total number of command line options received so far\n",
    "\n",
    "* Use `start` to begin simulation\n",
    "* Two possible starts modes\n",
    "  - `thread`: starts as a separate thread (e.g., server)\n",
    "  - `wait`: starts in the same thread (e.g., job)"
   ]
  },
  {
   "cell_type": "code",
   "execution_count": 2,
   "id": "351558c9",
   "metadata": {},
   "outputs": [
    {
     "name": "stderr",
     "output_type": "stream",
     "text": [
      "HiPAS GridLAB-D\n",
      "{'major': 4, 'minor': 3, 'patch': 1, 'build': 220807, 'branch': 'develop_user_manual'}\n",
      "HiPAS GridLAB-D 4.3.1\n",
      "\n",
      "Copyright (C) 2008-2017, Battelle Memorial Institute.\n",
      "Copyright (C) 2016-2022, The Board of Trustees of the Leland Stanford Junior University.\n",
      "All Rights Reserved.\n",
      "For additional information, see http://www.gridlabd.us/.\n",
      "\n",
      "WARNING  [INIT] : a warning message\n",
      "ERROR    [INIT] : an error message\n"
     ]
    },
    {
     "data": {
      "text/plain": [
       "5"
      ]
     },
     "execution_count": 2,
     "metadata": {},
     "output_type": "execute_result"
    }
   ],
   "source": [
    "gridlabd.start('wait')"
   ]
  },
  {
   "cell_type": "markdown",
   "id": "48df998a",
   "metadata": {},
   "source": [
    "# Global access"
   ]
  },
  {
   "cell_type": "markdown",
   "id": "dd4b2ce3",
   "metadata": {},
   "source": [
    "Get a list of all the globals"
   ]
  },
  {
   "cell_type": "code",
   "execution_count": 3,
   "id": "7c1024ab",
   "metadata": {},
   "outputs": [
    {
     "data": {
      "text/plain": [
       "['MONTH', 'YEAR', 'allow_reinclude', 'allow_variant_aggregates', 'autoclean']"
      ]
     },
     "execution_count": 3,
     "metadata": {},
     "output_type": "execute_result"
    }
   ],
   "source": [
    "sorted(gridlabd.get('globals'))[:5]"
   ]
  },
  {
   "cell_type": "markdown",
   "id": "1bf8ba0f",
   "metadata": {},
   "source": [
    "Get a global value (always returns a `str` value)"
   ]
  },
  {
   "cell_type": "code",
   "execution_count": 4,
   "id": "2ed3f963",
   "metadata": {},
   "outputs": [
    {
     "data": {
      "text/plain": [
       "'2022'"
      ]
     },
     "execution_count": 4,
     "metadata": {},
     "output_type": "execute_result"
    }
   ],
   "source": [
    "gridlabd.get_global('YEAR')"
   ]
  },
  {
   "cell_type": "markdown",
   "id": "a206d9d0",
   "metadata": {},
   "source": [
    "Values will be formatted according to the GridLAB-D data type (not Python)"
   ]
  },
  {
   "cell_type": "code",
   "execution_count": 5,
   "id": "8ef11cab",
   "metadata": {},
   "outputs": [
    {
     "data": {
      "text/plain": [
       "'2022-07-01 00:00:00 PDT'"
      ]
     },
     "execution_count": 5,
     "metadata": {},
     "output_type": "execute_result"
    }
   ],
   "source": [
    "gridlabd.get_global('starttime')"
   ]
  },
  {
   "cell_type": "markdown",
   "id": "ba72182e",
   "metadata": {},
   "source": [
    "Setting a value must use the GridLAB-D data type (not Python) and always returns the old value (if any)."
   ]
  },
  {
   "cell_type": "code",
   "execution_count": 6,
   "id": "714c547a",
   "metadata": {},
   "outputs": [
    {
     "data": {
      "text/plain": [
       "'2022-07-01 00:00:00 PDT'"
      ]
     },
     "execution_count": 6,
     "metadata": {},
     "output_type": "execute_result"
    }
   ],
   "source": [
    "gridlabd.set_global('starttime',f'2022-07-02 00:00:00 PDT')"
   ]
  },
  {
   "cell_type": "markdown",
   "id": "636146c0",
   "metadata": {},
   "source": [
    "# Class access"
   ]
  },
  {
   "cell_type": "markdown",
   "id": "2b9d3f53",
   "metadata": {},
   "source": [
    "Classes are defined in modules (if any) and/or by a `class` declaration in the GLM file.\n",
    "\n",
    "A list of modules and classes can be obtained using the `get` function."
   ]
  },
  {
   "cell_type": "code",
   "execution_count": 7,
   "id": "76b9891a",
   "metadata": {},
   "outputs": [
    {
     "data": {
      "text/plain": [
       "[]"
      ]
     },
     "execution_count": 7,
     "metadata": {},
     "output_type": "execute_result"
    }
   ],
   "source": [
    "gridlabd.get('modules')"
   ]
  },
  {
   "cell_type": "code",
   "execution_count": 8,
   "id": "f2150e2b",
   "metadata": {
    "scrolled": true
   },
   "outputs": [
    {
     "data": {
      "text/plain": [
       "['example']"
      ]
     },
     "execution_count": 8,
     "metadata": {},
     "output_type": "execute_result"
    }
   ],
   "source": [
    "gridlabd.get('classes')[:5]"
   ]
  },
  {
   "cell_type": "markdown",
   "id": "e6918324",
   "metadata": {},
   "source": [
    "Get a class definition (returns a Python `dict` object)\n",
    "* Includes the details of properties as `dict` objects."
   ]
  },
  {
   "cell_type": "code",
   "execution_count": 9,
   "id": "287fbcce",
   "metadata": {},
   "outputs": [
    {
     "data": {
      "text/plain": [
       "{'class.object_size': 822,\n",
       " 'class.trl': 0,\n",
       " 'profiler.numobjs': 6,\n",
       " 'profiler.clocks': 0,\n",
       " 'profiler.count': 0,\n",
       " 'price': {'type': 'double', 'access': 'PUBLIC', 'unit': '$/MW'},\n",
       " 'real_power': {'type': 'double', 'access': 'PUBLIC', 'unit': 'MW'},\n",
       " 'power_factor': {'type': 'double', 'access': 'PUBLIC'},\n",
       " 'power': {'type': 'complex', 'access': 'PUBLIC', 'unit': 'MVA'},\n",
       " 'counter': {'type': 'int32', 'access': 'PUBLIC'},\n",
       " 'label': {'type': 'char32', 'access': 'PUBLIC'},\n",
       " 'load': {'type': 'enduse', 'access': 'PUBLIC'},\n",
       " 'is_ok': {'type': 'bool', 'access': 'PUBLIC'},\n",
       " 'last_change': {'type': 'timestamp', 'access': 'PUBLIC'}}"
      ]
     },
     "execution_count": 9,
     "metadata": {},
     "output_type": "execute_result"
    }
   ],
   "source": [
    "gridlabd.get_class('example')"
   ]
  },
  {
   "cell_type": "markdown",
   "id": "12345e59",
   "metadata": {},
   "source": [
    "# Object access"
   ]
  },
  {
   "cell_type": "markdown",
   "id": "0aef57b1",
   "metadata": {},
   "source": [
    "A list of objects is also available using the `get` function."
   ]
  },
  {
   "cell_type": "code",
   "execution_count": 10,
   "id": "d2704b07",
   "metadata": {},
   "outputs": [
    {
     "data": {
      "text/plain": [
       "['main', 'sub_1', 'sub_2', 'sub_3', 'sub_4', 'sub_5']"
      ]
     },
     "execution_count": 10,
     "metadata": {},
     "output_type": "execute_result"
    }
   ],
   "source": [
    "gridlabd.get('objects')"
   ]
  },
  {
   "cell_type": "markdown",
   "id": "92df1f5c",
   "metadata": {},
   "source": [
    "Objects are accessed using the object name (or `class`:`id` for anonymous objects)."
   ]
  },
  {
   "cell_type": "code",
   "execution_count": 11,
   "id": "d6cda9fb",
   "metadata": {},
   "outputs": [
    {
     "data": {
      "text/plain": [
       "{'id': 5,\n",
       " 'name': 'sub_5',\n",
       " 'class': 'example',\n",
       " 'parent': 'main',\n",
       " 'rank': 0,\n",
       " 'clock': '2022-07-01 00:00:00 PDT',\n",
       " 'schedule_skew': 0,\n",
       " 'rng_state': 112371602,\n",
       " 'heartbeat': 0,\n",
       " 'guid': '7eba720f961fa19d',\n",
       " 'price': '-0.521325 $/MW',\n",
       " 'real_power': '+1.66893 MW',\n",
       " 'power_factor': '+0.935197',\n",
       " 'power': '+0+0i MVA',\n",
       " 'counter': '0',\n",
       " 'label': '\"\"',\n",
       " 'load': '+0+0j',\n",
       " 'is_ok': 'FALSE',\n",
       " 'last_change': 'INIT'}"
      ]
     },
     "execution_count": 11,
     "metadata": {},
     "output_type": "execute_result"
    }
   ],
   "source": [
    "gridlabd.get_object('sub_5')"
   ]
  },
  {
   "cell_type": "markdown",
   "id": "24e8f23a",
   "metadata": {},
   "source": [
    "# Datetime values"
   ]
  },
  {
   "cell_type": "markdown",
   "id": "bd3591fc",
   "metadata": {},
   "source": [
    "GridLAB-D `timestamp` values can be converted to Python `datetime` using the Python `datetime` module."
   ]
  },
  {
   "cell_type": "code",
   "execution_count": 12,
   "id": "6f169634",
   "metadata": {},
   "outputs": [
    {
     "data": {
      "text/plain": [
       "datetime.datetime(2022, 7, 28, 0, 0)"
      ]
     },
     "execution_count": 12,
     "metadata": {},
     "output_type": "execute_result"
    }
   ],
   "source": [
    "import datetime\n",
    "datetime.datetime.strptime(gridlabd.get_global('stoptime'),\"%Y-%m-%d %H:%M:%S %Z\")"
   ]
  },
  {
   "cell_type": "markdown",
   "id": "c45bfa4f",
   "metadata": {},
   "source": [
    "GridLAB-D `timestamp` values are timezone aware. To make Python `datetime` include the timezone, use `pytz`."
   ]
  },
  {
   "cell_type": "code",
   "execution_count": 13,
   "id": "45ffddc3",
   "metadata": {},
   "outputs": [],
   "source": [
    "import pytz\n",
    "local_tz = pytz.timezone('America/Los_Angeles')"
   ]
  },
  {
   "cell_type": "code",
   "execution_count": 14,
   "id": "4828da90",
   "metadata": {
    "scrolled": true
   },
   "outputs": [
    {
     "data": {
      "text/plain": [
       "datetime.datetime(2022, 7, 28, 0, 0, tzinfo=<DstTzInfo 'America/Los_Angeles' PDT-1 day, 17:00:00 DST>)"
      ]
     },
     "execution_count": 14,
     "metadata": {},
     "output_type": "execute_result"
    }
   ],
   "source": [
    "local_time = datetime.datetime.strptime(gridlabd.get_global('stoptime'),\"%Y-%m-%d %H:%M:%S %Z\")\n",
    "local_tz.localize(local_time)"
   ]
  },
  {
   "cell_type": "markdown",
   "id": "8e365f17",
   "metadata": {},
   "source": [
    "**Important note**: `pytz` does ***not*** apply historical TZ rules."
   ]
  },
  {
   "cell_type": "markdown",
   "id": "110bb538",
   "metadata": {},
   "source": [
    "# Real values"
   ]
  },
  {
   "cell_type": "markdown",
   "id": "471386e2",
   "metadata": {},
   "source": [
    "GridLAB-D `double` values are equivalent to Python `float` values."
   ]
  },
  {
   "cell_type": "code",
   "execution_count": 15,
   "id": "3657dae5",
   "metadata": {},
   "outputs": [
    {
     "data": {
      "text/plain": [
       "'+3.10775 MW'"
      ]
     },
     "execution_count": 15,
     "metadata": {},
     "output_type": "execute_result"
    }
   ],
   "source": [
    "value=gridlabd.get_value('sub_1','real_power')\n",
    "value"
   ]
  },
  {
   "cell_type": "markdown",
   "id": "d8cd5707",
   "metadata": {},
   "source": [
    "You can define your own accessor to obtain the `float` value"
   ]
  },
  {
   "cell_type": "code",
   "execution_count": 16,
   "id": "b9feee70",
   "metadata": {},
   "outputs": [
    {
     "data": {
      "text/plain": [
       "3.10775"
      ]
     },
     "execution_count": 16,
     "metadata": {},
     "output_type": "execute_result"
    }
   ],
   "source": [
    "def get_double(x): return float(x.split()[0])\n",
    "get_double(value)"
   ]
  },
  {
   "cell_type": "markdown",
   "id": "d8b51bc2",
   "metadata": {},
   "source": [
    "You can also define an accessor to obtain the units"
   ]
  },
  {
   "cell_type": "code",
   "execution_count": 17,
   "id": "441c56c9",
   "metadata": {},
   "outputs": [
    {
     "data": {
      "text/plain": [
       "'MW'"
      ]
     },
     "execution_count": 17,
     "metadata": {},
     "output_type": "execute_result"
    }
   ],
   "source": [
    "def get_unit(x): return x.split()[1]\n",
    "get_unit(value)"
   ]
  },
  {
   "cell_type": "markdown",
   "id": "b996ecba",
   "metadata": {},
   "source": [
    "GridLAB-D provides a unit conversion utility to handle non-standard units"
   ]
  },
  {
   "cell_type": "code",
   "execution_count": 18,
   "id": "92c630f4",
   "metadata": {},
   "outputs": [
    {
     "data": {
      "text/plain": [
       "3107.75"
      ]
     },
     "execution_count": 18,
     "metadata": {},
     "output_type": "execute_result"
    }
   ],
   "source": [
    "gridlabd.convert_unit(get_double(value),get_unit(value),\"kW\")"
   ]
  },
  {
   "cell_type": "markdown",
   "id": "53e5bf81",
   "metadata": {},
   "source": [
    "You can define an accessor to handle the unit conversion automatically"
   ]
  },
  {
   "cell_type": "code",
   "execution_count": 19,
   "id": "e437d0d6",
   "metadata": {},
   "outputs": [
    {
     "data": {
      "text/plain": [
       "3107750.0"
      ]
     },
     "execution_count": 19,
     "metadata": {},
     "output_type": "execute_result"
    }
   ],
   "source": [
    "def get_double_unit(x,u): return gridlabd.convert_unit(*(get_double(x),get_unit(x)),u)\n",
    "get_double_unit(value,'W')"
   ]
  },
  {
   "cell_type": "markdown",
   "id": "2dde4740",
   "metadata": {},
   "source": [
    "# Setting values"
   ]
  },
  {
   "cell_type": "markdown",
   "id": "7185a1b2",
   "metadata": {},
   "source": [
    "Setting a value requires a string be provided. The type conversion is handled by GridLAB-D."
   ]
  },
  {
   "cell_type": "code",
   "execution_count": 20,
   "id": "d7994362",
   "metadata": {},
   "outputs": [
    {
     "data": {
      "text/plain": [
       "('+0.922519', '+3.10775 MW')"
      ]
     },
     "execution_count": 20,
     "metadata": {},
     "output_type": "execute_result"
    }
   ],
   "source": [
    "gridlabd.set_value('sub_1','power_factor','0.95'), gridlabd.get_value('sub_1','real_power')"
   ]
  },
  {
   "cell_type": "markdown",
   "id": "d59f1f8c",
   "metadata": {},
   "source": [
    "The unit conversion is also handled by GridLAB-D."
   ]
  },
  {
   "cell_type": "code",
   "execution_count": 21,
   "id": "55c551d3",
   "metadata": {},
   "outputs": [
    {
     "data": {
      "text/plain": [
       "('+3.10775 MW', '+2.5 MW')"
      ]
     },
     "execution_count": 21,
     "metadata": {},
     "output_type": "execute_result"
    }
   ],
   "source": [
    "gridlabd.set_value('sub_1','real_power','2500 kW'), gridlabd.get_value('sub_1','real_power')"
   ]
  },
  {
   "cell_type": "code",
   "execution_count": 22,
   "id": "a3b2d932",
   "metadata": {},
   "outputs": [
    {
     "data": {
      "text/plain": [
       "('+2.5 MW', '+3 MW')"
      ]
     },
     "execution_count": 22,
     "metadata": {},
     "output_type": "execute_result"
    }
   ],
   "source": [
    "value = 3.0e6\n",
    "gridlabd.set_value('sub_1','real_power',f\"{value} W\"), gridlabd.get_value('sub_1','real_power')"
   ]
  },
  {
   "cell_type": "markdown",
   "id": "437f50dd",
   "metadata": {},
   "source": [
    "Mismatched units will cause an error message. The value is still accepted, but it's not converted."
   ]
  },
  {
   "cell_type": "code",
   "execution_count": 23,
   "id": "08dde74c",
   "metadata": {},
   "outputs": [
    {
     "name": "stderr",
     "output_type": "stream",
     "text": [
      "ERROR    [INIT] : could not convert units from V to MW, mismatched constant values\n",
      "ERROR    [INIT] : convert_to_double(const char *buffer='10 V', void *data=0x0x7ff59b909d60, PROPERTY *prop={name='real_power',...}): unit conversion failed\n"
     ]
    },
    {
     "data": {
      "text/plain": [
       "('+3 MW', '+10 MW')"
      ]
     },
     "execution_count": 23,
     "metadata": {},
     "output_type": "execute_result"
    }
   ],
   "source": [
    "gridlabd.set_value('sub_1','real_power','10 V'), gridlabd.get_value('sub_1','real_power')"
   ]
  },
  {
   "cell_type": "markdown",
   "id": "8bb449ad",
   "metadata": {},
   "source": [
    "# Complex Values"
   ]
  },
  {
   "cell_type": "markdown",
   "id": "ab4da2fe",
   "metadata": {},
   "source": [
    "Complex values are written using the complex notation of the most recent write operation"
   ]
  },
  {
   "cell_type": "code",
   "execution_count": 24,
   "id": "199bdc9a",
   "metadata": {},
   "outputs": [
    {
     "data": {
      "text/plain": [
       "'+0+0i MVA'"
      ]
     },
     "execution_count": 24,
     "metadata": {},
     "output_type": "execute_result"
    }
   ],
   "source": [
    "gridlabd.get_value('sub_1','power')"
   ]
  },
  {
   "cell_type": "code",
   "execution_count": 25,
   "id": "51082ddf",
   "metadata": {},
   "outputs": [
    {
     "data": {
      "text/plain": [
       "('+0+0i MVA', '+3+2d MVA')"
      ]
     },
     "execution_count": 25,
     "metadata": {},
     "output_type": "execute_result"
    }
   ],
   "source": [
    "gridlabd.set_value('sub_1','power','3+2d MVA'),gridlabd.get_value('sub_1','power')"
   ]
  },
  {
   "cell_type": "markdown",
   "id": "1c28e403",
   "metadata": {},
   "source": [
    "You can create you own accessor, but beware of the limitation of the `complex` Python type."
   ]
  },
  {
   "cell_type": "code",
   "execution_count": 26,
   "id": "582b1d41",
   "metadata": {},
   "outputs": [],
   "source": [
    "def get_complex(x): return complex(x.split()[0].replace('i','j'))"
   ]
  },
  {
   "cell_type": "code",
   "execution_count": 27,
   "id": "9a3d5e8d",
   "metadata": {},
   "outputs": [
    {
     "data": {
      "text/plain": [
       "(2.998172481057287+0.1046984901075029j)"
      ]
     },
     "execution_count": 27,
     "metadata": {},
     "output_type": "execute_result"
    }
   ],
   "source": [
    "get_complex(gridlabd.get_value('sub_1','power'))"
   ]
  },
  {
   "cell_type": "markdown",
   "id": "26f13e81",
   "metadata": {},
   "source": [
    "Unit conversion works for complex values as well."
   ]
  },
  {
   "cell_type": "code",
   "execution_count": 28,
   "id": "43420046",
   "metadata": {},
   "outputs": [
    {
     "data": {
      "text/plain": [
       "2998.172481057287"
      ]
     },
     "execution_count": 28,
     "metadata": {},
     "output_type": "execute_result"
    }
   ],
   "source": [
    "gridlabd.convert_unit(get_complex(gridlabd.get_value('sub_1','power')).real,\n",
    "                      get_unit(gridlabd.get_value('sub_1','power')),\n",
    "                      \"kW\")"
   ]
  },
  {
   "cell_type": "markdown",
   "id": "56787272",
   "metadata": {},
   "source": [
    "# Integer Values"
   ]
  },
  {
   "cell_type": "markdown",
   "id": "c69ca10c",
   "metadata": {},
   "source": [
    "All three integer types are accessible and correspond to the Python `int` type."
   ]
  },
  {
   "cell_type": "code",
   "execution_count": 29,
   "id": "fc3fafe3",
   "metadata": {},
   "outputs": [
    {
     "data": {
      "text/plain": [
       "'0'"
      ]
     },
     "execution_count": 29,
     "metadata": {},
     "output_type": "execute_result"
    }
   ],
   "source": [
    "gridlabd.get_value('main','counter')"
   ]
  },
  {
   "cell_type": "markdown",
   "id": "d9aa8621",
   "metadata": {},
   "source": [
    "Your own accessor is very simple to implement"
   ]
  },
  {
   "cell_type": "code",
   "execution_count": 30,
   "id": "2f66033d",
   "metadata": {},
   "outputs": [
    {
     "data": {
      "text/plain": [
       "0"
      ]
     },
     "execution_count": 30,
     "metadata": {},
     "output_type": "execute_result"
    }
   ],
   "source": [
    "def get_integer(x): return int(x)\n",
    "get_integer(gridlabd.get_value('main','counter'))"
   ]
  },
  {
   "cell_type": "markdown",
   "id": "2b8a0442",
   "metadata": {},
   "source": [
    "Globals named `SEQ_<str>` are integers and they have a special syntax and behavior"
   ]
  },
  {
   "cell_type": "code",
   "execution_count": 31,
   "id": "5dc55b3b",
   "metadata": {},
   "outputs": [
    {
     "data": {
      "text/plain": [
       "'0'"
      ]
     },
     "execution_count": 31,
     "metadata": {},
     "output_type": "execute_result"
    }
   ],
   "source": [
    "gridlabd.get_global('SEQ_A:INIT')"
   ]
  },
  {
   "cell_type": "code",
   "execution_count": 32,
   "id": "25fccec3",
   "metadata": {},
   "outputs": [
    {
     "data": {
      "text/plain": [
       "('1', '2', '3')"
      ]
     },
     "execution_count": 32,
     "metadata": {},
     "output_type": "execute_result"
    }
   ],
   "source": [
    "gridlabd.get_global('SEQ_A:INC'), gridlabd.get_global('SEQ_A:INC'), gridlabd.get_global('SEQ_A:INC')"
   ]
  },
  {
   "cell_type": "code",
   "execution_count": 33,
   "id": "eaaaeb3a",
   "metadata": {},
   "outputs": [
    {
     "data": {
      "text/plain": [
       "('3', '0')"
      ]
     },
     "execution_count": 33,
     "metadata": {},
     "output_type": "execute_result"
    }
   ],
   "source": [
    "gridlabd.set_global('SEQ_A','0'), gridlabd.get_global('SEQ_A')"
   ]
  },
  {
   "cell_type": "markdown",
   "id": "83d53809",
   "metadata": {},
   "source": [
    "# Boolean values"
   ]
  },
  {
   "cell_type": "markdown",
   "id": "d623dc12",
   "metadata": {},
   "source": [
    "GridLAB-D Boolean values are the strings \"TRUE\" and \"FALSE\"."
   ]
  },
  {
   "cell_type": "code",
   "execution_count": 34,
   "id": "c078f950",
   "metadata": {},
   "outputs": [
    {
     "data": {
      "text/plain": [
       "'FALSE'"
      ]
     },
     "execution_count": 34,
     "metadata": {},
     "output_type": "execute_result"
    }
   ],
   "source": [
    "gridlabd.get_value('main','is_ok')"
   ]
  },
  {
   "cell_type": "markdown",
   "id": "be46737f",
   "metadata": {},
   "source": [
    "The strings \"0\" and \"1\" are accepted too."
   ]
  },
  {
   "cell_type": "code",
   "execution_count": 35,
   "id": "e7cb9ed2",
   "metadata": {},
   "outputs": [
    {
     "data": {
      "text/plain": [
       "('FALSE', 'TRUE', 'FALSE', 'TRUE')"
      ]
     },
     "execution_count": 35,
     "metadata": {},
     "output_type": "execute_result"
    }
   ],
   "source": [
    "gridlabd.set_value('main','is_ok','TRUE'), \\\n",
    "    gridlabd.set_value('main','is_ok','0'), \\\n",
    "    gridlabd.set_value('main','is_ok','1'), \\\n",
    "    gridlabd.set_value('main','is_ok','FALSE')\n"
   ]
  },
  {
   "cell_type": "markdown",
   "id": "f7b5d0b9",
   "metadata": {},
   "source": [
    "Your accessor should check whether the string is valid a GridLAB-D Boolean."
   ]
  },
  {
   "cell_type": "code",
   "execution_count": 36,
   "id": "13bfb819",
   "metadata": {},
   "outputs": [
    {
     "data": {
      "text/plain": [
       "(True, False)"
      ]
     },
     "execution_count": 36,
     "metadata": {},
     "output_type": "execute_result"
    }
   ],
   "source": [
    "def get_boolean(x):\n",
    "    if x == \"TRUE\":\n",
    "        return True\n",
    "    if x == \"FALSE\":\n",
    "        return False\n",
    "    raise Exception(\"invalid Boolean value\")\n",
    "get_boolean(\"TRUE\"), get_boolean(\"FALSE\")"
   ]
  },
  {
   "cell_type": "code",
   "execution_count": 37,
   "id": "3ef13ba3",
   "metadata": {},
   "outputs": [
    {
     "name": "stdout",
     "output_type": "stream",
     "text": [
      "invalid Boolean value\n"
     ]
    }
   ],
   "source": [
    "try:\n",
    "    get_boolean(\"0\")\n",
    "except Exception as err:\n",
    "    print(err)"
   ]
  },
  {
   "cell_type": "markdown",
   "id": "91e892ff",
   "metadata": {},
   "source": [
    "# Strings"
   ]
  },
  {
   "cell_type": "markdown",
   "id": "f435c6ef",
   "metadata": {},
   "source": [
    "String usually are returned in enclosing double quotes."
   ]
  },
  {
   "cell_type": "code",
   "execution_count": 38,
   "id": "b1d5b255",
   "metadata": {},
   "outputs": [
    {
     "data": {
      "text/plain": [
       "'\"\"'"
      ]
     },
     "execution_count": 38,
     "metadata": {},
     "output_type": "execute_result"
    }
   ],
   "source": [
    "gridlabd.get_value('main','label')"
   ]
  },
  {
   "cell_type": "code",
   "execution_count": 39,
   "id": "e3a0601f",
   "metadata": {},
   "outputs": [
    {
     "data": {
      "text/plain": [
       "('\"\"', '\"example text\"')"
      ]
     },
     "execution_count": 39,
     "metadata": {},
     "output_type": "execute_result"
    }
   ],
   "source": [
    "gridlabd.set_value('main','label','example text'), gridlabd.get_value('main','label')"
   ]
  },
  {
   "cell_type": "markdown",
   "id": "f5d375bc",
   "metadata": {},
   "source": [
    "Your accessor needs to remove the quotes before using the string"
   ]
  },
  {
   "cell_type": "code",
   "execution_count": 40,
   "id": "0ea79c07",
   "metadata": {},
   "outputs": [],
   "source": [
    "def get_string(x): return gridlabd.get_value('main','label').strip('\"')"
   ]
  },
  {
   "cell_type": "code",
   "execution_count": 41,
   "id": "e7c1e5bc",
   "metadata": {},
   "outputs": [
    {
     "data": {
      "text/plain": [
       "'example text'"
      ]
     },
     "execution_count": 41,
     "metadata": {},
     "output_type": "execute_result"
    }
   ],
   "source": [
    "value = get_value('main','label')\n",
    "get_string(value)"
   ]
  },
  {
   "cell_type": "markdown",
   "id": "cb4bcdef",
   "metadata": {},
   "source": [
    "# Enduses"
   ]
  },
  {
   "cell_type": "markdown",
   "id": "2acfdb55",
   "metadata": {},
   "source": [
    "`enduse` properties calculate electrical load components using the following parts:\n",
    "  - `current_fraction`\n",
    "  - `impedance_fraction`\n",
    "  - `power_fraction`\n",
    "  - `power_factor`\n",
    "  - `power.real`\n",
    "  - `power.imag`\n",
    "  - `loadshape`\n",
    "  \n",
    "Value returned is always as of the last update to enduse load"
   ]
  },
  {
   "cell_type": "code",
   "execution_count": 42,
   "id": "064da8d7",
   "metadata": {},
   "outputs": [
    {
     "data": {
      "text/plain": [
       "'+0+0j'"
      ]
     },
     "execution_count": 42,
     "metadata": {},
     "output_type": "execute_result"
    }
   ],
   "source": [
    "gridlabd.get_value('main','load')"
   ]
  },
  {
   "cell_type": "markdown",
   "id": "5cabc6fe",
   "metadata": {},
   "source": [
    "Changes to enduse load components do not immediately take effect (`enduse` requires a `precommit` event)"
   ]
  },
  {
   "cell_type": "code",
   "execution_count": 43,
   "id": "cd6efa13",
   "metadata": {},
   "outputs": [
    {
     "data": {
      "text/plain": [
       "('+0+0j', '+0+0j')"
      ]
     },
     "execution_count": 43,
     "metadata": {},
     "output_type": "execute_result"
    }
   ],
   "source": [
    "gridlabd.set_value('main','load','power.real:1.2'), gridlabd.get_value('main','load')"
   ]
  },
  {
   "cell_type": "markdown",
   "id": "677d89a7",
   "metadata": {},
   "source": [
    "# Data accessors"
   ]
  },
  {
   "cell_type": "markdown",
   "id": "613ee0d5",
   "metadata": {},
   "source": [
    "Direct access to underlying data is extremely fast but not checked for validity"
   ]
  },
  {
   "cell_type": "code",
   "execution_count": 44,
   "id": "b8956d35",
   "metadata": {},
   "outputs": [
    {
     "data": {
      "text/plain": [
       "140692853661016"
      ]
     },
     "execution_count": 44,
     "metadata": {},
     "output_type": "execute_result"
    }
   ],
   "source": [
    "price = gridlabd.get_property('sub_1','price')\n",
    "price"
   ]
  },
  {
   "cell_type": "markdown",
   "id": "ad626c12",
   "metadata": {},
   "source": [
    "Basic data type values use `gridlabd.{get,set}_<TYPE>`:"
   ]
  },
  {
   "cell_type": "code",
   "execution_count": 45,
   "id": "a57e94e0",
   "metadata": {},
   "outputs": [
    {
     "data": {
      "text/plain": [
       "(1.3332922142764208, 1.3332922142764208, 1.5)"
      ]
     },
     "execution_count": 45,
     "metadata": {},
     "output_type": "execute_result"
    }
   ],
   "source": [
    "gridlabd.get_double(price), gridlabd.set_double(price,1.5), gridlabd.get_double(price)"
   ]
  },
  {
   "cell_type": "code",
   "execution_count": 46,
   "id": "6b5593e9",
   "metadata": {},
   "outputs": [
    {
     "data": {
      "text/plain": [
       "((2.998172481057287+0.1046984901075029j),\n",
       " (2.998172481057287+0.1046984901075029j),\n",
       " (2+1j))"
      ]
     },
     "execution_count": 46,
     "metadata": {},
     "output_type": "execute_result"
    }
   ],
   "source": [
    "power = gridlabd.get_property('sub_1','power')\n",
    "gridlabd.get_complex(power), gridlabd.set_complex(power,2+1j), gridlabd.get_complex(power)"
   ]
  },
  {
   "cell_type": "code",
   "execution_count": 47,
   "id": "d1037375",
   "metadata": {},
   "outputs": [
    {
     "data": {
      "text/plain": [
       "(0, 0, -1)"
      ]
     },
     "execution_count": 47,
     "metadata": {},
     "output_type": "execute_result"
    }
   ],
   "source": [
    "counter = gridlabd.get_property('sub_1','counter')\n",
    "gridlabd.get_int32(counter), gridlabd.set_int32(counter,-1), gridlabd.get_int32(counter)"
   ]
  },
  {
   "cell_type": "code",
   "execution_count": 48,
   "id": "22817ae7",
   "metadata": {},
   "outputs": [
    {
     "data": {
      "text/plain": [
       "(False, False, True)"
      ]
     },
     "execution_count": 48,
     "metadata": {},
     "output_type": "execute_result"
    }
   ],
   "source": [
    "is_ok = gridlabd.get_property('sub_1','is_ok')\n",
    "gridlabd.get_bool(is_ok), gridlabd.set_bool(is_ok,True), gridlabd.get_bool(is_ok)"
   ]
  },
  {
   "cell_type": "markdown",
   "id": "0484d06c",
   "metadata": {},
   "source": [
    "Notes: \n",
    "1. Strings do have property accessors; use `{get,set}_value` instead.\n",
    "2. Timestamp should be accessed using type `int64`."
   ]
  },
  {
   "cell_type": "markdown",
   "id": "abcbcd1d",
   "metadata": {},
   "source": [
    "# Accessor class"
   ]
  },
  {
   "cell_type": "markdown",
   "id": "f16c14e3",
   "metadata": {},
   "source": [
    "You can create a convenience accessor class to handle data types, e.g.,"
   ]
  },
  {
   "cell_type": "code",
   "execution_count": 49,
   "id": "319cd7fe",
   "metadata": {},
   "outputs": [
    {
     "name": "stdout",
     "output_type": "stream",
     "text": [
      "import gridlabd\r\n",
      "class Property:\r\n",
      "    properties = {}\r\n",
      "    def __init__(self,obj,name,using_type=None,from_class=None):\r\n",
      "        if not using_type:\r\n",
      "            using_type = gridlabd.get_class(from_class)[name]['type']\r\n",
      "        if not obj in self.properties.keys():\r\n",
      "            data = {}\r\n",
      "            self.properties[obj] = data\r\n",
      "        else:\r\n",
      "            data = self.properties[obj]\r\n",
      "        if not name in data.keys():\r\n",
      "            addr = gridlabd.get_property(obj,name)\r\n",
      "            data[name] = addr\r\n",
      "        else:\r\n",
      "            addr = data[name]\r\n",
      "        self.addr = gridlabd.get_property(obj,name)\r\n",
      "        self.get_value = eval(f\"gridlabd.get_{using_type}\")\r\n",
      "        self.set_value = eval(f\"gridlabd.set_{using_type}\")\r\n",
      "\r\n",
      "    def get(self):\r\n",
      "        return self.get_value(self.addr)\r\n",
      "\r\n",
      "    def set(self,value):\r\n",
      "        return self.set_value(self.addr,value)\r\n",
      "\r\n",
      "    def __str__(self):\r\n",
      "        return str(self.get_value(self.addr))\r\n",
      "\r\n",
      "    def __repr__(self):\r\n",
      "        return f\"<gridlabd.property {self.addr}>\"\r\n",
      "\r\n",
      "\r\n"
     ]
    }
   ],
   "source": [
    "!cat accessor.py"
   ]
  },
  {
   "cell_type": "markdown",
   "id": "3c9e6425",
   "metadata": {},
   "source": [
    "# Accessor class"
   ]
  },
  {
   "cell_type": "code",
   "execution_count": 50,
   "id": "3f224b48",
   "metadata": {},
   "outputs": [],
   "source": [
    "import accessor"
   ]
  },
  {
   "cell_type": "code",
   "execution_count": 51,
   "id": "7d15d701",
   "metadata": {},
   "outputs": [
    {
     "data": {
      "text/plain": [
       "(<gridlabd.property 140692853661016>, '1.5', 1.5, 1.5, 2.0)"
      ]
     },
     "execution_count": 51,
     "metadata": {},
     "output_type": "execute_result"
    }
   ],
   "source": [
    "price = accessor.Property('sub_1','price','double')\n",
    "price, str(price), price.get(), price.set(2.0), price.get()"
   ]
  },
  {
   "cell_type": "code",
   "execution_count": 52,
   "id": "2b69a03c",
   "metadata": {},
   "outputs": [
    {
     "data": {
      "text/plain": [
       "(<gridlabd.property 140692853661040>, '(2+1j)', (2+1j), (2+1j), (3+2j))"
      ]
     },
     "execution_count": 52,
     "metadata": {},
     "output_type": "execute_result"
    }
   ],
   "source": [
    "power = accessor.Property('sub_1','power','complex')\n",
    "power, str(power), power.get(), power.set(3+2j), power.get()"
   ]
  },
  {
   "cell_type": "code",
   "execution_count": 53,
   "id": "b6b182f7",
   "metadata": {},
   "outputs": [
    {
     "data": {
      "text/plain": [
       "(<gridlabd.property 140692853661064>, '-1', -1, -1, 1)"
      ]
     },
     "execution_count": 53,
     "metadata": {},
     "output_type": "execute_result"
    }
   ],
   "source": [
    "counter = accessor.Property('sub_1','counter','int32')\n",
    "counter, str(counter), counter.get(), counter.set(1), counter.get()"
   ]
  },
  {
   "cell_type": "code",
   "execution_count": 54,
   "id": "61ba374d",
   "metadata": {
    "scrolled": true
   },
   "outputs": [
    {
     "data": {
      "text/plain": [
       "(<gridlabd.property 140692853661016>, '2.0', 2.0, 2.0, 1.2)"
      ]
     },
     "execution_count": 54,
     "metadata": {},
     "output_type": "execute_result"
    }
   ],
   "source": [
    "real_power = accessor.Property('sub_1','price',from_class='example')\n",
    "real_power, str(real_power), real_power.get(), real_power.set(1.2), real_power.get()"
   ]
  },
  {
   "cell_type": "markdown",
   "id": "8def716d",
   "metadata": {},
   "source": [
    "# Property Accessor"
   ]
  },
  {
   "cell_type": "markdown",
   "id": "a33a2b03",
   "metadata": {},
   "source": [
    "Accessor for properties does validation"
   ]
  },
  {
   "cell_type": "code",
   "execution_count": 55,
   "id": "a388c2fc",
   "metadata": {},
   "outputs": [],
   "source": [
    "price = gridlabd.property('main','price')"
   ]
  },
  {
   "cell_type": "code",
   "execution_count": 56,
   "id": "21c8078a",
   "metadata": {},
   "outputs": [
    {
     "data": {
      "text/plain": [
       "'+0 $/MW'"
      ]
     },
     "execution_count": 56,
     "metadata": {},
     "output_type": "execute_result"
    }
   ],
   "source": [
    "price.get_initial()"
   ]
  },
  {
   "cell_type": "code",
   "execution_count": 57,
   "id": "eba5d539",
   "metadata": {},
   "outputs": [
    {
     "data": {
      "text/plain": [
       "'price'"
      ]
     },
     "execution_count": 57,
     "metadata": {},
     "output_type": "execute_result"
    }
   ],
   "source": [
    "price.get_name()"
   ]
  },
  {
   "cell_type": "code",
   "execution_count": 58,
   "id": "d99d5d18",
   "metadata": {},
   "outputs": [
    {
     "data": {
      "text/plain": [
       "'$/MW'"
      ]
     },
     "execution_count": 58,
     "metadata": {},
     "output_type": "execute_result"
    }
   ],
   "source": [
    "price.get_unit()"
   ]
  },
  {
   "cell_type": "code",
   "execution_count": 59,
   "id": "7d307c10",
   "metadata": {},
   "outputs": [
    {
     "data": {
      "text/plain": [
       "0.0"
      ]
     },
     "execution_count": 59,
     "metadata": {},
     "output_type": "execute_result"
    }
   ],
   "source": [
    "price.get_value()"
   ]
  },
  {
   "cell_type": "code",
   "execution_count": 60,
   "id": "93cf77e5",
   "metadata": {},
   "outputs": [],
   "source": [
    "price.set_value(1.23)"
   ]
  },
  {
   "cell_type": "code",
   "execution_count": 61,
   "id": "f68dd639",
   "metadata": {
    "scrolled": true
   },
   "outputs": [
    {
     "name": "stderr",
     "output_type": "stream",
     "text": [
      "value is not a float\n"
     ]
    }
   ],
   "source": [
    "try:\n",
    "    price.set_value(1)\n",
    "except Exception as err:\n",
    "    print(err,file=sys.stderr)"
   ]
  },
  {
   "cell_type": "markdown",
   "id": "1e5cb0a5",
   "metadata": {},
   "source": [
    "# Model I/O"
   ]
  },
  {
   "cell_type": "code",
   "execution_count": 62,
   "id": "20416040",
   "metadata": {},
   "outputs": [
    {
     "data": {
      "text/plain": [
       "33914"
      ]
     },
     "execution_count": 62,
     "metadata": {},
     "output_type": "execute_result"
    }
   ],
   "source": [
    "gridlabd.save('example.json')"
   ]
  },
  {
   "cell_type": "code",
   "execution_count": 63,
   "id": "a74145da",
   "metadata": {},
   "outputs": [
    {
     "data": {
      "text/plain": [
       "dict_keys(['application', 'version', 'modules', 'types', 'header', 'classes', 'globals', 'schedules', 'objects'])"
      ]
     },
     "execution_count": 63,
     "metadata": {},
     "output_type": "execute_result"
    }
   ],
   "source": [
    "import json\n",
    "with open('example.json','r') as fh:\n",
    "    json_data = json.load(fh)\n",
    "json_data.keys()"
   ]
  },
  {
   "cell_type": "code",
   "execution_count": 64,
   "id": "111dbfa1",
   "metadata": {},
   "outputs": [
    {
     "data": {
      "text/plain": [
       "dict_keys(['main', 'sub_1', 'sub_2', 'sub_3', 'sub_4', 'sub_5'])"
      ]
     },
     "execution_count": 64,
     "metadata": {},
     "output_type": "execute_result"
    }
   ],
   "source": [
    "json_data['objects'].keys()"
   ]
  },
  {
   "cell_type": "code",
   "execution_count": 65,
   "id": "9b9a36c8",
   "metadata": {},
   "outputs": [
    {
     "data": {
      "text/plain": [
       "{'id': '0',\n",
       " 'class': 'example',\n",
       " 'rank': '1',\n",
       " 'clock': '2022-07-01 00:00:00 PDT',\n",
       " 'rng_state': '823564440',\n",
       " 'guid': '661A77357AB4BEDB5B12CB07A5A102FC',\n",
       " 'flags': '0x100',\n",
       " 'price': '1.23 $/MW',\n",
       " 'real_power': '0 MW',\n",
       " 'power_factor': '0',\n",
       " 'power': '0+0j MVA',\n",
       " 'counter': '0',\n",
       " 'label': 'example text',\n",
       " 'is_ok': 'FALSE',\n",
       " 'last_change': 'INIT'}"
      ]
     },
     "execution_count": 65,
     "metadata": {},
     "output_type": "execute_result"
    }
   ],
   "source": [
    "json_data['objects']['main']"
   ]
  },
  {
   "cell_type": "markdown",
   "id": "fd7e658a",
   "metadata": {},
   "source": [
    "Other Model I/O functions that only work before the simulation has started:\n",
    "* `gridlabd.module(name)`\n",
    "* `gridlabd.add(block,data)`\n",
    "* `gridlabd.load(filename)`"
   ]
  },
  {
   "cell_type": "code",
   "execution_count": null,
   "id": "2aa63175",
   "metadata": {},
   "outputs": [],
   "source": []
  }
 ],
 "metadata": {
  "kernelspec": {
   "display_name": "Python 3 (ipykernel)",
   "language": "python",
   "name": "python3"
  },
  "language_info": {
   "codemirror_mode": {
    "name": "ipython",
    "version": 3
   },
   "file_extension": ".py",
   "mimetype": "text/x-python",
   "name": "python",
   "nbconvert_exporter": "python",
   "pygments_lexer": "ipython3",
   "version": "3.9.10"
  }
 },
 "nbformat": 4,
 "nbformat_minor": 5
}
