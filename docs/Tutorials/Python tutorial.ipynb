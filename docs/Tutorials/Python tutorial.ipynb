{
 "cells": [
  {
   "cell_type": "markdown",
   "id": "72938f59",
   "metadata": {},
   "source": [
    "# GridLAB-D Module"
   ]
  },
  {
   "cell_type": "code",
   "execution_count": 1,
   "id": "7145a38f",
   "metadata": {},
   "outputs": [
    {
     "data": {
      "text/plain": [
       "'HiPAS GridLAB-D'"
      ]
     },
     "execution_count": 1,
     "metadata": {},
     "output_type": "execute_result"
    }
   ],
   "source": [
    "import gridlabd\n",
    "gridlabd.title()"
   ]
  },
  {
   "cell_type": "code",
   "execution_count": 2,
   "id": "08cf3143",
   "metadata": {},
   "outputs": [
    {
     "data": {
      "text/plain": [
       "{'major': 4, 'minor': 3, 'patch': 1, 'build': 220801, 'branch': 'develop'}"
      ]
     },
     "execution_count": 2,
     "metadata": {},
     "output_type": "execute_result"
    }
   ],
   "source": [
    "gridlabd.version()"
   ]
  },
  {
   "cell_type": "code",
   "execution_count": 3,
   "id": "cf105240",
   "metadata": {},
   "outputs": [
    {
     "data": {
      "text/plain": [
       "'HiPAS GridLAB-D 4.3.1\\n\\nCopyright (C) 2008-2017, Battelle Memorial Institute.\\nCopyright (C) 2016-2022, The Board of Trustees of the Leland Stanford Junior University.\\nAll Rights Reserved.\\nFor additional information, see http://www.gridlabd.us/.\\n'"
      ]
     },
     "execution_count": 3,
     "metadata": {},
     "output_type": "execute_result"
    }
   ],
   "source": [
    "gridlabd.copyright()"
   ]
  },
  {
   "cell_type": "code",
   "execution_count": 4,
   "id": "cfcc3df0",
   "metadata": {},
   "outputs": [
    {
     "data": {
      "text/plain": [
       "'HiPAS GridLAB-D 4.3.1\\n\\nGridLAB-D was developed with funding from the US Department of Energy and the California Energy Commission.\\nFor additional information, see http://www.gridlabd.us/.\\n'"
      ]
     },
     "execution_count": 4,
     "metadata": {},
     "output_type": "execute_result"
    }
   ],
   "source": [
    "gridlabd.credits()"
   ]
  },
  {
   "cell_type": "code",
   "execution_count": 5,
   "id": "9708e994",
   "metadata": {},
   "outputs": [
    {
     "data": {
      "text/plain": [
       "'HiPAS GridLAB-D 4.3.1\\nCopyright (C) 2008-2017, Battelle Memorial Institute.\\nCopyright (C) 2016-2019, The Board of Trustees of the Leland Stanford Junior University.\\nAll Rights Reserved.\\n\\nLicense Version 2.0, January 2019\\nhttp://www.gridlabd.us/\\n\\n1. The Copyright Holders hereby grant permission to any person or entity\\n   lawfully obtaining a copy of this software and associated documentation\\n   files (hereinafter \"the Software\") to redistribute and use the Software\\n   in source andbinary forms, with or without modification.  Such person or\\n   entity may use, copy, modify, merge, publish, distribute, sublicense,\\n   and/or sell copies of the Software, and may permit others to do so,\\n   subject to the following conditions:\\n   - Redistributions of source code must retain the above copyright\\n     notice, this list of conditions and the following disclaimers.\\n   - Redistributions in binary form must reproduce the above copyright\\n     notice, this list of conditions and the following disclaimer in\\n     the documentation and/or other materials provided with the\\n     distribution.\\n   - Other than as used herein, the names of the Copyright Holders\\n     shall not be used in any form whatsoever without their express\\n     written consent.\\n2. THIS SOFTWARE IS PROVIDED BY THE COPYRIGHT HOLDERS AND CONTRIBUTORS\\n   \"AS IS\" AND ANY EXPRESS OR IMPLIED WARRANTIES, INCLUDING, BUT NOT\\n   LIMITED TO, THE IMPLIED WARRANTIES OF MERCHANTABILITY AND FITNESS FOR\\n   A PARTICULAR PURPOSE ARE DISCLAIMED. IN NO EVENT SHALL BATTELLE OR\\n   CONTRIBUTORS BE LIABLE FOR ANY DIRECT, INDIRECT, INCIDENTAL, SPECIAL,\\n   EXEMPLARY, OR CONSEQUENTIAL DAMAGES (INCLUDING, BUT NOT LIMITED TO,\\n   PROCUREMENT OF SUBSTITUTE GOODS OR SERVICES; LOSS OF USE, DATA, OR\\n   PROFITS; OR BUSINESS INTERRUPTION) HOWEVER CAUSED AND ON ANY THEORY\\n   OF LIABILITY, WHETHER IN CONTRACT, STRICT LIABILITY, OR TORT (INCLUDING\\n   NEGLIGENCE OR OTHERWISE) ARISING IN ANY WAY OUT OF THE USE OF THIS\\n   SOFTWARE, EVEN IF ADVISED OF THE POSSIBILITY OF SUCH DAMAGE.\\n3. The Software was originally produced by Battelle under Contract No.\\n   DE-AC05-76RL01830 with the Department of Energy.  The U.S. Government\\n   is granted for itself and others acting on its behalf a nonexclusive,\\n   paid-up, irrevocable worldwide license in this data to reproduce,\\n   prepare derivative works, distribute copies to the public, perform\\n   publicly and display publicly, and to permit others to do so.  The\\n   specific term of the license can be identified by inquiry made to\\n   Battelle or DOE.  Neither the United States nor the United States\\n   Department of Energy, nor any of their employees, makes any warranty,\\n   express or implied, or assumes any legal liability or responsibility\\n   for the accuracy, completeness or usefulness of any data, apparatus,\\n   product or process disclosed, or represents that its use would not\\n   infringe privately owned rights.\\n'"
      ]
     },
     "execution_count": 5,
     "metadata": {},
     "output_type": "execute_result"
    }
   ],
   "source": [
    "gridlabd.license()"
   ]
  },
  {
   "cell_type": "markdown",
   "id": "86d467bb",
   "metadata": {},
   "source": [
    "----"
   ]
  },
  {
   "cell_type": "markdown",
   "id": "a1744759",
   "metadata": {},
   "source": [
    "# Output messages\n",
    "\n",
    "* Standard output stream is not opened until a model is loaded"
   ]
  },
  {
   "cell_type": "code",
   "execution_count": 6,
   "id": "eea89f40",
   "metadata": {},
   "outputs": [
    {
     "name": "stderr",
     "output_type": "stream",
     "text": [
      "WARNING  [INIT] : Warning output\n"
     ]
    },
    {
     "data": {
      "text/plain": [
       "33"
      ]
     },
     "execution_count": 6,
     "metadata": {},
     "output_type": "execute_result"
    }
   ],
   "source": [
    "gridlabd.warning('Warning output')"
   ]
  },
  {
   "cell_type": "code",
   "execution_count": 7,
   "id": "058fc60c",
   "metadata": {},
   "outputs": [
    {
     "name": "stderr",
     "output_type": "stream",
     "text": [
      "ERROR    [INIT] : Error output\n"
     ]
    },
    {
     "data": {
      "text/plain": [
       "31"
      ]
     },
     "execution_count": 7,
     "metadata": {},
     "output_type": "execute_result"
    }
   ],
   "source": [
    "gridlabd.error('Error output')"
   ]
  },
  {
   "cell_type": "markdown",
   "id": "9003713d",
   "metadata": {},
   "source": [
    "* Debug stream is off by default (`debugmode` global is initially `FALSE`)"
   ]
  },
  {
   "cell_type": "code",
   "execution_count": 8,
   "id": "75a02ed4",
   "metadata": {},
   "outputs": [
    {
     "data": {
      "text/plain": [
       "0"
      ]
     },
     "execution_count": 8,
     "metadata": {},
     "output_type": "execute_result"
    }
   ],
   "source": [
    "gridlabd.debug('Debug output')"
   ]
  },
  {
   "cell_type": "markdown",
   "id": "0dfdcf30",
   "metadata": {},
   "source": [
    "----"
   ]
  },
  {
   "cell_type": "markdown",
   "id": "0db0c4da",
   "metadata": {},
   "source": [
    "# GridLAB-D Simulation Start\n",
    "* Use command line options\n",
    "* Command are processed in the order they are received\n",
    "* Errors are not caught until the start command is used\n",
    "* Compound commands must be separated"
   ]
  },
  {
   "cell_type": "code",
   "execution_count": 9,
   "id": "d39b32fd",
   "metadata": {},
   "outputs": [
    {
     "data": {
      "text/plain": [
       "[1, 2]"
      ]
     },
     "execution_count": 9,
     "metadata": {},
     "output_type": "execute_result"
    }
   ],
   "source": [
    "list(map(gridlabd.command,'-W examples'.split()))"
   ]
  },
  {
   "cell_type": "markdown",
   "id": "fd3b5d92",
   "metadata": {},
   "source": [
    "`command` returns the total number of command line options received so far"
   ]
  },
  {
   "cell_type": "code",
   "execution_count": 10,
   "id": "4bc477d2",
   "metadata": {},
   "outputs": [
    {
     "data": {
      "text/plain": [
       "3"
      ]
     },
     "execution_count": 10,
     "metadata": {},
     "output_type": "execute_result"
    }
   ],
   "source": [
    "gridlabd.command('example_1.glm')"
   ]
  },
  {
   "cell_type": "markdown",
   "id": "956017c2",
   "metadata": {},
   "source": [
    "* Two possible starts modes\n",
    "  - `thread`: starts as a separate thread\n",
    "  - `wait`: starts in the same thread "
   ]
  },
  {
   "cell_type": "code",
   "execution_count": 11,
   "id": "351558c9",
   "metadata": {},
   "outputs": [
    {
     "data": {
      "text/plain": [
       "5"
      ]
     },
     "execution_count": 11,
     "metadata": {},
     "output_type": "execute_result"
    }
   ],
   "source": [
    "gridlabd.start('wait')"
   ]
  },
  {
   "cell_type": "code",
   "execution_count": 12,
   "id": "99753a8f",
   "metadata": {},
   "outputs": [
    {
     "ename": "exception",
     "evalue": "cannot resume unless running",
     "output_type": "error",
     "traceback": [
      "\u001b[0;31m---------------------------------------------------------------------------\u001b[0m",
      "\u001b[0;31mexception\u001b[0m                                 Traceback (most recent call last)",
      "Input \u001b[0;32mIn [12]\u001b[0m, in \u001b[0;36m<cell line: 1>\u001b[0;34m()\u001b[0m\n\u001b[0;32m----> 1\u001b[0m \u001b[43mgridlabd\u001b[49m\u001b[38;5;241;43m.\u001b[39;49m\u001b[43mresume\u001b[49m\u001b[43m(\u001b[49m\u001b[43m)\u001b[49m\n",
      "\u001b[0;31mexception\u001b[0m: cannot resume unless running"
     ]
    }
   ],
   "source": [
    "gridlabd.resume()"
   ]
  }
 ],
 "metadata": {
  "kernelspec": {
   "display_name": "Python 3 (ipykernel)",
   "language": "python",
   "name": "python3"
  },
  "language_info": {
   "codemirror_mode": {
    "name": "ipython",
    "version": 3
   },
   "file_extension": ".py",
   "mimetype": "text/x-python",
   "name": "python",
   "nbconvert_exporter": "python",
   "pygments_lexer": "ipython3",
   "version": "3.9.10"
  }
 },
 "nbformat": 4,
 "nbformat_minor": 5
}
