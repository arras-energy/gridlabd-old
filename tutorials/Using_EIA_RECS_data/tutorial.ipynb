{
 "cells": [
  {
   "cell_type": "markdown",
   "id": "7db5295b",
   "metadata": {},
   "source": [
    "The principal learning objectives of this tutorial are the following:\n",
    "\n",
    "1. Model homes that have the similar characteristics to home in the Energy Information Agency's Residential Energy Consumption Survey [1]. \n",
    "\n",
    "2. Create models that use correlated random properties\n",
    "\n",
    "Some the skills you will learn in this tutorial include:\n",
    "\n",
    "1. How to load and select EIA RECS data.\n",
    "\n",
    "2. How to refer to Python variables in GLM models.\n",
    "\n",
    "3. How to run post-simulation analysis\n",
    "\n",
    "4. How to embed python code in a GLM model\n",
    "\n",
    "5. How to refer to GLM model variables into Python code\n",
    "\n",
    "6. How to plot histograms of model properties\n",
    "\n",
    "7. Generating a GLM model from python code\n",
    "\n",
    "The principal source of data for this tutorial is the RECS 2015 Microdata [2].  It contains the raw survey data from 2015.  This microdata can be downloaded using the `eia_recs.py` module installed in the GridLAB-D shared folder from the `python_extras` library in the GridLAB-D source code."
   ]
  },
  {
   "cell_type": "markdown",
   "id": "67e75e6d",
   "metadata": {},
   "source": [
    "# Learning 1: GLM objects with a similar distribution\n",
    "\n",
    "This first section will illustrate how to obtain a single characteristic from the RECS microdata database and use it to generate a collection of `house` objects that have a similar distribution.\n",
    "\n",
    "You can load the RECS microdata for the census division that contains the state of California using the following code:"
   ]
  },
  {
   "cell_type": "code",
   "execution_count": 1,
   "id": "1f194736",
   "metadata": {},
   "outputs": [
    {
     "data": {
      "text/html": [
       "<div>\n",
       "<style scoped>\n",
       "    .dataframe tbody tr th:only-of-type {\n",
       "        vertical-align: middle;\n",
       "    }\n",
       "\n",
       "    .dataframe tbody tr th {\n",
       "        vertical-align: top;\n",
       "    }\n",
       "\n",
       "    .dataframe thead th {\n",
       "        text-align: right;\n",
       "    }\n",
       "</style>\n",
       "<table border=\"1\" class=\"dataframe\">\n",
       "  <thead>\n",
       "    <tr style=\"text-align: right;\">\n",
       "      <th></th>\n",
       "      <th>DOEID</th>\n",
       "      <th>REGIONC</th>\n",
       "      <th>DIVISION</th>\n",
       "      <th>METROMICRO</th>\n",
       "      <th>UATYP10</th>\n",
       "      <th>TYPEHUQ</th>\n",
       "      <th>ZTYPEHUQ</th>\n",
       "      <th>CELLAR</th>\n",
       "      <th>ZCELLAR</th>\n",
       "      <th>BASEFIN</th>\n",
       "      <th>...</th>\n",
       "      <th>ZELAMOUNT</th>\n",
       "      <th>NGXBTU</th>\n",
       "      <th>PERIODNG</th>\n",
       "      <th>ZNGAMOUNT</th>\n",
       "      <th>FOXBTU</th>\n",
       "      <th>PERIODFO</th>\n",
       "      <th>ZFOAMOUNT</th>\n",
       "      <th>LPXBTU</th>\n",
       "      <th>PERIODLP</th>\n",
       "      <th>ZLPAMOUNT</th>\n",
       "    </tr>\n",
       "  </thead>\n",
       "  <tbody>\n",
       "    <tr>\n",
       "      <th>30</th>\n",
       "      <td>10031</td>\n",
       "      <td>4</td>\n",
       "      <td>9</td>\n",
       "      <td>METRO</td>\n",
       "      <td>U</td>\n",
       "      <td>2</td>\n",
       "      <td>0</td>\n",
       "      <td>0</td>\n",
       "      <td>0</td>\n",
       "      <td>-2</td>\n",
       "      <td>...</td>\n",
       "      <td>0</td>\n",
       "      <td>98.88</td>\n",
       "      <td>1</td>\n",
       "      <td>0</td>\n",
       "      <td>137.45</td>\n",
       "      <td>-2</td>\n",
       "      <td>-2</td>\n",
       "      <td>91.33</td>\n",
       "      <td>-2</td>\n",
       "      <td>-2</td>\n",
       "    </tr>\n",
       "    <tr>\n",
       "      <th>63</th>\n",
       "      <td>10064</td>\n",
       "      <td>4</td>\n",
       "      <td>9</td>\n",
       "      <td>METRO</td>\n",
       "      <td>R</td>\n",
       "      <td>2</td>\n",
       "      <td>0</td>\n",
       "      <td>0</td>\n",
       "      <td>0</td>\n",
       "      <td>-2</td>\n",
       "      <td>...</td>\n",
       "      <td>1</td>\n",
       "      <td>NaN</td>\n",
       "      <td>-2</td>\n",
       "      <td>-2</td>\n",
       "      <td>137.45</td>\n",
       "      <td>-2</td>\n",
       "      <td>-2</td>\n",
       "      <td>91.33</td>\n",
       "      <td>5</td>\n",
       "      <td>1</td>\n",
       "    </tr>\n",
       "    <tr>\n",
       "      <th>118</th>\n",
       "      <td>10119</td>\n",
       "      <td>4</td>\n",
       "      <td>9</td>\n",
       "      <td>METRO</td>\n",
       "      <td>U</td>\n",
       "      <td>2</td>\n",
       "      <td>0</td>\n",
       "      <td>0</td>\n",
       "      <td>0</td>\n",
       "      <td>-2</td>\n",
       "      <td>...</td>\n",
       "      <td>0</td>\n",
       "      <td>99.77</td>\n",
       "      <td>1</td>\n",
       "      <td>0</td>\n",
       "      <td>137.45</td>\n",
       "      <td>-2</td>\n",
       "      <td>-2</td>\n",
       "      <td>91.33</td>\n",
       "      <td>-2</td>\n",
       "      <td>-2</td>\n",
       "    </tr>\n",
       "    <tr>\n",
       "      <th>135</th>\n",
       "      <td>10136</td>\n",
       "      <td>4</td>\n",
       "      <td>9</td>\n",
       "      <td>METRO</td>\n",
       "      <td>U</td>\n",
       "      <td>2</td>\n",
       "      <td>0</td>\n",
       "      <td>0</td>\n",
       "      <td>0</td>\n",
       "      <td>-2</td>\n",
       "      <td>...</td>\n",
       "      <td>0</td>\n",
       "      <td>85.58</td>\n",
       "      <td>1</td>\n",
       "      <td>0</td>\n",
       "      <td>137.45</td>\n",
       "      <td>-2</td>\n",
       "      <td>-2</td>\n",
       "      <td>91.33</td>\n",
       "      <td>-2</td>\n",
       "      <td>-2</td>\n",
       "    </tr>\n",
       "    <tr>\n",
       "      <th>180</th>\n",
       "      <td>10181</td>\n",
       "      <td>4</td>\n",
       "      <td>9</td>\n",
       "      <td>METRO</td>\n",
       "      <td>U</td>\n",
       "      <td>2</td>\n",
       "      <td>0</td>\n",
       "      <td>0</td>\n",
       "      <td>0</td>\n",
       "      <td>-2</td>\n",
       "      <td>...</td>\n",
       "      <td>0</td>\n",
       "      <td>84.81</td>\n",
       "      <td>1</td>\n",
       "      <td>0</td>\n",
       "      <td>137.45</td>\n",
       "      <td>-2</td>\n",
       "      <td>-2</td>\n",
       "      <td>91.33</td>\n",
       "      <td>-2</td>\n",
       "      <td>-2</td>\n",
       "    </tr>\n",
       "    <tr>\n",
       "      <th>...</th>\n",
       "      <td>...</td>\n",
       "      <td>...</td>\n",
       "      <td>...</td>\n",
       "      <td>...</td>\n",
       "      <td>...</td>\n",
       "      <td>...</td>\n",
       "      <td>...</td>\n",
       "      <td>...</td>\n",
       "      <td>...</td>\n",
       "      <td>...</td>\n",
       "      <td>...</td>\n",
       "      <td>...</td>\n",
       "      <td>...</td>\n",
       "      <td>...</td>\n",
       "      <td>...</td>\n",
       "      <td>...</td>\n",
       "      <td>...</td>\n",
       "      <td>...</td>\n",
       "      <td>...</td>\n",
       "      <td>...</td>\n",
       "      <td>...</td>\n",
       "    </tr>\n",
       "    <tr>\n",
       "      <th>5602</th>\n",
       "      <td>15603</td>\n",
       "      <td>4</td>\n",
       "      <td>9</td>\n",
       "      <td>METRO</td>\n",
       "      <td>U</td>\n",
       "      <td>2</td>\n",
       "      <td>0</td>\n",
       "      <td>0</td>\n",
       "      <td>0</td>\n",
       "      <td>-2</td>\n",
       "      <td>...</td>\n",
       "      <td>0</td>\n",
       "      <td>84.57</td>\n",
       "      <td>1</td>\n",
       "      <td>0</td>\n",
       "      <td>137.45</td>\n",
       "      <td>-2</td>\n",
       "      <td>-2</td>\n",
       "      <td>91.33</td>\n",
       "      <td>-2</td>\n",
       "      <td>-2</td>\n",
       "    </tr>\n",
       "    <tr>\n",
       "      <th>5622</th>\n",
       "      <td>15623</td>\n",
       "      <td>4</td>\n",
       "      <td>9</td>\n",
       "      <td>METRO</td>\n",
       "      <td>U</td>\n",
       "      <td>2</td>\n",
       "      <td>0</td>\n",
       "      <td>0</td>\n",
       "      <td>0</td>\n",
       "      <td>-2</td>\n",
       "      <td>...</td>\n",
       "      <td>0</td>\n",
       "      <td>99.40</td>\n",
       "      <td>1</td>\n",
       "      <td>0</td>\n",
       "      <td>137.45</td>\n",
       "      <td>-2</td>\n",
       "      <td>-2</td>\n",
       "      <td>91.33</td>\n",
       "      <td>-2</td>\n",
       "      <td>-2</td>\n",
       "    </tr>\n",
       "    <tr>\n",
       "      <th>5637</th>\n",
       "      <td>15638</td>\n",
       "      <td>4</td>\n",
       "      <td>9</td>\n",
       "      <td>METRO</td>\n",
       "      <td>U</td>\n",
       "      <td>2</td>\n",
       "      <td>0</td>\n",
       "      <td>0</td>\n",
       "      <td>0</td>\n",
       "      <td>-2</td>\n",
       "      <td>...</td>\n",
       "      <td>0</td>\n",
       "      <td>99.45</td>\n",
       "      <td>1</td>\n",
       "      <td>0</td>\n",
       "      <td>137.45</td>\n",
       "      <td>-2</td>\n",
       "      <td>-2</td>\n",
       "      <td>91.33</td>\n",
       "      <td>-2</td>\n",
       "      <td>-2</td>\n",
       "    </tr>\n",
       "    <tr>\n",
       "      <th>5651</th>\n",
       "      <td>15652</td>\n",
       "      <td>4</td>\n",
       "      <td>9</td>\n",
       "      <td>METRO</td>\n",
       "      <td>U</td>\n",
       "      <td>2</td>\n",
       "      <td>0</td>\n",
       "      <td>0</td>\n",
       "      <td>0</td>\n",
       "      <td>-2</td>\n",
       "      <td>...</td>\n",
       "      <td>0</td>\n",
       "      <td>84.41</td>\n",
       "      <td>1</td>\n",
       "      <td>0</td>\n",
       "      <td>137.45</td>\n",
       "      <td>-2</td>\n",
       "      <td>-2</td>\n",
       "      <td>91.33</td>\n",
       "      <td>5</td>\n",
       "      <td>1</td>\n",
       "    </tr>\n",
       "    <tr>\n",
       "      <th>5679</th>\n",
       "      <td>15680</td>\n",
       "      <td>4</td>\n",
       "      <td>9</td>\n",
       "      <td>METRO</td>\n",
       "      <td>U</td>\n",
       "      <td>2</td>\n",
       "      <td>0</td>\n",
       "      <td>0</td>\n",
       "      <td>0</td>\n",
       "      <td>-2</td>\n",
       "      <td>...</td>\n",
       "      <td>0</td>\n",
       "      <td>NaN</td>\n",
       "      <td>-2</td>\n",
       "      <td>-2</td>\n",
       "      <td>137.45</td>\n",
       "      <td>-2</td>\n",
       "      <td>-2</td>\n",
       "      <td>91.33</td>\n",
       "      <td>-2</td>\n",
       "      <td>-2</td>\n",
       "    </tr>\n",
       "  </tbody>\n",
       "</table>\n",
       "<p>242 rows × 759 columns</p>\n",
       "</div>"
      ],
      "text/plain": [
       "      DOEID  REGIONC  DIVISION METROMICRO UATYP10  TYPEHUQ  ZTYPEHUQ  CELLAR  \\\n",
       "30    10031        4         9      METRO       U        2         0       0   \n",
       "63    10064        4         9      METRO       R        2         0       0   \n",
       "118   10119        4         9      METRO       U        2         0       0   \n",
       "135   10136        4         9      METRO       U        2         0       0   \n",
       "180   10181        4         9      METRO       U        2         0       0   \n",
       "...     ...      ...       ...        ...     ...      ...       ...     ...   \n",
       "5602  15603        4         9      METRO       U        2         0       0   \n",
       "5622  15623        4         9      METRO       U        2         0       0   \n",
       "5637  15638        4         9      METRO       U        2         0       0   \n",
       "5651  15652        4         9      METRO       U        2         0       0   \n",
       "5679  15680        4         9      METRO       U        2         0       0   \n",
       "\n",
       "      ZCELLAR  BASEFIN  ...  ZELAMOUNT  NGXBTU  PERIODNG  ZNGAMOUNT  FOXBTU  \\\n",
       "30          0       -2  ...          0   98.88         1          0  137.45   \n",
       "63          0       -2  ...          1     NaN        -2         -2  137.45   \n",
       "118         0       -2  ...          0   99.77         1          0  137.45   \n",
       "135         0       -2  ...          0   85.58         1          0  137.45   \n",
       "180         0       -2  ...          0   84.81         1          0  137.45   \n",
       "...       ...      ...  ...        ...     ...       ...        ...     ...   \n",
       "5602        0       -2  ...          0   84.57         1          0  137.45   \n",
       "5622        0       -2  ...          0   99.40         1          0  137.45   \n",
       "5637        0       -2  ...          0   99.45         1          0  137.45   \n",
       "5651        0       -2  ...          0   84.41         1          0  137.45   \n",
       "5679        0       -2  ...          0     NaN        -2         -2  137.45   \n",
       "\n",
       "      PERIODFO  ZFOAMOUNT  LPXBTU  PERIODLP  ZLPAMOUNT  \n",
       "30          -2         -2   91.33        -2         -2  \n",
       "63          -2         -2   91.33         5          1  \n",
       "118         -2         -2   91.33        -2         -2  \n",
       "135         -2         -2   91.33        -2         -2  \n",
       "180         -2         -2   91.33        -2         -2  \n",
       "...        ...        ...     ...       ...        ...  \n",
       "5602        -2         -2   91.33        -2         -2  \n",
       "5622        -2         -2   91.33        -2         -2  \n",
       "5637        -2         -2   91.33        -2         -2  \n",
       "5651        -2         -2   91.33         5          1  \n",
       "5679        -2         -2   91.33        -2         -2  \n",
       "\n",
       "[242 rows x 759 columns]"
      ]
     },
     "execution_count": 1,
     "metadata": {},
     "output_type": "execute_result"
    }
   ],
   "source": [
    "import eia_recs\n",
    "fips = eia_recs.Microdata.get_division(\"CA\")\n",
    "codes = eia_recs.Microdata.get_codes(**fips)\n",
    "recs = eia_recs.Microdata()\n",
    "data = recs[recs[\"DIVISION\"]==codes[\"division\"]]\n",
    "\n",
    "data"
   ]
  },
  {
   "cell_type": "markdown",
   "id": "32c662d4",
   "metadata": {},
   "source": [
    "**Skill 1**: The EIA RECS microdata is available from the `eia_recs.py` module that is installed as part of GridLAB-D Python Extras.  The `Microdata` class provides direct access to the entire survey dataset, which includes roughly 750 columns of data for roughly 5700 residential buildings across the US. The `get_division()` and `get_codes()` methods determine the census region, division, and FIPS codes to the state given.  These codes can be used to select records, as shown in the pandas selection used to obtain the `data`."
   ]
  },
  {
   "cell_type": "markdown",
   "id": "f9e70df5",
   "metadata": {},
   "source": [
    "The `data` object now contains all the records needed to obtain home statistics for census division 9, e.g., the parameters of a log-normal distribution of floor area:"
   ]
  },
  {
   "cell_type": "code",
   "execution_count": 18,
   "id": "9771aea7",
   "metadata": {},
   "outputs": [
    {
     "data": {
      "text/plain": [
       "<AxesSubplot:ylabel='Frequency'>"
      ]
     },
     "execution_count": 18,
     "metadata": {},
     "output_type": "execute_result"
    },
    {
     "data": {
      "image/png": "[encoded data removed]",
      "text/plain": [
       "<Figure size 432x288 with 1 Axes>"
      ]
     },
     "metadata": {
      "needs_background": "light"
     },
     "output_type": "display_data"
    }
   ],
   "source": [
    "import numpy\n",
    "avg = numpy.log(data[\"TOTSQFT_EN\"]).mean()\n",
    "std =  numpy.log(data[\"TOTSQFT_EN\"]).std()\n",
    "\n",
    "data[\"TOTSQFT_EN\"].plot(kind=\"hist\",bins=range(0,10000,500),grid=True)"
   ]
  },
  {
   "cell_type": "markdown",
   "id": "81d9fb39",
   "metadata": {},
   "source": [
    "These parameters can then be used to generate a collection of `house` objects with the same distribution, e.g., 1000 homes with the same geometric average and standard deviation:"
   ]
  },
  {
   "cell_type": "raw",
   "id": "7fd73c37",
   "metadata": {},
   "source": [
    "module residential;\n",
    "object house:..1000\n",
    "{\n",
    "    floor_area random.lognormal(${PYTHON avg},${PYTHON std});\n",
    "}"
   ]
  },
  {
   "cell_type": "markdown",
   "id": "42ff9cc1",
   "metadata": {},
   "source": [
    "**Skill 2**: You can embed a python value in your GLM model using the syntax `${PYTHON name}` where `name` is the python object you wish to embed.  One caveat is that many objects are represented in formats that are not compatible with GridLAB-D's GLM format. As a result, generally only numbers are represented correctly by default.  Other objects such as strings and lists require special formatting to be represented correctly in GLM files.  This is an advanced topic that will be addressed in another tutorial."
   ]
  },
  {
   "cell_type": "markdown",
   "id": "cbf3a12a",
   "metadata": {},
   "source": [
    "We can verify the result by outputing this model to a JSON file and running a python script to generate a histogram of the result."
   ]
  },
  {
   "cell_type": "raw",
   "id": "82a406ba",
   "metadata": {},
   "source": [
    "#set savefile=${modelname/.glm/.json}\n",
    "#on_exit 0 python3 ${modelname/.glm/.py}"
   ]
  },
  {
   "cell_type": "markdown",
   "id": "3ec6a450",
   "metadata": {},
   "source": [
    "**Skill 3**: When a GLM file is loaded, you can use `#on_exit CODE python3 FILENAME.py` command to schedule a post-processing run of a python script.  If the code `0` is used, the script will run only when the GLM file is loaded (and run if that is required) successfully.  The value `-1` allows you to run the scripts if the GLM file load fails. Positive codes refers to specific abnormal exit conditions, such as an error with the command line (1), an error starting the simulation environment (2), a runtime error (5), and an initialization error (6)."
   ]
  },
  {
   "cell_type": "markdown",
   "id": "00f27b97",
   "metadata": {},
   "source": [
    "Let's put all this together now, and run the GLM model."
   ]
  },
  {
   "cell_type": "markdown",
   "id": "ce09b172",
   "metadata": {},
   "source": [
    "First, here's what the GLM file looks like"
   ]
  },
  {
   "cell_type": "code",
   "execution_count": 3,
   "id": "3e6d88d2",
   "metadata": {},
   "outputs": [
    {
     "name": "stdout",
     "output_type": "stream",
     "text": [
      "// this prevents the simulation from start a clock\r\n",
      "#set compileonly=TRUE\r\n",
      "#set warn=FALSE\r\n",
      "\r\n",
      "// load the RECS data and calculate the floor area statistics\r\n",
      "#begin python\r\n",
      "import eia_recs, numpy\r\n",
      "fips = eia_recs.Microdata.get_division(\"${region}\")\r\n",
      "codes = eia_recs.Microdata.get_codes(**fips)\r\n",
      "recs = eia_recs.Microdata()\r\n",
      "data = recs[recs[\"DIVISION\"]==codes[\"division\"]]\r\n",
      "avg = numpy.log(data[\"TOTSQFT_EN\"]).mean()\r\n",
      "std =  numpy.log(data[\"TOTSQFT_EN\"]).std()\r\n",
      "#end\r\n",
      "\r\n",
      "// create the same number of homes with a similar log-normal distribution\r\n",
      "module residential;\r\n",
      "object house:..${PYTHON len(data)}\r\n",
      "{\r\n",
      "    floor_area random.lognormal(${PYTHON avg},${PYTHON std});\r\n",
      "}\r\n",
      "\r\n",
      "// save and plot the results \r\n",
      "#set savefile=${modelname/.glm/.json}\r\n",
      "#on_exit 0 python3 ${modelname/.glm/.py}\r\n"
     ]
    }
   ],
   "source": [
    "!cat eia_recs_floorarea.glm"
   ]
  },
  {
   "cell_type": "markdown",
   "id": "861a139b",
   "metadata": {},
   "source": [
    "**Skill 4**: The python code is embedded in the GLM file using the `#begin python` ... `#end` syntax.  The body of the code between these two statement is compiled into GridLAB-D's main python context and available for use during the loading, initialization, and simulation processes.\n",
    "\n",
    "**Skill 5**: The python call to `eia_recs.Microdata.get_division(\"${region}\")` uses the string `\"${region}\"`.  This syntax causes the GLM loaded to substitute the GLM global variable `region` in place so that Python receives the value `\"CA\"` (assuming the `region` is California)."
   ]
  },
  {
   "cell_type": "markdown",
   "id": "45e3f6c0",
   "metadata": {},
   "source": [
    "The python file contains the following code:"
   ]
  },
  {
   "cell_type": "code",
   "execution_count": 4,
   "id": "b84de350",
   "metadata": {},
   "outputs": [
    {
     "name": "stdout",
     "output_type": "stream",
     "text": [
      "import sys, json\r\n",
      "area = []\r\n",
      "with open(sys.argv[0].replace(\".py\",\".json\"),\"r\") as f:\r\n",
      "    glm = json.load(f)\r\n",
      "    for name, data in glm[\"objects\"].items():\r\n",
      "        area.append(float(data[\"floor_area\"].split()[0]))\r\n",
      "import matplotlib.pyplot as plt\r\n",
      "plt.hist(area,20,range=(0,10000))\r\n",
      "plt.xlabel(\"Floor area (sf)\")\r\n",
      "plt.ylabel(\"Number of homes\")\r\n",
      "plt.title(f\"Floor areas (N={len(area)})\")\r\n",
      "plt.grid()\r\n",
      "plt.savefig(sys.argv[0].replace(\".py\",\".png\"))"
     ]
    }
   ],
   "source": [
    "!cat eia_recs_floorarea.py"
   ]
  },
  {
   "cell_type": "markdown",
   "id": "dfeeadae",
   "metadata": {},
   "source": [
    "**Skill 6**: The JSON files generated by the `#set savefile=FILENAME.json` command above has a specific structure that allows python scripts to access any property of any object in the model.  In this case, we can all the objects and extract the `floor_area` property to construct a list that we can plot as a histogram using `matplotlib`."
   ]
  },
  {
   "cell_type": "markdown",
   "id": "4a35fecf",
   "metadata": {},
   "source": [
    "The output PNG file is generated and viewed using the following command"
   ]
  },
  {
   "cell_type": "code",
   "execution_count": 5,
   "id": "2854df07",
   "metadata": {},
   "outputs": [
    {
     "data": {
      "image/png": "[encoded data removed]",
      "text/plain": [
       "<PIL.PngImagePlugin.PngImageFile image mode=RGBA size=640x480 at 0x125BBB7C0>"
      ]
     },
     "execution_count": 5,
     "metadata": {},
     "output_type": "execute_result"
    }
   ],
   "source": [
    "!gridlabd eia_recs_floorarea.glm\n",
    "from PIL import Image\n",
    "Image.open(\"eia_recs_floorarea.png\")"
   ]
  },
  {
   "cell_type": "markdown",
   "id": "1cdc819d",
   "metadata": {},
   "source": [
    "# Learning 2: GLM objects with correlated distributions\n"
   ]
  },
  {
   "cell_type": "markdown",
   "id": "49c20e6b",
   "metadata": {},
   "source": [
    "In this section we will learn how to generate and verify a correlated distribution of properties from the RECS dataset, specifically the floor area and the thermal integrity. Because this is a discrete property, a discrete correlated distribution method is used."
   ]
  },
  {
   "cell_type": "code",
   "execution_count": 6,
   "id": "68e14b07",
   "metadata": {},
   "outputs": [
    {
     "data": {
      "image/png": "[encoded data removed]",
      "text/plain": [
       "<Figure size 432x288 with 1 Axes>"
      ]
     },
     "metadata": {
      "needs_background": "light"
     },
     "output_type": "display_data"
    }
   ],
   "source": [
    "import eia_recs, numpy\n",
    "fips = eia_recs.Microdata.get_division(\"CA\")\n",
    "codes = eia_recs.Microdata.get_codes(**fips)\n",
    "recs = eia_recs.Microdata()\n",
    "data = recs[recs[\"DIVISION\"]==codes[\"division\"]]\n",
    "area = {}\n",
    "ins = []\n",
    "avg = []\n",
    "std = []\n",
    "keys = [\"LITTLE\",\"NORMAL\",\"GOOD\"]\n",
    "for n in range(1,4):\n",
    "    ins.append(data[data[\"ADQINSUL\"]==n])\n",
    "    area[keys[n-1]] = list(ins[-1][\"TOTSQFT_EN\"])\n",
    "    avg.append(numpy.log(ins[-1][\"TOTSQFT_EN\"]).mean())\n",
    "    std.append(numpy.log(ins[-1][\"TOTSQFT_EN\"]).std())\n",
    "values = list(area.values())\n",
    "keys = list(area.keys())\n",
    "import sys, matplotlib.pyplot as plt\n",
    "plt.hist(area.values(),20,range=(0,10000),label=keys,stacked=True)\n",
    "plt.xlabel(\"Floor area (sf)\")\n",
    "plt.ylabel(\"Number of homes\")\n",
    "plt.title(f\"Floor areas (N={sum(list(map(lambda x:len(x),values)))})\")\n",
    "plt.grid()\n",
    "plt.legend(list(area.keys()))\n",
    "plt.show()"
   ]
  },
  {
   "cell_type": "markdown",
   "id": "ebf14334",
   "metadata": {},
   "source": [
    "The GLM file for a model based on this data is as follows"
   ]
  },
  {
   "cell_type": "code",
   "execution_count": 7,
   "id": "d3a9cc58",
   "metadata": {},
   "outputs": [
    {
     "name": "stdout",
     "output_type": "stream",
     "text": [
      "// this prevents the simulation from start a clock\r\n",
      "#set compileonly=TRUE\r\n",
      "#set warn=FALSE\r\n",
      "\r\n",
      "// load the RECS data and calculate the floor area statistics\r\n",
      "#begin python\r\n",
      "import eia_recs, numpy\r\n",
      "fips = eia_recs.Microdata.get_division(\"${region}\")\r\n",
      "codes = eia_recs.Microdata.get_codes(**fips)\r\n",
      "recs = eia_recs.Microdata()\r\n",
      "data = recs[recs[\"DIVISION\"]==codes[\"division\"]]\r\n",
      "ins = []\r\n",
      "avg = []\r\n",
      "std = []\r\n",
      "for n in range(1,4):\r\n",
      "    ins.append(data[data[\"ADQINSUL\"]==n])\r\n",
      "    avg.append(numpy.log(ins[-1][\"TOTSQFT_EN\"]).mean())\r\n",
      "    std.append(numpy.log(ins[-1][\"TOTSQFT_EN\"]).std())\r\n",
      "#end\r\n",
      "\r\n",
      "// create the same number of homes with a similar log-normal distribution\r\n",
      "module residential;\r\n",
      "object house:..${PYTHON len(ins[0])}\r\n",
      "{\r\n",
      "    floor_area random.lognormal(${PYTHON avg[0]},${PYTHON std[0]});\r\n",
      "    thermal_integrity_level GOOD;\r\n",
      "}\r\n",
      "object house:..${PYTHON len(ins[1])}\r\n",
      "{\r\n",
      "    floor_area random.lognormal(${PYTHON avg[1]},${PYTHON std[1]});\r\n",
      "    thermal_integrity_level NORMAL;\r\n",
      "}\r\n",
      "object house:..${PYTHON len(ins[2])}\r\n",
      "{\r",
      "\r\n",
      "    floor_area random.lognormal(${PYTHON avg[2]},${PYTHON std[2]});\r\n",
      "    thermal_integrity_level LITTLE;\r\n",
      "}\r\n",
      "\r\n",
      "// save and plot the results \r\n",
      "#set savefile=${modelname/.glm/.json}\r\n",
      "#on_exit 0 python3 ${modelname/.glm/.py}\r\n"
     ]
    }
   ],
   "source": [
    "!cat eia_recs_floorarea_insulation.glm"
   ]
  },
  {
   "cell_type": "markdown",
   "id": "3c973ad5",
   "metadata": {},
   "source": [
    "The python script is a little different because we have to plot a stacked histogram:"
   ]
  },
  {
   "cell_type": "code",
   "execution_count": 8,
   "id": "5733c2c0",
   "metadata": {},
   "outputs": [
    {
     "name": "stdout",
     "output_type": "stream",
     "text": [
      "import sys, json, math\r\n",
      "area = []\r\n",
      "with open(sys.argv[0].replace(\".py\",\".json\"),\"r\") as f:\r\n",
      "    glm = json.load(f)\r\n",
      "    area = {\"LITTLE\":[],\"NORMAL\":[],\"GOOD\":[]}\r\n",
      "    for name, data in glm[\"objects\"].items():\r\n",
      "        area[data[\"thermal_integrity_level\"]].append(float(data[\"floor_area\"].split()[0]))\r\n",
      "import matplotlib.pyplot as plt\r\n",
      "values = list(area.values())\r\n",
      "keys = list(area.keys())\r\n",
      "plt.hist(values,20,range=(0,10000),label=keys,stacked=True)\r\n",
      "plt.xlabel(\"Floor area (sf)\")\r\n",
      "plt.ylabel(\"Number of homes\")\r\n",
      "plt.title(f\"Floor areas (N={len(glm['objects'].keys())})\")\r\n",
      "plt.grid()\r\n",
      "plt.legend(keys)\r\n",
      "plt.savefig(sys.argv[0].replace(\".py\",\".png\"))"
     ]
    }
   ],
   "source": [
    "!cat eia_recs_floorarea_insulation.py"
   ]
  },
  {
   "cell_type": "markdown",
   "id": "443dd054",
   "metadata": {},
   "source": [
    "The result is as follows:"
   ]
  },
  {
   "cell_type": "code",
   "execution_count": 9,
   "id": "c36e19bb",
   "metadata": {},
   "outputs": [
    {
     "data": {
      "image/png": "[encoded data removed]",
      "text/plain": [
       "<PIL.PngImagePlugin.PngImageFile image mode=RGBA size=640x480 at 0x125B32DC0>"
      ]
     },
     "execution_count": 9,
     "metadata": {},
     "output_type": "execute_result"
    }
   ],
   "source": [
    "!gridlabd eia_recs_floorarea_insulation.glm\n",
    "from PIL import Image\n",
    "Image.open(\"eia_recs_floorarea_insulation.png\")"
   ]
  },
  {
   "cell_type": "markdown",
   "id": "ac17511a",
   "metadata": {},
   "source": [
    "Another pair of properties that are usually correlated are the heating and cooling setpoints. In this case, the correlation is between two continuous variables, as shown by the following 2D histogram."
   ]
  },
  {
   "cell_type": "code",
   "execution_count": 10,
   "id": "40236878",
   "metadata": {},
   "outputs": [
    {
     "data": {
      "image/png": "[encoded data removed]",
      "text/plain": [
       "<Figure size 432x288 with 2 Axes>"
      ]
     },
     "metadata": {
      "needs_background": "light"
     },
     "output_type": "display_data"
    }
   ],
   "source": [
    "import eia_recs, numpy\n",
    "fips = eia_recs.Microdata.get_division(\"CA\")\n",
    "codes = eia_recs.Microdata.get_codes(**fips)\n",
    "recs = eia_recs.Microdata()\n",
    "data = recs[recs[\"DIVISION\"]==codes[\"division\"]]\n",
    "th = data[\"TEMPHOME\"]\n",
    "tc = data[\"TEMPHOMEAC\"]\n",
    "import matplotlib.pyplot as plt\n",
    "plt.hist2d(x=tc,y=th,bins=15,range=[[65,80],[65,80]])\n",
    "plt.xlabel(\"Cooling setpoint (degF)\")\n",
    "plt.ylabel(\"Heating setpoint (degF)\")\n",
    "plt.title(f\"Thermostat (N={len(data)})\")\n",
    "plt.colorbar()\n",
    "plt.xticks(range(65,81,1))\n",
    "plt.yticks(range(65,81,1))\n",
    "plt.show()"
   ]
  },
  {
   "cell_type": "markdown",
   "id": "39780999",
   "metadata": {},
   "source": [
    "In this case we will use random sampling to populate the objects in the model. One way this can be accomplished to is to generate the objects in a separate file and include the file. "
   ]
  },
  {
   "cell_type": "markdown",
   "id": "b49ce248",
   "metadata": {},
   "source": [
    "The following GLM file creates a model with 1000 homes (instead of the original 242)."
   ]
  },
  {
   "cell_type": "code",
   "execution_count": 11,
   "id": "1367114c",
   "metadata": {},
   "outputs": [
    {
     "name": "stdout",
     "output_type": "stream",
     "text": [
      "// this prevents the simulation from start a clock\r\n",
      "#set compileonly=TRUE\r\n",
      "#set warn=FALSE\r\n",
      "\r\n",
      "// load the RECS data and calculate the floor area statistics\r\n",
      "#begin python\r\n",
      "import eia_recs, numpy, sys, random\r\n",
      "fips = eia_recs.Microdata.get_division(\"${region}\")\r\n",
      "codes = eia_recs.Microdata.get_codes(**fips)\r\n",
      "recs = eia_recs.Microdata()\r\n",
      "data = recs[recs[\"DIVISION\"]==codes[\"division\"]]\r\n",
      "th = list(data[\"TEMPHOME\"])\r\n",
      "tc = list(data[\"TEMPHOMEAC\"])\r\n",
      "with open(\"/tmp/objects.glm\",\"w\") as f:\r\n",
      "    f.write(\"module residential;\\n\")\r\n",
      "    for n in range(1000):\r\n",
      "        f.write(\"object house {\\n\")\r\n",
      "        m = random.randrange(len(data))\r\n",
      "        f.write(f\"  heating_setpoint {th[m]};\\n\")\r\n",
      "        f.write(f\"  cooling_setpoint {tc[m]};\\n\")\r\n",
      "        f.write(\"}\\n\")\r\n",
      "#end\r\n",
      "\r\n",
      "// create the same number of homes with a similar log-normal distribution\r\n",
      "#include \"/tmp/objects.glm\"\r\n",
      "\r\n",
      "// save and plot the results \r\n",
      "#set savefile=${modelname/.glm/.json}\r\n",
      "#on_exit 0 python3 ${modelname/.glm/.py}\r\n"
     ]
    }
   ],
   "source": [
    "!cat eia_recs_floorarea_temperature.glm"
   ]
  },
  {
   "cell_type": "markdown",
   "id": "2b315f90",
   "metadata": {},
   "source": [
    "**Skill 7**: Dynamically generated models can be written to a temporary GLM file and then loaded using a `#include` statement.  Care should be take not to use a filename that is already used.  An alternative method is to use `modify` statements instead of `object` statements."
   ]
  },
  {
   "cell_type": "markdown",
   "id": "cca080be",
   "metadata": {},
   "source": [
    "Here again, a familiar python script is used to analyze the result:"
   ]
  },
  {
   "cell_type": "code",
   "execution_count": 12,
   "id": "e97eb8bc",
   "metadata": {},
   "outputs": [
    {
     "name": "stdout",
     "output_type": "stream",
     "text": [
      "import sys, json, math\r\n",
      "th = []\r\n",
      "tc = []\r\n",
      "with open(sys.argv[0].replace(\".py\",\".json\"),\"r\") as f:\r\n",
      "    glm = json.load(f)\r\n",
      "    for name, data in glm[\"objects\"].items():\r\n",
      "        th.append(float(data[\"heating_setpoint\"].split()[0]))\r\n",
      "        tc.append(float(data[\"cooling_setpoint\"].split()[0]))\r\n",
      "\r\n",
      "import matplotlib.pyplot as plt\r\n",
      "plt.hist2d(x=tc,y=th,bins=15,range=[[65,80],[65,80]])\r\n",
      "plt.xlabel(\"Cooling setpoint (degF)\")\r\n",
      "plt.ylabel(\"Heating setpoint (degF)\")\r\n",
      "plt.title(f\"Thermostat (N={len(glm['objects'].keys())})\")\r\n",
      "plt.colorbar()\r\n",
      "plt.xticks(range(65,81,1))\r\n",
      "plt.yticks(range(65,81,1))\r\n",
      "plt.savefig(sys.argv[0].replace(\".py\",\".png\"))"
     ]
    }
   ],
   "source": [
    "!cat eia_recs_floorarea_temperature.py"
   ]
  },
  {
   "cell_type": "markdown",
   "id": "0948b85b",
   "metadata": {},
   "source": [
    "The result is as follows:"
   ]
  },
  {
   "cell_type": "code",
   "execution_count": 13,
   "id": "8b82e32a",
   "metadata": {},
   "outputs": [
    {
     "data": {
      "image/png": "[encoded data removed]",
      "text/plain": [
       "<PIL.PngImagePlugin.PngImageFile image mode=RGBA size=640x480 at 0x125BB7670>"
      ]
     },
     "execution_count": 13,
     "metadata": {},
     "output_type": "execute_result"
    }
   ],
   "source": [
    "!gridlabd eia_recs_floorarea_temperature.glm\n",
    "from PIL import Image\n",
    "Image.open(\"eia_recs_floorarea_temperature.png\")"
   ]
  },
  {
   "cell_type": "markdown",
   "id": "a01c0e8e",
   "metadata": {},
   "source": [
    "# References\n",
    " [1] Energy Information Agency, \"Residential Energy Consumption Survey (RECS)\", accessed 29 August 2021. URL: https://www.eia.gov/consumption/residential/.\n",
    " \n",
    " [2] Energy Information Agency, \"RECS 2015 Microdata Version 4\", accessed 29 August 2021. URL: https://www.eia.gov/consumption/residential/data/2015/csv/recs2015_public_v4.csv"
   ]
  },
  {
   "cell_type": "code",
   "execution_count": null,
   "id": "bdb3a024",
   "metadata": {},
   "outputs": [],
   "source": []
  }
 ],
 "metadata": {
  "kernelspec": {
   "display_name": "Python 3 (ipykernel)",
   "language": "python",
   "name": "python3"
  },
  "language_info": {
   "codemirror_mode": {
    "name": "ipython",
    "version": 3
   },
   "file_extension": ".py",
   "mimetype": "text/x-python",
   "name": "python",
   "nbconvert_exporter": "python",
   "pygments_lexer": "ipython3",
   "version": "3.9.6"
  }
 },
 "nbformat": 4,
 "nbformat_minor": 5
}
