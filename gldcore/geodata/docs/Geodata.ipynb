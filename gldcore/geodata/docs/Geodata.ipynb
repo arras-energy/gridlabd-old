{
 "cells": [
  {
   "cell_type": "markdown",
   "id": "fcfda403",
   "metadata": {},
   "source": [
    "# GridLAB-D Geodata Subcommand Tutorial"
   ]
  },
  {
   "cell_type": "markdown",
   "id": "a7064cc4",
   "metadata": {},
   "source": [
    "As of version 4.2.21, HiPAS GridLAB-D supports the handling of geographic data.  This document provides a tutorial for using the `geodata` subcommand in GridLAB-D."
   ]
  },
  {
   "cell_type": "markdown",
   "id": "82e1dbb4",
   "metadata": {},
   "source": [
    "## System Preparation\n",
    "The following command checks that the version of GridLAB-D supports the `geodata` subcommand."
   ]
  },
  {
   "cell_type": "code",
   "execution_count": 1,
   "id": "6aa36791",
   "metadata": {},
   "outputs": [
    {
     "name": "stdout",
     "output_type": "stream",
     "text": [
      "\r\n",
      "Usage:   \r\n",
      "  /usr/local/opt/python@3.9/bin/python3.9 -m pip <command> [options]\r\n",
      "\r\n",
      "no such option: -r\r\n"
     ]
    }
   ],
   "source": [
    "!gridlabd --version='-ge 4.2.26'\n",
    "!gridlabd requirements"
   ]
  },
  {
   "cell_type": "markdown",
   "id": "e6d71b13",
   "metadata": {},
   "source": [
    "# General Usage\n",
    "The `geodata` subcommand uses the general syntax `gridlabd geodata OPTIONS DIRECTIVE [ARGUMENTS]`.  "
   ]
  },
  {
   "cell_type": "markdown",
   "id": "d6715881",
   "metadata": {},
   "source": [
    "## Creating location data\n",
    "\n",
    "There are two basic types of geodata entities in GridLAB-D: \n",
    "\n",
    "1. an unordered collection of points each specified by a `latitude,longitude` tuple; and \n",
    "\n",
    "1. an ordered series of waypoints along a path specified by a sequence of `latitude,longitude` tuples.  \n",
    "\n",
    "The interpretation of an entity is left to the dataset processor, but it can be specified using the `location` or `position` keys, for unordered and ordered geodata entities, respectively.  A geodata entity can be converted from one to another by simply changing the key (see **Geodata Indexing** below)."
   ]
  },
  {
   "cell_type": "markdown",
   "id": "7e985c38",
   "metadata": {},
   "source": [
    "The `create` directive is used to create a new geodata entity.  The general syntax is `gridlabd geodata create LOCATIONS ...`.\n",
    "\n",
    "There are two methods of introducing locations.  The first method introduces one or more `latitude,longitude` tuples directly in the command line.  For example, the following command creates a geodata entity with the approximate location of SLAC's main gate."
   ]
  },
  {
   "cell_type": "code",
   "execution_count": 2,
   "id": "899d1d3c",
   "metadata": {},
   "outputs": [
    {
     "name": "stdout",
     "output_type": "stream",
     "text": [
      "id,latitude,longitude\r\n",
      "0,37.415,-122.2\r\n"
     ]
    }
   ],
   "source": [
    "!gridlabd geodata create 37.415,-122.20"
   ]
  },
  {
   "cell_type": "markdown",
   "id": "67f749f9",
   "metadata": {},
   "source": [
    "Multiple locations can be introduced by adding them to the command line, for example:"
   ]
  },
  {
   "cell_type": "code",
   "execution_count": 3,
   "id": "2327f5b2",
   "metadata": {},
   "outputs": [
    {
     "name": "stdout",
     "output_type": "stream",
     "text": [
      "id,latitude,longitude\n",
      "0,37.41,-122.2\n",
      "1,37.42,-122.21\n"
     ]
    }
   ],
   "source": [
    "!gridlabd geodata create 37.410,-122.20 37.420,-122.21"
   ]
  },
  {
   "cell_type": "markdown",
   "id": "ac51f88b",
   "metadata": {},
   "source": [
    "The second method uses an input file with locations and associated data, such as this example CSV file:"
   ]
  },
  {
   "cell_type": "code",
   "execution_count": 4,
   "id": "dd3d65b2",
   "metadata": {},
   "outputs": [
    {
     "name": "stdout",
     "output_type": "stream",
     "text": [
      "latitude,longitude,configuration,pole_height\r\n",
      "37.415045141688054,-122.2056472090359,flat3,18.0\r\n",
      "37.414698020593065,-122.20848749028133,sideT,20.0\r\n",
      "37.414454093051745,-122.21044282065421,sideT,21.0\r\n"
     ]
    }
   ],
   "source": [
    "!head -n 4 path_example.csv"
   ]
  },
  {
   "cell_type": "markdown",
   "id": "95af575f",
   "metadata": {},
   "source": [
    "To use this file, the following command can be used:"
   ]
  },
  {
   "cell_type": "code",
   "execution_count": 5,
   "id": "2e960d68",
   "metadata": {},
   "outputs": [
    {
     "name": "stdout",
     "output_type": "stream",
     "text": [
      "id,latitude,longitude,configuration,pole_height\r\n",
      "0,37.41505,-122.20565,flat3,18.0\r\n",
      "1,37.4147,-122.20849,sideT,20.0\r\n",
      "2,37.41445,-122.21044,sideT,21.0\r\n"
     ]
    }
   ],
   "source": [
    "!gridlabd geodata create path_example.csv | head -n 4"
   ]
  },
  {
   "cell_type": "markdown",
   "id": "ef82e913",
   "metadata": {},
   "source": [
    "Note that if multiple locations are provided they are sequenced in the order in which they are presented, including if locations are provided directly on the command line or from data files."
   ]
  },
  {
   "cell_type": "markdown",
   "id": "b6ae5329",
   "metadata": {},
   "source": [
    "If no location information is given, then the geodata is read from `/dev/stdin`, e.g.,"
   ]
  },
  {
   "cell_type": "code",
   "execution_count": 6,
   "id": "b2f6c6ac",
   "metadata": {},
   "outputs": [
    {
     "name": "stdout",
     "output_type": "stream",
     "text": [
      "id,latitude,longitude\n",
      "0,37.41505,-122.20565\n",
      "1,37.4147,-122.20849\n",
      "2,37.41445,-122.21044\n"
     ]
    }
   ],
   "source": [
    "!head -n 4 path_example.csv | cut -f1-2 -d, | gridlabd geodata create"
   ]
  },
  {
   "cell_type": "markdown",
   "id": "778b2c0c",
   "metadata": {},
   "source": [
    "Additional fields can be added using an expanded command-line syntax, e.g.,"
   ]
  },
  {
   "cell_type": "code",
   "execution_count": 7,
   "id": "marked-brush",
   "metadata": {},
   "outputs": [
    {
     "name": "stdout",
     "output_type": "stream",
     "text": [
      "id,name,latitude,longitude\r\n",
      "0,obj1,37.4205,-122.2046\r\n",
      "1,obj2,37.5205,-122.3046\r\n"
     ]
    }
   ],
   "source": [
    "!gridlabd geodata create name=obj1+latitude=37.4205+longitude=-122.2046 name=obj2+latitude=37.5205+longitude=-122.3046"
   ]
  },
  {
   "cell_type": "markdown",
   "id": "heard-trial",
   "metadata": {},
   "source": [
    "The default input delimiter is the `+` character.  This can be changed using the `--input_delimiter=STRING` option, e.g.,"
   ]
  },
  {
   "cell_type": "code",
   "execution_count": 8,
   "id": "attended-crown",
   "metadata": {},
   "outputs": [
    {
     "name": "stdout",
     "output_type": "stream",
     "text": [
      "id,name,latitude,longitude\r\n",
      "0,obj1,37.4205,-122.2046\r\n",
      "1,obj2,37.5205,-122.3046\r\n"
     ]
    }
   ],
   "source": [
    "!gridlabd geodata create --input_delimiter=',' 'name=obj1,latitude=37.4205,longitude=-122.2046' 'name=obj2,latitude=37.5205,longitude=-122.3046'"
   ]
  },
  {
   "cell_type": "markdown",
   "id": "constitutional-mustang",
   "metadata": {},
   "source": [
    "Note that the input delimiter must be set *before* it is used, and thus it can be changed as command line data is presented."
   ]
  },
  {
   "cell_type": "markdown",
   "id": "450a4030",
   "metadata": {},
   "source": [
    "**Caveat**: The input delimiter can affect how strings are interpreted.  One common problem is setting the input delimiter to any character that is typically found in an address and then attempting to reverse resolve the address using the `address` dataset.  This can result in corrupted addresses being used."
   ]
  },
  {
   "cell_type": "markdown",
   "id": "4e079ba2",
   "metadata": {},
   "source": [
    "## Some useful options"
   ]
  },
  {
   "cell_type": "markdown",
   "id": "8a06b623",
   "metadata": {},
   "source": [
    "The default precision with which latitudes and longitudes are output is 5 decimals, which is approximately 1 meter resolution. You can change the precision with which latitudes and longitudes are output using the `-p` or `--precision` option, e.g.,"
   ]
  },
  {
   "cell_type": "code",
   "execution_count": 9,
   "id": "dfc2dad5",
   "metadata": {},
   "outputs": [
    {
     "name": "stdout",
     "output_type": "stream",
     "text": [
      "id,latitude,longitude\r\n",
      "0,37.41,-122.2\r\n",
      "1,37.42,-122.2\r\n",
      "2,37.42,-122.21\r\n"
     ]
    }
   ],
   "source": [
    "!gridlabd geodata create 37.410,-122.20 37.420,-122.20 37.420,-122.21 -p 4"
   ]
  },
  {
   "cell_type": "markdown",
   "id": "painful-treatment",
   "metadata": {},
   "source": [
    "This option actually changes the `precision.geolocation` option, which can also be set using the direct option set syntax, e.g.,"
   ]
  },
  {
   "cell_type": "code",
   "execution_count": 10,
   "id": "aquatic-custom",
   "metadata": {},
   "outputs": [
    {
     "name": "stdout",
     "output_type": "stream",
     "text": [
      "id,latitude,longitude\r\n",
      "0,37.41,-122.2\r\n",
      "1,37.42,-122.2\r\n",
      "2,37.42,-122.21\r\n"
     ]
    }
   ],
   "source": [
    "!gridlabd geodata create 37.410,-122.20 37.420,-122.20 37.420,-122.21 --precision.geolocation=4"
   ]
  },
  {
   "cell_type": "markdown",
   "id": "4151e4ff",
   "metadata": {},
   "source": [
    "The default field separator for RAW output is a space. You can change this to any string using the `--fieldsep STRING` option, e.g.,"
   ]
  },
  {
   "cell_type": "code",
   "execution_count": 11,
   "id": "8cc11fe8",
   "metadata": {},
   "outputs": [
    {
     "name": "stdout",
     "output_type": "stream",
     "text": [
      "37.41,-122.2\r\n",
      "37.42,-122.2\r\n",
      "37.42,-122.21\r\n"
     ]
    }
   ],
   "source": [
    "!gridlabd geodata create 37.410,-122.20 37.420,-122.20 37.420,-122.21 -f RAW --fieldsep ','"
   ]
  },
  {
   "cell_type": "markdown",
   "id": "ec25208d",
   "metadata": {},
   "source": [
    "This is equivalent to directly setting the field separator option using `--field_separator=','`."
   ]
  },
  {
   "cell_type": "markdown",
   "id": "d7a1743d",
   "metadata": {},
   "source": [
    "Similarly the default record separator for RAW output is a newline. You can change this to any string using the `--recordsep STRING` option, e.g.,"
   ]
  },
  {
   "cell_type": "code",
   "execution_count": 12,
   "id": "4c40d60d",
   "metadata": {},
   "outputs": [
    {
     "name": "stdout",
     "output_type": "stream",
     "text": [
      "37.41,-122.2;37.42,-122.2;37.42,-122.21\r\n"
     ]
    }
   ],
   "source": [
    "!gridlabd geodata create 37.410,-122.20 37.420,-122.20 37.420,-122.21 -f RAW --fieldsep ',' --recordsep ';'"
   ]
  },
  {
   "cell_type": "markdown",
   "id": "953a8f50",
   "metadata": {},
   "source": [
    "This is equivalent to directly setting the record separator option using `--record_separator=';'`."
   ]
  },
  {
   "cell_type": "markdown",
   "id": "7ddc35c5",
   "metadata": {},
   "source": [
    "## Configurations\n",
    "There are three locations where configuration settings are maintained: (1) the system shared folder, (2) the user's home folder, and (3) the local folder.  These are consulted in this order so that the system configuration overrides the default configuration, the user configuration override the system, and the local configuration overrides the user configuration.  \n",
    "\n",
    "By default the configuration files are named `geodata.conf`.  The system configuration is stored in `$GLD_ETC/geodata/geodata.conf` folder.  The user configuration is stored in `$HOME/.gridlabd/geodata/geodata.conf` and the local configuration is stored in `$PWD/geodata.conf`. \n",
    "\n",
    "Any additional configuration file name can be consulted using the `-C FILENAME` or `--configfile FILENAME` option."
   ]
  },
  {
   "cell_type": "markdown",
   "id": "703a8ceb",
   "metadata": {},
   "source": [
    "You can manage the current configuration using the `config` directive, e.g., to set the local configuration parameter `name` to `value`, use the `set` option"
   ]
  },
  {
   "cell_type": "code",
   "execution_count": 13,
   "id": "0366bd8e",
   "metadata": {},
   "outputs": [],
   "source": [
    "!gridlabd geodata config set name local_value -w"
   ]
  },
  {
   "cell_type": "markdown",
   "id": "515197e1",
   "metadata": {},
   "source": [
    "Note that if the file in which the parameter is stored does not already exist, you will get a warning before it is created. This behavior can be suppressed using the `-w` or `--warn` option, e.g.,"
   ]
  },
  {
   "cell_type": "code",
   "execution_count": 14,
   "id": "410da43a",
   "metadata": {},
   "outputs": [],
   "source": [
    "!gridlabd geodata config set name local_value -w"
   ]
  },
  {
   "cell_type": "markdown",
   "id": "300e192f",
   "metadata": {},
   "source": [
    "To get the value, use the `get` option:"
   ]
  },
  {
   "cell_type": "code",
   "execution_count": 15,
   "id": "64cb4b58",
   "metadata": {},
   "outputs": [
    {
     "name": "stdout",
     "output_type": "stream",
     "text": [
      "local_value\r\n"
     ]
    }
   ],
   "source": [
    "!gridlabd geodata config get name"
   ]
  },
  {
   "cell_type": "markdown",
   "id": "839431de",
   "metadata": {},
   "source": [
    "To show all the configuration values, use the `show` option:"
   ]
  },
  {
   "cell_type": "code",
   "execution_count": 16,
   "id": "d4aea747",
   "metadata": {},
   "outputs": [
    {
     "name": "stdout",
     "output_type": "stream",
     "text": [
      "geodata_url='http://geodata.gridlabd.us/'\r\n",
      "output_format='CSV'\r\n",
      "path_join='outer'\r\n",
      "column_names='{'ID': 'id', 'UUID': 'uuid', 'LAT': 'latitude', 'LON': 'longitude', 'DIST': 'distance', 'HEAD': 'heading', 'LOC': 'location', 'POS': 'position'}'\r\n",
      "uuid_type='4'\r\n",
      "vegetation.username='name@example.com'\r\n",
      "vegetation.password='password5839'\r\n",
      "name='local_value'\r\n"
     ]
    }
   ],
   "source": [
    "!gridlabd geodata config show"
   ]
  },
  {
   "cell_type": "markdown",
   "id": "aa846987",
   "metadata": {},
   "source": [
    "To set a user configuration, use the `user.` prefix, e.g.,"
   ]
  },
  {
   "cell_type": "code",
   "execution_count": 17,
   "id": "d7be1cc9",
   "metadata": {},
   "outputs": [
    {
     "name": "stdout",
     "output_type": "stream",
     "text": [
      "geodata_url='http://geodata.gridlabd.us/'\r\n",
      "output_format='CSV'\r\n",
      "path_join='outer'\r\n",
      "column_names='{'ID': 'id', 'UUID': 'uuid', 'LAT': 'latitude', 'LON': 'longitude', 'DIST': 'distance', 'HEAD': 'heading', 'LOC': 'location', 'POS': 'position'}'\r\n",
      "uuid_type='4'\r\n",
      "vegetation.username='name@example.com'\r\n",
      "vegetation.password='password5839'\r\n",
      "name='local_value'\r\n",
      "user.name='user_value'\r\n"
     ]
    }
   ],
   "source": [
    "!gridlabd geodata config set user.name user_value\n",
    "!gridlabd geodata config show"
   ]
  },
  {
   "cell_type": "markdown",
   "id": "d14e76df",
   "metadata": {},
   "source": [
    "The same syntax is used for system configuration values, e.g.,"
   ]
  },
  {
   "cell_type": "code",
   "execution_count": 18,
   "id": "eed3876a",
   "metadata": {},
   "outputs": [
    {
     "name": "stdout",
     "output_type": "stream",
     "text": [
      "geodata_url='http://geodata.gridlabd.us/'\r\n",
      "output_format='CSV'\r\n",
      "path_join='outer'\r\n",
      "column_names='{'ID': 'id', 'UUID': 'uuid', 'LAT': 'latitude', 'LON': 'longitude', 'DIST': 'distance', 'HEAD': 'heading', 'LOC': 'location', 'POS': 'position'}'\r\n",
      "uuid_type='4'\r\n",
      "vegetation.username='name@example.com'\r\n",
      "vegetation.password='password5839'\r\n",
      "name='local_value'\r\n",
      "user.name='user_value'\r\n",
      "system.name='system_value'\r\n"
     ]
    }
   ],
   "source": [
    "!gridlabd geodata config set system.name system_value\n",
    "!gridlabd geodata config show"
   ]
  },
  {
   "cell_type": "markdown",
   "id": "f613e5ad",
   "metadata": {},
   "source": [
    "To remove a value, use the `unset` option, e.g.,"
   ]
  },
  {
   "cell_type": "code",
   "execution_count": 19,
   "id": "dfe946d0",
   "metadata": {},
   "outputs": [
    {
     "name": "stdout",
     "output_type": "stream",
     "text": [
      "geodata_url='http://geodata.gridlabd.us/'\r\n",
      "output_format='CSV'\r\n",
      "path_join='outer'\r\n",
      "column_names='{'ID': 'id', 'UUID': 'uuid', 'LAT': 'latitude', 'LON': 'longitude', 'DIST': 'distance', 'HEAD': 'heading', 'LOC': 'location', 'POS': 'position'}'\r\n",
      "uuid_type='4'\r\n",
      "vegetation.username='name@example.com'\r\n",
      "vegetation.password='password5839'\r\n",
      "user.name='user_value'\r\n",
      "system.name='system_value'\r\n"
     ]
    }
   ],
   "source": [
    "!gridlabd geodata config unset name\n",
    "!gridlabd geodata config show"
   ]
  },
  {
   "cell_type": "markdown",
   "id": "c488a9b7",
   "metadata": {},
   "source": [
    "To remove all the local configuration values, simply delete the `geodata.conf` file:"
   ]
  },
  {
   "cell_type": "code",
   "execution_count": 20,
   "id": "33f53e2e",
   "metadata": {},
   "outputs": [],
   "source": [
    "!rm geodata.conf"
   ]
  },
  {
   "cell_type": "markdown",
   "id": "20926937",
   "metadata": {},
   "source": [
    "## Geodata formatting\n",
    "\n",
    "The output format can be changed using the `-f` or `--format` option. The valid formats are `CSV`, `JSON`, `RAW`, `POS`, `GLM`, `FIELD`, `PLOT`, `GDF`, `XLSX`, and `TABLE`.  `CSV` format is the default, and it can be explicitly specified as follows:"
   ]
  },
  {
   "cell_type": "code",
   "execution_count": 21,
   "id": "5f562694",
   "metadata": {},
   "outputs": [
    {
     "name": "stdout",
     "output_type": "stream",
     "text": [
      "id,latitude,longitude\n",
      "0,37.41,-122.2\n",
      "1,37.42,-122.2\n",
      "2,37.42,-122.21\n"
     ]
    }
   ],
   "source": [
    "!gridlabd geodata create 37.410,-122.20 37.420,-122.20 37.420,-122.21 -f CSV"
   ]
  },
  {
   "cell_type": "markdown",
   "id": "40f39832",
   "metadata": {},
   "source": [
    "JSON output looks like this:"
   ]
  },
  {
   "cell_type": "code",
   "execution_count": 22,
   "id": "6721169c",
   "metadata": {},
   "outputs": [
    {
     "name": "stdout",
     "output_type": "stream",
     "text": [
      "{\"0\":{\"latitude\":37.41,\"longitude\":-122.2},\"1\":{\"latitude\":37.42,\"longitude\":-122.2},\"2\":{\"latitude\":37.42,\"longitude\":-122.21}}\r\n"
     ]
    }
   ],
   "source": [
    "!gridlabd geodata create 37.410,-122.20 37.420,-122.20 37.420,-122.21 -f JSON"
   ]
  },
  {
   "cell_type": "markdown",
   "id": "26e70926",
   "metadata": {},
   "source": [
    "JSON output can be structured using the `pandas` `to_json()` `orient` options `index`, `split`, `records`, `columns`, `values`, or `table`, e.g.,"
   ]
  },
  {
   "cell_type": "code",
   "execution_count": 23,
   "id": "fa5837a3",
   "metadata": {},
   "outputs": [
    {
     "name": "stdout",
     "output_type": "stream",
     "text": [
      "{\"schema\":{\"fields\":[{\"name\":\"id\",\"type\":\"integer\"},{\"name\":\"latitude\",\"type\":\"number\"},{\"name\":\"longitude\",\"type\":\"number\"}],\"primaryKey\":[\"id\"],\"pandas_version\":\"0.20.0\"},\"data\":[{\"id\":0,\"latitude\":37.41,\"longitude\":-122.2},{\"id\":1,\"latitude\":37.42,\"longitude\":-122.2},{\"id\":2,\"latitude\":37.42,\"longitude\":-122.21}]}\r\n"
     ]
    }
   ],
   "source": [
    "!gridlabd geodata create 37.410,-122.20 37.420,-122.20 37.420,-122.21 -f JSON --json.orient=table"
   ]
  },
  {
   "cell_type": "markdown",
   "id": "aee281c8",
   "metadata": {},
   "source": [
    "Other JSON options include `data_format`, `double_precision`, `force_ascii`, and `date_unit`. See https://pandas.pydata.org/docs/reference/api/pandas.DataFrame.to_json.html for details."
   ]
  },
  {
   "cell_type": "markdown",
   "id": "bcecd73d",
   "metadata": {},
   "source": [
    "RAW output is generated as follows"
   ]
  },
  {
   "cell_type": "code",
   "execution_count": 24,
   "id": "9279215a",
   "metadata": {},
   "outputs": [
    {
     "name": "stdout",
     "output_type": "stream",
     "text": [
      "37.41 -122.2\r\n",
      "37.42 -122.2\r\n",
      "37.42 -122.21\r\n"
     ]
    }
   ],
   "source": [
    "!gridlabd geodata create 37.410,-122.20 37.420,-122.20 37.420,-122.21 -f RAW"
   ]
  },
  {
   "cell_type": "markdown",
   "id": "273e4650",
   "metadata": {},
   "source": [
    "TABLE output is generated for easy reading:"
   ]
  },
  {
   "cell_type": "code",
   "execution_count": 25,
   "id": "4cae9f9b",
   "metadata": {},
   "outputs": [
    {
     "name": "stdout",
     "output_type": "stream",
     "text": [
      "    latitude  longitude\r\n",
      "id                     \r\n",
      "0      37.41    -122.20\r\n",
      "1      37.42    -122.20\r\n",
      "2      37.42    -122.21\r\n"
     ]
    }
   ],
   "source": [
    "!gridlabd geodata create 37.410,-122.20 37.420,-122.20 37.420,-122.21 -f TABLE"
   ]
  },
  {
   "cell_type": "markdown",
   "id": "1d07a557",
   "metadata": {},
   "source": [
    "Output formats typically can include an ordered field list, such as"
   ]
  },
  {
   "cell_type": "code",
   "execution_count": 26,
   "id": "72ac376e",
   "metadata": {},
   "outputs": [
    {
     "name": "stdout",
     "output_type": "stream",
     "text": [
      "-122.2,37.41\r\n",
      "-122.2,37.42\r\n",
      "-122.21,37.42\r\n"
     ]
    }
   ],
   "source": [
    "!gridlabd geodata create 37.410,-122.20 37.420,-122.20 37.420,-122.21 -f RAW:longitude,latitude --fieldsep ,"
   ]
  },
  {
   "cell_type": "markdown",
   "id": "024dc997",
   "metadata": {},
   "source": [
    "## Geodata indexing\n",
    "\n",
    "The output can be indexed using one of several standards keys, or keys from the data. The default key is `id` which is the row number, as seen in the examples so far. This key can be explicitly specified as follows:"
   ]
  },
  {
   "cell_type": "code",
   "execution_count": 27,
   "id": "c5b568e3",
   "metadata": {},
   "outputs": [
    {
     "name": "stdout",
     "output_type": "stream",
     "text": [
      "id,latitude,longitude\r\n",
      "0,37.41,-122.2\r\n",
      "1,37.42,-122.2\r\n",
      "2,37.42,-122.21\r\n"
     ]
    }
   ],
   "source": [
    "!gridlabd geodata create 37.410,-122.20 37.420,-122.20 37.420,-122.21 -k id"
   ]
  },
  {
   "cell_type": "markdown",
   "id": "209e4084",
   "metadata": {},
   "source": [
    "The `location` key generates a geohash code:"
   ]
  },
  {
   "cell_type": "code",
   "execution_count": 28,
   "id": "043fc934",
   "metadata": {},
   "outputs": [
    {
     "name": "stdout",
     "output_type": "stream",
     "text": [
      "location,latitude,longitude,id\r\n",
      "9q9hg629j97y,37.41,-122.2,0\r\n",
      "9q9hgk0em9ef,37.42,-122.2,1\r\n",
      "9q9hgh17k9e4,37.42,-122.21,2\r\n"
     ]
    }
   ],
   "source": [
    "!gridlabd geodata create 37.410,-122.20 37.420,-122.20 37.420,-122.21 -k location"
   ]
  },
  {
   "cell_type": "markdown",
   "id": "f5953454",
   "metadata": {},
   "source": [
    "The `position` key generates a distance index, treating the data rows as a series of waypoints along a path. When this key is used, a distance and a heading column are also generated."
   ]
  },
  {
   "cell_type": "code",
   "execution_count": 29,
   "id": "d2096dbd",
   "metadata": {},
   "outputs": [
    {
     "name": "stdout",
     "output_type": "stream",
     "text": [
      "position,latitude,longitude,id,distance,heading\r\n",
      "0,37.41,-122.2,0,0.0,\r\n",
      "1112,37.42,-122.2,1,1112.0,0.0\r\n",
      "1995,37.42,-122.21,2,1995.0,270.0\r\n"
     ]
    }
   ],
   "source": [
    "!gridlabd geodata create 37.410,-122.20 37.420,-122.20 37.420,-122.21 -k position"
   ]
  },
  {
   "cell_type": "markdown",
   "id": "97183a9a",
   "metadata": {},
   "source": [
    "Any field or set of fields may be used for indexing, e.g.,"
   ]
  },
  {
   "cell_type": "code",
   "execution_count": 30,
   "id": "5b838e34",
   "metadata": {},
   "outputs": [
    {
     "name": "stdout",
     "output_type": "stream",
     "text": [
      "latitude,longitude,id\r\n",
      "37.41,-122.2,0\r\n",
      "37.42,-122.2,1\r\n",
      "37.42,-122.21,2\r\n"
     ]
    }
   ],
   "source": [
    "!gridlabd geodata create 37.410,-122.20 37.420,-122.20 37.420,-122.21 -k latitude,longitude"
   ]
  },
  {
   "cell_type": "markdown",
   "id": "e15b9c44",
   "metadata": {},
   "source": [
    "Universally unique identifiers can be also be generated using the special `uuid` key, e.g.,"
   ]
  },
  {
   "cell_type": "code",
   "execution_count": 31,
   "id": "f92a6d37",
   "metadata": {},
   "outputs": [
    {
     "name": "stdout",
     "output_type": "stream",
     "text": [
      "uuid,latitude,longitude,id\r\n",
      "814feaf2794e4dc08a25eddc4a68f043,37.41,-122.2,0\r\n",
      "0f1c64584e604b2cac8c69eb40135b70,37.42,-122.2,1\r\n",
      "adc8ba4186874fbb9a7ff18fe1b9eaad,37.42,-122.21,2\r\n"
     ]
    }
   ],
   "source": [
    "!gridlabd geodata create 37.410,-122.20 37.420,-122.20 37.420,-122.21 -k uuid"
   ]
  },
  {
   "cell_type": "markdown",
   "id": "88c5b0c2",
   "metadata": {},
   "source": [
    "The default `uuid` type is a random number, i.e., `--uuid_type=4`.  Using `--uuid_type=1` generates a unique identified based on the host, sequence number, and time, e.g.,"
   ]
  },
  {
   "cell_type": "code",
   "execution_count": 32,
   "id": "292aa0c3",
   "metadata": {},
   "outputs": [
    {
     "name": "stdout",
     "output_type": "stream",
     "text": [
      "uuid,latitude,longitude,id\r\n",
      "0705a628020d11ecbde8d0817adb129d,37.41,-122.2,0\r\n",
      "0705a6e6020d11ecbde8d0817adb129d,37.42,-122.2,1\r\n",
      "0705a718020d11ecbde8d0817adb129d,37.42,-122.21,2\r\n"
     ]
    }
   ],
   "source": [
    "!gridlabd geodata create 37.410,-122.20 37.420,-122.20 37.420,-122.21 -k uuid --uuid_type=1"
   ]
  },
  {
   "cell_type": "markdown",
   "id": "4136be24",
   "metadata": {},
   "source": [
    "## Path waypoints\n",
    "\n",
    "Waypoints can be generated along a path using the `-r` or `--resolution` option.  For example, 250-meter waypoints are generated using the following syntax:"
   ]
  },
  {
   "cell_type": "code",
   "execution_count": 33,
   "id": "b6c36bbb",
   "metadata": {},
   "outputs": [
    {
     "name": "stdout",
     "output_type": "stream",
     "text": [
      "          latitude  longitude   id  distance  heading\r\n",
      "position                                             \r\n",
      "0         37.41000 -122.20000  0.0       0.0      NaN\r\n",
      "250       37.41225 -122.20000  NaN     250.0      0.0\r\n",
      "500       37.41450 -122.20000  NaN     500.0      0.0\r\n",
      "750       37.41674 -122.20000  NaN     750.0      0.0\r\n",
      "1000      37.41899 -122.20000  NaN    1000.0      0.0\r\n",
      "1112      37.42000 -122.20000  1.0    1112.0      0.0\r\n",
      "1362      37.42000 -122.20283  NaN    1362.0    270.0\r\n",
      "1612      37.42000 -122.20566  NaN    1612.0    270.0\r\n",
      "1862      37.42000 -122.20849  NaN    1862.0    270.0\r\n",
      "1995      37.42000 -122.21000  2.0    1995.0    270.0\r\n"
     ]
    }
   ],
   "source": [
    "!gridlabd geodata create 37.410,-122.20 37.420,-122.20 37.420,-122.21 -r 250 -f TABLE"
   ]
  },
  {
   "cell_type": "markdown",
   "id": "included-blast",
   "metadata": {},
   "source": [
    "This is equivalent to setting the `resolution` option value, e.g.,"
   ]
  },
  {
   "cell_type": "code",
   "execution_count": 34,
   "id": "front-terrace",
   "metadata": {},
   "outputs": [
    {
     "name": "stdout",
     "output_type": "stream",
     "text": [
      "          latitude  longitude   id  distance  heading\r\n",
      "position                                             \r\n",
      "0         37.41000 -122.20000  0.0       0.0      NaN\r\n",
      "250       37.41225 -122.20000  NaN     250.0      0.0\r\n",
      "500       37.41450 -122.20000  NaN     500.0      0.0\r\n",
      "750       37.41674 -122.20000  NaN     750.0      0.0\r\n",
      "1000      37.41899 -122.20000  NaN    1000.0      0.0\r\n",
      "1112      37.42000 -122.20000  1.0    1112.0      0.0\r\n",
      "1362      37.42000 -122.20283  NaN    1362.0    270.0\r\n",
      "1612      37.42000 -122.20566  NaN    1612.0    270.0\r\n",
      "1862      37.42000 -122.20849  NaN    1862.0    270.0\r\n",
      "1995      37.42000 -122.21000  2.0    1995.0    270.0\r\n"
     ]
    }
   ],
   "source": [
    "!gridlabd geodata create 37.410,-122.20 37.420,-122.20 37.420,-122.21 --resolution=250 -f TABLE"
   ]
  },
  {
   "cell_type": "markdown",
   "id": "66e2d8b0",
   "metadata": {},
   "source": [
    "The `distance` and `heading` columns are added to provide the distance and heading to each waypoint from the last position. When using waypoints, the key is automatically set to `position`, which provides the distance from the first point.  The use of other keys is not supported. In addition, any waypoint added in the process is not assigned a row `id` in order to protect the original row ids."
   ]
  },
  {
   "cell_type": "markdown",
   "id": "ccf0a102",
   "metadata": {},
   "source": [
    "To assign key values to the generated positions, use `--resolution_id` options, e.g.,"
   ]
  },
  {
   "cell_type": "code",
   "execution_count": 35,
   "id": "ce7002e1",
   "metadata": {},
   "outputs": [
    {
     "name": "stdout",
     "output_type": "stream",
     "text": [
      "          latitude  longitude     id  distance  heading\r\n",
      "position                                               \r\n",
      "0         37.41000 -122.20000  0.000       0.0      NaN\r\n",
      "250       37.41225 -122.20000  0.125     250.0      0.0\r\n",
      "500       37.41450 -122.20000  0.251     500.0      0.0\r\n",
      "750       37.41674 -122.20000  0.376     750.0      0.0\r\n",
      "1000      37.41899 -122.20000  0.501    1000.0      0.0\r\n",
      "1112      37.42000 -122.20000  0.557    1112.0      0.0\r\n",
      "1362      37.42000 -122.20283  0.683    1362.0    270.0\r\n",
      "1612      37.42000 -122.20566  0.808    1612.0    270.0\r\n",
      "1862      37.42000 -122.20849  0.933    1862.0    270.0\r\n",
      "1995      37.42000 -122.21000  1.000    1995.0    270.0\r\n"
     ]
    }
   ],
   "source": [
    "!gridlabd geodata create 37.410,-122.20 37.420,-122.20 37.420,-122.21 -f TABLE -r 250  --resolution_id"
   ]
  },
  {
   "cell_type": "markdown",
   "id": "cc605628",
   "metadata": {},
   "source": [
    "The new id values are generated as a fraction of the distance from the first to the last waypoint."
   ]
  },
  {
   "cell_type": "markdown",
   "id": "85162c1f",
   "metadata": {},
   "source": [
    "The precision of the new id values can be changed, e.g.,"
   ]
  },
  {
   "cell_type": "code",
   "execution_count": 36,
   "id": "6956dfcb",
   "metadata": {},
   "outputs": [
    {
     "name": "stdout",
     "output_type": "stream",
     "text": [
      "          latitude  longitude       id  distance  heading\r\n",
      "position                                                 \r\n",
      "0         37.41000 -122.20000  0.00000       0.0      NaN\r\n",
      "250       37.41225 -122.20000  0.12531     250.0      0.0\r\n",
      "500       37.41450 -122.20000  0.25063     500.0      0.0\r\n",
      "750       37.41674 -122.20000  0.37594     750.0      0.0\r\n",
      "1000      37.41899 -122.20000  0.50125    1000.0      0.0\r\n",
      "1112      37.42000 -122.20000  0.55739    1112.0      0.0\r\n",
      "1362      37.42000 -122.20283  0.68271    1362.0    270.0\r\n",
      "1612      37.42000 -122.20566  0.80802    1612.0    270.0\r\n",
      "1862      37.42000 -122.20849  0.93333    1862.0    270.0\r\n",
      "1995      37.42000 -122.21000  1.00000    1995.0    270.0\r\n"
     ]
    }
   ],
   "source": [
    "!gridlabd geodata create 37.410,-122.20 37.420,-122.20 37.420,-122.21 -f TABLE -r 250  --resolution_id --precision.resolution_id=5"
   ]
  },
  {
   "cell_type": "markdown",
   "id": "7c4ba4ce",
   "metadata": {},
   "source": [
    "The index can be changed with the `-k` or `--key` options using a pipe. Sometimes this is necessary when one option used implicitly precludes the use of a desired key, such as when path resolution is used but location is indexing is desired, e.g.,"
   ]
  },
  {
   "cell_type": "code",
   "execution_count": 37,
   "id": "f1d3b55d",
   "metadata": {},
   "outputs": [
    {
     "name": "stdout",
     "output_type": "stream",
     "text": [
      "              position  latitude  longitude   id  distance  heading\r\n",
      "location                                                           \r\n",
      "9q9hg629j97y         0  37.41000 -122.20000  0.0       0.0      NaN\r\n",
      "9q9hg68wjsgu       250  37.41225 -122.20000  NaN     250.0      0.0\r\n",
      "9q9hg70em87c       500  37.41450 -122.20000  NaN     500.0      0.0\r\n",
      "9q9hg788m9gu       750  37.41674 -122.20000  NaN     750.0      0.0\r\n",
      "9q9hg7btmt7c      1000  37.41899 -122.20000  NaN    1000.0      0.0\r\n",
      "9q9hgk0em9ef      1112  37.42000 -122.20000  1.0    1112.0      0.0\r\n",
      "9q9hghne79td      1362  37.42000 -122.20283  NaN    1362.0    270.0\r\n",
      "9q9hghhe39x6      1612  37.42000 -122.20566  NaN    1612.0    270.0\r\n",
      "9q9hgh47rc94      1862  37.42000 -122.20849  NaN    1862.0    270.0\r\n",
      "9q9hgh17k9e4      1995  37.42000 -122.21000  2.0    1995.0    270.0\r\n"
     ]
    }
   ],
   "source": [
    "!gridlabd geodata create 37.410,-122.20 37.420,-122.20 37.420,-122.21 -r 250 | gridlabd geodata create -k location -f TABLE"
   ]
  },
  {
   "cell_type": "markdown",
   "id": "18500df1",
   "metadata": {},
   "source": [
    "## Output\n",
    "\n",
    "By default all output is written to `/dev/stdout`.  The output can be written to a file using the `-o` or `--output` option, e.g.,"
   ]
  },
  {
   "cell_type": "code",
   "execution_count": 38,
   "id": "eb43a6c7",
   "metadata": {},
   "outputs": [
    {
     "name": "stdout",
     "output_type": "stream",
     "text": [
      "id,latitude,longitude\r\n",
      "0,37.41,-122.2\r\n",
      "1,37.42,-122.2\r\n",
      "2,37.42,-122.21\r\n"
     ]
    }
   ],
   "source": [
    "!gridlabd geodata create 37.410,-122.20 37.420,-122.20 37.420,-122.21 -o /tmp/test.csv\n",
    "!cat /tmp/test.csv"
   ]
  },
  {
   "cell_type": "markdown",
   "id": "da9350f8",
   "metadata": {},
   "source": [
    "GridLAB-D `geodata` entities can be output to GeoPandas using the `GDF` output format. If the entity does not include any geometry data, it is automatically created from the latitude and longitude fields, e.g.,"
   ]
  },
  {
   "cell_type": "code",
   "execution_count": 39,
   "id": "bc3810b7",
   "metadata": {},
   "outputs": [],
   "source": [
    "!gridlabd geodata create 37.410,-122.20 37.420,-122.20 37.420,-122.21 -o /tmp/test.gdf -f GDF"
   ]
  },
  {
   "cell_type": "markdown",
   "id": "derived-permit",
   "metadata": {},
   "source": [
    "The following python code can be used to load the output file:"
   ]
  },
  {
   "cell_type": "code",
   "execution_count": 40,
   "id": "appreciated-address",
   "metadata": {},
   "outputs": [
    {
     "data": {
      "text/html": [
       "<div>\n",
       "<style scoped>\n",
       "    .dataframe tbody tr th:only-of-type {\n",
       "        vertical-align: middle;\n",
       "    }\n",
       "\n",
       "    .dataframe tbody tr th {\n",
       "        vertical-align: top;\n",
       "    }\n",
       "\n",
       "    .dataframe thead th {\n",
       "        text-align: right;\n",
       "    }\n",
       "</style>\n",
       "<table border=\"1\" class=\"dataframe\">\n",
       "  <thead>\n",
       "    <tr style=\"text-align: right;\">\n",
       "      <th></th>\n",
       "      <th>id</th>\n",
       "      <th>latitude</th>\n",
       "      <th>longitude</th>\n",
       "      <th>geometry</th>\n",
       "    </tr>\n",
       "  </thead>\n",
       "  <tbody>\n",
       "    <tr>\n",
       "      <th>0</th>\n",
       "      <td>0</td>\n",
       "      <td>37.41</td>\n",
       "      <td>-122.20</td>\n",
       "      <td>POINT (-122.20000 37.41000)</td>\n",
       "    </tr>\n",
       "    <tr>\n",
       "      <th>1</th>\n",
       "      <td>1</td>\n",
       "      <td>37.42</td>\n",
       "      <td>-122.20</td>\n",
       "      <td>POINT (-122.20000 37.42000)</td>\n",
       "    </tr>\n",
       "    <tr>\n",
       "      <th>2</th>\n",
       "      <td>2</td>\n",
       "      <td>37.42</td>\n",
       "      <td>-122.21</td>\n",
       "      <td>POINT (-122.21000 37.42000)</td>\n",
       "    </tr>\n",
       "  </tbody>\n",
       "</table>\n",
       "</div>"
      ],
      "text/plain": [
       "   id  latitude  longitude                     geometry\n",
       "0   0     37.41    -122.20  POINT (-122.20000 37.41000)\n",
       "1   1     37.42    -122.20  POINT (-122.20000 37.42000)\n",
       "2   2     37.42    -122.21  POINT (-122.21000 37.42000)"
      ]
     },
     "execution_count": 40,
     "metadata": {},
     "output_type": "execute_result"
    }
   ],
   "source": [
    "import geopandas\n",
    "geopandas.read_file(\"/tmp/test.gdf\")"
   ]
  },
  {
   "cell_type": "markdown",
   "id": "dae5cf1e",
   "metadata": {},
   "source": [
    "----\n",
    "# Datasets\n",
    "\n",
    "The `merge` directive is used to merge a dataset into an existing `geodata` entity.  The general syntax is `gridlabd geodata merge -D DATASET [OPTIONS ...]`"
   ]
  },
  {
   "cell_type": "markdown",
   "id": "d7d8eb56",
   "metadata": {},
   "source": [
    "## Distance\n",
    "\n",
    "The `distance` dataset provide great-circle distance calculations.  For example, the following calculates the distance from the first point in the series."
   ]
  },
  {
   "cell_type": "code",
   "execution_count": 41,
   "id": "dce56f76",
   "metadata": {},
   "outputs": [
    {
     "name": "stdout",
     "output_type": "stream",
     "text": [
      "    latitude  longitude  distance\r\n",
      "id                               \r\n",
      "0      37.41    -122.20       0.0\r\n",
      "1      37.42    -122.20    1112.0\r\n",
      "2      37.42    -122.21    1995.0\r\n"
     ]
    }
   ],
   "source": [
    "!gridlabd geodata merge -D distance 37.410,-122.20 37.420,-122.20 37.420,-122.21 -f TABLE"
   ]
  },
  {
   "cell_type": "markdown",
   "id": "technical-logic",
   "metadata": {},
   "source": [
    "The distance can be calculated relative to the previous location in the series using the `--relative` options, e.g.,"
   ]
  },
  {
   "cell_type": "code",
   "execution_count": 42,
   "id": "signal-anime",
   "metadata": {
    "scrolled": true
   },
   "outputs": [
    {
     "name": "stdout",
     "output_type": "stream",
     "text": [
      "    latitude  longitude  distance\r\n",
      "id                               \r\n",
      "0      37.41    -122.20       0.0\r\n",
      "1      37.42    -122.20       0.0\r\n",
      "2      37.42    -122.21       0.0\r\n"
     ]
    }
   ],
   "source": [
    "!gridlabd geodata merge -D distance 37.410,-122.20 37.420,-122.20 37.420,-122.21 --relative -f TABLE"
   ]
  },
  {
   "cell_type": "markdown",
   "id": "c112973b",
   "metadata": {},
   "source": [
    "The `distance` dataset support different units, include `meters` or `m`, `kilometers` or `km`, `feet` or `ft`, `yards` or `yd`, `miles` or `mi`.  For example, the following calculates the distances in feet:"
   ]
  },
  {
   "cell_type": "code",
   "execution_count": 43,
   "id": "91611f60",
   "metadata": {},
   "outputs": [
    {
     "name": "stdout",
     "output_type": "stream",
     "text": [
      "    latitude  longitude  distance\r\n",
      "id                               \r\n",
      "0      37.41    -122.20       0.0\r\n",
      "1      37.42    -122.20    3648.0\r\n",
      "2      37.42    -122.21    6545.0\r\n"
     ]
    }
   ],
   "source": [
    "!gridlabd geodata merge -D distance 37.410,-122.20 37.420,-122.20 37.420,-122.21 --units=feet -f TABLE"
   ]
  },
  {
   "cell_type": "markdown",
   "id": "8fc2fbe5",
   "metadata": {},
   "source": [
    "Note that the default precision with which distances are calculated in 0 decimals. Thus the distance in `km` is rounded:"
   ]
  },
  {
   "cell_type": "code",
   "execution_count": 44,
   "id": "cece01fc",
   "metadata": {},
   "outputs": [
    {
     "name": "stdout",
     "output_type": "stream",
     "text": [
      "    latitude  longitude  distance\r\n",
      "id                               \r\n",
      "0      37.41    -122.20       0.0\r\n",
      "1      37.42    -122.20       1.0\r\n",
      "2      37.42    -122.21       2.0\r\n"
     ]
    }
   ],
   "source": [
    "!gridlabd geodata merge -D distance 37.410,-122.20 37.420,-122.20 37.420,-122.21 --units=km -f TABLE # precision too low"
   ]
  },
  {
   "cell_type": "markdown",
   "id": "5b8f6a92",
   "metadata": {},
   "source": [
    "The precision can be changed when necessary, e.g., "
   ]
  },
  {
   "cell_type": "code",
   "execution_count": 45,
   "id": "ea3d26a2",
   "metadata": {},
   "outputs": [
    {
     "name": "stdout",
     "output_type": "stream",
     "text": [
      "    latitude  longitude  distance\r\n",
      "id                               \r\n",
      "0      37.41    -122.20      0.00\r\n",
      "1      37.42    -122.20      1.11\r\n",
      "2      37.42    -122.21      2.00\r\n"
     ]
    }
   ],
   "source": [
    "!gridlabd geodata merge -D distance 37.410,-122.20 37.420,-122.20 37.420,-122.21 --units=km --precision.distance=2 -f TABLE"
   ]
  },
  {
   "cell_type": "markdown",
   "id": "e4458198",
   "metadata": {},
   "source": [
    "When `distance` is used with `--resolution` and `--relative`, the waypoints are not considered, e.g.,"
   ]
  },
  {
   "cell_type": "code",
   "execution_count": 46,
   "id": "88d8c61d",
   "metadata": {},
   "outputs": [
    {
     "name": "stdout",
     "output_type": "stream",
     "text": [
      "          latitude  longitude   id  distance  heading\r\n",
      "position                                             \r\n",
      "0         37.41000 -122.20000  0.0       0.0      NaN\r\n",
      "250       37.41225 -122.20000  NaN     250.0      0.0\r\n",
      "500       37.41450 -122.20000  NaN     500.0      0.0\r\n",
      "750       37.41674 -122.20000  NaN     750.0      0.0\r\n",
      "1000      37.41899 -122.20000  NaN    1000.0      0.0\r\n",
      "1112      37.42000 -122.20000  1.0       0.0      0.0\r\n",
      "1362      37.42000 -122.20283  NaN     250.0    270.0\r\n",
      "1612      37.42000 -122.20566  NaN     500.0    270.0\r\n",
      "1862      37.42000 -122.20849  NaN     750.0    270.0\r\n",
      "1995      37.42000 -122.21000  2.0       0.0    270.0\r\n"
     ]
    }
   ],
   "source": [
    "!gridlabd geodata -D distance merge 37.410,-122.20 37.420,-122.20 37.420,-122.21 -f TABLE --table.max_rows=99 -r 250 --relative"
   ]
  },
  {
   "cell_type": "markdown",
   "id": "fbb4c74b",
   "metadata": {},
   "source": [
    "## Address\n",
    "\n",
    "You can use the `address` dataset to perform address resolution operations, both to and from latitude and longitude.\n",
    "\n",
    "To obtain the address at a location, use the following command"
   ]
  },
  {
   "cell_type": "code",
   "execution_count": 47,
   "id": "b2e5328e",
   "metadata": {},
   "outputs": [
    {
     "name": "stdout",
     "output_type": "stream",
     "text": [
      "id,latitude,longitude,address\r\n",
      "0,37.42,-122.2,\"Stanford Linear Accelerator Center National Accelerator Laboratory, Sand Hill Road, Menlo Park, San Mateo County, California, 94028, United States\"\r\n"
     ]
    }
   ],
   "source": [
    "!gridlabd geodata merge -D address 37.420,-122.20"
   ]
  },
  {
   "cell_type": "markdown",
   "id": "011e468e",
   "metadata": {},
   "source": [
    "To find the latitude and longitude of an address, use the command:"
   ]
  },
  {
   "cell_type": "code",
   "execution_count": 48,
   "id": "7cf4077c",
   "metadata": {},
   "outputs": [
    {
     "name": "stdout",
     "output_type": "stream",
     "text": [
      "id,index,address,longitude,latitude\r\n",
      "0,0,\"2575 Sand Hill Rd, Menlo Park CA 94025\",-122.20457,37.42046\r\n"
     ]
    }
   ],
   "source": [
    "!gridlabd geodata merge -D address --reverse \"2575 Sand Hill Rd, Menlo Park CA 94025\""
   ]
  },
  {
   "cell_type": "markdown",
   "id": "august-square",
   "metadata": {},
   "source": [
    "Note that incomplete addresses are usually resolved but may not provided the expected result.  For example, the following address is not sufficient for proper resolution, but provides a location nonetheless:"
   ]
  },
  {
   "cell_type": "code",
   "execution_count": 49,
   "id": "pregnant-asthma",
   "metadata": {},
   "outputs": [
    {
     "name": "stdout",
     "output_type": "stream",
     "text": [
      "id,index,address,longitude,latitude\r\n",
      "0,0,Main St.,114.04407,22.31315\r\n"
     ]
    }
   ],
   "source": [
    "!gridlabd geodata merge -D address --reverse \"Main St.\" # insufficient information for accurate results"
   ]
  },
  {
   "cell_type": "markdown",
   "id": "b2693095",
   "metadata": {},
   "source": [
    "You can perform both operations in series to resolve the \"official\" address from an unofficial but complete address:"
   ]
  },
  {
   "cell_type": "code",
   "execution_count": 50,
   "id": "f0bfe454",
   "metadata": {},
   "outputs": [
    {
     "name": "stdout",
     "output_type": "stream",
     "text": [
      "id,index,address,longitude,latitude\r\n",
      "0,0,\"54 - Stanford Research Computing Facility, 2575, Sand Hill Road, Stanford Hills, Menlo Park, San Mateo County, California, 94305, United States\",-122.20118,37.41546\r\n"
     ]
    }
   ],
   "source": [
    "!gridlabd geodata merge -D address --reverse \"2575 Sand Hill Rd, Menlo Park CA\" | gridlabd geodata merge -D address"
   ]
  },
  {
   "cell_type": "markdown",
   "id": "505c183c",
   "metadata": {},
   "source": [
    "## Elevation\n",
    "Elevation data can be obtained using the `elevation` data set, e.g.,  "
   ]
  },
  {
   "cell_type": "code",
   "execution_count": 51,
   "id": "1920f2f5",
   "metadata": {},
   "outputs": [
    {
     "name": "stdout",
     "output_type": "stream",
     "text": [
      "    latitude  longitude  elevation\r\n",
      "id                                \r\n",
      "0      37.41    -122.20       58.0\r\n",
      "1      37.42    -122.20       76.0\r\n",
      "2      37.42    -122.21      105.0\r\n"
     ]
    }
   ],
   "source": [
    "!gridlabd geodata merge -D elevation 37.410,-122.20 37.420,-122.20 37.420,-122.21 -f TABLE"
   ]
  },
  {
   "cell_type": "markdown",
   "id": "20e57631",
   "metadata": {},
   "source": [
    "Elevations can be calculated in other units using the `--units=UNIT` options, e.g.,"
   ]
  },
  {
   "cell_type": "code",
   "execution_count": 52,
   "id": "19359395",
   "metadata": {},
   "outputs": [
    {
     "name": "stdout",
     "output_type": "stream",
     "text": [
      "    latitude  longitude  elevation\r\n",
      "id                                \r\n",
      "0      37.41    -122.20      190.0\r\n",
      "1      37.42    -122.20      249.0\r\n",
      "2      37.42    -122.21      344.0\r\n"
     ]
    }
   ],
   "source": [
    "!gridlabd geodata merge -D elevation 37.410,-122.20 37.420,-122.20 37.420,-122.21 --units=feet -f TABLE"
   ]
  },
  {
   "cell_type": "markdown",
   "id": "4cd4a62a",
   "metadata": {},
   "source": [
    "Valid units are `m` or `meters`, and `ft` or `feet`.\n",
    "\n",
    "The precision of the elevations can be specified as well, e.g.,"
   ]
  },
  {
   "cell_type": "code",
   "execution_count": 53,
   "id": "0d9e280c",
   "metadata": {},
   "outputs": [
    {
     "name": "stdout",
     "output_type": "stream",
     "text": [
      "    latitude  longitude  elevation\r\n",
      "id                                \r\n",
      "0      37.41    -122.20     190.29\r\n",
      "1      37.42    -122.20     249.34\r\n",
      "2      37.42    -122.21     344.49\r\n"
     ]
    }
   ],
   "source": [
    "!gridlabd geodata merge -D elevation 37.410,-122.20 37.420,-122.20 37.420,-122.21 --precision.elevation=2 --units=feet -f TABLE"
   ]
  },
  {
   "cell_type": "markdown",
   "id": "9fdfb958",
   "metadata": {},
   "source": [
    "When using waypoints, the elevations are calculated along the path, e.g.,"
   ]
  },
  {
   "cell_type": "code",
   "execution_count": 54,
   "id": "bafd92ee",
   "metadata": {},
   "outputs": [
    {
     "name": "stdout",
     "output_type": "stream",
     "text": [
      "          latitude  longitude   id  distance  heading  elevation\r\n",
      "position                                                        \r\n",
      "0         37.41000 -122.20000  0.0       0.0      NaN       58.0\r\n",
      "250       37.41225 -122.20000  NaN     250.0      0.0       63.0\r\n",
      "500       37.41450 -122.20000  NaN     500.0      0.0       75.0\r\n",
      "750       37.41674 -122.20000  NaN     750.0      0.0       76.0\r\n",
      "1000      37.41899 -122.20000  NaN    1000.0      0.0       96.0\r\n",
      "1112      37.42000 -122.20000  1.0    1112.0      0.0       76.0\r\n",
      "1362      37.42000 -122.20283  NaN    1362.0    270.0       85.0\r\n",
      "1612      37.42000 -122.20566  NaN    1612.0    270.0       92.0\r\n",
      "1862      37.42000 -122.20849  NaN    1862.0    270.0      104.0\r\n",
      "1995      37.42000 -122.21000  2.0    1995.0    270.0      105.0\r\n"
     ]
    }
   ],
   "source": [
    "!gridlabd geodata merge -D elevation 37.410,-122.20 37.420,-122.20 37.420,-122.21 -r 250 -f TABLE"
   ]
  },
  {
   "cell_type": "markdown",
   "id": "f52cc95b",
   "metadata": {},
   "source": [
    "## Vegetation\n",
    "Vegetation data can be obtained using the `vegetation` dataset. This dataset includes information from the California Forest Observatory about canopy cover, height, and base.  To access this data you must subscribe to the service at https://forestobservatory.com. To register you username and password, you must configure the dataset using the following command:"
   ]
  },
  {
   "cell_type": "code",
   "execution_count": 55,
   "id": "6dbcf38c",
   "metadata": {},
   "outputs": [],
   "source": [
    "!gridlabd geodata config set -w vegetation.username name@example.com\n",
    "!gridlabd geodata config set vegetation.password password5839"
   ]
  },
  {
   "cell_type": "markdown",
   "id": "ac0e37ce",
   "metadata": {},
   "source": [
    "When you are registered you can merge vegetation data for geographic locations, e.g.,"
   ]
  },
  {
   "cell_type": "code",
   "execution_count": 56,
   "id": "c52d666f",
   "metadata": {},
   "outputs": [
    {
     "name": "stdout",
     "output_type": "stream",
     "text": [
      "    latitude  longitude  base  cover  height\r\n",
      "id                                          \r\n",
      "0      37.41    -122.20   2.0   0.17    11.0\r\n",
      "1      37.42    -122.20   1.0   0.18    15.0\r\n",
      "2      37.42    -122.21   2.0   0.01     0.0\r\n"
     ]
    }
   ],
   "source": [
    "!gridlabd geodata merge -D vegetation 37.410,-122.20 37.420,-122.20 37.420,-122.21 -f TABLE --vegetation.usecache=False"
   ]
  },
  {
   "cell_type": "markdown",
   "id": "14bcb8e1",
   "metadata": {},
   "source": [
    "Vegetation data is always associated with a year, which is specified by the `year` option, i.e.,"
   ]
  },
  {
   "cell_type": "code",
   "execution_count": 57,
   "id": "6929e594",
   "metadata": {},
   "outputs": [
    {
     "name": "stdout",
     "output_type": "stream",
     "text": [
      "    latitude  longitude  base  cover  height\r\n",
      "id                                          \r\n",
      "0      37.41    -122.20   2.0   0.17    11.0\r\n",
      "1      37.42    -122.20   1.0   0.18    15.0\r\n",
      "2      37.42    -122.21   2.0   0.01     0.0\r\n"
     ]
    }
   ],
   "source": [
    "!gridlabd geodata merge -D vegetation 37.410,-122.20 37.420,-122.20 37.420,-122.21 --year=2020 -f TABLE"
   ]
  },
  {
   "cell_type": "markdown",
   "id": "0a0235fa",
   "metadata": {},
   "source": [
    "## Utility\n",
    "\n",
    "Utility data can be obtained using the `utility` dataset.  This dataset includes information from the Homeland Infrastructure Foundation-Level Data (HIFLD).  Note that this dataset uses a very large datafile that can take some time to download the first time.\n",
    "\n",
    "The name of the utility at a location is the default data result, e.g.,"
   ]
  },
  {
   "cell_type": "code",
   "execution_count": 58,
   "id": "ae45a623",
   "metadata": {},
   "outputs": [
    {
     "name": "stdout",
     "output_type": "stream",
     "text": [
      "    latitude  longitude             NAME\r\n",
      "id                                      \r\n",
      "0      37.42     -122.2  PACIFIC GAS ...\r\n"
     ]
    }
   ],
   "source": [
    "!gridlabd geodata merge -D utility 37.420,-122.20 -f TABLE"
   ]
  },
  {
   "cell_type": "markdown",
   "id": "e97a965c",
   "metadata": {},
   "source": [
    "Other data is available (see https://hifld-geoplatform.opendata.arcgis.com/datasets/electric-retail-service-territories for detail).  A list of data available can be obtained from the dataset help, e.g., using `gridlabd geodata help utility`.  \n",
    "\n",
    "To get the utility's summer and winter peak load and number of customers and the year for which the data is obtained, use the command"
   ]
  },
  {
   "cell_type": "code",
   "execution_count": 59,
   "id": "dcc90edc",
   "metadata": {},
   "outputs": [
    {
     "name": "stdout",
     "output_type": "stream",
     "text": [
      "    latitude  longitude  WINTR_PEAK  SUMMR_PEAK  CUSTOMERS    YEAR\r\n",
      "id                                                                \r\n",
      "0      37.42     -122.2     12624.0     17263.0  5471786.0  2018.0\r\n"
     ]
    }
   ],
   "source": [
    "!gridlabd geodata merge -D utility 37.420,-122.20 --fields=WINTR_PEAK,SUMMR_PEAK,CUSTOMERS,YEAR -f TABLE"
   ]
  },
  {
   "cell_type": "markdown",
   "id": "9f287650",
   "metadata": {},
   "source": [
    "The `utility` dataset also contains geometry data that can be used to generate maps. This data is included when the `--geometry` option is specified, e.g.,"
   ]
  },
  {
   "cell_type": "code",
   "execution_count": 60,
   "id": "maritime-petroleum",
   "metadata": {},
   "outputs": [],
   "source": [
    "!gridlabd geodata merge -D utility 37.420,-122.20 --geometry -f PLOT -o /tmp/utility.png --plot.figsize=10,5"
   ]
  },
  {
   "cell_type": "markdown",
   "id": "quantitative-chapel",
   "metadata": {},
   "source": [
    "The following python code can be used to display the image in a Jupyter notebook."
   ]
  },
  {
   "cell_type": "code",
   "execution_count": 61,
   "id": "c60b5061",
   "metadata": {},
   "outputs": [
    {
     "data": {
      "image/png": "[encoded data removed]",
      "text/plain": [
       "<IPython.core.display.Image object>"
      ]
     },
     "execution_count": 61,
     "metadata": {},
     "output_type": "execute_result"
    }
   ],
   "source": [
    "from IPython.display import Image\n",
    "Image(\"/tmp/utility.png\")"
   ]
  },
  {
   "cell_type": "markdown",
   "id": "7213c746",
   "metadata": {},
   "source": [
    "## Powerline\n",
    "\n",
    "Powerline calculations can be performed using the `powerline` dataset.  This dataset calculates line sag, line sway, and line gallop.  \n",
    "\n",
    "To use this dataset additional data is usually required. When the needed data is not available at a specific position or location, static values can be provided using the available dataset options. Valid dataset options include the following:\n",
    "\n",
    "- `--air_temperature=FLOAT` specified in Celsius, with a default of 30 C.\n",
    "- `--wind_speed=FLOAT` specified in m/s, with a default is 0 m/s.\n",
    "- `--wind_direction=FLOAT` specified in degrees, with a default is 0 degrees.\n",
    "- `--ice_thickness=FLOAT` specified in meters, with a default is 0 m.\n",
    "- `--power_flow=FLOAT` specified in Watts, with a default is 0 W.\n",
    "- `--global_horizontal_irradiance=FLOAT` specified in W/m^2, with a default of 1000 W/m^2.\n",
    "- `--ground_reflectance=FLOAT` specified per unit, with a default of 0.3 pu.\n",
    "- `--ice_density=FLOAT` specified in kg/m^3, with a default of 915 kg/m^3.\n",
    "- `--nominal_temperature=FLOAT` specified in Celcius, with a default of 15 C.\n",
    "- `--cable_type=STRING` specified as a string lookup in the cable type file, with no default value.\n",
    "- `--elevation=FLOAT` specified in m above sea level, with a default of 0 m.\n",
    "\n",
    "For example, the cable type has no default and a reference to a known cable type can be given on the command line, e.g.,"
   ]
  },
  {
   "cell_type": "code",
   "execution_count": 62,
   "id": "f6cc13cb",
   "metadata": {
    "scrolled": false
   },
   "outputs": [
    {
     "name": "stdout",
     "output_type": "stream",
     "text": [
      "WARNING [geodata/powerline]: cannot run function CONTACT and 'height' is missing or invalid\r\n",
      "          linesag\r\n",
      "position         \r\n",
      "0            18.0\r\n",
      "50           12.2\r\n",
      "100           9.4\r\n",
      "150           9.7\r\n",
      "200          13.0\r\n",
      "...           ...\r\n",
      "8390        -16.6\r\n",
      "8440         -8.9\r\n",
      "8490          0.6\r\n",
      "8540         12.0\r\n",
      "8583         23.0\r\n",
      "\r\n",
      "[191 rows x 1 columns]\r\n"
     ]
    }
   ],
   "source": [
    "!gridlabd geodata merge -D powerline path_example.csv --cable_type=\"TACSR/AC 610mm^2\" -r 50 -f TABLE:linesag"
   ]
  },
  {
   "cell_type": "markdown",
   "id": "eea57c44",
   "metadata": {},
   "source": [
    "Known cable types are listed in the `geodata_powerline_cabletypes.csv`, which contains the following fields:"
   ]
  },
  {
   "cell_type": "code",
   "execution_count": 63,
   "id": "b6b925c0",
   "metadata": {},
   "outputs": [
    {
     "name": "stdout",
     "output_type": "stream",
     "text": [
      "id\n",
      "diameter\n",
      "unit_weight\n",
      "rated_tensile_strength\n",
      "elasticity\n",
      "thermal_expansion\n",
      "conductor_crosssection_area\n",
      "resistivity\n",
      "nominal_resistance\n",
      "nomimal_temperature\n",
      "voltage_rating\n",
      "reflectivity\n",
      "emissivity\n"
     ]
    }
   ],
   "source": [
    "import pandas\n",
    "print(\"\\n\".join(pandas.read_csv(\"../geodata_powerline_cabletypes.csv\").columns.to_list()))"
   ]
  },
  {
   "cell_type": "markdown",
   "id": "0ab26798",
   "metadata": {},
   "source": [
    "The first record contains the following values"
   ]
  },
  {
   "cell_type": "code",
   "execution_count": 64,
   "id": "e3159039",
   "metadata": {},
   "outputs": [
    {
     "data": {
      "text/html": [
       "<div>\n",
       "<style scoped>\n",
       "    .dataframe tbody tr th:only-of-type {\n",
       "        vertical-align: middle;\n",
       "    }\n",
       "\n",
       "    .dataframe tbody tr th {\n",
       "        vertical-align: top;\n",
       "    }\n",
       "\n",
       "    .dataframe thead th {\n",
       "        text-align: right;\n",
       "    }\n",
       "</style>\n",
       "<table border=\"1\" class=\"dataframe\">\n",
       "  <thead>\n",
       "    <tr style=\"text-align: right;\">\n",
       "      <th></th>\n",
       "      <th>0</th>\n",
       "    </tr>\n",
       "  </thead>\n",
       "  <tbody>\n",
       "    <tr>\n",
       "      <th>id</th>\n",
       "      <td>TACSR/AC 610mm^2</td>\n",
       "    </tr>\n",
       "    <tr>\n",
       "      <th>diameter</th>\n",
       "      <td>0.0342</td>\n",
       "    </tr>\n",
       "    <tr>\n",
       "      <th>unit_weight</th>\n",
       "      <td>21.56</td>\n",
       "    </tr>\n",
       "    <tr>\n",
       "      <th>rated_tensile_strength</th>\n",
       "      <td>72000</td>\n",
       "    </tr>\n",
       "    <tr>\n",
       "      <th>elasticity</th>\n",
       "      <td>7.18e+10</td>\n",
       "    </tr>\n",
       "    <tr>\n",
       "      <th>thermal_expansion</th>\n",
       "      <td>2.06e-05</td>\n",
       "    </tr>\n",
       "    <tr>\n",
       "      <th>conductor_crosssection_area</th>\n",
       "      <td>0.0006918</td>\n",
       "    </tr>\n",
       "    <tr>\n",
       "      <th>resistivity</th>\n",
       "      <td>0.0039</td>\n",
       "    </tr>\n",
       "    <tr>\n",
       "      <th>nominal_resistance</th>\n",
       "      <td>4.58e-05</td>\n",
       "    </tr>\n",
       "    <tr>\n",
       "      <th>nomimal_temperature</th>\n",
       "      <td>15</td>\n",
       "    </tr>\n",
       "    <tr>\n",
       "      <th>voltage_rating</th>\n",
       "      <td>230000</td>\n",
       "    </tr>\n",
       "    <tr>\n",
       "      <th>reflectivity</th>\n",
       "      <td>0.5</td>\n",
       "    </tr>\n",
       "    <tr>\n",
       "      <th>emissivity</th>\n",
       "      <td>0.6</td>\n",
       "    </tr>\n",
       "  </tbody>\n",
       "</table>\n",
       "</div>"
      ],
      "text/plain": [
       "                                            0\n",
       "id                           TACSR/AC 610mm^2\n",
       "diameter                               0.0342\n",
       "unit_weight                             21.56\n",
       "rated_tensile_strength                  72000\n",
       "elasticity                           7.18e+10\n",
       "thermal_expansion                    2.06e-05\n",
       "conductor_crosssection_area         0.0006918\n",
       "resistivity                            0.0039\n",
       "nominal_resistance                   4.58e-05\n",
       "nomimal_temperature                        15\n",
       "voltage_rating                         230000\n",
       "reflectivity                              0.5\n",
       "emissivity                                0.6"
      ]
     },
     "execution_count": 64,
     "metadata": {},
     "output_type": "execute_result"
    }
   ],
   "source": [
    "pandas.read_csv(\"../geodata_powerline_cabletypes.csv\",nrows=1).transpose()"
   ]
  },
  {
   "cell_type": "markdown",
   "id": "20bd8572",
   "metadata": {},
   "source": [
    "When needed data is not provided or the value provided is invalid, a warning is output and the requested values are not calculated, e.g.,"
   ]
  },
  {
   "cell_type": "code",
   "execution_count": 65,
   "id": "c58e3f7c",
   "metadata": {},
   "outputs": [
    {
     "name": "stdout",
     "output_type": "stream",
     "text": [
      "WARNING [geodata/powerline]: cable_type not specified\n",
      "WARNING [geodata/powerline]: cannot run function CONTACT and 'height' is missing or invalid\n",
      "    linesag\n",
      "id         \n",
      "0       NaN\n",
      "1       NaN\n",
      "2       NaN\n",
      "3       NaN\n",
      "4       NaN\n",
      "..      ...\n",
      "32      NaN\n",
      "33      NaN\n",
      "34      NaN\n",
      "35      NaN\n",
      "36      NaN\n",
      "\n",
      "[37 rows x 1 columns]\n"
     ]
    }
   ],
   "source": [
    "!gridlabd geodata merge -D powerline path_example.csv -f TABLE:linesag # missing cable type"
   ]
  },
  {
   "cell_type": "code",
   "execution_count": 66,
   "id": "1e5030c5",
   "metadata": {},
   "outputs": [
    {
     "name": "stdout",
     "output_type": "stream",
     "text": [
      "WARNING [geodata/powerline]: cable_type='My cabletype' not found\n",
      "WARNING [geodata/powerline]: cannot run function CONTACT and 'height' is missing or invalid\n",
      "    linesag\n",
      "id         \n",
      "0       NaN\n",
      "1       NaN\n",
      "2       NaN\n",
      "3       NaN\n",
      "4       NaN\n",
      "..      ...\n",
      "32      NaN\n",
      "33      NaN\n",
      "34      NaN\n",
      "35      NaN\n",
      "36      NaN\n",
      "\n",
      "[37 rows x 1 columns]\n"
     ]
    }
   ],
   "source": [
    "!gridlabd geodata merge -D powerline path_example.csv -f TABLE:linesag --cable_type=\"My cabletype\" # bad cable type"
   ]
  },
  {
   "cell_type": "markdown",
   "id": "09abbe56",
   "metadata": {},
   "source": [
    "---\n",
    "# Getting help\n",
    "\n",
    "You can obtain help using the `help` directive, e.g.,"
   ]
  },
  {
   "cell_type": "code",
   "execution_count": 67,
   "id": "6627ef94",
   "metadata": {
    "scrolled": false
   },
   "outputs": [
    {
     "name": "stdout",
     "output_type": "stream",
     "text": [
      "Help on module __main__:\r\n",
      "\r\n",
      "NAME\r\n",
      "    __main__ - Syntax: gridlabd geodata OPTIONS DIRECTIVE [ARGUMENTS]\r\n",
      "\r\n",
      "DESCRIPTION\r\n",
      "    The geodata command gathers and joins geographic data. The geodata subcommand\r\n",
      "    uses directives that are documented in the DIRECTIVES section below.\r\n",
      "    \r\n",
      "    In general geodata is used to acquire geographic information at a location or\r\n"
     ]
    }
   ],
   "source": [
    "!gridlabd geodata help | head -n 10"
   ]
  },
  {
   "cell_type": "code",
   "execution_count": 68,
   "id": "713dbc41",
   "metadata": {},
   "outputs": [
    {
     "name": "stdout",
     "output_type": "stream",
     "text": [
      "Help on module geodata_distance:\r\n",
      "\r\n",
      "NAME\r\n",
      "    geodata_distance - GridLAB-D Geodata Distance Package\r\n",
      "\r\n",
      "DESCRIPTION\r\n",
      "    The distance package computes the shortest distance between consecutive\r\n",
      "    positions.\r\n",
      "    \r\n",
      "    OPTIONS\r\n"
     ]
    }
   ],
   "source": [
    "!gridlabd geodata help distance | head -n 10"
   ]
  },
  {
   "cell_type": "markdown",
   "id": "29eeed2a",
   "metadata": {},
   "source": [
    "---\n",
    "# Output Options"
   ]
  },
  {
   "cell_type": "markdown",
   "id": "private-measure",
   "metadata": {},
   "source": [
    "## Verbose"
   ]
  },
  {
   "cell_type": "markdown",
   "id": "4fa5579c",
   "metadata": {},
   "source": [
    "The `-v` or `--verbose` option can be used to get additional output about the stages of processing, e.g., "
   ]
  },
  {
   "cell_type": "code",
   "execution_count": 69,
   "id": "e19f8cc7",
   "metadata": {},
   "outputs": [
    {
     "name": "stdout",
     "output_type": "stream",
     "text": [
      "VERBOSE [geodata/distance]: verbose output enabled\r\n",
      "VERBOSE [geodata/distance]: arg=37,-122 --> append 1 rows from args\r\n",
      "VERBOSE [geodata/distance]: arg=38,-122 --> append 1 rows from args\r\n",
      "VERBOSE [geodata/distance]: arg=--units=km --> option ['units', 'km'] accepted\r\n",
      "VERBOSE [geodata/distance]: arg=--precision.distance=3 --> option ['precision.distance', '3'] accepted\r\n",
      "VERBOSE [geodata/distance]: 2 rows total received\r\n",
      "VERBOSE [geodata/distance]: creating row index\r\n",
      "VERBOSE [geodata/distance]: data = \r\n",
      "--------------------------\r\n",
      "   latitude  longitude  id\r\n",
      "0      37.0     -122.0   0\r\n",
      "1      38.0     -122.0   1\r\n",
      "--------------------------\r\n",
      "\r\n",
      "VERBOSE [geodata/distance]: options = {\r\n",
      "    \"verbose\": true,\r\n",
      "    \"debug\": false,\r\n",
      "    \"silent\": false,\r\n",
      "    \"quiet\": false,\r\n",
      "    \"warning\": true,\r\n",
      "    \"key_index\": \"\",\r\n",
      "    \"max_threads\": 1,\r\n",
      "    \"config_file\": \"geodata.conf\",\r\n",
      "    \"field_separator\": \" \",\r\n",
      "    \"record_separator\": \"\\n\",\r\n",
      "    \"input_delimiter\": \"+\",\r\n",
      "    \"warning_as_error\": false,\r\n",
      "    \"plot\": {\r\n",
      "        \"figsize\": [\r\n",
      "            7.0,\r\n",
      "            5.0\r\n",
      "        ],\r\n",
      "        \"cmap\": \"\",\r\n",
      "        \"categorical\": false,\r\n",
      "        \"legend\": false,\r\n",
      "        \"scheme\": \"\",\r\n",
      "        \"k\": 5,\r\n",
      "        \"vmin\": NaN,\r\n",
      "        \"vmax\": NaN,\r\n",
      "        \"aspect\": \"auto\"\r\n",
      "    },\r\n",
      "    \"show\": {\r\n",
      "        \"block\": true\r\n",
      "    },\r\n",
      "    \"savefig\": {\r\n",
      "        \"dpi\": 300,\r\n",
      "        \"facecolor\": \"w\",\r\n",
      "        \"edgecolor\": \"k\",\r\n",
      "        \"orientation\": \"landscape\",\r\n",
      "        \"format\": \"png\",\r\n",
      "        \"transparent\": false,\r\n",
      "        \"pad_inches\": 0.1\r\n",
      "    },\r\n",
      "    \"table\": {\r\n",
      "        \"max_rows\": 10,\r\n",
      "        \"max_columns\": 10,\r\n",
      "        \"width\": 80,\r\n",
      "        \"max_colwidth\": 16\r\n",
      "    },\r\n",
      "    \"precision\": {\r\n",
      "        \"distance\": 3,\r\n",
      "        \"heading\": 1,\r\n",
      "        \"geolocation\": 5,\r\n",
      "        \"id\": 0,\r\n",
      "        \"resolution_id\": 3\r\n",
      "    },\r\n",
      "    \"resolution\": 0,\r\n",
      "    \"resolution_id\": false,\r\n",
      "    \"json\": {\r\n",
      "        \"orient\": \"index\",\r\n",
      "        \"data_format\": \"iso\",\r\n",
      "        \"double_precision\": 10,\r\n",
      "        \"force_ascii\": true,\r\n",
      "        \"date_unit\": \"s\"\r\n",
      "    },\r\n",
      "    \"filter\": \"\",\r\n",
      "    \"select\": \"\",\r\n",
      "    \"units\": \"km\",\r\n",
      "    \"relative\": false\r\n",
      "}\r\n",
      "VERBOSE [geodata/distance]: config = {\r\n",
      "    \"geodata_url\": \"http://geodata.gridlabd.us/\",\r\n",
      "    \"output_format\": \"CSV\",\r\n",
      "    \"path_join\": \"outer\",\r\n",
      "    \"column_names\": {\r\n",
      "        \"ID\": \"id\",\r\n",
      "        \"UUID\": \"uuid\",\r\n",
      "        \"LAT\": \"latitude\",\r\n",
      "        \"LON\": \"longitude\",\r\n",
      "        \"DIST\": \"distance\",\r\n",
      "        \"HEAD\": \"heading\",\r\n",
      "        \"LOC\": \"location\",\r\n",
      "        \"POS\": \"position\"\r\n",
      "    },\r\n",
      "    \"uuid_type\": 4,\r\n",
      "    \"vegetation.username\": \"name@example.com\",\r\n",
      "    \"vegetation.password\": \"password5839\",\r\n",
      "    \"method\": \"haversine\"\r\n",
      "}\r\n",
      "id,latitude,longitude,distance\r\n",
      "0,37.0,-122.0,0.0\r\n",
      "1,38.0,-122.0,111.195\r\n"
     ]
    }
   ],
   "source": [
    "!gridlabd geodata merge -D distance 37,-122 38,-122 -v --units=km --precision.distance=3"
   ]
  },
  {
   "cell_type": "markdown",
   "id": "regular-quality",
   "metadata": {},
   "source": [
    "## Silent"
   ]
  },
  {
   "cell_type": "markdown",
   "id": "4c65e6b1",
   "metadata": {},
   "source": [
    "The `-s` or `--silent` option suppresses error messages while still returning an error condition, e.g.,"
   ]
  },
  {
   "cell_type": "code",
   "execution_count": 70,
   "id": "95682b83",
   "metadata": {},
   "outputs": [
    {
     "name": "stdout",
     "output_type": "stream",
     "text": [
      "Exit code 4\r\n"
     ]
    }
   ],
   "source": [
    "!gridlabd geodata merge -D distance 37,-122 38,-122 --badoption -s || echo \"Exit code $?\""
   ]
  },
  {
   "cell_type": "markdown",
   "id": "decreased-cradle",
   "metadata": {},
   "source": [
    "## Warning"
   ]
  },
  {
   "cell_type": "markdown",
   "id": "29baf3e4",
   "metadata": {},
   "source": [
    "The `-w` or `--warning` option suppresses warning messages, e.g.,"
   ]
  },
  {
   "cell_type": "code",
   "execution_count": 71,
   "id": "576305ee",
   "metadata": {},
   "outputs": [
    {
     "name": "stdout",
     "output_type": "stream",
     "text": [
      "              latitude  longitude  id  distance\r\n",
      "location                                       \r\n",
      "9q94rzdk9gyt      37.0     -122.0   0       0.0\r\n",
      "9qc0pvdq1cqt      38.0     -122.0   1  111195.0\r\n"
     ]
    }
   ],
   "source": [
    "!gridlabd geodata merge -D distance 37,-122 38,-122 -r 100 -k location -w -f TABLE"
   ]
  },
  {
   "cell_type": "markdown",
   "id": "loaded-packet",
   "metadata": {},
   "source": [
    "If an error is desired instead of a warning, use the `--warning_as_error` option, e.g.,"
   ]
  },
  {
   "cell_type": "code",
   "execution_count": 72,
   "id": "occasional-opera",
   "metadata": {},
   "outputs": [
    {
     "name": "stdout",
     "output_type": "stream",
     "text": [
      "ERROR [geodata/distance]: using index 'location' cannot be used with '--resolution=100.0' option\r\n"
     ]
    }
   ],
   "source": [
    "!gridlabd geodata merge -D distance 37,-122 38,-122 -r 100 -k location --warning_as_error # key warning is an error"
   ]
  },
  {
   "cell_type": "markdown",
   "id": "international-event",
   "metadata": {},
   "source": [
    "## Debug"
   ]
  },
  {
   "cell_type": "markdown",
   "id": "047cbc11",
   "metadata": {},
   "source": [
    "The `-d` or `--debug` option can be used to obtain details about why an error occurred.  For example, the following command has an invalid `lat,lon` tuple and results in a simple error message:"
   ]
  },
  {
   "cell_type": "code",
   "execution_count": 73,
   "id": "19844cfd",
   "metadata": {},
   "outputs": [
    {
     "name": "stdout",
     "output_type": "stream",
     "text": [
      "ERROR [geodata/distance]: unit 'furlongs' is not recognized\r\n"
     ]
    }
   ],
   "source": [
    "!gridlabd geodata merge -D distance 37,-122 38,-122 --units=furlongs"
   ]
  },
  {
   "cell_type": "markdown",
   "id": "6b81a51b",
   "metadata": {},
   "source": [
    "Using the debug option provides a more detailed traceback of the error that can be helpful in diagnostic the problem, particularly when it originates in a dataset package. The call arguments, options, and configuration is also output after the traceback information."
   ]
  },
  {
   "cell_type": "code",
   "execution_count": 74,
   "id": "318cf241",
   "metadata": {},
   "outputs": [
    {
     "name": "stdout",
     "output_type": "stream",
     "text": [
      "Traceback (most recent call last):\r\n",
      "  File \"/usr/local/opt/gridlabd/4.2.26-210820-develop_add_cyme_converter/bin/gridlabd-geodata\", line 854, in merge\r\n",
      "    result = MODULE.apply(data,options,config,warning)\r\n",
      "  File \"/usr/local/opt/gridlabd/4.2.26-210820-develop_add_cyme_converter/share/gridlabd/geodata_distance.py\", line 119, in apply\r\n",
      "    raise Exception(f\"unit '{options['units']}' is not recognized\")\r\n",
      "Exception: unit 'furlongs' is not recognized\r\n",
      "DEBUG [geodata/distance]: merge(args=['37,-122', '38,-122', '--units=furlongs']) --> data = \r\n",
      "----\r\n",
      "None\r\n",
      "----\r\n",
      "options = {\r\n",
      "    \"verbose\": false,\r\n",
      "    \"debug\": true,\r\n",
      "    \"silent\": false,\r\n",
      "    \"quiet\": false,\r\n",
      "    \"warning\": true,\r\n",
      "    \"key_index\": \"\",\r\n",
      "    \"max_threads\": 1,\r\n",
      "    \"config_file\": \"geodata.conf\",\r\n",
      "    \"field_separator\": \" \",\r\n",
      "    \"record_separator\": \"\\n\",\r\n",
      "    \"input_delimiter\": \"+\",\r\n",
      "    \"warning_as_error\": false,\r\n",
      "    \"plot\": {\r\n",
      "        \"figsize\": [\r\n",
      "            7.0,\r\n",
      "            5.0\r\n",
      "        ],\r\n",
      "        \"cmap\": \"\",\r\n",
      "        \"categorical\": false,\r\n",
      "        \"legend\": false,\r\n",
      "        \"scheme\": \"\",\r\n",
      "        \"k\": 5,\r\n",
      "        \"vmin\": NaN,\r\n",
      "        \"vmax\": NaN,\r\n",
      "        \"aspect\": \"auto\"\r\n",
      "    },\r\n",
      "    \"show\": {\r\n",
      "        \"block\": true\r\n",
      "    },\r\n",
      "    \"savefig\": {\r\n",
      "        \"dpi\": 300,\r\n",
      "        \"facecolor\": \"w\",\r\n",
      "        \"edgecolor\": \"k\",\r\n",
      "        \"orientation\": \"landscape\",\r\n",
      "        \"format\": \"png\",\r\n",
      "        \"transparent\": false,\r\n",
      "        \"pad_inches\": 0.1\r\n",
      "    },\r\n",
      "    \"table\": {\r\n",
      "        \"max_rows\": 10,\r\n",
      "        \"max_columns\": 10,\r\n",
      "        \"width\": 80,\r\n",
      "        \"max_colwidth\": 16\r\n",
      "    },\r\n",
      "    \"precision\": {\r\n",
      "        \"distance\": 0,\r\n",
      "        \"heading\": 1,\r\n",
      "        \"geolocation\": 5,\r\n",
      "        \"id\": 0,\r\n",
      "        \"resolution_id\": 3\r\n",
      "    },\r\n",
      "    \"resolution\": 0,\r\n",
      "    \"resolution_id\": false,\r\n",
      "    \"json\": {\r\n",
      "        \"orient\": \"index\",\r\n",
      "        \"data_format\": \"iso\",\r\n",
      "        \"double_precision\": 10,\r\n",
      "        \"force_ascii\": true,\r\n",
      "        \"date_unit\": \"s\"\r\n",
      "    },\r\n",
      "    \"filter\": \"\",\r\n",
      "    \"select\": \"\",\r\n",
      "    \"units\": \"furlongs\",\r\n",
      "    \"relative\": false\r\n",
      "}\r\n",
      "config = {\r\n",
      "    \"geodata_url\": \"http://geodata.gridlabd.us/\",\r\n",
      "    \"output_format\": \"CSV\",\r\n",
      "    \"path_join\": \"outer\",\r\n",
      "    \"column_names\": {\r\n",
      "        \"ID\": \"id\",\r\n",
      "        \"UUID\": \"uuid\",\r\n",
      "        \"LAT\": \"latitude\",\r\n",
      "        \"LON\": \"longitude\",\r\n",
      "        \"DIST\": \"distance\",\r\n",
      "        \"HEAD\": \"heading\",\r\n",
      "        \"LOC\": \"location\",\r\n",
      "        \"POS\": \"position\"\r\n",
      "    },\r\n",
      "    \"uuid_type\": 4,\r\n",
      "    \"vegetation.username\": \"name@example.com\",\r\n",
      "    \"vegetation.password\": \"password5839\",\r\n",
      "    \"method\": \"haversine\"\r\n",
      "}\r\n"
     ]
    }
   ],
   "source": [
    "!gridlabd geodata merge -D distance 37,-122 38,-122 --units=furlongs -d # invalid unit"
   ]
  },
  {
   "cell_type": "markdown",
   "id": "7539fc1d",
   "metadata": {},
   "source": [
    "Note that using the debug flag also enables traceback of warnings from inside python modules, but may not traceback warnings from geodata packages. If this occurs, use the `--warning_as_error` option."
   ]
  },
  {
   "cell_type": "markdown",
   "id": "9487e5a0",
   "metadata": {},
   "source": [
    "# Configurations versus Options"
   ]
  },
  {
   "cell_type": "markdown",
   "id": "27921e1c",
   "metadata": {},
   "source": [
    "Configurations can be set in advance using configuration files and the `config` directive, or they can be specified at the command line.  Options can only be specified on the command line.\n",
    "\n",
    "The current `geodata` configuration values are obtained using the `--show_config` command line option:"
   ]
  },
  {
   "cell_type": "code",
   "execution_count": 75,
   "id": "a3a938c7",
   "metadata": {},
   "outputs": [
    {
     "name": "stdout",
     "output_type": "stream",
     "text": [
      "--geodata_url='http://geodata.gridlabd.us/'\r\n",
      "--output_format='CSV'\r\n",
      "--path_join='outer'\r\n",
      "--column_names.ID='id'\r\n",
      "--column_names.UUID='uuid'\r\n",
      "--column_names.LAT='latitude'\r\n",
      "--column_names.LON='longitude'\r\n",
      "--column_names.DIST='distance'\r\n",
      "--column_names.HEAD='heading'\r\n",
      "--column_names.LOC='location'\r\n",
      "--column_names.POS='position'\r\n",
      "--uuid_type=4\r\n",
      "--vegetation.username='name@example.com'\r\n",
      "--vegetation.password='password5839'\r\n"
     ]
    }
   ],
   "source": [
    "!gridlabd geodata --show_config"
   ]
  },
  {
   "cell_type": "markdown",
   "id": "f20e7634",
   "metadata": {},
   "source": [
    "This list will always include all the `system`, `user`, and `local` configuration items."
   ]
  },
  {
   "cell_type": "markdown",
   "id": "5c1c1cb7",
   "metadata": {},
   "source": [
    "The valid `geodata` option values are obtained using a similar command for options, e.g.,"
   ]
  },
  {
   "cell_type": "code",
   "execution_count": 76,
   "id": "88c6d751",
   "metadata": {},
   "outputs": [
    {
     "name": "stdout",
     "output_type": "stream",
     "text": [
      "--verbose=False\r\n",
      "--debug=False\r\n",
      "--silent=False\r\n",
      "--quiet=False\r\n",
      "--warning=True\r\n",
      "--key_index=''\r\n",
      "--max_threads=1\r\n",
      "--config_file='geodata.conf'\r\n",
      "--field_separator=' '\r\n",
      "--record_separator='\\n'\r\n",
      "--input_delimiter='+'\r\n",
      "--warning_as_error=False\r\n",
      "--plot.figsize=7.0.5.0\r\n",
      "--plot.cmap=''\r\n",
      "--plot.categorical=False\r\n",
      "--plot.legend=False\r\n",
      "--plot.scheme=''\r\n",
      "--plot.k=5\r\n",
      "--plot.vmin=nan\r\n",
      "--plot.vmax=nan\r\n",
      "--plot.aspect='auto'\r\n",
      "--show.block=True\r\n",
      "--savefig.dpi=300\r\n",
      "--savefig.facecolor='w'\r\n",
      "--savefig.edgecolor='k'\r\n",
      "--savefig.orientation='landscape'\r\n",
      "--savefig.format='png'\r\n",
      "--savefig.transparent=False\r\n",
      "--savefig.pad_inches=0.1\r\n",
      "--table.max_rows=10\r\n",
      "--table.max_columns=10\r\n",
      "--table.width=80\r\n",
      "--table.max_colwidth=16\r\n",
      "--precision.distance=0\r\n",
      "--precision.heading=1\r\n",
      "--precision.geolocation=5\r\n",
      "--precision.id=0\r\n",
      "--precision.resolution_id=3\r\n",
      "--resolution=0\r\n",
      "--resolution_id=False\r\n",
      "--json.orient='index'\r\n",
      "--json.data_format='iso'\r\n",
      "--json.double_precision=10\r\n",
      "--json.force_ascii=True\r\n",
      "--json.date_unit='s'\r\n",
      "--filter=''\r\n",
      "--select=''\r\n"
     ]
    }
   ],
   "source": [
    "!gridlabd geodata --show_options"
   ]
  },
  {
   "cell_type": "markdown",
   "id": "f4446b01",
   "metadata": {},
   "source": [
    "----\n",
    "# GridLAB-D Models"
   ]
  },
  {
   "cell_type": "markdown",
   "id": "ccdd9914",
   "metadata": {},
   "source": [
    "The `geodata` subcommand can be used from within GridLAB-D model files (GLM) files.  All GridLAB-D objects have a header attribute for latitude and longitude, and thus can provide the data needed to perform `geodata` create and merge operations.\n",
    "\n",
    "The following step-by-step example illustrates how address resolution can be performed on a GLM object."
   ]
  },
  {
   "cell_type": "markdown",
   "id": "950a503a",
   "metadata": {},
   "source": [
    "## Step 1: Add the needed geodata fields to the affected object classes"
   ]
  },
  {
   "cell_type": "markdown",
   "id": "minus-clerk",
   "metadata": {},
   "source": [
    "~~~\n",
    "module residential;\n",
    "class house\n",
    "{\n",
    "    char1024 address;\n",
    "}\n",
    "~~~"
   ]
  },
  {
   "cell_type": "markdown",
   "id": "89270b97",
   "metadata": {},
   "source": [
    "The `class` declaration adds the `address` field to the definition of `house` provided by the `residential` module."
   ]
  },
  {
   "cell_type": "markdown",
   "id": "d4536854",
   "metadata": {},
   "source": [
    "## Step 2: Create the needed objects with the required data"
   ]
  },
  {
   "cell_type": "markdown",
   "id": "conscious-theory",
   "metadata": {},
   "source": [
    "~~~\n",
    "object \n",
    "{\n",
    "    address \"2575 Sand Hill Rd., Menlo Park, CA, 94025\";\n",
    "}\n",
    "~~~"
   ]
  },
  {
   "cell_type": "markdown",
   "id": "594d9c63",
   "metadata": {},
   "source": [
    "## Step 3: Write the CSV data file needed to create the `geodata` entity"
   ]
  },
  {
   "cell_type": "markdown",
   "id": "burning-judgment",
   "metadata": {},
   "source": [
    "~~~\n",
    "#write /tmp/house_address.csv house:address\n",
    "~~~"
   ]
  },
  {
   "cell_type": "markdown",
   "id": "c9b10798",
   "metadata": {},
   "source": [
    "The `#write` macro generates a CSV field of all the `house` objects with only the `address` fields, which looks like this:"
   ]
  },
  {
   "cell_type": "markdown",
   "id": "athletic-animal",
   "metadata": {},
   "source": [
    "~~~\n",
    "id,class,name,address\n",
    "0,house,\"house:0\",\"2575 Sand Hill Rd., Menlo Park, CA\"\n",
    "~~~"
   ]
  },
  {
   "cell_type": "markdown",
   "id": "4b4c8c4e",
   "metadata": {},
   "source": [
    "## Step 4: Run the desired `geodata` operation"
   ]
  },
  {
   "cell_type": "markdown",
   "id": "living-spain",
   "metadata": {},
   "source": [
    "~~~\n",
    "#geodata merge -D address /tmp/house_address.csv --reverse --format GLM:@latitude,longitude -o /tmp/house_latlon.glm\n",
    "~~~"
   ]
  },
  {
   "cell_type": "markdown",
   "id": "e9e6efb7",
   "metadata": {},
   "source": [
    "The command merges the `address` dataset into the data from the CSV file, performing a reverse address resolution (i.e., address to location), and outputs the result to a GLM file.  The `GLM` format options specified only the `latitude` and `longitude` fields are to be generated.  The `@` symbol reformats the GLM output using `modify` directives instead of the default `object` directives. This is necessary to update existing objects rather than creating new ones.  The resulting file looks like this:"
   ]
  },
  {
   "cell_type": "markdown",
   "id": "significant-address",
   "metadata": {},
   "source": [
    "~~~\n",
    "modify house:0.longitude \"-122.20118\";\n",
    "modify house:0.latitude \"37.41546\";\n",
    "~~~"
   ]
  },
  {
   "cell_type": "markdown",
   "id": "8358397b",
   "metadata": {},
   "source": [
    "## Step 5: Include the updated values"
   ]
  },
  {
   "cell_type": "markdown",
   "id": "answering-focus",
   "metadata": {},
   "source": [
    "~~~\n",
    "#include /tmp/house_latlon.glm\n",
    "~~~"
   ]
  },
  {
   "cell_type": "markdown",
   "id": "9486d09f",
   "metadata": {},
   "source": [
    "Now the object has the latitude and longitude data set based on the address provided."
   ]
  },
  {
   "cell_type": "markdown",
   "id": "af52324a",
   "metadata": {},
   "source": [
    "## Example 1\n",
    "The following example illustrates the result of using this method to resolve the geolocation of a house using its address."
   ]
  },
  {
   "cell_type": "code",
   "execution_count": 77,
   "id": "378d2155",
   "metadata": {},
   "outputs": [
    {
     "name": "stdout",
     "output_type": "stream",
     "text": [
      "module residential;\r\n",
      "class house\r\n",
      "{\r\n",
      "    char1024 address;\r\n",
      "}\r\n",
      "\r\n",
      "object house\r\n",
      "{\r\n",
      "    name \"Building_53\";\r\n",
      "    address \"2575 Sand Hill Rd., Menlo Park, CA\";\r\n",
      "}\r\n",
      "#write /tmp/address.csv house:address\r\n",
      "#geodata merge -D address /tmp/address.csv --reverse --format GLM:@latitude,longitude -o /tmp/latlon.glm\r\n",
      "#include \"/tmp/latlon.glm\"\r\n"
     ]
    }
   ],
   "source": [
    "!cat example.glm"
   ]
  },
  {
   "cell_type": "code",
   "execution_count": 78,
   "id": "639c6e38",
   "metadata": {},
   "outputs": [
    {
     "name": "stdout",
     "output_type": "stream",
     "text": [
      "    \"latitude\": \"37.415460\",\r\n",
      "    \"longitude\": \"-122.201180\",\r\n",
      "    \"address\": \"2575 Sand Hill Rd., Menlo Park, CA\",\r\n"
     ]
    }
   ],
   "source": [
    "!gridlabd -I -w example.glm -o /tmp/example.json\n",
    "!gridlabd json-get objects Building_53 </tmp/example.json | awk '/latitude|longitude|address/{print$0;}'"
   ]
  },
  {
   "cell_type": "markdown",
   "id": "d417d2a4",
   "metadata": {},
   "source": [
    "# Example 2\n",
    "The following example illustrates using pipes to chain merge commands. In this case, the elevation data is generated at 25 meter resolution along the path, and the result is passed to the distance calculation which fills in the relative distance from the points in the original dataset."
   ]
  },
  {
   "cell_type": "code",
   "execution_count": 79,
   "id": "649f8ab3",
   "metadata": {
    "scrolled": false
   },
   "outputs": [
    {
     "name": "stdout",
     "output_type": "stream",
     "text": [
      "      position  latitude  longitude configuration  pole_height  distance  heading  elevation\r\n",
      "id                                                                                          \r\n",
      "0.0          0  37.41505 -122.20565         flat3         18.0       0.0      NaN       88.0\r\n",
      "NaN        250  37.41471 -122.20845           NaN          NaN     250.0    263.0      100.0\r\n",
      "1.0        254  37.41470 -122.20849         sideT         20.0       0.0    263.0      100.0\r\n",
      "2.0        428  37.41445 -122.21044         sideT         21.0       0.0    262.7      111.0\r\n",
      "3.0        595  37.41422 -122.21231         sideT         18.0       0.0    263.0      110.0\r\n",
      "4.0        771  37.41398 -122.21427         sideT         20.0       0.0    263.0       98.0\r\n",
      "5.0        976  37.41370 -122.21657         sideT         18.0       0.0    263.1       91.0\r\n",
      "6.0       1128  37.41348 -122.21827         sideT         21.0       0.0    262.6       77.0\r\n",
      "7.0       1326  37.41321 -122.22048         sideT         18.0       0.0    263.0       91.0\r\n",
      "8.0       1490  37.41298 -122.22232         sideT         16.0       0.0    262.9       80.0\r\n",
      "9.0       1690  37.41271 -122.22456         sideT         21.0       0.0    263.1       79.0\r\n",
      "NaN       1940  37.41236 -122.22736           NaN          NaN     250.0    262.9       96.0\r\n",
      "10.0      1941  37.41236 -122.22736         sideT         18.0       0.0    262.9       96.0\r\n",
      "11.0      2123  37.41211 -122.22940         sideT         19.0       0.0    263.0       82.0\r\n",
      "12.0      2341  37.41181 -122.23184         3pole         15.0       0.0    263.0      103.0\r\n",
      "NaN       2591  37.41058 -122.23421           NaN          NaN     250.0    242.5       83.0\r\n",
      "13.0      2718  37.40995 -122.23541         3pole         16.0       0.0    242.5      129.0\r\n",
      "14.0      2941  37.40912 -122.23771         2pole         15.0       0.0    250.2      109.0\r\n",
      "NaN       3191  37.40818 -122.24028           NaN          NaN     250.0    249.9       89.0\r\n",
      "15.0      3268  37.40789 -122.24107         2pole         17.0       0.0    249.9      108.0\r\n",
      "16.0      3466  37.40715 -122.24311         2pole         15.0       0.0    250.1      115.0\r\n",
      "17.0      3653  37.40644 -122.24503         3pole         17.0       0.0    249.7      124.0\r\n",
      "18.0      3759  37.40562 -122.24443         vert3         17.0       0.0    143.8      127.0\r\n",
      "19.0      3878  37.40456 -122.24418         vert3         20.0       0.0    166.7      123.0\r\n",
      "20.0      4009  37.40339 -122.24429         vert3         20.0       0.0    185.4      117.0\r\n",
      "21.0      4115  37.40249 -122.24468         vert3         20.0       0.0    203.4      110.0\r\n",
      "22.0      4267  37.40136 -122.24566         vert3         22.0       0.0    220.9      106.0\r\n",
      "NaN       4517  37.40032 -122.24817           NaN          NaN     250.0    247.6      106.0\r\n",
      "23.0      4627  37.39987 -122.24927         3pole         16.0       0.0    247.6      116.0\r\n",
      "24.0      4793  37.39966 -122.25113         2pole         18.0       0.0    263.6      167.0\r\n",
      "NaN       5043  37.39950 -122.25395           NaN          NaN     250.0    266.8      206.0\r\n",
      "25.0      5248  37.39937 -122.25627         2pole         22.0       0.0    266.8      267.0\r\n",
      "26.0      5397  37.39928 -122.25795         3pole         15.0       0.0    266.9      285.0\r\n",
      "NaN       5647  37.39908 -122.26077           NaN          NaN     250.0    266.0      205.0\r\n",
      "NaN       5897  37.39888 -122.26359           NaN          NaN     500.0    266.0      308.0\r\n",
      "27.0      5977  37.39882 -122.26449         3pole         18.0       0.0    266.0      331.0\r\n",
      "28.0      6119  37.39871 -122.26610         2pole         15.0       0.0    266.1      352.0\r\n",
      "29.0      6250  37.39861 -122.26757         3pole         18.0       0.0    266.1      341.0\r\n",
      "NaN       6500  37.39667 -122.26901           NaN          NaN     250.0    216.5      343.0\r\n",
      "NaN       6750  37.39473 -122.27044           NaN          NaN     500.0    216.5      439.0\r\n",
      "30.0      6783  37.39448 -122.27063         3pole         21.0       0.0    216.5      444.0\r\n",
      "31.0      6971  37.39306 -122.27180         3pole         21.0       0.0    219.5      448.0\r\n",
      "32.0      7215  37.39248 -122.27446         2pole         17.0       0.0    257.7      505.0\r\n",
      "33.0      7463  37.39190 -122.27717         2pole         21.0       0.0    257.9      578.0\r\n",
      "34.0      7593  37.39161 -122.27860         2pole         23.0       0.0    258.5      615.0\r\n",
      "35.0      7840  37.39171 -122.28139         3pole         16.0       0.0    272.1      642.0\r\n",
      "NaN       8090  37.39048 -122.28376           NaN          NaN     250.0    242.6      548.0\r\n",
      "NaN       8340  37.38926 -122.28613           NaN          NaN     500.0    242.6      544.0\r\n",
      "36.0      8583  37.38806 -122.28844         tower         23.0       0.0    242.6      634.0\r\n"
     ]
    }
   ],
   "source": [
    "!gridlabd geodata merge -D elevation path_example.csv -r 250 \\\n",
    "| gridlabd geodata merge -D distance -f TABLE --relative --table.width=999 --table.max_rows=999"
   ]
  },
  {
   "cell_type": "markdown",
   "id": "4f1d73ef",
   "metadata": {},
   "source": [
    "# Example 3\n",
    "Ths following example illustrates merging elevation, vegetation, and powerline data."
   ]
  },
  {
   "cell_type": "code",
   "execution_count": 80,
   "id": "3378b12e",
   "metadata": {
    "scrolled": false
   },
   "outputs": [
    {
     "name": "stdout",
     "output_type": "stream",
     "text": [
      "       latitude  longitude  pole_height  elevation  linesag  cover  height  contact\r\n",
      "id                                                                                 \r\n",
      "0.000  37.41505 -122.20565         18.0       88.0     18.0   0.68    14.0     0.00\r\n",
      "0.003  37.41501 -122.20599          NaN       89.0     14.5   0.73    16.0     0.73\r\n",
      "0.007  37.41497 -122.20632          NaN       89.0     13.2   0.74    16.0     0.74\r\n",
      "0.010  37.41493 -122.20666          NaN       90.0     12.0   0.72    17.0     0.72\r\n",
      "0.014  37.41488 -122.20699          NaN       91.0     11.8   0.56    17.0     0.56\r\n",
      "0.017  37.41484 -122.20733          NaN       92.0     12.8   0.30    17.0     0.30\r\n",
      "0.021  37.41480 -122.20766          NaN       93.0     14.8   0.14    16.0     0.14\r\n",
      "0.024  37.41476 -122.20800          NaN       95.0     17.0   0.07    10.0     0.00\r\n",
      "0.028  37.41472 -122.20834          NaN       98.0     19.3   0.09     1.0     0.00\r\n",
      "0.030  37.41470 -122.20849         20.0      100.0     20.0   0.09     1.0     0.00\r\n",
      "0.033  37.41466 -122.20883          NaN      103.0     15.9   0.14     1.0     0.00\r\n",
      "0.037  37.41461 -122.20916          NaN       99.0     20.1   0.16     1.0     0.00\r\n",
      "0.040  37.41457 -122.20950          NaN       98.0     22.7   0.14     1.0     0.00\r\n",
      "0.044  37.41453 -122.20983          NaN      103.0     20.5   0.11     0.0     0.00\r\n",
      "0.047  37.41449 -122.21017          NaN      110.0     17.7   0.33     1.0     0.00\r\n",
      "0.050  37.41445 -122.21044         21.0      111.0     21.0   0.31     1.0     0.00\r\n",
      "0.053  37.41441 -122.21078          NaN      111.0     17.2   0.30     1.0     0.00\r\n",
      "0.057  37.41437 -122.21111          NaN      113.0     12.8   0.33     1.0     0.00\r\n",
      "0.060  37.41433 -122.21145          NaN      115.0      9.7   0.40     1.0     0.00\r\n",
      "0.064  37.41428 -122.21178          NaN      114.0     10.9   0.44     1.0     0.00\r\n",
      "0.067  37.41424 -122.21212          NaN      111.0     15.5   0.51     1.0     0.00\r\n",
      "0.069  37.41422 -122.21231         18.0      110.0     18.0   0.51     1.0     0.00\r\n",
      "0.073  37.41418 -122.21265          NaN      108.0     15.1   0.69     6.0     0.00\r\n",
      "0.076  37.41414 -122.21298          NaN      107.0     12.6   0.72    13.0     0.72\r\n",
      "0.080  37.41410 -122.21332          NaN      105.0     12.3   0.66    15.0     0.66\r\n",
      "0.083  37.41406 -122.21365          NaN      104.0     12.3   0.62    15.0     0.62\r\n",
      "0.087  37.41401 -122.21399          NaN      101.0     15.7   0.65    16.0     0.65\r\n",
      "0.090  37.41398 -122.21427         20.0       98.0     20.0   0.68    17.0     0.00\r\n",
      "0.093  37.41394 -122.21461          NaN       96.0     17.1   0.65    18.0     0.65\r\n",
      "0.097  37.41390 -122.21494          NaN       94.0     15.5   0.52    19.0     0.52\r\n",
      "0.100  37.41386 -122.21528          NaN       92.0     15.1   0.38    15.0     0.38\r\n",
      "0.104  37.41382 -122.21561          NaN       91.0     14.8   0.20     9.0     0.00\r\n",
      "0.107  37.41378 -122.21595          NaN       89.0     16.8   0.10     4.0     0.00\r\n",
      "0.111  37.41373 -122.21628          NaN       90.0     17.0   0.07     2.0     0.00\r\n",
      "0.114  37.41370 -122.21657         18.0       91.0     18.0   0.06     1.0     0.00\r\n",
      "0.117  37.41366 -122.21691          NaN       90.0     13.9   0.06     0.0     0.00\r\n",
      "0.121  37.41361 -122.21724          NaN       87.0     13.3   0.10     0.0     0.00\r\n",
      "0.124  37.41357 -122.21758          NaN       83.0     15.1   0.11     1.0     0.00\r\n",
      "0.128  37.41353 -122.21791          NaN       80.0     17.3   0.29     3.0     0.00\r\n",
      "0.131  37.41348 -122.21825          NaN       77.0     20.9   0.50     4.0     0.00\r\n",
      "0.131  37.41348 -122.21827         21.0       77.0     21.0   0.50     4.0     0.00\r\n",
      "0.135  37.41344 -122.21861          NaN       76.0     20.2   0.67     7.0     0.00\r\n",
      "0.138  37.41340 -122.21894          NaN       79.0     16.7   0.71    10.0     0.00\r\n",
      "0.142  37.41336 -122.21928          NaN       82.0     14.4   0.67    13.0     0.67\r\n",
      "0.145  37.41332 -122.21961          NaN       85.0     13.3   0.59    15.0     0.59\r\n",
      "0.149  37.41327 -122.21995          NaN       89.0     12.5   0.54    16.0     0.54\r\n",
      "0.152  37.41323 -122.22028          NaN       91.0     14.8   0.60    16.0     0.60\r\n",
      "0.154  37.41321 -122.22048         18.0       91.0     18.0   0.68    16.0     0.00\r\n",
      "0.158  37.41317 -122.22082          NaN       92.0     11.6   0.73    16.0     0.73\r\n",
      "0.161  37.41313 -122.22115          NaN       89.0     10.6   0.74    17.0     0.74\r\n",
      "0.165  37.41308 -122.22149          NaN       84.0     12.8   0.71    17.0     0.71\r\n",
      "0.168  37.41304 -122.22182          NaN       82.0     13.5   0.70    15.0     0.70\r\n",
      "0.172  37.41300 -122.22216          NaN       81.0     14.5   0.68    13.0     0.68\r\n",
      "0.174  37.41298 -122.22232         16.0       80.0     16.0   0.62    12.0     0.00\r\n",
      "0.177  37.41294 -122.22266          NaN       78.0     15.1   0.57    11.0     0.00\r\n",
      "0.181  37.41290 -122.22299          NaN       77.0     14.5   0.42     9.0     0.00\r\n",
      "0.184  37.41286 -122.22333          NaN       73.0     18.0   0.25     5.0     0.00\r\n",
      "0.188  37.41282 -122.22366          NaN       74.0     17.8   0.12     3.0     0.00\r\n",
      "0.191  37.41278 -122.22400          NaN       78.0     15.9   0.08     1.0     0.00\r\n",
      "0.195  37.41274 -122.22433          NaN       79.0     18.1   0.06     1.0     0.00\r\n",
      "0.197  37.41271 -122.22456         21.0       79.0     21.0   0.04     1.0     0.00\r\n",
      "0.200  37.41267 -122.22490          NaN       79.0     18.6   0.02     0.0     0.00\r\n",
      "0.204  37.41263 -122.22523          NaN       78.0     18.4   0.00     0.0     0.00\r\n",
      "0.207  37.41258 -122.22557          NaN       74.0     22.2   0.01     0.0     0.00\r\n",
      "0.211  37.41254 -122.22590          NaN       74.0     23.1   0.02     0.0     0.00\r\n",
      "0.214  37.41250 -122.22624          NaN       79.0     20.2   0.06     1.0     0.00\r\n",
      "0.218  37.41246 -122.22657          NaN       86.0     16.3   0.10     1.0     0.00\r\n",
      "0.221  37.41242 -122.22691          NaN       93.0     13.6   0.19     2.0     0.00\r\n",
      "0.225  37.41237 -122.22724          NaN       95.0     16.9   0.29     4.0     0.00\r\n",
      "0.226  37.41236 -122.22736         18.0       96.0     18.0   0.29     4.0     0.00\r\n",
      "0.230  37.41232 -122.22770          NaN       95.0     13.6   0.34     2.0     0.00\r\n",
      "0.233  37.41228 -122.22803          NaN       92.0     12.5   0.41     3.0     0.00\r\n",
      "0.237  37.41224 -122.22837          NaN       87.0     14.6   0.37     4.0     0.00\r\n",
      "0.240  37.41220 -122.22870          NaN       82.0     18.1   0.26     4.0     0.00\r\n",
      "0.244  37.41215 -122.22904          NaN       83.0     16.8   0.09     2.0     0.00\r\n",
      "0.247  37.41211 -122.22937          NaN       82.0     18.9   0.07     2.0     0.00\r\n",
      "0.247  37.41211 -122.22940         19.0       82.0     19.0   0.07     2.0     0.00\r\n",
      "0.251  37.41207 -122.22974          NaN       82.0     17.6   0.05     1.0     0.00\r\n",
      "0.254  37.41203 -122.23007          NaN       83.0     16.5   0.07     3.0     0.00\r\n",
      "0.258  37.41199 -122.23041          NaN       84.0     16.5   0.10     3.0     0.00\r\n",
      "0.261  37.41194 -122.23074          NaN       85.0     17.6   0.13     4.0     0.00\r\n",
      "0.265  37.41190 -122.23108          NaN       89.0     17.1   0.12     4.0     0.00\r\n",
      "0.268  37.41186 -122.23141          NaN       99.0     11.5   0.11     4.0     0.00\r\n",
      "0.272  37.41182 -122.23175          NaN      103.0     13.3   0.13     2.0     0.00\r\n",
      "0.273  37.41181 -122.23184         15.0      103.0     15.0   0.15     1.0     0.00\r\n",
      "0.276  37.41166 -122.23212          NaN      102.0     12.9   0.07     1.0     0.00\r\n",
      "0.280  37.41151 -122.23241          NaN       96.0     16.7   0.08     1.0     0.00\r\n",
      "0.283  37.41137 -122.23269          NaN       94.0     17.4   0.04     1.0     0.00\r\n",
      "0.287  37.41122 -122.23298          NaN       95.0     16.0   0.04     0.0     0.00\r\n",
      "0.290  37.41107 -122.23326          NaN       97.0     14.5   0.04     1.0     0.00\r\n",
      "0.294  37.41092 -122.23354          NaN       96.0     17.0   0.04     1.0     0.00\r\n",
      "0.297  37.41077 -122.23383          NaN       92.0     23.4   0.14     4.0     0.00\r\n",
      "0.301  37.41063 -122.23411          NaN       85.0     33.5   0.18     5.0     0.00\r\n",
      "0.304  37.41048 -122.23440          NaN       81.0     41.8   0.49     9.0     0.00\r\n",
      "0.308  37.41033 -122.23468          NaN       92.0     35.8   0.47     8.0     0.00\r\n",
      "0.311  37.41018 -122.23496          NaN      109.0     24.8   0.48     6.0     0.00\r\n",
      "0.315  37.41003 -122.23525          NaN      126.0     14.9   0.40     6.0     0.00\r\n",
      "0.317  37.40995 -122.23541         16.0      129.0     16.0   0.40     6.0     0.00\r\n",
      "0.320  37.40984 -122.23572          NaN      127.0     11.5   0.18     2.0     0.00\r\n",
      "0.324  37.40973 -122.23603          NaN      119.0     14.1   0.10     2.0     0.00\r\n",
      "0.327  37.40962 -122.23634          NaN      110.0     18.8   0.08     1.0     0.00\r\n",
      "0.331  37.40950 -122.23665          NaN      105.0     20.7   0.09     1.0     0.00\r\n",
      "0.334  37.40939 -122.23696          NaN      104.0     19.8   0.14     1.0     0.00\r\n",
      "0.338  37.40928 -122.23727          NaN      103.0     20.0   0.28     2.0     0.00\r\n",
      "0.341  37.40917 -122.23757          NaN      107.0     16.4   0.26     2.0     0.00\r\n",
      "0.343  37.40912 -122.23771         15.0      109.0     15.0   0.42     5.0     0.00\r\n",
      "0.346  37.40901 -122.23802          NaN      107.0     12.3   0.53     6.0     0.00\r\n",
      "0.350  37.40889 -122.23833          NaN       98.0     17.5   0.28     5.0     0.00\r\n",
      "0.353  37.40878 -122.23864          NaN       89.0     23.7   0.32     7.0     0.00\r\n",
      "0.357  37.40867 -122.23894          NaN       87.0     24.0   0.42    11.0     0.00\r\n",
      "0.360  37.40856 -122.23925          NaN       86.0     24.1   0.30    11.0     0.00\r\n",
      "0.364  37.40844 -122.23956          NaN       85.0     25.3   0.26     9.0     0.00\r\n",
      "0.367  37.40833 -122.23987          NaN       87.0     24.4   0.16     7.0     0.00\r\n",
      "0.371  37.40822 -122.24018          NaN       88.0     25.5   0.15     4.0     0.00\r\n",
      "0.374  37.40810 -122.24049          NaN       97.0     19.6   0.16     2.0     0.00\r\n",
      "0.378  37.40799 -122.24079          NaN      105.0     15.5   0.19     1.0     0.00\r\n",
      "0.381  37.40789 -122.24107         17.0      108.0     17.0   0.14     1.0     0.00\r\n",
      "0.384  37.40778 -122.24138          NaN      109.0     13.3   0.09     1.0     0.00\r\n",
      "0.388  37.40767 -122.24169          NaN      109.0     11.8   0.09     1.0     0.00\r\n",
      "0.391  37.40755 -122.24200          NaN      111.0      9.6   0.11     1.0     0.00\r\n",
      "0.395  37.40744 -122.24231          NaN      111.0     10.6   0.17     1.0     0.00\r\n",
      "0.398  37.40733 -122.24261          NaN      113.0     10.8   0.28     1.0     0.00\r\n",
      "0.402  37.40722 -122.24292          NaN      115.0     12.3   0.32     1.0     0.00\r\n",
      "0.404  37.40715 -122.24311         15.0      115.0     15.0   0.32     1.0     0.00\r\n",
      "0.407  37.40704 -122.24342          NaN      115.0     13.4   0.32     1.0     0.00\r\n",
      "0.411  37.40692 -122.24373          NaN      117.0     11.2   0.33     1.0     0.00\r\n",
      "0.414  37.40681 -122.24403          NaN      119.0     10.1   0.22     1.0     0.00\r\n",
      "0.418  37.40669 -122.24434          NaN      120.0     11.4   0.16     1.0     0.00\r\n",
      "0.421  37.40658 -122.24465          NaN      123.0     11.9   0.09     1.0     0.00\r\n",
      "0.425  37.40647 -122.24496          NaN      124.0     15.7   0.09     1.0     0.00\r\n",
      "0.426  37.40644 -122.24503         17.0      124.0     17.0   0.09     1.0     0.00\r\n",
      "0.429  37.40621 -122.24486          NaN      127.0     12.7   0.09     1.0     0.00\r\n",
      "0.433  37.40597 -122.24469          NaN      128.0     12.1   0.15     1.0     0.00\r\n",
      "0.436  37.40574 -122.24452          NaN      127.0     15.2   0.12     1.0     0.00\r\n",
      "0.438  37.40562 -122.24443         17.0      127.0     17.0   0.12     1.0     0.00\r\n",
      "0.441  37.40535 -122.24437          NaN      126.0     15.3   0.08     2.0     0.00\r\n",
      "0.445  37.40509 -122.24430          NaN      124.0     16.3   0.08     2.0     0.00\r\n",
      "0.448  37.40482 -122.24424          NaN      123.0     17.9   0.11     2.0     0.00\r\n",
      "0.452  37.40456 -122.24418         20.0      123.0     20.0   0.11     2.0     0.00\r\n",
      "0.455  37.40429 -122.24421          NaN      122.0     17.1   0.15     2.0     0.00\r\n",
      "0.459  37.40402 -122.24423          NaN      120.0     16.7   0.15     2.0     0.00\r\n",
      "0.462  37.40375 -122.24426          NaN      118.0     17.8   0.23     3.0     0.00\r\n",
      "0.466  37.40348 -122.24428          NaN      117.0     19.4   0.31     4.0     0.00\r\n",
      "0.467  37.40339 -122.24429         20.0      117.0     20.0   0.31     3.0     0.00\r\n",
      "0.471  37.40313 -122.24440          NaN      116.0     16.8   0.31     3.0     0.00\r\n",
      "0.474  37.40288 -122.24451          NaN      115.0     15.4   0.22     1.0     0.00\r\n",
      "0.478  37.40262 -122.24462          NaN      111.0     18.7   0.16     1.0     0.00\r\n",
      "0.479  37.40249 -122.24468         20.0      110.0     20.0   0.16     1.0     0.00\r\n",
      "0.483  37.40227 -122.24487          NaN      108.0     18.8   0.09     2.0     0.00\r\n",
      "0.486  37.40205 -122.24507          NaN      108.0     16.9   0.08     1.0     0.00\r\n",
      "0.490  37.40182 -122.24526          NaN      108.0     16.4   0.09     1.0     0.00\r\n",
      "0.493  37.40160 -122.24545          NaN      107.0     18.4   0.10     1.0     0.00\r\n",
      "0.497  37.40138 -122.24564          NaN      106.0     21.7   0.15     1.0     0.00\r\n",
      "0.497  37.40136 -122.24566         22.0      106.0     22.0   0.15     1.0     0.00\r\n",
      "0.501  37.40124 -122.24596          NaN      106.0     17.3   0.16     1.0     0.00\r\n",
      "0.504  37.40111 -122.24626          NaN      106.0     13.4   0.18     1.0     0.00\r\n",
      "0.508  37.40099 -122.24656          NaN      106.0     10.5   0.15     1.0     0.00\r\n",
      "0.511  37.40086 -122.24687          NaN      106.0      8.5   0.20     1.0     0.00\r\n",
      "0.515  37.40074 -122.24717          NaN      106.0      7.4   0.21     1.0     0.00\r\n",
      "0.518  37.40061 -122.24747          NaN      106.0      7.3   0.28     2.0     0.00\r\n",
      "0.522  37.40049 -122.24777          NaN      106.0      8.1   0.37     3.0     0.00\r\n",
      "0.525  37.40036 -122.24807          NaN      106.0      9.9   0.49     4.0     0.00\r\n",
      "0.529  37.40024 -122.24837          NaN      106.0     12.5   0.54     4.0     0.00\r\n",
      "0.532  37.40012 -122.24867          NaN      108.0     14.1   0.59     5.0     0.00\r\n",
      "0.536  37.39999 -122.24898          NaN      110.0     16.8   0.35    10.0     0.00\r\n",
      "0.539  37.39987 -122.24927         16.0      116.0     16.0   0.36    11.0     0.00\r\n",
      "0.543  37.39983 -122.24961          NaN      123.0     10.5   0.39    10.0     0.39\r\n",
      "0.546  37.39979 -122.24994          NaN      134.0      4.5   0.43    10.0     0.43\r\n",
      "0.550  37.39976 -122.25028          NaN      146.0      1.3   0.47     9.0     0.47\r\n",
      "0.553  37.39972 -122.25061          NaN      156.0      3.6   0.49     8.0     0.49\r\n",
      "0.557  37.39968 -122.25095          NaN      164.0     12.3   0.51     7.0     0.00\r\n",
      "0.558  37.39966 -122.25113         18.0      167.0     18.0   0.51     7.0     0.00\r\n",
      "0.562  37.39964 -122.25147          NaN      166.0     19.0   0.49     6.0     0.00\r\n",
      "0.565  37.39962 -122.25181          NaN      163.0     23.1   0.46     5.0     0.00\r\n",
      "0.569  37.39960 -122.25215          NaN      166.0     22.0   0.43     5.0     0.00\r\n",
      "0.572  37.39958 -122.25249          NaN      171.0     20.0   0.47     7.0     0.00\r\n",
      "0.576  37.39956 -122.25282          NaN      178.0     16.8   0.52     7.0     0.00\r\n",
      "0.579  37.39955 -122.25316          NaN      186.0     13.7   0.55     7.0     0.00\r\n",
      "0.583  37.39953 -122.25350          NaN      194.0     11.5   0.59     7.0     0.00\r\n",
      "0.586  37.39951 -122.25384          NaN      203.0      9.4   0.65     8.0     0.65\r\n",
      "0.590  37.39949 -122.25418          NaN      210.0     10.2   0.71     9.0     0.71\r\n",
      "0.593  37.39947 -122.25452          NaN      219.0     10.1   0.73    11.0     0.73\r\n",
      "0.597  37.39945 -122.25486          NaN      227.0     12.0   0.69    10.0     0.00\r\n",
      "0.600  37.39943 -122.25520          NaN      233.0     16.8   0.60     9.0     0.00\r\n",
      "0.604  37.39941 -122.25553          NaN      244.0     17.4   0.54     6.0     0.00\r\n",
      "0.607  37.39939 -122.25587          NaN      256.0     18.4   0.42     6.0     0.00\r\n",
      "0.611  37.39937 -122.25621          NaN      265.0     23.4   0.31     8.0     0.00\r\n",
      "0.611  37.39937 -122.25627         22.0      267.0     22.0   0.31     8.0     0.00\r\n",
      "0.615  37.39935 -122.25661          NaN      274.0     14.4   0.29     9.0     0.00\r\n",
      "0.618  37.39933 -122.25695          NaN      281.0      8.2   0.31     9.0     0.31\r\n",
      "0.622  37.39932 -122.25729          NaN      284.0      7.5   0.32    10.0     0.32\r\n",
      "0.625  37.39930 -122.25763          NaN      284.0     11.2   0.30    11.0     0.30\r\n",
      "0.629  37.39928 -122.25795         15.0      285.0     15.0   0.27    11.0     0.00\r\n",
      "0.632  37.39926 -122.25829          NaN      283.0     12.8   0.26    10.0     0.00\r\n",
      "0.636  37.39923 -122.25863          NaN      274.0     18.3   0.24    10.0     0.00\r\n",
      "0.639  37.39921 -122.25896          NaN      262.0     27.7   0.24    12.0     0.00\r\n",
      "0.643  37.39918 -122.25930          NaN      248.0     39.6   0.25    10.0     0.00\r\n",
      "0.646  37.39916 -122.25964          NaN      235.0     51.4   0.26     8.0     0.00\r\n",
      "0.650  37.39914 -122.25998          NaN      222.0     63.9   0.29     6.0     0.00\r\n",
      "0.653  37.39911 -122.26032          NaN      213.0     73.1   0.34     5.0     0.00\r\n",
      "0.657  37.39909 -122.26066          NaN      207.0     80.0   0.38     7.0     0.00\r\n",
      "0.660  37.39907 -122.26099          NaN      203.0     85.7   0.40    17.0     0.00\r\n",
      "0.664  37.39904 -122.26133          NaN      205.0     86.1   0.41    21.0     0.00\r\n",
      "0.667  37.39902 -122.26167          NaN      224.0     70.2   0.46    22.0     0.00\r\n",
      "0.671  37.39899 -122.26201          NaN      247.0     51.2   0.54    21.0     0.00\r\n",
      "0.674  37.39897 -122.26235          NaN      262.0     40.8   0.66    21.0     0.00\r\n",
      "0.678  37.39895 -122.26269          NaN      274.0     34.2   0.70    20.0     0.00\r\n",
      "0.681  37.39892 -122.26302          NaN      285.0     29.2   0.73    17.0     0.00\r\n",
      "0.685  37.39890 -122.26336          NaN      296.0     25.1   0.76    16.0     0.00\r\n",
      "0.688  37.39888 -122.26370          NaN      312.0     16.8   0.80    16.0     0.80\r\n",
      "0.692  37.39885 -122.26404          NaN      322.0     15.2   0.82    19.0     0.82\r\n",
      "0.695  37.39883 -122.26438          NaN      328.0     18.4   0.79    21.0     0.79\r\n",
      "0.696  37.39882 -122.26449         18.0      331.0     18.0   0.79    21.0     0.79\r\n",
      "0.700  37.39880 -122.26483          NaN      339.0     10.2   0.68    19.0     0.68\r\n",
      "0.703  37.39877 -122.26517          NaN      346.0      5.4   0.64    16.0     0.64\r\n",
      "0.707  37.39875 -122.26551          NaN      350.0      5.4   0.58    12.0     0.58\r\n",
      "0.710  37.39873 -122.26584          NaN      352.0      9.2   0.53    11.0     0.53\r\n",
      "0.713  37.39871 -122.26610         15.0      352.0     15.0   0.52    12.0     0.00\r\n",
      "0.716  37.39869 -122.26644          NaN      352.0     10.6   0.55    13.0     0.55\r\n",
      "0.720  37.39866 -122.26678          NaN      351.0      8.7   0.59    15.0     0.59\r\n",
      "0.723  37.39864 -122.26712          NaN      348.0     10.4   0.60    15.0     0.60\r\n",
      "0.727  37.39862 -122.26745          NaN      343.0     15.6   0.60    14.0     0.60\r\n",
      "0.728  37.39861 -122.26757         18.0      341.0     18.0   0.60    14.0     0.00\r\n",
      "0.732  37.39838 -122.26774          NaN      323.0     35.5   0.57    10.0     0.00\r\n",
      "0.735  37.39814 -122.26791          NaN      309.0     49.9   0.48     8.0     0.00\r\n",
      "0.739  37.39791 -122.26809          NaN      300.0     60.0   0.48     8.0     0.00\r\n",
      "0.742  37.39768 -122.26826          NaN      299.0     62.8   0.47     8.0     0.00\r\n",
      "0.746  37.39745 -122.26843          NaN      305.0     59.4   0.53     7.0     0.00\r\n",
      "0.749  37.39721 -122.26860          NaN      317.0     50.8   0.68    13.0     0.00\r\n",
      "0.753  37.39698 -122.26878          NaN      327.0     45.0   0.68    13.0     0.00\r\n",
      "0.756  37.39675 -122.26895          NaN      339.0     37.9   0.80    18.0     0.00\r\n",
      "0.760  37.39652 -122.26912          NaN      351.0     31.5   0.79    11.0     0.00\r\n",
      "0.763  37.39628 -122.26929          NaN      361.0     28.2   0.65     6.0     0.00\r\n",
      "0.767  37.39605 -122.26946          NaN      372.0     24.4   0.60     8.0     0.00\r\n",
      "0.770  37.39582 -122.26964          NaN      383.0     21.5   0.44     5.0     0.00\r\n",
      "0.774  37.39559 -122.26981          NaN      395.0     18.2   0.40     9.0     0.00\r\n",
      "0.777  37.39535 -122.26998          NaN      408.0     15.1   0.44     9.0     0.00\r\n",
      "0.781  37.39512 -122.27015          NaN      421.0     12.4   0.41    11.0     0.41\r\n",
      "0.784  37.39489 -122.27033          NaN      432.0     12.8   0.45     8.0     0.00\r\n",
      "0.788  37.39466 -122.27050          NaN      441.0     15.7   0.45     4.0     0.00\r\n",
      "0.790  37.39448 -122.27063         21.0      444.0     21.0   0.45     4.0     0.00\r\n",
      "0.794  37.39425 -122.27082          NaN      446.0     16.3   0.48     3.0     0.00\r\n",
      "0.797  37.39403 -122.27100          NaN      445.0     15.9   0.52     5.0     0.00\r\n",
      "0.801  37.39380 -122.27119          NaN      446.0     14.7   0.56    11.0     0.00\r\n",
      "0.804  37.39358 -122.27137          NaN      447.0     14.7   0.55    11.0     0.00\r\n",
      "0.808  37.39335 -122.27156          NaN      448.0     16.1   0.68    22.0     0.68\r\n",
      "0.811  37.39313 -122.27175          NaN      448.0     19.7   0.79    27.0     0.79\r\n",
      "0.812  37.39306 -122.27180         21.0      448.0     21.0   0.79    27.0     0.79\r\n",
      "0.816  37.39299 -122.27213          NaN      450.0     19.4   0.77    26.0     0.77\r\n",
      "0.819  37.39292 -122.27245          NaN      451.0     20.5   0.79    25.0     0.79\r\n",
      "0.823  37.39285 -122.27278          NaN      458.0     17.3   0.81    30.0     0.81\r\n",
      "0.826  37.39277 -122.27311          NaN      466.0     15.0   0.83    33.0     0.83\r\n",
      "0.830  37.39270 -122.27344          NaN      477.0     11.4   0.85    35.0     0.85\r\n",
      "0.833  37.39263 -122.27376          NaN      489.0      8.3   0.86    33.0     0.86\r\n",
      "0.837  37.39256 -122.27409          NaN      498.0     10.3   0.85    29.0     0.85\r\n",
      "0.840  37.39249 -122.27442          NaN      504.0     17.2   0.81    25.0     0.81\r\n",
      "0.841  37.39248 -122.27446         17.0      505.0     17.0   0.81    25.0     0.81\r\n",
      "0.844  37.39241 -122.27479          NaN      499.0     23.8   0.76    21.0     0.00\r\n",
      "0.848  37.39234 -122.27512          NaN      500.0     26.1   0.73    19.0     0.00\r\n",
      "0.851  37.39227 -122.27544          NaN      514.0     17.5   0.73    18.0     0.73\r\n",
      "0.855  37.39220 -122.27577          NaN      529.0     10.4   0.75    19.0     0.75\r\n",
      "0.858  37.39213 -122.27610          NaN      541.0      8.9   0.77    20.0     0.77\r\n",
      "0.862  37.39206 -122.27643          NaN      555.0      7.8   0.79    22.0     0.79\r\n",
      "0.865  37.39199 -122.27676          NaN      566.0     12.4   0.81    23.0     0.81\r\n",
      "0.869  37.39192 -122.27708          NaN      576.0     20.1   0.82    21.0     0.82\r\n",
      "0.870  37.39190 -122.27717         21.0      578.0     21.0   0.84    23.0     0.84\r\n",
      "0.873  37.39183 -122.27750          NaN      586.0     14.8   0.84    24.0     0.84\r\n",
      "0.877  37.39177 -122.27783          NaN      594.0     13.0   0.82    25.0     0.82\r\n",
      "0.880  37.39170 -122.27816          NaN      603.0     14.6   0.81    26.0     0.81\r\n",
      "0.883  37.39163 -122.27849          NaN      613.0     20.0   0.67    20.0     0.67\r\n",
      "0.885  37.39161 -122.27860         23.0      615.0     23.0   0.67    20.0     0.00\r\n",
      "0.888  37.39162 -122.27894          NaN      619.0     17.4   0.67    18.0     0.67\r\n",
      "0.892  37.39163 -122.27928          NaN      620.0     16.0   0.64    15.0     0.64\r\n",
      "0.895  37.39165 -122.27962          NaN      626.0     10.6   0.57    14.0     0.57\r\n",
      "0.899  37.39166 -122.27996          NaN      639.0     -0.6   0.48    12.0     0.48\r\n",
      "0.902  37.39167 -122.28030          NaN      643.0     -1.7   0.54    13.0     0.54\r\n",
      "0.906  37.39168 -122.28064          NaN      643.0      2.3   0.61    15.0     0.61\r\n",
      "0.909  37.39170 -122.28097          NaN      643.0      7.2   0.68    16.0     0.68\r\n",
      "0.913  37.39171 -122.28131          NaN      642.0     14.5   0.72    16.0     0.72\r\n",
      "0.913  37.39171 -122.28139         16.0      642.0     16.0   0.72    16.0     0.72\r\n",
      "0.917  37.39156 -122.28167          NaN      633.0     17.6   0.79    16.0     0.79\r\n",
      "0.920  37.39142 -122.28196          NaN      621.0     22.5   0.79    16.0     0.00\r\n",
      "0.924  37.39127 -122.28224          NaN      608.0     29.1   0.75    17.0     0.00\r\n",
      "0.927  37.39112 -122.28253          NaN      596.0     35.3   0.74    17.0     0.00\r\n",
      "0.931  37.39097 -122.28281          NaN      582.0     44.2   0.76    21.0     0.00\r\n",
      "0.934  37.39083 -122.28310          NaN      564.0     57.7   0.73    21.0     0.00\r\n",
      "0.938  37.39068 -122.28338          NaN      556.0     61.9   0.68    18.0     0.00\r\n",
      "0.941  37.39053 -122.28367          NaN      551.0     63.7   0.64    16.0     0.00\r\n",
      "0.945  37.39038 -122.28395          NaN      542.0     70.2   0.65    14.0     0.00\r\n",
      "0.948  37.39024 -122.28423          NaN      531.0     79.3   0.63    14.0     0.00\r\n",
      "0.952  37.39009 -122.28452          NaN      523.0     86.0   0.63    14.0     0.00\r\n",
      "0.955  37.38994 -122.28480          NaN      522.0     86.4   0.62    14.0     0.00\r\n",
      "0.959  37.38980 -122.28509          NaN      523.0     85.4   0.68    16.0     0.00\r\n",
      "0.962  37.38965 -122.28537          NaN      529.0     80.1   0.68    16.0     0.00\r\n",
      "0.966  37.38950 -122.28566          NaN      537.0     73.4   0.73    22.0     0.00\r\n",
      "0.969  37.38935 -122.28594          NaN      541.0     71.4   0.71    24.0     0.00\r\n",
      "0.973  37.38921 -122.28623          NaN      545.0     70.0   0.68    21.0     0.00\r\n",
      "0.976  37.38906 -122.28651          NaN      552.0     66.2   0.69    26.0     0.00\r\n",
      "0.980  37.38891 -122.28680          NaN      559.0     63.2   0.64    22.0     0.00\r\n",
      "0.983  37.38876 -122.28708          NaN      570.0     56.7   0.65    27.0     0.00\r\n",
      "0.987  37.38862 -122.28736          NaN      583.0     48.7   0.66    25.0     0.00\r\n",
      "0.990  37.38847 -122.28765          NaN      597.0     40.6   0.63    21.0     0.00\r\n",
      "0.994  37.38832 -122.28793          NaN      614.0     30.1   0.64    18.0     0.00\r\n",
      "0.997  37.38817 -122.28822          NaN      627.0     24.4   0.58    12.0     0.00\r\n",
      "1.000  37.38806 -122.28844         23.0      634.0     23.0   0.56     9.0     0.00\r\n"
     ]
    }
   ],
   "source": [
    "!gridlabd geodata merge -D elevation path_example.csv -r 30 --resolution_id \\\n",
    "| gridlabd geodata merge -D vegetation -w | grep -v WARNING \\\n",
    "| gridlabd geodata merge -D powerline --cable_type=\"TACSR/AC 610mm^2\" --margin.vertical=2 -f TABLE:latitude,longitude,pole_height,elevation,linesag,cover,height,contact --table.width=999 --table.max_rows=999"
   ]
  },
  {
   "cell_type": "code",
   "execution_count": null,
   "id": "eae2ff61",
   "metadata": {},
   "outputs": [],
   "source": []
  }
 ],
 "metadata": {
  "kernelspec": {
   "display_name": "Python 3 (ipykernel)",
   "language": "python",
   "name": "python3"
  },
  "language_info": {
   "codemirror_mode": {
    "name": "ipython",
    "version": 3
   },
   "file_extension": ".py",
   "mimetype": "text/x-python",
   "name": "python",
   "nbconvert_exporter": "python",
   "pygments_lexer": "ipython3",
   "version": "3.9.6"
  }
 },
 "nbformat": 4,
 "nbformat_minor": 5
}
