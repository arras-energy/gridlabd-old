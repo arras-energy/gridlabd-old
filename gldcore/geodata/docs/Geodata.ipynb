{
 "cells": [
  {
   "cell_type": "markdown",
   "id": "14632769",
   "metadata": {},
   "source": [
    "# GridLAB-D Geodata Subcommand Tutorial"
   ]
  },
  {
   "cell_type": "markdown",
   "id": "a642f4eb",
   "metadata": {},
   "source": [
    "As of version 4.2.21, HiPAS GridLAB-D supports the handling of geographic data.  This document provides a tutorial for using the `geodata` subcommand in GridLAB-D."
   ]
  },
  {
   "cell_type": "markdown",
   "id": "1386863e",
   "metadata": {},
   "source": [
    "## System Preparation\n",
    "The following command checks that the version of GridLAB-D supports the `geodata` subcommand."
   ]
  },
  {
   "cell_type": "code",
   "execution_count": 1,
   "id": "6aa36791",
   "metadata": {},
   "outputs": [],
   "source": [
    "!gridlabd --version='-ge 4.2.21'"
   ]
  },
  {
   "cell_type": "markdown",
   "id": "62935d32",
   "metadata": {},
   "source": [
    "# General Usage\n",
    "The `geodata` subcommand uses the general syntax `gridlabd geodata OPTIONS DIRECTIVE [ARGUMENTS]`.  "
   ]
  },
  {
   "cell_type": "markdown",
   "id": "d6715881",
   "metadata": {},
   "source": [
    "## Creating location data\n",
    "\n",
    "There are two basic types of geodata entities in GridLAB-D: \n",
    "\n",
    "1. an unordered collection of points each specified by a `latitude,longitude` tuple; and \n",
    "\n",
    "1. an ordered series of waypoints along a path specified by a sequence of `latitude,longitude` tuples.  \n",
    "\n",
    "The interpretation of an entity is left to the dataset processor, but it can be specified using the `location` or `position` keys, for unordered and ordered geodata entities, respectively.  A geodata entity can be converted from one to another by simply changing the key (see **Geodata Indexing** below)."
   ]
  },
  {
   "cell_type": "markdown",
   "id": "7e985c38",
   "metadata": {},
   "source": [
    "The `create` directive is used to create a new geodata entity.  The general syntax is `gridlabd geodata create LOCATIONS ...`.\n",
    "\n",
    "There are two methods of introducing locations.  The first method introduces one or more `latitude,longitude` tuples directly in the command line.  For example, the following command creates a geodata entity with the approximate location of SLAC's main gate."
   ]
  },
  {
   "cell_type": "code",
   "execution_count": 2,
   "id": "899d1d3c",
   "metadata": {},
   "outputs": [
    {
     "name": "stdout",
     "output_type": "stream",
     "text": [
      "id,latitude,longitude\n",
      "0,37.415,-122.2\n"
     ]
    }
   ],
   "source": [
    "!gridlabd geodata create 37.415,-122.20"
   ]
  },
  {
   "cell_type": "markdown",
   "id": "67f749f9",
   "metadata": {},
   "source": [
    "Multiple locations can be introduced by adding them to the command line, for example:"
   ]
  },
  {
   "cell_type": "code",
   "execution_count": 3,
   "id": "2327f5b2",
   "metadata": {},
   "outputs": [
    {
     "name": "stdout",
     "output_type": "stream",
     "text": [
      "id,latitude,longitude\r\n",
      "0,37.41,-122.2\r\n",
      "1,37.42,-122.21\r\n"
     ]
    }
   ],
   "source": [
    "!gridlabd geodata create 37.410,-122.20 37.420,-122.21"
   ]
  },
  {
   "cell_type": "markdown",
   "id": "ac51f88b",
   "metadata": {},
   "source": [
    "The second method uses an input file with locations and associated data, such as this example CSV file:"
   ]
  },
  {
   "cell_type": "code",
   "execution_count": 4,
   "id": "dd3d65b2",
   "metadata": {},
   "outputs": [
    {
     "name": "stdout",
     "output_type": "stream",
     "text": [
      "latitude,longitude,configuration,pole_height\r\n",
      "37.415045141688054,-122.2056472090359,flat3,18.0\r\n",
      "37.414698020593065,-122.20848749028133,sideT,20.0\r\n",
      "37.414454093051745,-122.21044282065421,sideT,21.0\r\n"
     ]
    }
   ],
   "source": [
    "!head -n 4 path_example.csv"
   ]
  },
  {
   "cell_type": "markdown",
   "id": "95af575f",
   "metadata": {},
   "source": [
    "To use this file, the following command can be used:"
   ]
  },
  {
   "cell_type": "code",
   "execution_count": 5,
   "id": "2e960d68",
   "metadata": {},
   "outputs": [
    {
     "name": "stdout",
     "output_type": "stream",
     "text": [
      "id,latitude,longitude,configuration,pole_height\r\n",
      "0,37.41505,-122.20565,flat3,18.0\r\n",
      "1,37.4147,-122.20849,sideT,20.0\r\n",
      "2,37.41445,-122.21044,sideT,21.0\r\n"
     ]
    }
   ],
   "source": [
    "!gridlabd geodata create path_example.csv | head -n 4"
   ]
  },
  {
   "cell_type": "markdown",
   "id": "ef82e913",
   "metadata": {},
   "source": [
    "Note that if multiple locations are provided they are sequenced in the order in which they are presented, including if locations are provided directly on the command line or from data files."
   ]
  },
  {
   "cell_type": "markdown",
   "id": "b6ae5329",
   "metadata": {},
   "source": [
    "If no location information is given, then the geodata is read from `/dev/stdin`, e.g.,"
   ]
  },
  {
   "cell_type": "code",
   "execution_count": 6,
   "id": "b2f6c6ac",
   "metadata": {},
   "outputs": [
    {
     "name": "stdout",
     "output_type": "stream",
     "text": [
      "id,latitude,longitude\r\n",
      "0,37.41505,-122.20565\r\n",
      "1,37.4147,-122.20849\r\n",
      "2,37.41445,-122.21044\r\n"
     ]
    }
   ],
   "source": [
    "!head -n 4 path_example.csv | cut -f1-2 -d, | gridlabd geodata create"
   ]
  },
  {
   "cell_type": "markdown",
   "id": "778b2c0c",
   "metadata": {},
   "source": [
    "Additional fields can be added using an expanded command-line syntax, e.g.,"
   ]
  },
  {
   "cell_type": "code",
   "execution_count": 7,
   "id": "marked-brush",
   "metadata": {},
   "outputs": [
    {
     "name": "stdout",
     "output_type": "stream",
     "text": [
      "id,name,latitude,longitude\r\n",
      "0,obj1,37.4205,-122.2046\r\n",
      "1,obj2,37.5205,-122.3046\r\n"
     ]
    }
   ],
   "source": [
    "!gridlabd geodata create name=obj1+latitude=37.4205+longitude=-122.2046 name=obj2+latitude=37.5205+longitude=-122.3046"
   ]
  },
  {
   "cell_type": "markdown",
   "id": "heard-trial",
   "metadata": {},
   "source": [
    "The default input delimiter is the `+` character.  This can be changed using the `--input_delimiter=STRING` option, e.g.,"
   ]
  },
  {
   "cell_type": "code",
   "execution_count": 8,
   "id": "attended-crown",
   "metadata": {},
   "outputs": [
    {
     "name": "stdout",
     "output_type": "stream",
     "text": [
      "id,name,latitude,longitude\r\n",
      "0,obj1,37.4205,-122.2046\r\n",
      "1,obj2,37.5205,-122.3046\r\n"
     ]
    }
   ],
   "source": [
    "!gridlabd geodata create --input_delimiter=',' 'name=obj1,latitude=37.4205,longitude=-122.2046' 'name=obj2,latitude=37.5205,longitude=-122.3046'"
   ]
  },
  {
   "cell_type": "markdown",
   "id": "constitutional-mustang",
   "metadata": {},
   "source": [
    "Note that the input delimiter must be set *before* it is used, and thus it can be changed as command line data is presented."
   ]
  },
  {
   "cell_type": "markdown",
   "id": "afraid-woman",
   "metadata": {},
   "source": [
    "**Caveat**: The input delimiter can affect how strings are interpreted.  One common problem is setting the input delimiter to any character that is typically found in an address and then attempting to reverse resolve the address using the `address` dataset.  This can result in corrupted addresses being used."
   ]
  },
  {
   "cell_type": "markdown",
   "id": "4e079ba2",
   "metadata": {},
   "source": [
    "## Some useful options"
   ]
  },
  {
   "cell_type": "markdown",
   "id": "8a06b623",
   "metadata": {},
   "source": [
    "The default precision with which latitudes and longitudes are output is 5 decimals, which is approximately 1 meter resolution. You can change the precision with which latitudes and longitudes are output using the `-p` or `--precision` option, e.g.,"
   ]
  },
  {
   "cell_type": "code",
   "execution_count": 9,
   "id": "dfc2dad5",
   "metadata": {},
   "outputs": [
    {
     "name": "stdout",
     "output_type": "stream",
     "text": [
      "id,latitude,longitude\r\n",
      "0,37.41,-122.2\r\n",
      "1,37.42,-122.2\r\n",
      "2,37.42,-122.21\r\n"
     ]
    }
   ],
   "source": [
    "!gridlabd geodata create 37.410,-122.20 37.420,-122.20 37.420,-122.21 -p 4"
   ]
  },
  {
   "cell_type": "markdown",
   "id": "painful-treatment",
   "metadata": {},
   "source": [
    "This option actually changes the `precision.geolocation` option, which can also be set using the direct option set syntax, e.g.,"
   ]
  },
  {
   "cell_type": "code",
   "execution_count": 10,
   "id": "aquatic-custom",
   "metadata": {},
   "outputs": [
    {
     "name": "stdout",
     "output_type": "stream",
     "text": [
      "id,latitude,longitude\r\n",
      "0,37.41,-122.2\r\n",
      "1,37.42,-122.2\r\n",
      "2,37.42,-122.21\r\n"
     ]
    }
   ],
   "source": [
    "!gridlabd geodata create 37.410,-122.20 37.420,-122.20 37.420,-122.21 --precision.geolocation=4"
   ]
  },
  {
   "cell_type": "markdown",
   "id": "4151e4ff",
   "metadata": {},
   "source": [
    "The default field separator for RAW output is a space. You can change this to any string using the `--fieldsep STRING` option, e.g.,"
   ]
  },
  {
   "cell_type": "code",
   "execution_count": 11,
   "id": "8cc11fe8",
   "metadata": {},
   "outputs": [
    {
     "name": "stdout",
     "output_type": "stream",
     "text": [
      "37.41,-122.2\r\n",
      "37.42,-122.2\r\n",
      "37.42,-122.21\r\n"
     ]
    }
   ],
   "source": [
    "!gridlabd geodata create 37.410,-122.20 37.420,-122.20 37.420,-122.21 -f RAW --fieldsep ','"
   ]
  },
  {
   "cell_type": "markdown",
   "id": "transparent-education",
   "metadata": {},
   "source": [
    "This is equivalent to directly setting the field separator option using `--field_separator=','`."
   ]
  },
  {
   "cell_type": "markdown",
   "id": "d7a1743d",
   "metadata": {},
   "source": [
    "Similarly the default record separator for RAW output is a newline. You can change this to any string using the `--recordsep STRING` option, e.g.,"
   ]
  },
  {
   "cell_type": "code",
   "execution_count": 12,
   "id": "4c40d60d",
   "metadata": {},
   "outputs": [
    {
     "name": "stdout",
     "output_type": "stream",
     "text": [
      "37.41,-122.2;37.42,-122.2;37.42,-122.21\r\n"
     ]
    }
   ],
   "source": [
    "!gridlabd geodata create 37.410,-122.20 37.420,-122.20 37.420,-122.21 -f RAW --fieldsep ',' --recordsep ';'"
   ]
  },
  {
   "cell_type": "markdown",
   "id": "emerging-colonial",
   "metadata": {},
   "source": [
    "This is equivalent to directly setting the record separator option using `--record_separator=';'`."
   ]
  },
  {
   "cell_type": "markdown",
   "id": "7ddc35c5",
   "metadata": {},
   "source": [
    "## Configurations\n",
    "There are three locations where configuration settings are maintained: (1) the system shared folder, (2) the user's home folder, and (3) the local folder.  These are consulted in this order so that the system configuration overrides the default configuration, the user configuration override the system, and the local configuration overrides the user configuration.  \n",
    "\n",
    "By default the configuration files are named `geodata.conf`.  The system configuration is stored in `$GLD_ETC/geodata/geodata.conf` folder.  The user configuration is stored in `$HOME/.gridlabd/geodata/geodata.conf` and the local configuration is stored in `$PWD/geodata.conf`. \n",
    "\n",
    "Any additional configuration file name can be consulted using the `-C FILENAME` or `--configfile FILENAME` option."
   ]
  },
  {
   "cell_type": "markdown",
   "id": "703a8ceb",
   "metadata": {},
   "source": [
    "You can manage the current configuration using the `config` directive, e.g., to set the local configuration parameter `name` to `value`, use the `set` option"
   ]
  },
  {
   "cell_type": "code",
   "execution_count": 13,
   "id": "0366bd8e",
   "metadata": {},
   "outputs": [],
   "source": [
    "!gridlabd geodata config set name local_value"
   ]
  },
  {
   "cell_type": "markdown",
   "id": "7c6dd967",
   "metadata": {},
   "source": [
    "Note that if the file in which the parameter is stored does not already exist, you will get a warning before it is created. This behavior can be suppressed using the `-w` or `--warn` option, e.g.,"
   ]
  },
  {
   "cell_type": "code",
   "execution_count": 14,
   "id": "71de8d75",
   "metadata": {},
   "outputs": [],
   "source": [
    "!gridlabd geodata config set name local_value -w"
   ]
  },
  {
   "cell_type": "markdown",
   "id": "300e192f",
   "metadata": {},
   "source": [
    "To get the value, use the `get` option:"
   ]
  },
  {
   "cell_type": "code",
   "execution_count": 15,
   "id": "64cb4b58",
   "metadata": {},
   "outputs": [
    {
     "name": "stdout",
     "output_type": "stream",
     "text": [
      "local_value\r\n"
     ]
    }
   ],
   "source": [
    "!gridlabd geodata config get name"
   ]
  },
  {
   "cell_type": "markdown",
   "id": "839431de",
   "metadata": {},
   "source": [
    "To show all the configuration values, use the `show` option:"
   ]
  },
  {
   "cell_type": "code",
   "execution_count": 16,
   "id": "d4aea747",
   "metadata": {},
   "outputs": [
    {
     "name": "stdout",
     "output_type": "stream",
     "text": [
      "geodata_url='http://geodata.gridlabd.us/'\r\n",
      "output_format='CSV'\r\n",
      "path_join='outer'\r\n",
      "column_names='{'ID': 'id', 'UUID': 'uuid', 'LAT': 'latitude', 'LON': 'longitude', 'DIST': 'distance', 'HEAD': 'heading', 'LOC': 'location', 'POS': 'position'}'\r\n",
      "uuid_type='4'\r\n",
      "vegetation.username='name@example.com'\r\n",
      "vegetation.password='password5839'\r\n",
      "name='local_value'\r\n"
     ]
    }
   ],
   "source": [
    "!gridlabd geodata config show"
   ]
  },
  {
   "cell_type": "markdown",
   "id": "aa846987",
   "metadata": {},
   "source": [
    "To set a user configuration, use the `user.` prefix, e.g.,"
   ]
  },
  {
   "cell_type": "code",
   "execution_count": 17,
   "id": "d7be1cc9",
   "metadata": {},
   "outputs": [
    {
     "name": "stdout",
     "output_type": "stream",
     "text": [
      "geodata_url='http://geodata.gridlabd.us/'\r\n",
      "output_format='CSV'\r\n",
      "path_join='outer'\r\n",
      "column_names='{'ID': 'id', 'UUID': 'uuid', 'LAT': 'latitude', 'LON': 'longitude', 'DIST': 'distance', 'HEAD': 'heading', 'LOC': 'location', 'POS': 'position'}'\r\n",
      "uuid_type='4'\r\n",
      "vegetation.username='name@example.com'\r\n",
      "vegetation.password='password5839'\r\n",
      "name='local_value'\r\n",
      "user.name='user_value'\r\n"
     ]
    }
   ],
   "source": [
    "!gridlabd geodata config set user.name user_value\n",
    "!gridlabd geodata config show"
   ]
  },
  {
   "cell_type": "markdown",
   "id": "d14e76df",
   "metadata": {},
   "source": [
    "The same syntax is used for system configuration values, e.g.,"
   ]
  },
  {
   "cell_type": "code",
   "execution_count": 18,
   "id": "eed3876a",
   "metadata": {},
   "outputs": [
    {
     "name": "stdout",
     "output_type": "stream",
     "text": [
      "geodata_url='http://geodata.gridlabd.us/'\r\n",
      "output_format='CSV'\r\n",
      "path_join='outer'\r\n",
      "column_names='{'ID': 'id', 'UUID': 'uuid', 'LAT': 'latitude', 'LON': 'longitude', 'DIST': 'distance', 'HEAD': 'heading', 'LOC': 'location', 'POS': 'position'}'\r\n",
      "uuid_type='4'\r\n",
      "vegetation.username='name@example.com'\r\n",
      "vegetation.password='password5839'\r\n",
      "name='local_value'\r\n",
      "user.name='user_value'\r\n",
      "system.name='system_value'\r\n"
     ]
    }
   ],
   "source": [
    "!gridlabd geodata config set system.name system_value\n",
    "!gridlabd geodata config show"
   ]
  },
  {
   "cell_type": "markdown",
   "id": "f613e5ad",
   "metadata": {},
   "source": [
    "To remove a value, use the `unset` option, e.g.,"
   ]
  },
  {
   "cell_type": "code",
   "execution_count": 19,
   "id": "dfe946d0",
   "metadata": {},
   "outputs": [
    {
     "name": "stdout",
     "output_type": "stream",
     "text": [
      "geodata_url='http://geodata.gridlabd.us/'\r\n",
      "output_format='CSV'\r\n",
      "path_join='outer'\r\n",
      "column_names='{'ID': 'id', 'UUID': 'uuid', 'LAT': 'latitude', 'LON': 'longitude', 'DIST': 'distance', 'HEAD': 'heading', 'LOC': 'location', 'POS': 'position'}'\r\n",
      "uuid_type='4'\r\n",
      "vegetation.username='name@example.com'\r\n",
      "vegetation.password='password5839'\r\n",
      "user.name='user_value'\r\n",
      "system.name='system_value'\r\n"
     ]
    }
   ],
   "source": [
    "!gridlabd geodata config unset name\n",
    "!gridlabd geodata config show"
   ]
  },
  {
   "cell_type": "markdown",
   "id": "c488a9b7",
   "metadata": {},
   "source": [
    "To remove all the local configuration values, simply delete the `geodata.conf` file:"
   ]
  },
  {
   "cell_type": "code",
   "execution_count": 20,
   "id": "33f53e2e",
   "metadata": {},
   "outputs": [],
   "source": [
    "!rm geodata.conf"
   ]
  },
  {
   "cell_type": "markdown",
   "id": "20926937",
   "metadata": {},
   "source": [
    "## Geodata formatting\n",
    "\n",
    "The output format can be changed using the `-f` or `--format` option. The valid formats are `CSV`, `JSON`, `RAW`, `POS`, `GLM`, `FIELD`, `PLOT`, `GDF`, `XLSX`, and `TABLE`.  `CSV` format is the default, and it can be explicitly specified as follows:"
   ]
  },
  {
   "cell_type": "code",
   "execution_count": 21,
   "id": "5f562694",
   "metadata": {},
   "outputs": [
    {
     "name": "stdout",
     "output_type": "stream",
     "text": [
      "id,latitude,longitude\r\n",
      "0,37.41,-122.2\r\n",
      "1,37.42,-122.2\r\n",
      "2,37.42,-122.21\r\n"
     ]
    }
   ],
   "source": [
    "!gridlabd geodata create 37.410,-122.20 37.420,-122.20 37.420,-122.21 -f CSV"
   ]
  },
  {
   "cell_type": "markdown",
   "id": "40f39832",
   "metadata": {},
   "source": [
    "JSON output looks like this:"
   ]
  },
  {
   "cell_type": "code",
   "execution_count": 22,
   "id": "6721169c",
   "metadata": {},
   "outputs": [
    {
     "name": "stdout",
     "output_type": "stream",
     "text": [
      "{\"0\":{\"latitude\":37.41,\"longitude\":-122.2},\"1\":{\"latitude\":37.42,\"longitude\":-122.2},\"2\":{\"latitude\":37.42,\"longitude\":-122.21}}\r\n"
     ]
    }
   ],
   "source": [
    "!gridlabd geodata create 37.410,-122.20 37.420,-122.20 37.420,-122.21 -f JSON"
   ]
  },
  {
   "cell_type": "markdown",
   "id": "26e70926",
   "metadata": {},
   "source": [
    "JSON output can be structured using the `pandas` `to_json()` `orient` options `index`, `split`, `records`, `columns`, `values`, or `table`, e.g.,"
   ]
  },
  {
   "cell_type": "code",
   "execution_count": 23,
   "id": "fa5837a3",
   "metadata": {},
   "outputs": [
    {
     "name": "stdout",
     "output_type": "stream",
     "text": [
      "{\"schema\":{\"fields\":[{\"name\":\"id\",\"type\":\"integer\"},{\"name\":\"latitude\",\"type\":\"number\"},{\"name\":\"longitude\",\"type\":\"number\"}],\"primaryKey\":[\"id\"],\"pandas_version\":\"0.20.0\"},\"data\":[{\"id\":0,\"latitude\":37.41,\"longitude\":-122.2},{\"id\":1,\"latitude\":37.42,\"longitude\":-122.2},{\"id\":2,\"latitude\":37.42,\"longitude\":-122.21}]}\r\n"
     ]
    }
   ],
   "source": [
    "!gridlabd geodata create 37.410,-122.20 37.420,-122.20 37.420,-122.21 -f JSON --json.orient=table"
   ]
  },
  {
   "cell_type": "markdown",
   "id": "aee281c8",
   "metadata": {},
   "source": [
    "Other JSON options include `data_format`, `double_precision`, `force_ascii`, and `date_unit`. See https://pandas.pydata.org/docs/reference/api/pandas.DataFrame.to_json.html for details."
   ]
  },
  {
   "cell_type": "markdown",
   "id": "bcecd73d",
   "metadata": {},
   "source": [
    "RAW output is generated as follows"
   ]
  },
  {
   "cell_type": "code",
   "execution_count": 24,
   "id": "9279215a",
   "metadata": {},
   "outputs": [
    {
     "name": "stdout",
     "output_type": "stream",
     "text": [
      "37.41 -122.2\r\n",
      "37.42 -122.2\r\n",
      "37.42 -122.21\r\n"
     ]
    }
   ],
   "source": [
    "!gridlabd geodata create 37.410,-122.20 37.420,-122.20 37.420,-122.21 -f RAW"
   ]
  },
  {
   "cell_type": "markdown",
   "id": "273e4650",
   "metadata": {},
   "source": [
    "TABLE output is generated for easy reading:"
   ]
  },
  {
   "cell_type": "code",
   "execution_count": 25,
   "id": "4cae9f9b",
   "metadata": {},
   "outputs": [
    {
     "name": "stdout",
     "output_type": "stream",
     "text": [
      "    latitude  longitude\r\n",
      "id                     \r\n",
      "0      37.41    -122.20\r\n",
      "1      37.42    -122.20\r\n",
      "2      37.42    -122.21\r\n"
     ]
    }
   ],
   "source": [
    "!gridlabd geodata create 37.410,-122.20 37.420,-122.20 37.420,-122.21 -f TABLE"
   ]
  },
  {
   "cell_type": "markdown",
   "id": "1d07a557",
   "metadata": {},
   "source": [
    "Output formats typically can include an ordered field list, such as"
   ]
  },
  {
   "cell_type": "code",
   "execution_count": 26,
   "id": "72ac376e",
   "metadata": {},
   "outputs": [
    {
     "name": "stdout",
     "output_type": "stream",
     "text": [
      "-122.2,37.41\r\n",
      "-122.2,37.42\r\n",
      "-122.21,37.42\r\n"
     ]
    }
   ],
   "source": [
    "!gridlabd geodata create 37.410,-122.20 37.420,-122.20 37.420,-122.21 -f RAW:longitude,latitude --fieldsep ,"
   ]
  },
  {
   "cell_type": "markdown",
   "id": "024dc997",
   "metadata": {},
   "source": [
    "## Geodata indexing\n",
    "\n",
    "The output can be indexed using one of several standards keys, or keys from the data. The default key is `id` which is the row number, as seen in the examples so far. This key can be explicitly specified as follows:"
   ]
  },
  {
   "cell_type": "code",
   "execution_count": 27,
   "id": "c5b568e3",
   "metadata": {},
   "outputs": [
    {
     "name": "stdout",
     "output_type": "stream",
     "text": [
      "id,latitude,longitude\r\n",
      "0,37.41,-122.2\r\n",
      "1,37.42,-122.2\r\n",
      "2,37.42,-122.21\r\n"
     ]
    }
   ],
   "source": [
    "!gridlabd geodata create 37.410,-122.20 37.420,-122.20 37.420,-122.21 -k id"
   ]
  },
  {
   "cell_type": "markdown",
   "id": "209e4084",
   "metadata": {},
   "source": [
    "The `location` key generates a geohash code:"
   ]
  },
  {
   "cell_type": "code",
   "execution_count": 28,
   "id": "043fc934",
   "metadata": {},
   "outputs": [
    {
     "name": "stdout",
     "output_type": "stream",
     "text": [
      "location,latitude,longitude,id\r\n",
      "9q9hg629j97y,37.41,-122.2,0\r\n",
      "9q9hgk0em9ef,37.42,-122.2,1\r\n",
      "9q9hgh17k9e4,37.42,-122.21,2\r\n"
     ]
    }
   ],
   "source": [
    "!gridlabd geodata create 37.410,-122.20 37.420,-122.20 37.420,-122.21 -k location"
   ]
  },
  {
   "cell_type": "markdown",
   "id": "f5953454",
   "metadata": {},
   "source": [
    "The `position` key generates a distance index, treating the data rows as a series of waypoints along a path. When this key is used, a distance and a heading column are also generated."
   ]
  },
  {
   "cell_type": "code",
   "execution_count": 29,
   "id": "d2096dbd",
   "metadata": {},
   "outputs": [
    {
     "name": "stdout",
     "output_type": "stream",
     "text": [
      "position,latitude,longitude,id,distance,heading\r\n",
      "0,37.41,-122.2,0,0.0,\r\n",
      "1112,37.42,-122.2,1,1112.0,0.0\r\n",
      "1995,37.42,-122.21,2,1995.0,270.0\r\n"
     ]
    }
   ],
   "source": [
    "!gridlabd geodata create 37.410,-122.20 37.420,-122.20 37.420,-122.21 -k position"
   ]
  },
  {
   "cell_type": "markdown",
   "id": "97183a9a",
   "metadata": {},
   "source": [
    "Any field or set of fields may be used for indexing, e.g.,"
   ]
  },
  {
   "cell_type": "code",
   "execution_count": 30,
   "id": "5b838e34",
   "metadata": {},
   "outputs": [
    {
     "name": "stdout",
     "output_type": "stream",
     "text": [
      "latitude,longitude,id\r\n",
      "37.41,-122.2,0\r\n",
      "37.42,-122.2,1\r\n",
      "37.42,-122.21,2\r\n"
     ]
    }
   ],
   "source": [
    "!gridlabd geodata create 37.410,-122.20 37.420,-122.20 37.420,-122.21 -k latitude,longitude"
   ]
  },
  {
   "cell_type": "markdown",
   "id": "e15b9c44",
   "metadata": {},
   "source": [
    "Universally unique identifiers can be also be generated using the special `uuid` key, e.g.,"
   ]
  },
  {
   "cell_type": "code",
   "execution_count": 31,
   "id": "f92a6d37",
   "metadata": {},
   "outputs": [
    {
     "name": "stdout",
     "output_type": "stream",
     "text": [
      "uuid,latitude,longitude,id\r\n",
      "46b1370dc30e40b8b03cf470ac29ca28,37.41,-122.2,0\r\n",
      "0e3e2e3c698246999b668a1ca32d297f,37.42,-122.2,1\r\n",
      "946b1b3d852c4223972c5df0dc02b025,37.42,-122.21,2\r\n"
     ]
    }
   ],
   "source": [
    "!gridlabd geodata create 37.410,-122.20 37.420,-122.20 37.420,-122.21 -k uuid"
   ]
  },
  {
   "cell_type": "markdown",
   "id": "88c5b0c2",
   "metadata": {},
   "source": [
    "The default `uuid` type is a random number, i.e., `--uuid_type=4`.  Using `--uuid_type=1` generates a unique identified based on the host, sequence number, and time, e.g.,"
   ]
  },
  {
   "cell_type": "code",
   "execution_count": 32,
   "id": "292aa0c3",
   "metadata": {},
   "outputs": [
    {
     "name": "stdout",
     "output_type": "stream",
     "text": [
      "uuid,latitude,longitude,id\n",
      "2e8d7918c4bf11eb9c0e989e633f97ae,37.41,-122.2,0\n",
      "2e8d7a6cc4bf11eb9c0e989e633f97ae,37.42,-122.2,1\n",
      "2e8d7a9ec4bf11eb9c0e989e633f97ae,37.42,-122.21,2\n"
     ]
    }
   ],
   "source": [
    "!gridlabd geodata create 37.410,-122.20 37.420,-122.20 37.420,-122.21 -k uuid --uuid_type=1"
   ]
  },
  {
   "cell_type": "markdown",
   "id": "4136be24",
   "metadata": {},
   "source": [
    "## Path waypoints\n",
    "\n",
    "Waypoints can be generated along a path using the `-r` or `--resolution` option.  For example, 250-meter waypoints are generated using the following syntax:"
   ]
  },
  {
   "cell_type": "code",
   "execution_count": 33,
   "id": "b6c36bbb",
   "metadata": {},
   "outputs": [
    {
     "name": "stdout",
     "output_type": "stream",
     "text": [
      "          latitude  longitude   id  distance  heading\r\n",
      "position                                             \r\n",
      "0         37.41000 -122.20000  0.0       0.0      NaN\r\n",
      "250       37.41225 -122.20000  NaN     250.0      0.0\r\n",
      "500       37.41450 -122.20000  NaN     500.0      0.0\r\n",
      "750       37.41674 -122.20000  NaN     750.0      0.0\r\n",
      "1000      37.41899 -122.20000  NaN    1000.0      0.0\r\n",
      "1112      37.42000 -122.20000  1.0    1112.0      0.0\r\n",
      "1362      37.42000 -122.20283  NaN    1362.0    270.0\r\n",
      "1612      37.42000 -122.20566  NaN    1612.0    270.0\r\n",
      "1862      37.42000 -122.20849  NaN    1862.0    270.0\r\n",
      "1995      37.42000 -122.21000  2.0    1995.0    270.0\r\n"
     ]
    }
   ],
   "source": [
    "!gridlabd geodata create 37.410,-122.20 37.420,-122.20 37.420,-122.21 -r 250 -f TABLE"
   ]
  },
  {
   "cell_type": "markdown",
   "id": "included-blast",
   "metadata": {},
   "source": [
    "This is equivalent to setting the `resolution` option value, e.g.,"
   ]
  },
  {
   "cell_type": "code",
   "execution_count": 34,
   "id": "front-terrace",
   "metadata": {},
   "outputs": [
    {
     "name": "stdout",
     "output_type": "stream",
     "text": [
      "          latitude  longitude   id  distance  heading\r\n",
      "position                                             \r\n",
      "0         37.41000 -122.20000  0.0       0.0      NaN\r\n",
      "250       37.41225 -122.20000  NaN     250.0      0.0\r\n",
      "500       37.41450 -122.20000  NaN     500.0      0.0\r\n",
      "750       37.41674 -122.20000  NaN     750.0      0.0\r\n",
      "1000      37.41899 -122.20000  NaN    1000.0      0.0\r\n",
      "1112      37.42000 -122.20000  1.0    1112.0      0.0\r\n",
      "1362      37.42000 -122.20283  NaN    1362.0    270.0\r\n",
      "1612      37.42000 -122.20566  NaN    1612.0    270.0\r\n",
      "1862      37.42000 -122.20849  NaN    1862.0    270.0\r\n",
      "1995      37.42000 -122.21000  2.0    1995.0    270.0\r\n"
     ]
    }
   ],
   "source": [
    "!gridlabd geodata create 37.410,-122.20 37.420,-122.20 37.420,-122.21 --resolution=250 -f TABLE"
   ]
  },
  {
   "cell_type": "markdown",
   "id": "66e2d8b0",
   "metadata": {},
   "source": [
    "The `distance` and `heading` columns are added to provide the distance and heading to each waypoint from the last position. When using waypoints, the key is automatically set to `position`, which provides the distance from the first point.  The use of other keys is not supported. In addition, any waypoint added in the process is not assigned a row `id` in order to protect the original row ids."
   ]
  },
  {
   "cell_type": "markdown",
   "id": "ccf0a102",
   "metadata": {},
   "source": [
    "To assign key values to the generated positions, use `--resolution_id` options, e.g.,"
   ]
  },
  {
   "cell_type": "code",
   "execution_count": 35,
   "id": "ce7002e1",
   "metadata": {},
   "outputs": [
    {
     "name": "stdout",
     "output_type": "stream",
     "text": [
      "          latitude  longitude     id  distance  heading\r\n",
      "position                                               \r\n",
      "0         37.41000 -122.20000  0.000       0.0      NaN\r\n",
      "250       37.41225 -122.20000  0.125     250.0      0.0\r\n",
      "500       37.41450 -122.20000  0.251     500.0      0.0\r\n",
      "750       37.41674 -122.20000  0.376     750.0      0.0\r\n",
      "1000      37.41899 -122.20000  0.501    1000.0      0.0\r\n",
      "1112      37.42000 -122.20000  0.557    1112.0      0.0\r\n",
      "1362      37.42000 -122.20283  0.683    1362.0    270.0\r\n",
      "1612      37.42000 -122.20566  0.808    1612.0    270.0\r\n",
      "1862      37.42000 -122.20849  0.933    1862.0    270.0\r\n",
      "1995      37.42000 -122.21000  1.000    1995.0    270.0\r\n"
     ]
    }
   ],
   "source": [
    "!gridlabd geodata create 37.410,-122.20 37.420,-122.20 37.420,-122.21 -f TABLE -r 250  --resolution_id"
   ]
  },
  {
   "cell_type": "markdown",
   "id": "cc605628",
   "metadata": {},
   "source": [
    "The new id values are generated as a fraction of the distance from the first to the last waypoint."
   ]
  },
  {
   "cell_type": "markdown",
   "id": "85162c1f",
   "metadata": {},
   "source": [
    "The precision of the new id values can be changed, e.g.,"
   ]
  },
  {
   "cell_type": "code",
   "execution_count": 36,
   "id": "6956dfcb",
   "metadata": {},
   "outputs": [
    {
     "name": "stdout",
     "output_type": "stream",
     "text": [
      "          latitude  longitude       id  distance  heading\r\n",
      "position                                                 \r\n",
      "0         37.41000 -122.20000  0.00000       0.0      NaN\r\n",
      "250       37.41225 -122.20000  0.12531     250.0      0.0\r\n",
      "500       37.41450 -122.20000  0.25063     500.0      0.0\r\n",
      "750       37.41674 -122.20000  0.37594     750.0      0.0\r\n",
      "1000      37.41899 -122.20000  0.50125    1000.0      0.0\r\n",
      "1112      37.42000 -122.20000  0.55739    1112.0      0.0\r\n",
      "1362      37.42000 -122.20283  0.68271    1362.0    270.0\r\n",
      "1612      37.42000 -122.20566  0.80802    1612.0    270.0\r\n",
      "1862      37.42000 -122.20849  0.93333    1862.0    270.0\r\n",
      "1995      37.42000 -122.21000  1.00000    1995.0    270.0\r\n"
     ]
    }
   ],
   "source": [
    "!gridlabd geodata create 37.410,-122.20 37.420,-122.20 37.420,-122.21 -f TABLE -r 250  --resolution_id --precision.resolution_id=5"
   ]
  },
  {
   "cell_type": "markdown",
   "id": "7c4ba4ce",
   "metadata": {},
   "source": [
    "The index can be changed with the `-k` or `--key` options using a pipe. Sometimes this is necessary when one option used implicitly precludes the use of a desired key, such as when path resolution is used but location is indexing is desired, e.g.,"
   ]
  },
  {
   "cell_type": "code",
   "execution_count": 37,
   "id": "f1d3b55d",
   "metadata": {},
   "outputs": [
    {
     "name": "stdout",
     "output_type": "stream",
     "text": [
      "              position  latitude  longitude   id  distance  heading\r\n",
      "location                                                           \r\n",
      "9q9hg629j97y         0  37.41000 -122.20000  0.0       0.0      NaN\r\n",
      "9q9hg68wjsgu       250  37.41225 -122.20000  NaN     250.0      0.0\r\n",
      "9q9hg70em87c       500  37.41450 -122.20000  NaN     500.0      0.0\r\n",
      "9q9hg788m9gu       750  37.41674 -122.20000  NaN     750.0      0.0\r\n",
      "9q9hg7btmt7c      1000  37.41899 -122.20000  NaN    1000.0      0.0\r\n",
      "9q9hgk0em9ef      1112  37.42000 -122.20000  1.0    1112.0      0.0\r\n",
      "9q9hghne79td      1362  37.42000 -122.20283  NaN    1362.0    270.0\r\n",
      "9q9hghhe39x6      1612  37.42000 -122.20566  NaN    1612.0    270.0\r\n",
      "9q9hgh47rc94      1862  37.42000 -122.20849  NaN    1862.0    270.0\r\n",
      "9q9hgh17k9e4      1995  37.42000 -122.21000  2.0    1995.0    270.0\r\n"
     ]
    }
   ],
   "source": [
    "!gridlabd geodata create 37.410,-122.20 37.420,-122.20 37.420,-122.21 -r 250 | gridlabd geodata create -k location -f TABLE"
   ]
  },
  {
   "cell_type": "markdown",
   "id": "18500df1",
   "metadata": {},
   "source": [
    "## Output\n",
    "\n",
    "By default all output is written to `/dev/stdout`.  The output can be written to a file using the `-o` or `--output` option, e.g.,"
   ]
  },
  {
   "cell_type": "code",
   "execution_count": 38,
   "id": "eb43a6c7",
   "metadata": {},
   "outputs": [
    {
     "name": "stdout",
     "output_type": "stream",
     "text": [
      "id,latitude,longitude\r\n",
      "0,37.41,-122.2\r\n",
      "1,37.42,-122.2\r\n",
      "2,37.42,-122.21\r\n"
     ]
    }
   ],
   "source": [
    "!gridlabd geodata create 37.410,-122.20 37.420,-122.20 37.420,-122.21 -o /tmp/test.csv\n",
    "!cat /tmp/test.csv"
   ]
  },
  {
   "cell_type": "markdown",
   "id": "da9350f8",
   "metadata": {},
   "source": [
    "GridLAB-D `geodata` entities can be output to GeoPandas using the `GDF` output format. If the entity does not include any geometry data, it is automatically created from the latitude and longitude fields, e.g.,"
   ]
  },
  {
   "cell_type": "code",
   "execution_count": 39,
   "id": "bc3810b7",
   "metadata": {},
   "outputs": [],
   "source": [
    "!gridlabd geodata create 37.410,-122.20 37.420,-122.20 37.420,-122.21 -o /tmp/test.gdf -f GDF"
   ]
  },
  {
   "cell_type": "markdown",
   "id": "derived-permit",
   "metadata": {},
   "source": [
    "The following python code can be used to load the output file:"
   ]
  },
  {
   "cell_type": "code",
   "execution_count": 40,
   "id": "appreciated-address",
   "metadata": {},
   "outputs": [
    {
     "data": {
      "text/html": [
       "<div>\n",
       "<style scoped>\n",
       "    .dataframe tbody tr th:only-of-type {\n",
       "        vertical-align: middle;\n",
       "    }\n",
       "\n",
       "    .dataframe tbody tr th {\n",
       "        vertical-align: top;\n",
       "    }\n",
       "\n",
       "    .dataframe thead th {\n",
       "        text-align: right;\n",
       "    }\n",
       "</style>\n",
       "<table border=\"1\" class=\"dataframe\">\n",
       "  <thead>\n",
       "    <tr style=\"text-align: right;\">\n",
       "      <th></th>\n",
       "      <th>id</th>\n",
       "      <th>latitude</th>\n",
       "      <th>longitude</th>\n",
       "      <th>geometry</th>\n",
       "    </tr>\n",
       "  </thead>\n",
       "  <tbody>\n",
       "    <tr>\n",
       "      <th>0</th>\n",
       "      <td>0</td>\n",
       "      <td>37.41</td>\n",
       "      <td>-122.20</td>\n",
       "      <td>POINT (-122.20000 37.41000)</td>\n",
       "    </tr>\n",
       "    <tr>\n",
       "      <th>1</th>\n",
       "      <td>1</td>\n",
       "      <td>37.42</td>\n",
       "      <td>-122.20</td>\n",
       "      <td>POINT (-122.20000 37.42000)</td>\n",
       "    </tr>\n",
       "    <tr>\n",
       "      <th>2</th>\n",
       "      <td>2</td>\n",
       "      <td>37.42</td>\n",
       "      <td>-122.21</td>\n",
       "      <td>POINT (-122.21000 37.42000)</td>\n",
       "    </tr>\n",
       "  </tbody>\n",
       "</table>\n",
       "</div>"
      ],
      "text/plain": [
       "   id  latitude  longitude                     geometry\n",
       "0   0     37.41    -122.20  POINT (-122.20000 37.41000)\n",
       "1   1     37.42    -122.20  POINT (-122.20000 37.42000)\n",
       "2   2     37.42    -122.21  POINT (-122.21000 37.42000)"
      ]
     },
     "execution_count": 40,
     "metadata": {},
     "output_type": "execute_result"
    }
   ],
   "source": [
    "import geopandas\n",
    "geopandas.read_file(\"/tmp/test.gdf\")"
   ]
  },
  {
   "cell_type": "markdown",
   "id": "dae5cf1e",
   "metadata": {},
   "source": [
    "----\n",
    "# Datasets\n",
    "\n",
    "The `merge` directive is used to merge a dataset into an existing `geodata` entity.  The general syntax is `gridlabd geodata merge -D DATASET [OPTIONS ...]`"
   ]
  },
  {
   "cell_type": "markdown",
   "id": "d7d8eb56",
   "metadata": {},
   "source": [
    "## Distance\n",
    "\n",
    "The `distance` dataset provide great-circle distance calculations.  For example, the following calculates the distance from the first point in the series."
   ]
  },
  {
   "cell_type": "code",
   "execution_count": 41,
   "id": "dce56f76",
   "metadata": {},
   "outputs": [
    {
     "name": "stdout",
     "output_type": "stream",
     "text": [
      "    latitude  longitude  distance\r\n",
      "id                               \r\n",
      "0      37.41    -122.20       0.0\r\n",
      "1      37.42    -122.20    1112.0\r\n",
      "2      37.42    -122.21    1995.0\r\n"
     ]
    }
   ],
   "source": [
    "!gridlabd geodata merge -D distance 37.410,-122.20 37.420,-122.20 37.420,-122.21 -f TABLE"
   ]
  },
  {
   "cell_type": "markdown",
   "id": "technical-logic",
   "metadata": {},
   "source": [
    "The distance can be calculated relative to the previous location in the series using the `--relative` options, e.g.,"
   ]
  },
  {
   "cell_type": "code",
   "execution_count": 42,
   "id": "signal-anime",
   "metadata": {
    "scrolled": true
   },
   "outputs": [
    {
     "name": "stdout",
     "output_type": "stream",
     "text": [
      "    latitude  longitude  distance\r\n",
      "id                               \r\n",
      "0      37.41    -122.20       0.0\r\n",
      "1      37.42    -122.20       0.0\r\n",
      "2      37.42    -122.21       0.0\r\n"
     ]
    }
   ],
   "source": [
    "!gridlabd geodata merge -D distance 37.410,-122.20 37.420,-122.20 37.420,-122.21 --relative -f TABLE"
   ]
  },
  {
   "cell_type": "markdown",
   "id": "c112973b",
   "metadata": {},
   "source": [
    "The `distance` dataset support different units, include `meters` or `m`, `kilometers` or `km`, `feet` or `ft`, `yards` or `yd`, `miles` or `mi`.  For example, the following calculates the distances in feet:"
   ]
  },
  {
   "cell_type": "code",
   "execution_count": 43,
   "id": "91611f60",
   "metadata": {},
   "outputs": [
    {
     "name": "stdout",
     "output_type": "stream",
     "text": [
      "    latitude  longitude  distance\r\n",
      "id                               \r\n",
      "0      37.41    -122.20       0.0\r\n",
      "1      37.42    -122.20    3648.0\r\n",
      "2      37.42    -122.21    6545.0\r\n"
     ]
    }
   ],
   "source": [
    "!gridlabd geodata merge -D distance 37.410,-122.20 37.420,-122.20 37.420,-122.21 --units=feet -f TABLE"
   ]
  },
  {
   "cell_type": "markdown",
   "id": "8fc2fbe5",
   "metadata": {},
   "source": [
    "Note that the default precision with which distances are calculated in 0 decimals. Thus the distance in `km` is rounded:"
   ]
  },
  {
   "cell_type": "code",
   "execution_count": 44,
   "id": "cece01fc",
   "metadata": {},
   "outputs": [
    {
     "name": "stdout",
     "output_type": "stream",
     "text": [
      "    latitude  longitude  distance\r\n",
      "id                               \r\n",
      "0      37.41    -122.20       0.0\r\n",
      "1      37.42    -122.20       1.0\r\n",
      "2      37.42    -122.21       2.0\r\n"
     ]
    }
   ],
   "source": [
    "!gridlabd geodata merge -D distance 37.410,-122.20 37.420,-122.20 37.420,-122.21 --units=km -f TABLE # precision too low"
   ]
  },
  {
   "cell_type": "markdown",
   "id": "5b8f6a92",
   "metadata": {},
   "source": [
    "The precision can be changed when necessary, e.g., "
   ]
  },
  {
   "cell_type": "code",
   "execution_count": 45,
   "id": "256df24d",
   "metadata": {},
   "outputs": [
    {
     "name": "stdout",
     "output_type": "stream",
     "text": [
      "    latitude  longitude  distance\r\n",
      "id                               \r\n",
      "0      37.41    -122.20      0.00\r\n",
      "1      37.42    -122.20      1.11\r\n",
      "2      37.42    -122.21      2.00\r\n"
     ]
    }
   ],
   "source": [
    "!gridlabd geodata merge -D distance 37.410,-122.20 37.420,-122.20 37.420,-122.21 --units=km --precision.distance=2 -f TABLE"
   ]
  },
  {
   "cell_type": "markdown",
   "id": "f8d19b56",
   "metadata": {},
   "source": [
    "When `distance` is used with `--resolution` and `--relative`, the waypoints are not considered, e.g.,"
   ]
  },
  {
   "cell_type": "code",
   "execution_count": 46,
   "id": "f7efff55",
   "metadata": {},
   "outputs": [
    {
     "name": "stdout",
     "output_type": "stream",
     "text": [
      "          latitude  longitude   id  distance  heading\r\n",
      "position                                             \r\n",
      "0         37.41000 -122.20000  0.0       0.0      NaN\r\n",
      "250       37.41225 -122.20000  NaN     250.0      0.0\r\n",
      "500       37.41450 -122.20000  NaN     500.0      0.0\r\n",
      "750       37.41674 -122.20000  NaN     750.0      0.0\r\n",
      "1000      37.41899 -122.20000  NaN    1000.0      0.0\r\n",
      "1112      37.42000 -122.20000  1.0       0.0      0.0\r\n",
      "1362      37.42000 -122.20283  NaN     250.0    270.0\r\n",
      "1612      37.42000 -122.20566  NaN     500.0    270.0\r\n",
      "1862      37.42000 -122.20849  NaN     750.0    270.0\r\n",
      "1995      37.42000 -122.21000  2.0       0.0    270.0\r\n"
     ]
    }
   ],
   "source": [
    "!gridlabd geodata -D distance merge 37.410,-122.20 37.420,-122.20 37.420,-122.21 -f TABLE --table.max_rows=99 -r 250 --relative"
   ]
  },
  {
   "cell_type": "markdown",
   "id": "fbb4c74b",
   "metadata": {},
   "source": [
    "## Address\n",
    "\n",
    "You can use the `address` dataset to perform address resolution operations, both to and from latitude and longitude.\n",
    "\n",
    "To obtain the address at a location, use the following command"
   ]
  },
  {
   "cell_type": "code",
   "execution_count": 47,
   "id": "b2e5328e",
   "metadata": {},
   "outputs": [
    {
     "name": "stdout",
     "output_type": "stream",
     "text": [
      "id,latitude,longitude,address\r\n",
      "0,37.42,-122.2,\"Stanford Linear Accelerator Center National Accelerator Laboratory, Sand Hill Road, Menlo Park, San Mateo County, California, 94028, United States\"\r\n"
     ]
    }
   ],
   "source": [
    "!gridlabd geodata merge -D address 37.420,-122.20"
   ]
  },
  {
   "cell_type": "markdown",
   "id": "011e468e",
   "metadata": {},
   "source": [
    "To find the latitude and longitude of an address, use the command:"
   ]
  },
  {
   "cell_type": "code",
   "execution_count": 48,
   "id": "7cf4077c",
   "metadata": {},
   "outputs": [
    {
     "name": "stdout",
     "output_type": "stream",
     "text": [
      "id,index,address,longitude,latitude\r\n",
      "0,0,\"2575 Sand Hill Rd, Menlo Park CA 94025\",-122.20457,37.42046\r\n"
     ]
    }
   ],
   "source": [
    "!gridlabd geodata merge -D address --reverse \"2575 Sand Hill Rd, Menlo Park CA 94025\""
   ]
  },
  {
   "cell_type": "markdown",
   "id": "august-square",
   "metadata": {},
   "source": [
    "Note that incomplete addresses are usually resolved but may not provided the expected result.  For example, the following address is not sufficient for proper resolution, but provides a location nonetheless:"
   ]
  },
  {
   "cell_type": "code",
   "execution_count": 49,
   "id": "pregnant-asthma",
   "metadata": {},
   "outputs": [
    {
     "name": "stdout",
     "output_type": "stream",
     "text": [
      "id,index,address,longitude,latitude\r\n",
      "0,0,Main St.,-79.30162,43.68904\r\n"
     ]
    }
   ],
   "source": [
    "!gridlabd geodata merge -D address --reverse \"Main St.\" # insufficient information for accurate results"
   ]
  },
  {
   "cell_type": "markdown",
   "id": "b2693095",
   "metadata": {},
   "source": [
    "You can perform both operations in series to resolve the \"official\" address from an unofficial but complete address:"
   ]
  },
  {
   "cell_type": "code",
   "execution_count": 50,
   "id": "f0bfe454",
   "metadata": {},
   "outputs": [
    {
     "name": "stdout",
     "output_type": "stream",
     "text": [
      "id,index,address,longitude,latitude\r\n",
      "0,0,\"Stanford Linear Accelerator Center National Accelerator Laboratory, Sand Hill Road, Menlo Park, San Mateo County, California, 94028, United States\",-122.20118,37.41546\r\n"
     ]
    }
   ],
   "source": [
    "!gridlabd geodata merge -D address --reverse \"2575 Sand Hill Rd, Menlo Park CA\" | gridlabd geodata merge -D address"
   ]
  },
  {
   "cell_type": "markdown",
   "id": "505c183c",
   "metadata": {},
   "source": [
    "## Elevation\n",
    "Elevation data can be obtained using the `elevation` data set, e.g.,  "
   ]
  },
  {
   "cell_type": "code",
   "execution_count": 51,
   "id": "1920f2f5",
   "metadata": {},
   "outputs": [
    {
     "name": "stdout",
     "output_type": "stream",
     "text": [
      "    latitude  longitude  elevation\r\n",
      "id                                \r\n",
      "0      37.41    -122.20       58.0\r\n",
      "1      37.42    -122.20       76.0\r\n",
      "2      37.42    -122.21      105.0\r\n"
     ]
    }
   ],
   "source": [
    "!gridlabd geodata merge -D elevation 37.410,-122.20 37.420,-122.20 37.420,-122.21 -f TABLE"
   ]
  },
  {
   "cell_type": "markdown",
   "id": "20e57631",
   "metadata": {},
   "source": [
    "Elevations can be calculated in other units using the `--units=UNIT` options, e.g.,"
   ]
  },
  {
   "cell_type": "code",
   "execution_count": null,
   "id": "19359395",
   "metadata": {},
   "outputs": [],
   "source": [
    "!gridlabd geodata merge -D elevation 37.410,-122.20 37.420,-122.20 37.420,-122.21 --units=feet -f TABLE"
   ]
  },
  {
   "cell_type": "markdown",
   "id": "4cd4a62a",
   "metadata": {},
   "source": [
    "Valid units are `m` or `meters`, and `ft` or `feet`.\n",
    "\n",
    "The precision of the elevations can be specified as well, e.g.,"
   ]
  },
  {
   "cell_type": "code",
   "execution_count": null,
   "id": "0d9e280c",
   "metadata": {},
   "outputs": [],
   "source": [
    "!gridlabd geodata merge -D elevation 37.410,-122.20 37.420,-122.20 37.420,-122.21 --precision.elevation=2 --units=feet -f TABLE"
   ]
  },
  {
   "cell_type": "markdown",
   "id": "9fdfb958",
   "metadata": {},
   "source": [
    "When using waypoints, the elevations are calculated along the path, e.g.,"
   ]
  },
  {
   "cell_type": "code",
   "execution_count": null,
   "id": "bafd92ee",
   "metadata": {},
   "outputs": [],
   "source": [
    "!gridlabd geodata merge -D elevation 37.410,-122.20 37.420,-122.20 37.420,-122.21 -r 250 -f TABLE"
   ]
  },
  {
   "cell_type": "markdown",
   "id": "35d8433d",
   "metadata": {},
   "source": [
    "## Vegetation\n",
    "Vegetation data can be obtained using the `vegetation` dataset. This dataset includes information from the California Forest Observatory about canopy cover, height, and base.  To access this data you must subscribe to the service at https://forestobservatory.com. To register you username and password, you must configure the dataset using the following command:"
   ]
  },
  {
   "cell_type": "code",
   "execution_count": null,
   "id": "521dc155",
   "metadata": {},
   "outputs": [],
   "source": [
    "!gridlabd geodata config set -w vegetation.username name@example.com\n",
    "!gridlabd geodata config set vegetation.password password5839"
   ]
  },
  {
   "cell_type": "markdown",
   "id": "03d5b42e",
   "metadata": {},
   "source": [
    "When you are registered you can merge vegetation data for geographic locations, e.g.,"
   ]
  },
  {
   "cell_type": "code",
   "execution_count": null,
   "id": "46b4e884",
   "metadata": {},
   "outputs": [],
   "source": [
    "!gridlabd geodata merge -D vegetation 37.410,-122.20 37.420,-122.20 37.420,-122.21 -f TABLE"
   ]
  },
  {
   "cell_type": "markdown",
   "id": "f8ad77fa",
   "metadata": {},
   "source": [
    "Vegetation data is always associated with a year, which is specified by the `year` option, i.e.,"
   ]
  },
  {
   "cell_type": "code",
   "execution_count": null,
   "id": "1943cbe5",
   "metadata": {},
   "outputs": [],
   "source": [
    "!gridlabd geodata merge -D vegetation 37.410,-122.20 37.420,-122.20 37.420,-122.21 --year=2020 -f TABLE"
   ]
  },
  {
   "cell_type": "markdown",
   "id": "0a0235fa",
   "metadata": {},
   "source": [
    "## Utility\n",
    "\n",
    "Utility data can be obtained using the `utility` dataset.  This dataset includes information from the Homeland Infrastructure Foundation-Level Data (HIFLD).  Note that this dataset uses a very large datafile that can take some time to download the first time.\n",
    "\n",
    "The name of the utility at a location is the default data result, e.g.,"
   ]
  },
  {
   "cell_type": "code",
   "execution_count": null,
   "id": "ae45a623",
   "metadata": {},
   "outputs": [],
   "source": [
    "!gridlabd geodata merge -D utility 37.420,-122.20 -f TABLE"
   ]
  },
  {
   "cell_type": "markdown",
   "id": "e97a965c",
   "metadata": {},
   "source": [
    "Other data is available (see https://hifld-geoplatform.opendata.arcgis.com/datasets/electric-retail-service-territories for detail).  A list of data available can be obtained from the dataset help, e.g., using `gridlabd geodata help utility`.  \n",
    "\n",
    "To get the utility's summer and winter peak load and number of customers and the year for which the data is obtained, use the command"
   ]
  },
  {
   "cell_type": "code",
   "execution_count": null,
   "id": "dcc90edc",
   "metadata": {},
   "outputs": [],
   "source": [
    "!gridlabd geodata merge -D utility 37.420,-122.20 --fields=WINTR_PEAK,SUMMR_PEAK,CUSTOMERS,YEAR -f TABLE"
   ]
  },
  {
   "cell_type": "markdown",
   "id": "9f287650",
   "metadata": {},
   "source": [
    "The `utility` dataset also contains geometry data that can be used to generate maps. This data is included when the `--geometry` option is specified, e.g.,"
   ]
  },
  {
   "cell_type": "code",
   "execution_count": null,
   "id": "maritime-petroleum",
   "metadata": {},
   "outputs": [],
   "source": [
    "!gridlabd geodata merge -D utility 37.420,-122.20 --geometry -f PLOT -o /tmp/utility.png --plot.figsize=10,5"
   ]
  },
  {
   "cell_type": "markdown",
   "id": "quantitative-chapel",
   "metadata": {},
   "source": [
    "The following python code can be used to display the image in a Jupyter notebook."
   ]
  },
  {
   "cell_type": "code",
   "execution_count": null,
   "id": "c60b5061",
   "metadata": {},
   "outputs": [],
   "source": [
    "from IPython.display import Image\n",
    "Image(\"/tmp/utility.png\")"
   ]
  },
  {
   "cell_type": "markdown",
   "id": "7213c746",
   "metadata": {},
   "source": [
    "## Powerline\n",
    "\n",
    "Powerline calculations can be performed using the `powerline` dataset.  This dataset calculates line sag, line sway, and line gallop.  \n",
    "\n",
    "To use this dataset additional data is usually required. When the needed data is not available at a specific position or location, static values can be provided using the available dataset options. Valid dataset options include the following:\n",
    "\n",
    "- `--air_temperature=FLOAT` specified in Celsius, with a default of 30 C.\n",
    "- `--wind_speed=FLOAT` specified in m/s, with a default is 0 m/s.\n",
    "- `--wind_direction=FLOAT` specified in degrees, with a default is 0 degrees.\n",
    "- `--ice_thickness=FLOAT` specified in meters, with a default is 0 m.\n",
    "- `--power_flow=FLOAT` specified in Watts, with a default is 0 W.\n",
    "- `--global_horizontal_irradiance=FLOAT` specified in W/m^2, with a default of 1000 W/m^2.\n",
    "- `--ground_reflectance=FLOAT` specified per unit, with a default of 0.3 pu.\n",
    "- `--ice_density=FLOAT` specified in kg/m^3, with a default of 915 kg/m^3.\n",
    "- `--nominal_temperature=FLOAT` specified in Celcius, with a default of 15 C.\n",
    "- `--cable_type=STRING` specified as a string lookup in the cable type file, with no default value.\n",
    "- `--elevation=FLOAT` specified in m above sea level, with a default of 0 m.\n",
    "\n",
    "For example, the cable type has no default and a reference to a known cable type can be given on the command line, e.g.,"
   ]
  },
  {
   "cell_type": "code",
   "execution_count": null,
   "id": "f6cc13cb",
   "metadata": {
    "scrolled": false
   },
   "outputs": [],
   "source": [
    "!gridlabd geodata merge -D powerline path_example.csv --cable_type=\"TACSR/AC 610mm^2\" -r 250 -f TABLE:linesag"
   ]
  },
  {
   "cell_type": "markdown",
   "id": "eea57c44",
   "metadata": {},
   "source": [
    "Known cable types are listed in the `geodata_powerline_cabletypes.csv`, which contains the following fields:"
   ]
  },
  {
   "cell_type": "code",
   "execution_count": null,
   "id": "b6b925c0",
   "metadata": {},
   "outputs": [],
   "source": [
    "import pandas\n",
    "print(\"\\n\".join(pandas.read_csv(\"../geodata_powerline_cabletypes.csv\").columns.to_list()))"
   ]
  },
  {
   "cell_type": "markdown",
   "id": "0ab26798",
   "metadata": {},
   "source": [
    "The first record contains the following values"
   ]
  },
  {
   "cell_type": "code",
   "execution_count": null,
   "id": "e3159039",
   "metadata": {},
   "outputs": [],
   "source": [
    "pandas.read_csv(\"../geodata_powerline_cabletypes.csv\",nrows=1).transpose()"
   ]
  },
  {
   "cell_type": "markdown",
   "id": "20bd8572",
   "metadata": {},
   "source": [
    "When needed data is not provided or the value provided is invalid, a warning is output and the requested values are not calculated, e.g.,"
   ]
  },
  {
   "cell_type": "code",
   "execution_count": null,
   "id": "c58e3f7c",
   "metadata": {},
   "outputs": [],
   "source": [
    "!gridlabd geodata merge -D powerline path_example.csv -f TABLE:linesag # missing cable type"
   ]
  },
  {
   "cell_type": "code",
   "execution_count": null,
   "id": "1e5030c5",
   "metadata": {},
   "outputs": [],
   "source": [
    "!gridlabd geodata merge -D powerline path_example.csv -f TABLE:linesag --cable_type=\"My cabletype\" # bad cable type"
   ]
  },
  {
   "cell_type": "markdown",
   "id": "09abbe56",
   "metadata": {},
   "source": [
    "---\n",
    "# Getting help\n",
    "\n",
    "You can obtain help using the `help` directive, e.g.,"
   ]
  },
  {
   "cell_type": "code",
   "execution_count": null,
   "id": "6627ef94",
   "metadata": {
    "scrolled": false
   },
   "outputs": [],
   "source": [
    "!gridlabd geodata help | head -n 10"
   ]
  },
  {
   "cell_type": "code",
   "execution_count": null,
   "id": "713dbc41",
   "metadata": {},
   "outputs": [],
   "source": [
    "!gridlabd geodata help distance | head -n 10"
   ]
  },
  {
   "cell_type": "markdown",
   "id": "29eeed2a",
   "metadata": {},
   "source": [
    "---\n",
    "# Output Options"
   ]
  },
  {
   "cell_type": "markdown",
   "id": "private-measure",
   "metadata": {},
   "source": [
    "## Verbose"
   ]
  },
  {
   "cell_type": "markdown",
   "id": "4fa5579c",
   "metadata": {},
   "source": [
    "The `-v` or `--verbose` option can be used to get additional output about the stages of processing, e.g., "
   ]
  },
  {
   "cell_type": "code",
   "execution_count": null,
   "id": "e19f8cc7",
   "metadata": {},
   "outputs": [],
   "source": [
    "!gridlabd geodata merge -D distance 37,-122 38,-122 -v --units=km --precision.distance=3"
   ]
  },
  {
   "cell_type": "markdown",
   "id": "regular-quality",
   "metadata": {},
   "source": [
    "## Silent"
   ]
  },
  {
   "cell_type": "markdown",
   "id": "4c65e6b1",
   "metadata": {},
   "source": [
    "The `-s` or `--silent` option suppresses error messages while still returning an error condition, e.g.,"
   ]
  },
  {
   "cell_type": "code",
   "execution_count": null,
   "id": "95682b83",
   "metadata": {},
   "outputs": [],
   "source": [
    "!gridlabd geodata merge -D distance 37,-122 38,-122 --badoption -s || echo \"Exit code $?\""
   ]
  },
  {
   "cell_type": "markdown",
   "id": "decreased-cradle",
   "metadata": {},
   "source": [
    "## Warning"
   ]
  },
  {
   "cell_type": "markdown",
   "id": "29baf3e4",
   "metadata": {},
   "source": [
    "The `-w` or `--warning` option suppresses warning messages, e.g.,"
   ]
  },
  {
   "cell_type": "code",
   "execution_count": null,
   "id": "576305ee",
   "metadata": {},
   "outputs": [],
   "source": [
    "!gridlabd geodata merge -D distance 37,-122 38,-122 -r 100 -k location -w -f TABLE"
   ]
  },
  {
   "cell_type": "markdown",
   "id": "loaded-packet",
   "metadata": {},
   "source": [
    "If an error is desired instead of a warning, use the `--warning_as_error` option, e.g.,"
   ]
  },
  {
   "cell_type": "code",
   "execution_count": null,
   "id": "occasional-opera",
   "metadata": {},
   "outputs": [],
   "source": [
    "!gridlabd geodata merge -D distance 37,-122 38,-122 -r 100 -k location --warning_as_error # key warning is an error"
   ]
  },
  {
   "cell_type": "markdown",
   "id": "international-event",
   "metadata": {},
   "source": [
    "## Debug"
   ]
  },
  {
   "cell_type": "markdown",
   "id": "047cbc11",
   "metadata": {},
   "source": [
    "The `-d` or `--debug` option can be used to obtain details about why an error occurred.  For example, the following command has an invalid `lat,lon` tuple and results in a simple error message:"
   ]
  },
  {
   "cell_type": "code",
   "execution_count": null,
   "id": "19844cfd",
   "metadata": {},
   "outputs": [],
   "source": [
    "!gridlabd geodata merge -D distance 37,-122 38,-122 --units=furlongs"
   ]
  },
  {
   "cell_type": "markdown",
   "id": "6b81a51b",
   "metadata": {},
   "source": [
    "Using the debug option provides a more detailed traceback of the error that can be helpful in diagnostic the problem, particularly when it originates in a dataset package. The call arguments, options, and configuration is also output after the traceback information."
   ]
  },
  {
   "cell_type": "code",
   "execution_count": null,
   "id": "318cf241",
   "metadata": {},
   "outputs": [],
   "source": [
    "!gridlabd geodata merge -D distance 37,-122 38,-122 --units=furlongs -d # invalid unit"
   ]
  },
  {
   "cell_type": "markdown",
   "id": "7539fc1d",
   "metadata": {},
   "source": [
    "Note that using the debug flag also enables traceback of warnings from inside python modules, but may not traceback warnings from geodata packages. If this occurs, use the `--warning_as_error` option."
   ]
  },
  {
   "cell_type": "markdown",
   "id": "9487e5a0",
   "metadata": {},
   "source": [
    "# Configurations versus Options"
   ]
  },
  {
   "cell_type": "markdown",
   "id": "27921e1c",
   "metadata": {},
   "source": [
    "Configurations can be set in advance using configuration files and the `config` directive, or they can be specified at the command line.  Options can only be specified on the command line.\n",
    "\n",
    "The current `geodata` configuration values are obtained using the `--show_config` command line option:"
   ]
  },
  {
   "cell_type": "code",
   "execution_count": null,
   "id": "a3a938c7",
   "metadata": {},
   "outputs": [],
   "source": [
    "!gridlabd geodata --show_config"
   ]
  },
  {
   "cell_type": "markdown",
   "id": "f20e7634",
   "metadata": {},
   "source": [
    "This list will always include all the `system`, `user`, and `local` configuration items."
   ]
  },
  {
   "cell_type": "markdown",
   "id": "5c1c1cb7",
   "metadata": {},
   "source": [
    "The valid `geodata` option values are obtained using a similar command for options, e.g.,"
   ]
  },
  {
   "cell_type": "code",
   "execution_count": null,
   "id": "88c6d751",
   "metadata": {},
   "outputs": [],
   "source": [
    "!gridlabd geodata --show_options"
   ]
  },
  {
   "cell_type": "markdown",
   "id": "f4446b01",
   "metadata": {},
   "source": [
    "----\n",
    "# GridLAB-D Models"
   ]
  },
  {
   "cell_type": "markdown",
   "id": "ccdd9914",
   "metadata": {},
   "source": [
    "The `geodata` subcommand can be used from within GridLAB-D model files (GLM) files.  All GridLAB-D objects have a header attribute for latitude and longitude, and thus can provide the data needed to perform `geodata` create and merge operations.\n",
    "\n",
    "The following step-by-step example illustrates how address resolution can be performed on a GLM object."
   ]
  },
  {
   "cell_type": "markdown",
   "id": "950a503a",
   "metadata": {},
   "source": [
    "## Step 1: Add the needed geodata fields to the affected object classes"
   ]
  },
  {
   "cell_type": "markdown",
   "id": "minus-clerk",
   "metadata": {},
   "source": [
    "~~~\n",
    "module residential;\n",
    "class house\n",
    "{\n",
    "    char1024 address;\n",
    "}\n",
    "~~~"
   ]
  },
  {
   "cell_type": "markdown",
   "id": "89270b97",
   "metadata": {},
   "source": [
    "The `class` declaration adds the `address` field to the definition of `house` provided by the `residential` module."
   ]
  },
  {
   "cell_type": "markdown",
   "id": "d4536854",
   "metadata": {},
   "source": [
    "## Step 2: Create the needed objects with the required data"
   ]
  },
  {
   "cell_type": "markdown",
   "id": "conscious-theory",
   "metadata": {},
   "source": [
    "~~~\n",
    "object \n",
    "{\n",
    "    address \"2575 Sand Hill Rd., Menlo Park, CA, 94025\";\n",
    "}\n",
    "~~~"
   ]
  },
  {
   "cell_type": "markdown",
   "id": "594d9c63",
   "metadata": {},
   "source": [
    "## Step 3: Write the CSV data file needed to create the `geodata` entity"
   ]
  },
  {
   "cell_type": "markdown",
   "id": "burning-judgment",
   "metadata": {},
   "source": [
    "~~~\n",
    "#write /tmp/house_address.csv house:address\n",
    "~~~"
   ]
  },
  {
   "cell_type": "markdown",
   "id": "c9b10798",
   "metadata": {},
   "source": [
    "The `#write` macro generates a CSV field of all the `house` objects with only the `address` fields, which looks like this:"
   ]
  },
  {
   "cell_type": "markdown",
   "id": "athletic-animal",
   "metadata": {},
   "source": [
    "~~~\n",
    "id,class,name,address\n",
    "0,house,\"house:0\",\"2575 Sand Hill Rd., Menlo Park, CA\"\n",
    "~~~"
   ]
  },
  {
   "cell_type": "markdown",
   "id": "4b4c8c4e",
   "metadata": {},
   "source": [
    "## Step 4: Run the desired `geodata` operation"
   ]
  },
  {
   "cell_type": "markdown",
   "id": "living-spain",
   "metadata": {},
   "source": [
    "~~~\n",
    "#geodata merge -D address /tmp/house_address.csv --reverse --format GLM:@latitude,longitude -o /tmp/house_latlon.glm\n",
    "~~~"
   ]
  },
  {
   "cell_type": "markdown",
   "id": "e9e6efb7",
   "metadata": {},
   "source": [
    "The command merges the `address` dataset into the data from the CSV file, performing a reverse address resolution (i.e., address to location), and outputs the result to a GLM file.  The `GLM` format options specified only the `latitude` and `longitude` fields are to be generated.  The `@` symbol reformats the GLM output using `modify` directives instead of the default `object` directives. This is necessary to update existing objects rather than creating new ones.  The resulting file looks like this:"
   ]
  },
  {
   "cell_type": "markdown",
   "id": "significant-address",
   "metadata": {},
   "source": [
    "~~~\n",
    "modify house:0.longitude \"-122.20118\";\n",
    "modify house:0.latitude \"37.41546\";\n",
    "~~~"
   ]
  },
  {
   "cell_type": "markdown",
   "id": "8358397b",
   "metadata": {},
   "source": [
    "## Step 5: Include the updated values"
   ]
  },
  {
   "cell_type": "markdown",
   "id": "answering-focus",
   "metadata": {},
   "source": [
    "~~~\n",
    "#include /tmp/house_latlon.glm\n",
    "~~~"
   ]
  },
  {
   "cell_type": "markdown",
   "id": "7c9b7815",
   "metadata": {},
   "source": [
    "Now the object has the latitude and longitude data set based on the address provided."
   ]
  },
  {
   "cell_type": "markdown",
   "id": "a8b7868c",
   "metadata": {},
   "source": [
    "## Example 1\n",
    "The following example illustrates the result of using this method to resolve the geolocation of a house using its address."
   ]
  },
  {
   "cell_type": "code",
   "execution_count": null,
   "id": "93f40522",
   "metadata": {},
   "outputs": [],
   "source": [
    "!cat example.glm"
   ]
  },
  {
   "cell_type": "code",
   "execution_count": null,
   "id": "c5d725dd",
   "metadata": {},
   "outputs": [],
   "source": [
    "!gridlabd -I -w example.glm -o /tmp/example.json\n",
    "!gridlabd json-get objects Building_53 </tmp/example.json | awk '/latitude|longitude|address/{print$0;}'"
   ]
  },
  {
   "cell_type": "markdown",
   "id": "c53121fa",
   "metadata": {},
   "source": [
    "# Example 2\n",
    "The following example illustrates using pipes to chain merge commands. In this case, the elevation data is generated at 25 meter resolution along the path, and the result is passed to the distance calculation which fills in the relative distance from the points in the original dataset."
   ]
  },
  {
   "cell_type": "code",
   "execution_count": null,
   "id": "0a2e53b7",
   "metadata": {
    "scrolled": false
   },
   "outputs": [],
   "source": [
    "!gridlabd geodata merge -D elevation path_example.csv -r 250 \\\n",
    "| gridlabd geodata merge -D distance -f TABLE --relative --table.width=999 --table.max_rows=999"
   ]
  },
  {
   "cell_type": "markdown",
   "id": "amino-traveler",
   "metadata": {},
   "source": [
    "# Example 3\n",
    "Ths following example illustrates merging elevation, vegetation, and powerline data."
   ]
  },
  {
   "cell_type": "code",
   "execution_count": null,
   "id": "amateur-restaurant",
   "metadata": {
    "scrolled": false
   },
   "outputs": [],
   "source": [
    "!gridlabd geodata merge -D elevation path_example.csv -r 250 --resolution_id \\\n",
    "| gridlabd geodata merge -D vegetation \\\n",
    "| gridlabd geodata merge -D powerline --cable_type=\"TACSR/AC 610mm^2\" --margin.vertical=0 -f TABLE:latitude,longitude,pole_height,elevation,linesag,cover,height,contact --table.width=999 --table.max_rows=999"
   ]
  },
  {
   "cell_type": "code",
   "execution_count": null,
   "id": "concerned-principal",
   "metadata": {},
   "outputs": [],
   "source": []
  }
 ],
 "metadata": {
  "kernelspec": {
   "display_name": "Python 3",
   "language": "python",
   "name": "python3"
  },
  "language_info": {
   "codemirror_mode": {
    "name": "ipython",
    "version": 3
   },
   "file_extension": ".py",
   "mimetype": "text/x-python",
   "name": "python",
   "nbconvert_exporter": "python",
   "pygments_lexer": "ipython3",
   "version": "3.9.5"
  }
 },
 "nbformat": 4,
 "nbformat_minor": 5
}
