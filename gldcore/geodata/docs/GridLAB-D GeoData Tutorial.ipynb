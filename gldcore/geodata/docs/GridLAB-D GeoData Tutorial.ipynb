{
 "cells": [
  {
   "cell_type": "markdown",
   "id": "7222eeac",
   "metadata": {},
   "source": [
    "# GridLAB-D GeoData Subcommand\n",
    "\n",
    "As of version 4.2.21, HiPAS GridLAB-D supports the handling of geographic data.  This command checks the version of GridLAB-D."
   ]
  },
  {
   "cell_type": "code",
   "execution_count": 1,
   "id": "8eaa67ff",
   "metadata": {},
   "outputs": [
    {
     "name": "stdout",
     "output_type": "stream",
     "text": [
      "HiPAS GridLAB-D 4.2.21-210511\r\n"
     ]
    }
   ],
   "source": [
    "!gridlabd --version"
   ]
  },
  {
   "cell_type": "markdown",
   "id": "466609bd",
   "metadata": {},
   "source": [
    "The `geodata` subcommand uses the general syntax `gridlabd geodata OPTIONS DIRECTIVE [ARGUMENTS]`.  "
   ]
  },
  {
   "cell_type": "markdown",
   "id": "f5cdcc19",
   "metadata": {},
   "source": [
    "## Creating location data\n",
    "\n",
    "There are two basic types of geodata entities in GridLAB-D: \n",
    "\n",
    "1. an unordered collection of points each specified by a `latitude,longitude` tuple; and \n",
    "\n",
    "1. an ordered series of waypoints along a path specified by a sequence of `latitude,longitude` tuples.  \n",
    "\n",
    "The interpretation of a the entity is left to the dataset processor, but it can often been specified using the `location` or `position` keys, respectively.  A geodata entity can be converted from one to another by simply changing the key (see Geodata Indexing below)."
   ]
  },
  {
   "cell_type": "markdown",
   "id": "c957a796",
   "metadata": {},
   "source": [
    "The `create` directive is used to create a new geodata entity.  The general syntax is `gridlabd geodata create LOCATIONS ...`.\n",
    "\n",
    "There are two methods of introducing locations.  The first method introduces one or more `latitude,longitude` tuples directly in the command line.  For example, the following command creates a dataset with the approximate location of SLAC's main gate."
   ]
  },
  {
   "cell_type": "code",
   "execution_count": 2,
   "id": "78514267",
   "metadata": {},
   "outputs": [
    {
     "name": "stdout",
     "output_type": "stream",
     "text": [
      "id,latitude,longitude\r\n",
      "0,37.415,-122.201\r\n"
     ]
    }
   ],
   "source": [
    "!gridlabd geodata create 37.415,-122.201"
   ]
  },
  {
   "cell_type": "markdown",
   "id": "31af7ca6",
   "metadata": {},
   "source": [
    "Multiple locations can be introduced by adding them to the command, for example:"
   ]
  },
  {
   "cell_type": "code",
   "execution_count": 3,
   "id": "3b479940",
   "metadata": {},
   "outputs": [
    {
     "name": "stdout",
     "output_type": "stream",
     "text": [
      "id,latitude,longitude\r\n",
      "0,37.41,-122.201\r\n",
      "1,37.42,-122.201\r\n"
     ]
    }
   ],
   "source": [
    "!gridlabd geodata create 37.410,-122.201 37.420,-122.201"
   ]
  },
  {
   "cell_type": "markdown",
   "id": "cede886a",
   "metadata": {},
   "source": [
    "The second method uses an input file with locations and associated data, such as this example CSV file:"
   ]
  },
  {
   "cell_type": "code",
   "execution_count": 4,
   "id": "326a403b",
   "metadata": {},
   "outputs": [
    {
     "name": "stdout",
     "output_type": "stream",
     "text": [
      "latitude,longitude,configuration,pole_height\r\n",
      "37.415045141688054,-122.2056472090359,flat3,15.0\r\n",
      "37.414698020593065,-122.20848749028133,sideT,15.0\r\n",
      "37.414454093051745,-122.21044282065421,sideT,15.0\r\n"
     ]
    }
   ],
   "source": [
    "!head -n 4 path_example.csv"
   ]
  },
  {
   "cell_type": "markdown",
   "id": "5f8a4e5e",
   "metadata": {},
   "source": [
    "To use this file, the following command can be used:"
   ]
  },
  {
   "cell_type": "code",
   "execution_count": 5,
   "id": "8eb339af",
   "metadata": {},
   "outputs": [
    {
     "name": "stdout",
     "output_type": "stream",
     "text": [
      "id,latitude,longitude,configuration,pole_height\r\n",
      "0,37.41504514168805,-122.20564720903592,flat3,15.0\r\n",
      "1,37.414698020593065,-122.20848749028131,sideT,15.0\r\n",
      "2,37.414454093051745,-122.21044282065421,sideT,15.0\r\n"
     ]
    }
   ],
   "source": [
    "!gridlabd geodata create path_example.csv | head -n 4"
   ]
  },
  {
   "cell_type": "markdown",
   "id": "80275003",
   "metadata": {},
   "source": [
    "Note that if multiple locations are provided they are sequences in the order in which they are presented, including if locations are provided directly on the command line or from data files."
   ]
  },
  {
   "cell_type": "markdown",
   "id": "3436c3e2",
   "metadata": {},
   "source": [
    "# Geodata formatting\n",
    "\n",
    "The output format can be changed using the `-f` or `--format` option. The valid formats are `CSV`, `JSON`, `RAW`, and `TABLE`.  `CSV` format is the default, but can be specified as follows:"
   ]
  },
  {
   "cell_type": "code",
   "execution_count": 6,
   "id": "2a6a0a7f",
   "metadata": {},
   "outputs": [
    {
     "name": "stdout",
     "output_type": "stream",
     "text": [
      "id,latitude,longitude\r\n",
      "0,37.41,-122.201\r\n",
      "1,37.42,-122.201\r\n"
     ]
    }
   ],
   "source": [
    "!gridlabd geodata create 37.410,-122.201 37.420,-122.201 -f CSV"
   ]
  },
  {
   "cell_type": "markdown",
   "id": "e805d709",
   "metadata": {},
   "source": [
    "JSON output looks like this:"
   ]
  },
  {
   "cell_type": "code",
   "execution_count": 7,
   "id": "c1fb3803",
   "metadata": {},
   "outputs": [
    {
     "name": "stdout",
     "output_type": "stream",
     "text": [
      "[{\"latitude\":37.41,\"longitude\":-122.201},{\"latitude\":37.42,\"longitude\":-122.201}]\r\n"
     ]
    }
   ],
   "source": [
    "!gridlabd geodata create 37.410,-122.201 37.420,-122.201 -f JSON"
   ]
  },
  {
   "cell_type": "markdown",
   "id": "3b279698",
   "metadata": {},
   "source": [
    "RAW output is generated as follows"
   ]
  },
  {
   "cell_type": "code",
   "execution_count": 8,
   "id": "c18fd3bb",
   "metadata": {},
   "outputs": [
    {
     "name": "stdout",
     "output_type": "stream",
     "text": [
      "37.41 -122.201\r\n",
      "37.42 -122.201\r\n"
     ]
    }
   ],
   "source": [
    "!gridlabd geodata create 37.410,-122.201 37.420,-122.201 -f RAW"
   ]
  },
  {
   "cell_type": "markdown",
   "id": "8bf74ca7",
   "metadata": {},
   "source": [
    "TABLE output is generated for easy reading:"
   ]
  },
  {
   "cell_type": "code",
   "execution_count": 9,
   "id": "25103979",
   "metadata": {},
   "outputs": [
    {
     "name": "stdout",
     "output_type": "stream",
     "text": [
      "    latitude  longitude\r\n",
      "id                     \r\n",
      "0      37.41   -122.201\r\n",
      "1      37.42   -122.201\r\n"
     ]
    }
   ],
   "source": [
    "!gridlabd geodata create 37.410,-122.201 37.420,-122.201 -f TABLE"
   ]
  },
  {
   "cell_type": "markdown",
   "id": "7b65da0e",
   "metadata": {},
   "source": [
    "Output formats may include an ordered field list, such as"
   ]
  },
  {
   "cell_type": "code",
   "execution_count": 10,
   "id": "4303971d",
   "metadata": {},
   "outputs": [
    {
     "name": "stdout",
     "output_type": "stream",
     "text": [
      "id,longitude,latitude\r\n",
      "0,-122.201,37.41\r\n",
      "1,-122.201,37.42\r\n"
     ]
    }
   ],
   "source": [
    "!gridlabd geodata create 37.410,-122.201 37.420,-122.201 -f CSV:longitude,latitude"
   ]
  },
  {
   "cell_type": "markdown",
   "id": "9d8f7276",
   "metadata": {},
   "source": [
    "# Geodata indexing\n",
    "\n",
    "The output can be indexed using one of several standards keys, or keys from the data. The default key is `id` which is the row number, as seen above. This key can be explicitly specified as follows:"
   ]
  },
  {
   "cell_type": "code",
   "execution_count": 11,
   "id": "04e66925",
   "metadata": {},
   "outputs": [
    {
     "name": "stdout",
     "output_type": "stream",
     "text": [
      "id,latitude,longitude\n",
      "0,37.41,-122.201\n",
      "1,37.42,-122.201\n"
     ]
    }
   ],
   "source": [
    "!gridlabd geodata create 37.410,-122.201 37.420,-122.201 -k id"
   ]
  },
  {
   "cell_type": "markdown",
   "id": "474e178c",
   "metadata": {},
   "source": [
    "The `location` key generates a geohash code:"
   ]
  },
  {
   "cell_type": "code",
   "execution_count": 12,
   "id": "14bcf205",
   "metadata": {},
   "outputs": [
    {
     "name": "stdout",
     "output_type": "stream",
     "text": [
      "location,latitude,longitude,id\r\n",
      "9q9hg4rcn36n,37.41,-122.201,0\r\n",
      "9q9hghpgq3d4,37.42,-122.201,1\r\n"
     ]
    }
   ],
   "source": [
    "!gridlabd geodata create 37.410,-122.201 37.420,-122.201 -k location"
   ]
  },
  {
   "cell_type": "markdown",
   "id": "3d694641",
   "metadata": {},
   "source": [
    "The `position` key generates a distance index, treating the data rows as a series of waypoints along a path. When this key is used, the distance and heading also generated."
   ]
  },
  {
   "cell_type": "code",
   "execution_count": 13,
   "id": "561b0d9d",
   "metadata": {},
   "outputs": [
    {
     "name": "stdout",
     "output_type": "stream",
     "text": [
      "position,latitude,longitude,id,distance,heading\r\n",
      "0,37.41,-122.201,0,0.0,\r\n",
      "1111,37.42,-122.201,1,1111.9508023359672,0.0\r\n"
     ]
    }
   ],
   "source": [
    "!gridlabd geodata create 37.410,-122.201 37.420,-122.201 -k position"
   ]
  },
  {
   "cell_type": "markdown",
   "id": "2fa64082",
   "metadata": {},
   "source": [
    "Any field or set of fields may be used for indexing, e.g.,"
   ]
  },
  {
   "cell_type": "code",
   "execution_count": 14,
   "id": "29308901",
   "metadata": {},
   "outputs": [
    {
     "name": "stdout",
     "output_type": "stream",
     "text": [
      "latitude,longitude,id\r\n",
      "37.41,-122.201,0\r\n",
      "37.42,-122.201,1\r\n"
     ]
    }
   ],
   "source": [
    "!gridlabd geodata create 37.410,-122.201 37.420,-122.201 -k latitude,longitude"
   ]
  },
  {
   "cell_type": "markdown",
   "id": "864627bf",
   "metadata": {},
   "source": [
    "# Path waypoints\n",
    "\n",
    "Waypoints can be generated along a path using the `-r` or `--resolution` option.  For example, 250-meter waypoints are generated using the following syntax:"
   ]
  },
  {
   "cell_type": "code",
   "execution_count": 26,
   "id": "fd18778b",
   "metadata": {},
   "outputs": [
    {
     "name": "stdout",
     "output_type": "stream",
     "text": [
      "position,latitude,longitude,id,distance,heading\r\n",
      "0,37.41,-122.201,0.0,0.0,\r\n",
      "250,37.412248300909305,-122.201,,250.0,0.0\r\n",
      "500,37.41449660181861,-122.201,,500.0,0.0\r\n",
      "750,37.41674490272792,-122.201,,750.0,0.0\r\n",
      "1000,37.41899320363723,-122.201,,1000.0,0.0\r\n",
      "1111,37.42,-122.201,1.0,1111.9508023359672,0.0\r\n"
     ]
    }
   ],
   "source": [
    "!gridlabd geodata create 37.410,-122.201 37.420,-122.201 -r 250"
   ]
  },
  {
   "cell_type": "markdown",
   "id": "0f5b6a59",
   "metadata": {},
   "source": [
    "When using waypoints, the key is automatically set to `position`.  The use of other keys is not supported. In addition, any waypoint added in the process is not assigned a row `id` in order to protect the original row ids. \n",
    "\n",
    "The index can be changed with the `-k` or `--key` options using a pipe, e.g.,"
   ]
  },
  {
   "cell_type": "code",
   "execution_count": 32,
   "id": "75bca7f5",
   "metadata": {},
   "outputs": [
    {
     "name": "stdout",
     "output_type": "stream",
     "text": [
      "location,position,latitude,longitude,id,distance,heading\r\n",
      "9q9hg4rcn36n,0,37.41,-122.20100000000001,0.0,0.0,\r\n",
      "9q9hg4xynkd4,250,37.412248300909305,-122.20100000000001,,250.0,0.0\r\n",
      "9q9hg5pgnrdj,500,37.41449660181861,-122.20100000000001,,500.0,0.0\r\n",
      "9q9hg5xbq6f1,750,37.41674490272792,-122.20100000000001,,750.0,0.0\r\n",
      "9q9hg5zvqmfh,1000,37.41899320363723,-122.20100000000001,,1000.0,0.0\r\n",
      "9q9hghpgq3d4,1111,37.42,-122.20100000000001,1.0,1111.9508023359672,0.0\r\n"
     ]
    }
   ],
   "source": [
    "!gridlabd geodata create 37.410,-122.201 37.420,-122.201 -r 250 | gridlabd geodata create -k location"
   ]
  },
  {
   "cell_type": "markdown",
   "id": "8fa82916",
   "metadata": {},
   "source": [
    "# Datasets\n",
    "\n",
    "The `merge` directive is used to merge a dataset with an existing geodata entity.  The general syntax is `gridlabd geodata merge -D DATASET OPTIONS"
   ]
  },
  {
   "cell_type": "markdown",
   "id": "2dd72b51",
   "metadata": {},
   "source": [
    "## Distance\n",
    "\n",
    "The `distance` dataset provide great-circle distance calculations.  For example, the following calculated the distance from the first point in the series."
   ]
  },
  {
   "cell_type": "code",
   "execution_count": 15,
   "id": "e072d0b1",
   "metadata": {},
   "outputs": [
    {
     "name": "stdout",
     "output_type": "stream",
     "text": [
      "id,latitude,longitude,distance\r\n",
      "0,37.41,-122.201,0.0\r\n",
      "1,37.42,-122.201,593.0\r\n"
     ]
    }
   ],
   "source": [
    "!gridlabd geodata merge -D distance 37.410,-122.201 37.420,-122.201"
   ]
  },
  {
   "cell_type": "markdown",
   "id": "efdbea82",
   "metadata": {},
   "source": [
    "The `distance` dataset support different units, include `meters` or `m`, `kilometers` or `km`, `feet` or `ft`, `yards` or `yd`, `miles` or `mi`.  For example, the following calculates the distances in feet:"
   ]
  },
  {
   "cell_type": "code",
   "execution_count": 16,
   "id": "20e94cae",
   "metadata": {},
   "outputs": [
    {
     "name": "stdout",
     "output_type": "stream",
     "text": [
      "id,latitude,longitude,distance\r\n",
      "0,37.41,-122.201,0.0\r\n",
      "1,37.42,-122.201,1944.0\r\n"
     ]
    }
   ],
   "source": [
    "!gridlabd geodata merge -D distance 37.410,-122.201 37.420,-122.201 --units=feet"
   ]
  },
  {
   "cell_type": "markdown",
   "id": "a046fe47",
   "metadata": {},
   "source": [
    "Note that the default precision with which distances are calculated in 0 decimals. Thus the distance in `km` is rounded up to `1.0`:"
   ]
  },
  {
   "cell_type": "code",
   "execution_count": 17,
   "id": "5a3b8be6",
   "metadata": {},
   "outputs": [
    {
     "name": "stdout",
     "output_type": "stream",
     "text": [
      "id,latitude,longitude,distance\r\n",
      "0,37.41,-122.201,0.0\r\n",
      "1,37.42,-122.201,1.0\r\n"
     ]
    }
   ],
   "source": [
    "!gridlabd geodata merge -D distance 37.410,-122.201 37.420,-122.201 --units=km"
   ]
  },
  {
   "cell_type": "markdown",
   "id": "a0c9d1ea",
   "metadata": {},
   "source": [
    "The precision can be changed thus: "
   ]
  },
  {
   "cell_type": "code",
   "execution_count": 18,
   "id": "64ca5a1a",
   "metadata": {},
   "outputs": [
    {
     "name": "stdout",
     "output_type": "stream",
     "text": [
      "id,latitude,longitude,distance\r\n",
      "0,37.41,-122.201,0.0\r\n",
      "1,37.42,-122.201,0.59\r\n"
     ]
    }
   ],
   "source": [
    "!gridlabd geodata merge -D distance 37.410,-122.201 37.420,-122.201 --units=km --precision=2"
   ]
  },
  {
   "cell_type": "markdown",
   "id": "f3eec558",
   "metadata": {},
   "source": [
    "## Address\n",
    "\n",
    "You can use the `address` dataset to perform address resolution operations, both to and from latitude and longitude.\n",
    "\n",
    "To obtain the address at a location, use the following command"
   ]
  },
  {
   "cell_type": "code",
   "execution_count": 19,
   "id": "a5fcb43f",
   "metadata": {},
   "outputs": [
    {
     "name": "stdout",
     "output_type": "stream",
     "text": [
      "id,latitude,longitude,address\r\n",
      "0,37.415,-122.201,\"Stanford Linear Accelerator Center National Accelerator Laboratory, Sand Hill Road, Menlo Park, San Mateo County, California, 94028, United States\"\r\n"
     ]
    }
   ],
   "source": [
    "!gridlabd geodata merge -D address 37.415,-122.201"
   ]
  },
  {
   "cell_type": "markdown",
   "id": "400c5abd",
   "metadata": {},
   "source": [
    "To find the latitude and longitude of an address, use the command:"
   ]
  },
  {
   "cell_type": "code",
   "execution_count": 20,
   "id": "74036042",
   "metadata": {},
   "outputs": [
    {
     "name": "stdout",
     "output_type": "stream",
     "text": [
      "id,index,address,longitude,latitude\r\n",
      "0,0,\"2575 Sand Hill Road, Menlo Park CA\",-122.20117634090091,37.4154632\r\n"
     ]
    }
   ],
   "source": [
    "!gridlabd geodata merge -D address --reverse \"2575 Sand Hill Road, Menlo Park CA\""
   ]
  },
  {
   "cell_type": "markdown",
   "id": "117f7c65",
   "metadata": {},
   "source": [
    "You can perform both operations to resolve the \"official\" address from an incomplete address:"
   ]
  },
  {
   "cell_type": "code",
   "execution_count": 21,
   "id": "28c43c20",
   "metadata": {},
   "outputs": [
    {
     "name": "stdout",
     "output_type": "stream",
     "text": [
      "id,index,address,longitude,latitude\r\n",
      "0,0,\"Stanford Linear Accelerator Center National Accelerator Laboratory, Sand Hill Road, Menlo Park, San Mateo County, California, 94028, United States\",-122.20117634090091,37.415463200000005\r\n"
     ]
    }
   ],
   "source": [
    "!gridlabd geodata merge -D address --reverse \"2575 Sand Hill Road, Menlo Park CA\" | gridlabd geodata merge -D address"
   ]
  },
  {
   "cell_type": "markdown",
   "id": "bbc735f4",
   "metadata": {},
   "source": [
    "## Elevation\n"
   ]
  },
  {
   "cell_type": "code",
   "execution_count": 22,
   "id": "db536215",
   "metadata": {},
   "outputs": [
    {
     "name": "stdout",
     "output_type": "stream",
     "text": [
      "id,latitude,longitude,elevation\r\n",
      "0,37.415,-122.20100000000001,83.0\r\n"
     ]
    }
   ],
   "source": [
    "!gridlabd geodata create 37.415,-122.201 | gridlabd geodata merge -D elevation"
   ]
  },
  {
   "cell_type": "markdown",
   "id": "6107980a",
   "metadata": {},
   "source": [
    "# Debugging\n",
    "\n",
    "The `-d` or `--debug` option can be used to obtain details about why an error occurred.  For example, the following command has an invalid `lat,lon` tuple and results in a simple error message:"
   ]
  },
  {
   "cell_type": "code",
   "execution_count": 23,
   "id": "eb6182ef",
   "metadata": {},
   "outputs": [
    {
     "name": "stdout",
     "output_type": "stream",
     "text": [
      "ERROR [geodata/distance]: unit 'furlongs' is not valid\r\n"
     ]
    }
   ],
   "source": [
    "!gridlabd geodata merge -D distance 37,-122 38,-122 --units=furlongs"
   ]
  },
  {
   "cell_type": "markdown",
   "id": "68558a20",
   "metadata": {},
   "source": [
    "Using the debug option provides a more detailed traceback of the error that can be helpful in diagnostic the problem, particularly when it originates in a dataset package."
   ]
  },
  {
   "cell_type": "code",
   "execution_count": 24,
   "id": "e8a50eaa",
   "metadata": {},
   "outputs": [
    {
     "name": "stdout",
     "output_type": "stream",
     "text": [
      "Traceback (most recent call last):\r\n",
      "  File \"/usr/local/opt/gridlabd/4.2.21-210511-develop_geodata_subcommand/bin/gridlabd-geodata\", line 794, in merge\r\n",
      "    result = MODULE.apply(data,options,config,warning)\r\n",
      "  File \"/usr/local/opt/gridlabd/4.2.21-210511-develop_geodata_subcommand/share/gridlabd/geodata_distance.py\", line 103, in apply\r\n",
      "    raise Exception(f\"unit '{options['units']}' is not valid\")\r\n",
      "Exception: unit 'furlongs' is not valid\r\n",
      "DEBUG [geodata/distance]: merge(args='['37,-122', '38,-122', '--units=furlongs']') --> data = \r\n",
      "----\r\n",
      "None\r\n",
      "----\r\n",
      "options = {\r\n",
      "    \"plot\": {\r\n",
      "        \"figsize\": [\r\n",
      "            7.0,\r\n",
      "            5.0\r\n",
      "        ],\r\n",
      "        \"cmap\": \"\",\r\n",
      "        \"categorical\": false,\r\n",
      "        \"legend\": false,\r\n",
      "        \"scheme\": \"\",\r\n",
      "        \"k\": 5,\r\n",
      "        \"vmin\": NaN,\r\n",
      "        \"vmax\": NaN,\r\n",
      "        \"aspect\": \"auto\"\r\n",
      "    },\r\n",
      "    \"show\": {\r\n",
      "        \"block\": true\r\n",
      "    },\r\n",
      "    \"savefig\": {\r\n",
      "        \"dpi\": 300,\r\n",
      "        \"facecolor\": \"w\",\r\n",
      "        \"edgecolor\": \"k\",\r\n",
      "        \"orientation\": \"landscape\",\r\n",
      "        \"format\": \"png\",\r\n",
      "        \"transparent\": false,\r\n",
      "        \"bbox_inches\": 0.25,\r\n",
      "        \"pad_inches\": 0.1,\r\n",
      "        \"metadata\": \"{\\\"application\\\": \\\"gridlabd-geodata\\\", \\\"version\\\": \\\"0.0.0\\\"}\"\r\n",
      "    },\r\n",
      "    \"table\": {\r\n",
      "        \"max_rows\": 10,\r\n",
      "        \"max_columns\": 10,\r\n",
      "        \"width\": 100,\r\n",
      "        \"max_colwidth\": 10\r\n",
      "    },\r\n",
      "    \"units\": \"furlongs\"\r\n",
      "}\r\n",
      "config = {\r\n",
      "    \"precision\": 0\r\n",
      "}\r\n"
     ]
    }
   ],
   "source": [
    "!gridlabd geodata merge -D distance 37,-122 38,-122 --units=furlongs -d"
   ]
  },
  {
   "cell_type": "code",
   "execution_count": null,
   "id": "f8680113",
   "metadata": {},
   "outputs": [],
   "source": []
  },
  {
   "cell_type": "code",
   "execution_count": null,
   "id": "48492207",
   "metadata": {},
   "outputs": [],
   "source": []
  }
 ],
 "metadata": {
  "kernelspec": {
   "display_name": "Python 3",
   "language": "python",
   "name": "python3"
  },
  "language_info": {
   "codemirror_mode": {
    "name": "ipython",
    "version": 3
   },
   "file_extension": ".py",
   "mimetype": "text/x-python",
   "name": "python",
   "nbconvert_exporter": "python",
   "pygments_lexer": "ipython3",
   "version": "3.9.4"
  }
 },
 "nbformat": 4,
 "nbformat_minor": 5
}
