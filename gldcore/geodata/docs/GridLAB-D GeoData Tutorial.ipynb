{
 "cells": [
  {
   "cell_type": "markdown",
   "id": "1386863e",
   "metadata": {},
   "source": [
    "# GridLAB-D GeoData Subcommand\n",
    "\n",
    "As of version 4.2.21, HiPAS GridLAB-D supports the handling of geographic data.  This command checks the version of GridLAB-D."
   ]
  },
  {
   "cell_type": "code",
   "execution_count": 1,
   "id": "6aa36791",
   "metadata": {},
   "outputs": [
    {
     "name": "stdout",
     "output_type": "stream",
     "text": [
      "HiPAS GridLAB-D 4.2.21-210512\r\n"
     ]
    }
   ],
   "source": [
    "!gridlabd --version"
   ]
  },
  {
   "cell_type": "markdown",
   "id": "62935d32",
   "metadata": {},
   "source": [
    "The `geodata` subcommand uses the general syntax `gridlabd geodata OPTIONS DIRECTIVE [ARGUMENTS]`.  "
   ]
  },
  {
   "cell_type": "markdown",
   "id": "d6715881",
   "metadata": {},
   "source": [
    "## Creating location data\n",
    "\n",
    "There are two basic types of geodata entities in GridLAB-D: \n",
    "\n",
    "1. an unordered collection of points each specified by a `latitude,longitude` tuple; and \n",
    "\n",
    "1. an ordered series of waypoints along a path specified by a sequence of `latitude,longitude` tuples.  \n",
    "\n",
    "The interpretation of a the entity is left to the dataset processor, but it can often been specified using the `location` or `position` keys, respectively.  A geodata entity can be converted from one to another by simply changing the key (see Geodata Indexing below)."
   ]
  },
  {
   "cell_type": "markdown",
   "id": "7e985c38",
   "metadata": {},
   "source": [
    "The `create` directive is used to create a new geodata entity.  The general syntax is `gridlabd geodata create LOCATIONS ...`.\n",
    "\n",
    "There are two methods of introducing locations.  The first method introduces one or more `latitude,longitude` tuples directly in the command line.  For example, the following command creates a dataset with the approximate location of SLAC's main gate."
   ]
  },
  {
   "cell_type": "code",
   "execution_count": 2,
   "id": "899d1d3c",
   "metadata": {},
   "outputs": [
    {
     "name": "stdout",
     "output_type": "stream",
     "text": [
      "id,latitude,longitude\r\n",
      "0,37.41500,-122.20100\r\n"
     ]
    }
   ],
   "source": [
    "!gridlabd geodata create 37.415,-122.201"
   ]
  },
  {
   "cell_type": "markdown",
   "id": "67f749f9",
   "metadata": {},
   "source": [
    "Multiple locations can be introduced by adding them to the command, for example:"
   ]
  },
  {
   "cell_type": "code",
   "execution_count": 3,
   "id": "2327f5b2",
   "metadata": {},
   "outputs": [
    {
     "name": "stdout",
     "output_type": "stream",
     "text": [
      "id,latitude,longitude\r\n",
      "0,37.41000,-122.20100\r\n",
      "1,37.42000,-122.20100\r\n"
     ]
    }
   ],
   "source": [
    "!gridlabd geodata create 37.410,-122.201 37.420,-122.201"
   ]
  },
  {
   "cell_type": "markdown",
   "id": "ac51f88b",
   "metadata": {},
   "source": [
    "The second method uses an input file with locations and associated data, such as this example CSV file:"
   ]
  },
  {
   "cell_type": "code",
   "execution_count": 4,
   "id": "dd3d65b2",
   "metadata": {},
   "outputs": [
    {
     "name": "stdout",
     "output_type": "stream",
     "text": [
      "latitude,longitude,configuration,pole_height\r\n",
      "37.415045141688054,-122.2056472090359,flat3,15.0\r\n",
      "37.414698020593065,-122.20848749028133,sideT,15.0\r\n",
      "37.414454093051745,-122.21044282065421,sideT,15.0\r\n"
     ]
    }
   ],
   "source": [
    "!head -n 4 path_example.csv"
   ]
  },
  {
   "cell_type": "markdown",
   "id": "95af575f",
   "metadata": {},
   "source": [
    "To use this file, the following command can be used:"
   ]
  },
  {
   "cell_type": "code",
   "execution_count": 5,
   "id": "2e960d68",
   "metadata": {},
   "outputs": [
    {
     "name": "stdout",
     "output_type": "stream",
     "text": [
      "id,latitude,longitude,configuration,pole_height\r\n",
      "0,37.41505,-122.20565,flat3,15.0\r\n",
      "1,37.41470,-122.20849,sideT,15.0\r\n",
      "2,37.41445,-122.21044,sideT,15.0\r\n"
     ]
    }
   ],
   "source": [
    "!gridlabd geodata create path_example.csv | head -n 4"
   ]
  },
  {
   "cell_type": "markdown",
   "id": "ef82e913",
   "metadata": {},
   "source": [
    "Note that if multiple locations are provided they are sequences in the order in which they are presented, including if locations are provided directly on the command line or from data files."
   ]
  },
  {
   "cell_type": "markdown",
   "id": "b6ae5329",
   "metadata": {},
   "source": [
    "If no location information is given, then the geodata is read from `/dev/stdin`, e.g.,"
   ]
  },
  {
   "cell_type": "code",
   "execution_count": 6,
   "id": "b2f6c6ac",
   "metadata": {},
   "outputs": [
    {
     "name": "stdout",
     "output_type": "stream",
     "text": [
      "id,latitude,longitude\r\n",
      "0,37.41505,-122.20565\r\n",
      "1,37.41470,-122.20849\r\n",
      "2,37.41445,-122.21044\r\n"
     ]
    }
   ],
   "source": [
    "!head -n 4 path_example.csv | cut -f1-2 -d, | gridlabd geodata create"
   ]
  },
  {
   "cell_type": "markdown",
   "id": "2ca5e308",
   "metadata": {},
   "source": [
    "## Some useful options"
   ]
  },
  {
   "cell_type": "markdown",
   "id": "32e01348",
   "metadata": {},
   "source": [
    "The default precision with which latitudes and longitudes are output is 5 decimals, which is approximately 1 meter resolution. You can change the precision with which latitudes and longitudes are output using the `-p` or `--precision` option, e.g.,"
   ]
  },
  {
   "cell_type": "code",
   "execution_count": 34,
   "id": "97a10608",
   "metadata": {},
   "outputs": [
    {
     "name": "stdout",
     "output_type": "stream",
     "text": [
      "id,latitude,longitude\r\n",
      "0,37.4100,-122.2010\r\n",
      "1,37.4200,-122.2010\r\n"
     ]
    }
   ],
   "source": [
    "!gridlabd geodata create 37.410,-122.201 37.420,-122.201 -p 4"
   ]
  },
  {
   "cell_type": "markdown",
   "id": "734339ca",
   "metadata": {},
   "source": [
    "The default field separator for RAW output is a space. You can change this to any string using the `--fieldsep=STRING` option, e.g.,"
   ]
  },
  {
   "cell_type": "code",
   "execution_count": 36,
   "id": "d6c3a37d",
   "metadata": {},
   "outputs": [
    {
     "name": "stdout",
     "output_type": "stream",
     "text": [
      "37.41000:-122.20100\r\n",
      "37.42000:-122.20100\r\n"
     ]
    }
   ],
   "source": [
    "!gridlabd geodata create 37.410,-122.201 37.420,-122.201 -f RAW --fieldsep=:"
   ]
  },
  {
   "cell_type": "markdown",
   "id": "334830b7",
   "metadata": {},
   "source": [
    "Similarly the default record separator for RAW output is a newline. You can change this to any string using the `--recordsep=STRING` option, e.g.,"
   ]
  },
  {
   "cell_type": "code",
   "execution_count": 42,
   "id": "5e8363a3",
   "metadata": {},
   "outputs": [
    {
     "name": "stdout",
     "output_type": "stream",
     "text": [
      "37.41000 -122.20100 ; 37.42000 -122.20100\r\n"
     ]
    }
   ],
   "source": [
    "!gridlabd geodata create 37.410,-122.201 37.420,-122.201 -f RAW --recordsep=' ; '"
   ]
  },
  {
   "cell_type": "markdown",
   "id": "8f09337c",
   "metadata": {},
   "source": [
    "## Configurations\n",
    "There are three locations where configuration settings are maintain: (1) system, (2) user, and (3) local.  They are consulted in this order so that the system configuration overrides the default configuration, the user configuration override the system, and the local configuration overrides the user configuration.  \n",
    "\n",
    "By default the configuration files are named `geodata.conf`.  The system configuration is stored in `$GLD_ETC/geodata/geodata.conf` folder.  The user configuration is stored in `$HOME/.gridlabd/geodata/geodata.conf` and the local configuration is stored in `$PWD/geodata.conf`. \n",
    "\n",
    "The default configuration file name can be changed using the `-C FILENAME` or `--configfile FILENAME` option."
   ]
  },
  {
   "cell_type": "markdown",
   "id": "18b4281d",
   "metadata": {},
   "source": [
    "You can manage the current configuration using the `config` directive, e.g., to set the local configuration parameter `name` to `value`, use the `set` option"
   ]
  },
  {
   "cell_type": "code",
   "execution_count": 61,
   "id": "0d469a8f",
   "metadata": {},
   "outputs": [
    {
     "name": "stdout",
     "output_type": "stream",
     "text": [
      "WARNING [geodata/None]: config file '/Users/dchassin/Documents/GitHub/slacgismo/gridlabd/gldcore/geodata/docs/geodata.conf' is not found\r\n"
     ]
    }
   ],
   "source": [
    "!gridlabd geodata config set name local_value"
   ]
  },
  {
   "cell_type": "markdown",
   "id": "79b74f3d",
   "metadata": {},
   "source": [
    "Note that if the file in which the parameter is stored does not already exist, you will get a warning before it is created."
   ]
  },
  {
   "cell_type": "markdown",
   "id": "77a5cada",
   "metadata": {},
   "source": [
    "To get the value, use the `get` option:"
   ]
  },
  {
   "cell_type": "code",
   "execution_count": 62,
   "id": "5b34f661",
   "metadata": {},
   "outputs": [
    {
     "name": "stdout",
     "output_type": "stream",
     "text": [
      "local_value\r\n"
     ]
    }
   ],
   "source": [
    "!gridlabd geodata config get name"
   ]
  },
  {
   "cell_type": "markdown",
   "id": "843b5da1",
   "metadata": {},
   "source": [
    "To show all the configuration values, use the `show` option:"
   ]
  },
  {
   "cell_type": "code",
   "execution_count": 63,
   "id": "19a437db",
   "metadata": {},
   "outputs": [
    {
     "name": "stdout",
     "output_type": "stream",
     "text": [
      "name='local_value'\r\n"
     ]
    }
   ],
   "source": [
    "!gridlabd geodata config show"
   ]
  },
  {
   "cell_type": "markdown",
   "id": "ba50821e",
   "metadata": {},
   "source": [
    "To set a user configuration, use the `user.` prefix, e.g.,"
   ]
  },
  {
   "cell_type": "code",
   "execution_count": 64,
   "id": "6dba9333",
   "metadata": {},
   "outputs": [
    {
     "name": "stdout",
     "output_type": "stream",
     "text": [
      "name='local_value'\r\n",
      "user.name='user_value'\r\n"
     ]
    }
   ],
   "source": [
    "!gridlabd geodata config set user.name user_value\n",
    "!gridlabd geodata config show"
   ]
  },
  {
   "cell_type": "markdown",
   "id": "3636bb8e",
   "metadata": {},
   "source": [
    "The same syntax is used for system configuration values, e.g.,"
   ]
  },
  {
   "cell_type": "code",
   "execution_count": 66,
   "id": "9dc906ec",
   "metadata": {},
   "outputs": [
    {
     "name": "stdout",
     "output_type": "stream",
     "text": [
      "name='local_value'\r\n",
      "user.name='user_value'\r\n",
      "system.name='system_value'\r\n"
     ]
    }
   ],
   "source": [
    "!gridlabd geodata config set system.name system_value\n",
    "!gridlabd geodata config show"
   ]
  },
  {
   "cell_type": "markdown",
   "id": "41a6ed4a",
   "metadata": {},
   "source": [
    "To remove a value, use the `unset` option, e.g.,"
   ]
  },
  {
   "cell_type": "code",
   "execution_count": 67,
   "id": "877a177e",
   "metadata": {},
   "outputs": [
    {
     "name": "stdout",
     "output_type": "stream",
     "text": [
      "user.name='user_value'\r\n",
      "system.name='system_value'\r\n"
     ]
    }
   ],
   "source": [
    "!gridlabd geodata config unset name\n",
    "!gridlabd geodata config show"
   ]
  },
  {
   "cell_type": "markdown",
   "id": "20926937",
   "metadata": {},
   "source": [
    "# Geodata formatting\n",
    "\n",
    "The output format can be changed using the `-f` or `--format` option. The valid formats are `CSV`, `JSON`, `RAW`, and `TABLE`.  `CSV` format is the default, but can be specified as follows:"
   ]
  },
  {
   "cell_type": "code",
   "execution_count": 7,
   "id": "5f562694",
   "metadata": {},
   "outputs": [
    {
     "name": "stdout",
     "output_type": "stream",
     "text": [
      "id,latitude,longitude\r\n",
      "0,37.41000,-122.20100\r\n",
      "1,37.42000,-122.20100\r\n"
     ]
    }
   ],
   "source": [
    "!gridlabd geodata create 37.410,-122.201 37.420,-122.201 -f CSV"
   ]
  },
  {
   "cell_type": "markdown",
   "id": "40f39832",
   "metadata": {},
   "source": [
    "JSON output looks like this:"
   ]
  },
  {
   "cell_type": "code",
   "execution_count": 8,
   "id": "6721169c",
   "metadata": {},
   "outputs": [
    {
     "name": "stdout",
     "output_type": "stream",
     "text": [
      "[{\"latitude\":\"37.41000\",\"longitude\":\"-122.20100\"},{\"latitude\":\"37.42000\",\"longitude\":\"-122.20100\"}]\r\n"
     ]
    }
   ],
   "source": [
    "!gridlabd geodata create 37.410,-122.201 37.420,-122.201 -f JSON"
   ]
  },
  {
   "cell_type": "markdown",
   "id": "bcecd73d",
   "metadata": {},
   "source": [
    "RAW output is generated as follows"
   ]
  },
  {
   "cell_type": "code",
   "execution_count": 9,
   "id": "9279215a",
   "metadata": {},
   "outputs": [
    {
     "name": "stdout",
     "output_type": "stream",
     "text": [
      "37.41000 -122.20100\r\n",
      "37.42000 -122.20100\r\n"
     ]
    }
   ],
   "source": [
    "!gridlabd geodata create 37.410,-122.201 37.420,-122.201 -f RAW"
   ]
  },
  {
   "cell_type": "markdown",
   "id": "273e4650",
   "metadata": {},
   "source": [
    "TABLE output is generated for easy reading:"
   ]
  },
  {
   "cell_type": "code",
   "execution_count": 10,
   "id": "4cae9f9b",
   "metadata": {},
   "outputs": [
    {
     "name": "stdout",
     "output_type": "stream",
     "text": [
      "    latitude   longitude\r\n",
      "id                      \r\n",
      "0   37.41000  -122.20100\r\n",
      "1   37.42000  -122.20100\r\n"
     ]
    }
   ],
   "source": [
    "!gridlabd geodata create 37.410,-122.201 37.420,-122.201 -f TABLE"
   ]
  },
  {
   "cell_type": "markdown",
   "id": "1d07a557",
   "metadata": {},
   "source": [
    "Output formats may include an ordered field list, such as"
   ]
  },
  {
   "cell_type": "code",
   "execution_count": 11,
   "id": "72ac376e",
   "metadata": {},
   "outputs": [
    {
     "name": "stdout",
     "output_type": "stream",
     "text": [
      "id,longitude,latitude\r\n",
      "0,-122.20100,37.41000\r\n",
      "1,-122.20100,37.42000\r\n"
     ]
    }
   ],
   "source": [
    "!gridlabd geodata create 37.410,-122.201 37.420,-122.201 -f CSV:longitude,latitude"
   ]
  },
  {
   "cell_type": "markdown",
   "id": "024dc997",
   "metadata": {},
   "source": [
    "# Geodata indexing\n",
    "\n",
    "The output can be indexed using one of several standards keys, or keys from the data. The default key is `id` which is the row number, as seen above. This key can be explicitly specified as follows:"
   ]
  },
  {
   "cell_type": "code",
   "execution_count": 12,
   "id": "c5b568e3",
   "metadata": {},
   "outputs": [
    {
     "name": "stdout",
     "output_type": "stream",
     "text": [
      "id,latitude,longitude\r\n",
      "0,37.41000,-122.20100\r\n",
      "1,37.42000,-122.20100\r\n"
     ]
    }
   ],
   "source": [
    "!gridlabd geodata create 37.410,-122.201 37.420,-122.201 -k id"
   ]
  },
  {
   "cell_type": "markdown",
   "id": "209e4084",
   "metadata": {},
   "source": [
    "The `location` key generates a geohash code:"
   ]
  },
  {
   "cell_type": "code",
   "execution_count": 69,
   "id": "043fc934",
   "metadata": {},
   "outputs": [
    {
     "name": "stdout",
     "output_type": "stream",
     "text": [
      "location,latitude,longitude,id\r\n",
      "9q9hg4rcn36n,37.41000,-122.20100,0\r\n",
      "9q9hghpgq3d4,37.42000,-122.20100,1\r\n"
     ]
    }
   ],
   "source": [
    "!gridlabd geodata create 37.410,-122.201 37.420,-122.201 -k location"
   ]
  },
  {
   "cell_type": "markdown",
   "id": "f5953454",
   "metadata": {},
   "source": [
    "The `position` key generates a distance index, treating the data rows as a series of waypoints along a path. When this key is used, the distance and heading also generated."
   ]
  },
  {
   "cell_type": "code",
   "execution_count": 14,
   "id": "d2096dbd",
   "metadata": {},
   "outputs": [
    {
     "name": "stdout",
     "output_type": "stream",
     "text": [
      "position,latitude,longitude,id,distance,heading\r\n",
      "0,37.41000,-122.20100,0,0.0,\r\n",
      "1111,37.42000,-122.20100,1,1111.9508023359672,0.0\r\n"
     ]
    }
   ],
   "source": [
    "!gridlabd geodata create 37.410,-122.201 37.420,-122.201 -k position"
   ]
  },
  {
   "cell_type": "markdown",
   "id": "97183a9a",
   "metadata": {},
   "source": [
    "Any field or set of fields may be used for indexing, e.g.,"
   ]
  },
  {
   "cell_type": "code",
   "execution_count": 15,
   "id": "5b838e34",
   "metadata": {},
   "outputs": [
    {
     "name": "stdout",
     "output_type": "stream",
     "text": [
      "Traceback (most recent call last):\r\n",
      "  File \"/usr/local/lib/python3.9/site-packages/pandas/core/indexes/base.py\", line 2895, in get_loc\r\n",
      "    return self._engine.get_loc(casted_key)\r\n",
      "  File \"pandas/_libs/index.pyx\", line 70, in pandas._libs.index.IndexEngine.get_loc\r\n",
      "  File \"pandas/_libs/index.pyx\", line 101, in pandas._libs.index.IndexEngine.get_loc\r\n",
      "  File \"pandas/_libs/hashtable_class_helper.pxi\", line 1675, in pandas._libs.hashtable.PyObjectHashTable.get_item\r\n",
      "  File \"pandas/_libs/hashtable_class_helper.pxi\", line 1683, in pandas._libs.hashtable.PyObjectHashTable.get_item\r\n",
      "KeyError: 'latitude'\r\n",
      "\r\n",
      "The above exception was the direct cause of the following exception:\r\n",
      "\r\n",
      "Traceback (most recent call last):\r\n",
      "  File \"/usr/local/opt/gridlabd/4.2.21-210512-develop_geodata_subcommand/bin/gridlabd-geodata\", line 1294, in <module>\r\n",
      "    main(len(sys.argv),sys.argv)\r\n",
      "  File \"/usr/local/opt/gridlabd/4.2.21-210512-develop_geodata_subcommand/bin/gridlabd-geodata\", line 1277, in main\r\n",
      "    write_csv(data)\r\n",
      "  File \"/usr/local/opt/gridlabd/4.2.21-210512-develop_geodata_subcommand/bin/gridlabd-geodata\", line 880, in write_csv\r\n",
      "    data[COLUMNNAMES['LAT']] = data[COLUMNNAMES['LAT']].map(lambda x: f'%.{GEOPRECISION}f' % x)\r\n",
      "  File \"/usr/local/lib/python3.9/site-packages/pandas/core/frame.py\", line 2906, in __getitem__\r\n",
      "    indexer = self.columns.get_loc(key)\r\n",
      "  File \"/usr/local/lib/python3.9/site-packages/pandas/core/indexes/base.py\", line 2897, in get_loc\r\n",
      "    raise KeyError(key) from err\r\n",
      "KeyError: 'latitude'\r\n"
     ]
    }
   ],
   "source": [
    "!gridlabd geodata create 37.410,-122.201 37.420,-122.201 -k latitude,longitude"
   ]
  },
  {
   "cell_type": "markdown",
   "id": "4136be24",
   "metadata": {},
   "source": [
    "# Path waypoints\n",
    "\n",
    "Waypoints can be generated along a path using the `-r` or `--resolution` option.  For example, 250-meter waypoints are generated using the following syntax:"
   ]
  },
  {
   "cell_type": "code",
   "execution_count": 16,
   "id": "b6c36bbb",
   "metadata": {},
   "outputs": [
    {
     "name": "stdout",
     "output_type": "stream",
     "text": [
      "position,latitude,longitude,id,distance,heading\r\n",
      "0,37.41000,-122.20100,0.0,0.0,\r\n",
      "250,37.41225,-122.20100,,250.0,0.0\r\n",
      "500,37.41450,-122.20100,,500.0,0.0\r\n",
      "750,37.41674,-122.20100,,750.0,0.0\r\n",
      "1000,37.41899,-122.20100,,1000.0,0.0\r\n",
      "1111,37.42000,-122.20100,1.0,1111.9508023359672,0.0\r\n"
     ]
    }
   ],
   "source": [
    "!gridlabd geodata create 37.410,-122.201 37.420,-122.201 -r 250"
   ]
  },
  {
   "cell_type": "markdown",
   "id": "7c4ba4ce",
   "metadata": {},
   "source": [
    "When using waypoints, the key is automatically set to `position`.  The use of other keys is not supported. In addition, any waypoint added in the process is not assigned a row `id` in order to protect the original row ids. \n",
    "\n",
    "The index can be changed with the `-k` or `--key` options using a pipe, e.g.,"
   ]
  },
  {
   "cell_type": "code",
   "execution_count": 17,
   "id": "f1d3b55d",
   "metadata": {},
   "outputs": [
    {
     "name": "stdout",
     "output_type": "stream",
     "text": [
      "location,position,latitude,longitude,id,distance,heading\r\n",
      "9q9hg4rcn36n,0,37.41000,-122.20100,0.0,0.0,\r\n",
      "9q9hg4xynkfh,250,37.41225,-122.20100,,250.0,0.0\r\n",
      "9q9hg5pgq261,500,37.41450,-122.20100,,500.0,0.0\r\n",
      "9q9hg5xbq3fh,750,37.41674,-122.20100,,750.0,0.0\r\n",
      "9q9hg5zvqm61,1000,37.41899,-122.20100,,1000.0,0.0\r\n",
      "9q9hghpgq3d4,1111,37.42000,-122.20100,1.0,1111.9508023359672,0.0\r\n"
     ]
    }
   ],
   "source": [
    "!gridlabd geodata create 37.410,-122.201 37.420,-122.201 -r 250 | gridlabd geodata create -k location"
   ]
  },
  {
   "cell_type": "markdown",
   "id": "18500df1",
   "metadata": {},
   "source": [
    "# Output\n",
    "\n",
    "By default all output is written to `/dev/stdout`.  The output can be written to a file using the `-o` or `--output` option, e.g.,"
   ]
  },
  {
   "cell_type": "code",
   "execution_count": 18,
   "id": "eb43a6c7",
   "metadata": {},
   "outputs": [
    {
     "name": "stdout",
     "output_type": "stream",
     "text": [
      "id,latitude,longitude\r\n",
      "0,37.41000,-122.20100\r\n",
      "1,37.42000,-122.20100\r\n"
     ]
    }
   ],
   "source": [
    "!gridlabd geodata create 37.410,-122.201 37.420,-122.201 -o /tmp/test.csv\n",
    "!cat /tmp/test.csv"
   ]
  },
  {
   "cell_type": "markdown",
   "id": "dae5cf1e",
   "metadata": {},
   "source": [
    "# Datasets\n",
    "\n",
    "The `merge` directive is used to merge a dataset into an existing geodata entity.  The general syntax is `gridlabd geodata merge -D DATASET OPTIONS`"
   ]
  },
  {
   "cell_type": "markdown",
   "id": "d7d8eb56",
   "metadata": {},
   "source": [
    "## Distance\n",
    "\n",
    "The `distance` dataset provide great-circle distance calculations.  For example, the following calculated the distance from the first point in the series."
   ]
  },
  {
   "cell_type": "code",
   "execution_count": 19,
   "id": "dce56f76",
   "metadata": {},
   "outputs": [
    {
     "name": "stdout",
     "output_type": "stream",
     "text": [
      "id,latitude,longitude,distance\r\n",
      "0,37.41000,-122.20100,0.0\r\n",
      "1,37.42000,-122.20100,593.0\r\n"
     ]
    }
   ],
   "source": [
    "!gridlabd geodata merge -D distance 37.410,-122.201 37.420,-122.201"
   ]
  },
  {
   "cell_type": "markdown",
   "id": "c112973b",
   "metadata": {},
   "source": [
    "The `distance` dataset support different units, include `meters` or `m`, `kilometers` or `km`, `feet` or `ft`, `yards` or `yd`, `miles` or `mi`.  For example, the following calculates the distances in feet:"
   ]
  },
  {
   "cell_type": "code",
   "execution_count": 20,
   "id": "91611f60",
   "metadata": {},
   "outputs": [
    {
     "name": "stdout",
     "output_type": "stream",
     "text": [
      "id,latitude,longitude,distance\r\n",
      "0,37.41000,-122.20100,0.0\r\n",
      "1,37.42000,-122.20100,1944.0\r\n"
     ]
    }
   ],
   "source": [
    "!gridlabd geodata merge -D distance 37.410,-122.201 37.420,-122.201 --units=feet"
   ]
  },
  {
   "cell_type": "markdown",
   "id": "8fc2fbe5",
   "metadata": {},
   "source": [
    "Note that the default precision with which distances are calculated in 0 decimals. Thus the distance in `km` is rounded up to `1.0`:"
   ]
  },
  {
   "cell_type": "code",
   "execution_count": 21,
   "id": "cece01fc",
   "metadata": {},
   "outputs": [
    {
     "name": "stdout",
     "output_type": "stream",
     "text": [
      "id,latitude,longitude,distance\r\n",
      "0,37.41000,-122.20100,0.0\r\n",
      "1,37.42000,-122.20100,1.0\r\n"
     ]
    }
   ],
   "source": [
    "!gridlabd geodata merge -D distance 37.410,-122.201 37.420,-122.201 --units=km"
   ]
  },
  {
   "cell_type": "markdown",
   "id": "5b8f6a92",
   "metadata": {},
   "source": [
    "The precision can be changed thus: "
   ]
  },
  {
   "cell_type": "code",
   "execution_count": 22,
   "id": "256df24d",
   "metadata": {},
   "outputs": [
    {
     "name": "stdout",
     "output_type": "stream",
     "text": [
      "id,latitude,longitude,distance\r\n",
      "0,37.41000,-122.20100,0.0\r\n",
      "1,37.42000,-122.20100,0.59\r\n"
     ]
    }
   ],
   "source": [
    "!gridlabd geodata merge -D distance 37.410,-122.201 37.420,-122.201 --units=km --precision=2"
   ]
  },
  {
   "cell_type": "markdown",
   "id": "fbb4c74b",
   "metadata": {},
   "source": [
    "## Address\n",
    "\n",
    "You can use the `address` dataset to perform address resolution operations, both to and from latitude and longitude.\n",
    "\n",
    "To obtain the address at a location, use the following command"
   ]
  },
  {
   "cell_type": "code",
   "execution_count": 23,
   "id": "b2e5328e",
   "metadata": {},
   "outputs": [
    {
     "name": "stdout",
     "output_type": "stream",
     "text": [
      "id,latitude,longitude,address\r\n",
      "0,37.41500,-122.20100,\"Stanford Linear Accelerator Center National Accelerator Laboratory, Sand Hill Road, Menlo Park, San Mateo County, California, 94028, United States\"\r\n"
     ]
    }
   ],
   "source": [
    "!gridlabd geodata merge -D address 37.415,-122.201"
   ]
  },
  {
   "cell_type": "markdown",
   "id": "011e468e",
   "metadata": {},
   "source": [
    "To find the latitude and longitude of an address, use the command:"
   ]
  },
  {
   "cell_type": "code",
   "execution_count": 24,
   "id": "7cf4077c",
   "metadata": {},
   "outputs": [
    {
     "name": "stdout",
     "output_type": "stream",
     "text": [
      "id,index,address,longitude,latitude\r\n",
      "0,0,\"2575 Sand Hill Road, Menlo Park CA\",-122.20118,37.41546\r\n"
     ]
    }
   ],
   "source": [
    "!gridlabd geodata merge -D address --reverse \"2575 Sand Hill Road, Menlo Park CA\""
   ]
  },
  {
   "cell_type": "markdown",
   "id": "b2693095",
   "metadata": {},
   "source": [
    "You can perform both operations to resolve the \"official\" address from an incomplete address:"
   ]
  },
  {
   "cell_type": "code",
   "execution_count": 25,
   "id": "f0bfe454",
   "metadata": {},
   "outputs": [
    {
     "name": "stdout",
     "output_type": "stream",
     "text": [
      "id,index,address,longitude,latitude\r\n",
      "0,0,\"Stanford Linear Accelerator Center National Accelerator Laboratory, Sand Hill Road, Menlo Park, San Mateo County, California, 94028, United States\",-122.20118,37.41546\r\n"
     ]
    }
   ],
   "source": [
    "!gridlabd geodata merge -D address --reverse \"2575 Sand Hill Road, Menlo Park CA\" | gridlabd geodata merge -D address"
   ]
  },
  {
   "cell_type": "markdown",
   "id": "505c183c",
   "metadata": {},
   "source": [
    "## Elevation\n"
   ]
  },
  {
   "cell_type": "code",
   "execution_count": 26,
   "id": "1920f2f5",
   "metadata": {},
   "outputs": [
    {
     "name": "stdout",
     "output_type": "stream",
     "text": [
      "id,latitude,longitude,elevation\r\n",
      "0,37.41500,-122.20100,83.0\r\n"
     ]
    }
   ],
   "source": [
    "!gridlabd geodata create 37.415,-122.201 | gridlabd geodata merge -D elevation"
   ]
  },
  {
   "cell_type": "markdown",
   "id": "900b61ba",
   "metadata": {},
   "source": [
    "# Getting help"
   ]
  },
  {
   "cell_type": "markdown",
   "id": "09abbe56",
   "metadata": {},
   "source": [
    "You can obtain help using the `help` directive, e.g.,"
   ]
  },
  {
   "cell_type": "code",
   "execution_count": 27,
   "id": "6627ef94",
   "metadata": {
    "scrolled": false
   },
   "outputs": [
    {
     "name": "stdout",
     "output_type": "stream",
     "text": [
      "Help on module __main__:\r\n",
      "\r\n",
      "NAME\r\n",
      "    __main__ - Syntax: gridlabd geodata OPTIONS DIRECTIVE [ARGUMENTS]\r\n",
      "\r\n",
      "DESCRIPTION\r\n",
      "    The geodata command gathers and joins geographic data. The geodata subcommand\r\n",
      "    uses directives that are documented in the DIRECTIVES section below.\r\n",
      "    \r\n",
      "    In general geodata is used to acquire geographic information at a location or\r\n"
     ]
    }
   ],
   "source": [
    "!gridlabd geodata help | head -n 10"
   ]
  },
  {
   "cell_type": "code",
   "execution_count": 28,
   "id": "713dbc41",
   "metadata": {},
   "outputs": [
    {
     "name": "stdout",
     "output_type": "stream",
     "text": [
      "Help on module geodata_distance:\r\n",
      "\r\n",
      "NAME\r\n",
      "    geodata_distance - GridLAB-D Geodata Distance Package\r\n",
      "\r\n",
      "DESCRIPTION\r\n",
      "    The distance package computes the shortest distance between consecutive\r\n",
      "    positions.\r\n",
      "    \r\n",
      "    OPTIONS\r\n"
     ]
    }
   ],
   "source": [
    "!gridlabd geodata help distance | head -n 10"
   ]
  },
  {
   "cell_type": "markdown",
   "id": "047cbc11",
   "metadata": {},
   "source": [
    "# Debugging\n",
    "\n",
    "The `-d` or `--debug` option can be used to obtain details about why an error occurred.  For example, the following command has an invalid `lat,lon` tuple and results in a simple error message:"
   ]
  },
  {
   "cell_type": "code",
   "execution_count": 29,
   "id": "19844cfd",
   "metadata": {},
   "outputs": [
    {
     "name": "stdout",
     "output_type": "stream",
     "text": [
      "ERROR [geodata/distance]: unit 'furlongs' is not recognized\r\n"
     ]
    }
   ],
   "source": [
    "!gridlabd geodata merge -D distance 37,-122 38,-122 --units=furlongs"
   ]
  },
  {
   "cell_type": "markdown",
   "id": "6b81a51b",
   "metadata": {},
   "source": [
    "Using the debug option provides a more detailed traceback of the error that can be helpful in diagnostic the problem, particularly when it originates in a dataset package."
   ]
  },
  {
   "cell_type": "code",
   "execution_count": 30,
   "id": "318cf241",
   "metadata": {},
   "outputs": [
    {
     "name": "stdout",
     "output_type": "stream",
     "text": [
      "Traceback (most recent call last):\n",
      "  File \"/usr/local/opt/gridlabd/4.2.21-210512-develop_geodata_subcommand/bin/gridlabd-geodata\", line 794, in merge\n",
      "    result = MODULE.apply(data,options,config,warning)\n",
      "  File \"/usr/local/opt/gridlabd/4.2.21-210512-develop_geodata_subcommand/share/gridlabd/geodata_distance.py\", line 103, in apply\n",
      "    raise Exception(f\"unit '{options['units']}' is not recognized\")\n",
      "Exception: unit 'furlongs' is not recognized\n",
      "DEBUG [geodata/distance]: merge(args='['37,-122', '38,-122', '--units=furlongs']') --> data = \n",
      "----\n",
      "None\n",
      "----\n",
      "options = {\n",
      "    \"plot\": {\n",
      "        \"figsize\": [\n",
      "            7.0,\n",
      "            5.0\n",
      "        ],\n",
      "        \"cmap\": \"\",\n",
      "        \"categorical\": false,\n",
      "        \"legend\": false,\n",
      "        \"scheme\": \"\",\n",
      "        \"k\": 5,\n",
      "        \"vmin\": NaN,\n",
      "        \"vmax\": NaN,\n",
      "        \"aspect\": \"auto\"\n",
      "    },\n",
      "    \"show\": {\n",
      "        \"block\": true\n",
      "    },\n",
      "    \"savefig\": {\n",
      "        \"dpi\": 300,\n",
      "        \"facecolor\": \"w\",\n",
      "        \"edgecolor\": \"k\",\n",
      "        \"orientation\": \"landscape\",\n",
      "        \"format\": \"png\",\n",
      "        \"transparent\": false,\n",
      "        \"bbox_inches\": 0.25,\n",
      "        \"pad_inches\": 0.1,\n",
      "        \"metadata\": \"{\\\"application\\\": \\\"gridlabd-geodata\\\", \\\"version\\\": \\\"0.0.0\\\"}\"\n",
      "    },\n",
      "    \"table\": {\n",
      "        \"max_rows\": 10,\n",
      "        \"max_columns\": 10,\n",
      "        \"width\": 100,\n",
      "        \"max_colwidth\": 10\n",
      "    },\n",
      "    \"units\": \"furlongs\"\n",
      "}\n",
      "config = {\n",
      "    \"precision\": 0\n",
      "}\n"
     ]
    }
   ],
   "source": [
    "!gridlabd geodata merge -D distance 37,-122 38,-122 --units=furlongs -d"
   ]
  }
 ],
 "metadata": {
  "kernelspec": {
   "display_name": "Python 3",
   "language": "python",
   "name": "python3"
  },
  "language_info": {
   "codemirror_mode": {
    "name": "ipython",
    "version": 3
   },
   "file_extension": ".py",
   "mimetype": "text/x-python",
   "name": "python",
   "nbconvert_exporter": "python",
   "pygments_lexer": "ipython3",
   "version": "3.9.4"
  }
 },
 "nbformat": 4,
 "nbformat_minor": 5
}
