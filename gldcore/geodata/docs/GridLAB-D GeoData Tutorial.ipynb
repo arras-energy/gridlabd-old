{
 "cells": [
  {
   "cell_type": "markdown",
   "id": "1386863e",
   "metadata": {},
   "source": [
    "# GridLAB-D GeoData Subcommand\n",
    "\n",
    "As of version 4.2.21, HiPAS GridLAB-D supports the handling of geographic data.  \n",
    "\n",
    "This command checks the version of GridLAB-D and loads the python module we will use."
   ]
  },
  {
   "cell_type": "code",
   "execution_count": 1,
   "id": "6aa36791",
   "metadata": {},
   "outputs": [
    {
     "name": "stdout",
     "output_type": "stream",
     "text": [
      "HiPAS GridLAB-D 4.2.21-210514\r\n"
     ]
    }
   ],
   "source": [
    "!gridlabd --version\n",
    "from IPython.display import Image\n",
    "import pandas, geopandas"
   ]
  },
  {
   "cell_type": "markdown",
   "id": "62935d32",
   "metadata": {},
   "source": [
    "The `geodata` subcommand uses the general syntax `gridlabd geodata OPTIONS DIRECTIVE [ARGUMENTS]`.  "
   ]
  },
  {
   "cell_type": "markdown",
   "id": "d6715881",
   "metadata": {},
   "source": [
    "## Creating location data\n",
    "\n",
    "There are two basic types of geodata entities in GridLAB-D: \n",
    "\n",
    "1. an unordered collection of points each specified by a `latitude,longitude` tuple; and \n",
    "\n",
    "1. an ordered series of waypoints along a path specified by a sequence of `latitude,longitude` tuples.  \n",
    "\n",
    "The interpretation of a the entity is left to the dataset processor, but it can often been specified using the `location` or `position` keys, respectively.  A geodata entity can be converted from one to another by simply changing the key (see Geodata Indexing below)."
   ]
  },
  {
   "cell_type": "markdown",
   "id": "7e985c38",
   "metadata": {},
   "source": [
    "The `create` directive is used to create a new geodata entity.  The general syntax is `gridlabd geodata create LOCATIONS ...`.\n",
    "\n",
    "There are two methods of introducing locations.  The first method introduces one or more `latitude,longitude` tuples directly in the command line.  For example, the following command creates a dataset with the approximate location of SLAC's main gate."
   ]
  },
  {
   "cell_type": "code",
   "execution_count": 2,
   "id": "899d1d3c",
   "metadata": {},
   "outputs": [
    {
     "name": "stdout",
     "output_type": "stream",
     "text": [
      "id,latitude,longitude\r\n",
      "0,37.415,-122.2\r\n"
     ]
    }
   ],
   "source": [
    "!gridlabd geodata create 37.415,-122.20"
   ]
  },
  {
   "cell_type": "markdown",
   "id": "67f749f9",
   "metadata": {},
   "source": [
    "Multiple locations can be introduced by adding them to the command, for example:"
   ]
  },
  {
   "cell_type": "code",
   "execution_count": 3,
   "id": "2327f5b2",
   "metadata": {},
   "outputs": [
    {
     "name": "stdout",
     "output_type": "stream",
     "text": [
      "id,latitude,longitude\n",
      "0,37.41,-122.201\n",
      "1,37.42,-122.21\n"
     ]
    }
   ],
   "source": [
    "!gridlabd geodata create 37.410,-122.201 37.420,-122.21"
   ]
  },
  {
   "cell_type": "markdown",
   "id": "ac51f88b",
   "metadata": {},
   "source": [
    "The second method uses an input file with locations and associated data, such as this example CSV file:"
   ]
  },
  {
   "cell_type": "code",
   "execution_count": 4,
   "id": "dd3d65b2",
   "metadata": {},
   "outputs": [
    {
     "name": "stdout",
     "output_type": "stream",
     "text": [
      "latitude,longitude,configuration,pole_height\r\n",
      "37.415045141688054,-122.2056472090359,flat3,15.0\r\n",
      "37.414698020593065,-122.20848749028133,sideT,15.0\r\n",
      "37.414454093051745,-122.21044282065421,sideT,15.0\r\n"
     ]
    }
   ],
   "source": [
    "!head -n 4 path_example.csv"
   ]
  },
  {
   "cell_type": "markdown",
   "id": "95af575f",
   "metadata": {},
   "source": [
    "To use this file, the following command can be used:"
   ]
  },
  {
   "cell_type": "code",
   "execution_count": 5,
   "id": "2e960d68",
   "metadata": {},
   "outputs": [
    {
     "name": "stdout",
     "output_type": "stream",
     "text": [
      "id,latitude,longitude,configuration,pole_height\r\n",
      "0,37.41505,-122.20565,flat3,15.0\r\n",
      "1,37.4147,-122.20849,sideT,15.0\r\n",
      "2,37.41445,-122.21044,sideT,15.0\r\n"
     ]
    }
   ],
   "source": [
    "!gridlabd geodata create path_example.csv | head -n 4"
   ]
  },
  {
   "cell_type": "markdown",
   "id": "ef82e913",
   "metadata": {},
   "source": [
    "Note that if multiple locations are provided they are sequences in the order in which they are presented, including if locations are provided directly on the command line or from data files."
   ]
  },
  {
   "cell_type": "markdown",
   "id": "b6ae5329",
   "metadata": {},
   "source": [
    "If no location information is given, then the geodata is read from `/dev/stdin`, e.g.,"
   ]
  },
  {
   "cell_type": "code",
   "execution_count": 6,
   "id": "b2f6c6ac",
   "metadata": {},
   "outputs": [
    {
     "name": "stdout",
     "output_type": "stream",
     "text": [
      "id,latitude,longitude\r\n",
      "0,37.41505,-122.20565\r\n",
      "1,37.4147,-122.20849\r\n",
      "2,37.41445,-122.21044\r\n"
     ]
    }
   ],
   "source": [
    "!head -n 4 path_example.csv | cut -f1-2 -d, | gridlabd geodata create"
   ]
  },
  {
   "cell_type": "markdown",
   "id": "97535764",
   "metadata": {},
   "source": [
    "Additional fields can be added using an expanded syntax"
   ]
  },
  {
   "cell_type": "code",
   "execution_count": 7,
   "id": "56bdbffb",
   "metadata": {},
   "outputs": [
    {
     "name": "stdout",
     "output_type": "stream",
     "text": [
      "id,name,latitude,longitude\r\n",
      "0,obj1,37.4205,-122.2046\r\n",
      "1,obj2,37.5205,-122.3046\r\n"
     ]
    }
   ],
   "source": [
    "!gridlabd geodata create name=obj1+latitude=37.4205+longitude=-122.2046 name=obj2+latitude=37.5205+longitude=-122.3046"
   ]
  },
  {
   "cell_type": "markdown",
   "id": "4e079ba2",
   "metadata": {},
   "source": [
    "## Some useful options"
   ]
  },
  {
   "cell_type": "markdown",
   "id": "8a06b623",
   "metadata": {},
   "source": [
    "The default precision with which latitudes and longitudes are output is 5 decimals, which is approximately 1 meter resolution. You can change the precision with which latitudes and longitudes are output using the `-p` or `--precision` option, e.g.,"
   ]
  },
  {
   "cell_type": "code",
   "execution_count": 8,
   "id": "dfc2dad5",
   "metadata": {},
   "outputs": [
    {
     "name": "stdout",
     "output_type": "stream",
     "text": [
      "id,latitude,longitude\r\n",
      "0,37.41,-122.2\r\n",
      "1,37.42,-122.2\r\n",
      "2,37.42,-122.21\r\n"
     ]
    }
   ],
   "source": [
    "!gridlabd geodata create 37.410,-122.20 37.420,-122.20 37.420,-122.21 -p 4"
   ]
  },
  {
   "cell_type": "markdown",
   "id": "4151e4ff",
   "metadata": {},
   "source": [
    "The default field separator for RAW output is a space. You can change this to any string using the `--fieldsep=STRING` option, e.g.,"
   ]
  },
  {
   "cell_type": "code",
   "execution_count": 9,
   "id": "8cc11fe8",
   "metadata": {},
   "outputs": [
    {
     "name": "stdout",
     "output_type": "stream",
     "text": [
      "37.41:-122.2\r\n",
      "37.42:-122.2\r\n",
      "37.42:-122.21\r\n"
     ]
    }
   ],
   "source": [
    "!gridlabd geodata create 37.410,-122.20 37.420,-122.20 37.420,-122.21 -f RAW --fieldsep=:"
   ]
  },
  {
   "cell_type": "markdown",
   "id": "d7a1743d",
   "metadata": {},
   "source": [
    "Similarly the default record separator for RAW output is a newline. You can change this to any string using the `--recordsep=STRING` option, e.g.,"
   ]
  },
  {
   "cell_type": "code",
   "execution_count": 10,
   "id": "4c40d60d",
   "metadata": {},
   "outputs": [
    {
     "name": "stdout",
     "output_type": "stream",
     "text": [
      "37.41 -122.2 ; 37.42 -122.2 ; 37.42 -122.21\r\n"
     ]
    }
   ],
   "source": [
    "!gridlabd geodata create 37.410,-122.20 37.420,-122.20 37.420,-122.21 -f RAW --recordsep=' ; '"
   ]
  },
  {
   "cell_type": "markdown",
   "id": "7ddc35c5",
   "metadata": {},
   "source": [
    "## Configurations\n",
    "There are three locations where configuration settings are maintain: (1) system, (2) user, and (3) local.  They are consulted in this order so that the system configuration overrides the default configuration, the user configuration override the system, and the local configuration overrides the user configuration.  \n",
    "\n",
    "By default the configuration files are named `geodata.conf`.  The system configuration is stored in `$GLD_ETC/geodata/geodata.conf` folder.  The user configuration is stored in `$HOME/.gridlabd/geodata/geodata.conf` and the local configuration is stored in `$PWD/geodata.conf`. \n",
    "\n",
    "The default configuration file name can be changed using the `-C FILENAME` or `--configfile FILENAME` option."
   ]
  },
  {
   "cell_type": "markdown",
   "id": "703a8ceb",
   "metadata": {},
   "source": [
    "You can manage the current configuration using the `config` directive, e.g., to set the local configuration parameter `name` to `value`, use the `set` option"
   ]
  },
  {
   "cell_type": "code",
   "execution_count": 11,
   "id": "0366bd8e",
   "metadata": {},
   "outputs": [
    {
     "name": "stdout",
     "output_type": "stream",
     "text": [
      "WARNING [geodata]: config file '/Users/dchassin/Documents/GitHub/slacgismo/gridlabd/gldcore/geodata/docs/geodata.conf' is not found\r\n"
     ]
    }
   ],
   "source": [
    "!gridlabd geodata config set name local_value"
   ]
  },
  {
   "cell_type": "markdown",
   "id": "7c6dd967",
   "metadata": {},
   "source": [
    "Note that if the file in which the parameter is stored does not already exist, you will get a warning before it is created."
   ]
  },
  {
   "cell_type": "markdown",
   "id": "300e192f",
   "metadata": {},
   "source": [
    "To get the value, use the `get` option:"
   ]
  },
  {
   "cell_type": "code",
   "execution_count": 12,
   "id": "64cb4b58",
   "metadata": {},
   "outputs": [
    {
     "name": "stdout",
     "output_type": "stream",
     "text": [
      "local_value\r\n"
     ]
    }
   ],
   "source": [
    "!gridlabd geodata config get name"
   ]
  },
  {
   "cell_type": "markdown",
   "id": "839431de",
   "metadata": {},
   "source": [
    "To show all the configuration values, use the `show` option:"
   ]
  },
  {
   "cell_type": "code",
   "execution_count": 13,
   "id": "d4aea747",
   "metadata": {},
   "outputs": [
    {
     "name": "stdout",
     "output_type": "stream",
     "text": [
      "geodata_url='http://geodata.gridlabd.us/'\r\n",
      "output_format='CSV'\r\n",
      "path_join='outer'\r\n",
      "column_names='{'ID': 'id', 'UUID': 'uuid', 'LAT': 'latitude', 'LON': 'longitude', 'DIST': 'distance', 'HEAD': 'heading', 'LOC': 'location', 'POS': 'position'}'\r\n",
      "name='local_value'\r\n"
     ]
    }
   ],
   "source": [
    "!gridlabd geodata config show"
   ]
  },
  {
   "cell_type": "markdown",
   "id": "aa846987",
   "metadata": {},
   "source": [
    "To set a user configuration, use the `user.` prefix, e.g.,"
   ]
  },
  {
   "cell_type": "code",
   "execution_count": 14,
   "id": "d7be1cc9",
   "metadata": {},
   "outputs": [
    {
     "name": "stdout",
     "output_type": "stream",
     "text": [
      "geodata_url='http://geodata.gridlabd.us/'\r\n",
      "output_format='CSV'\r\n",
      "path_join='outer'\r\n",
      "column_names='{'ID': 'id', 'UUID': 'uuid', 'LAT': 'latitude', 'LON': 'longitude', 'DIST': 'distance', 'HEAD': 'heading', 'LOC': 'location', 'POS': 'position'}'\r\n",
      "name='local_value'\r\n",
      "user.name='user_value'\r\n"
     ]
    }
   ],
   "source": [
    "!gridlabd geodata config set user.name user_value\n",
    "!gridlabd geodata config show"
   ]
  },
  {
   "cell_type": "markdown",
   "id": "d14e76df",
   "metadata": {},
   "source": [
    "The same syntax is used for system configuration values, e.g.,"
   ]
  },
  {
   "cell_type": "code",
   "execution_count": 15,
   "id": "eed3876a",
   "metadata": {},
   "outputs": [
    {
     "name": "stdout",
     "output_type": "stream",
     "text": [
      "geodata_url='http://geodata.gridlabd.us/'\r\n",
      "output_format='CSV'\r\n",
      "path_join='outer'\r\n",
      "column_names='{'ID': 'id', 'UUID': 'uuid', 'LAT': 'latitude', 'LON': 'longitude', 'DIST': 'distance', 'HEAD': 'heading', 'LOC': 'location', 'POS': 'position'}'\r\n",
      "name='local_value'\r\n",
      "user.name='user_value'\r\n",
      "system.name='system_value'\r\n"
     ]
    }
   ],
   "source": [
    "!gridlabd geodata config set system.name system_value\n",
    "!gridlabd geodata config show"
   ]
  },
  {
   "cell_type": "markdown",
   "id": "f613e5ad",
   "metadata": {},
   "source": [
    "To remove a value, use the `unset` option, e.g.,"
   ]
  },
  {
   "cell_type": "code",
   "execution_count": 16,
   "id": "dfe946d0",
   "metadata": {},
   "outputs": [
    {
     "name": "stdout",
     "output_type": "stream",
     "text": [
      "geodata_url='http://geodata.gridlabd.us/'\r\n",
      "output_format='CSV'\r\n",
      "path_join='outer'\r\n",
      "column_names='{'ID': 'id', 'UUID': 'uuid', 'LAT': 'latitude', 'LON': 'longitude', 'DIST': 'distance', 'HEAD': 'heading', 'LOC': 'location', 'POS': 'position'}'\r\n",
      "user.name='user_value'\r\n",
      "system.name='system_value'\r\n"
     ]
    }
   ],
   "source": [
    "!gridlabd geodata config unset name\n",
    "!gridlabd geodata config show"
   ]
  },
  {
   "cell_type": "markdown",
   "id": "3963b3ce",
   "metadata": {},
   "source": [
    "To remove all the local configuration value, simply delete the `geodata.conf` file:"
   ]
  },
  {
   "cell_type": "code",
   "execution_count": 17,
   "id": "ab87bb3c",
   "metadata": {},
   "outputs": [],
   "source": [
    "!rm geodata.conf"
   ]
  },
  {
   "cell_type": "markdown",
   "id": "20926937",
   "metadata": {},
   "source": [
    "## Geodata formatting\n",
    "\n",
    "The output format can be changed using the `-f` or `--format` option. The valid formats are `CSV`, `JSON`, `RAW`, and `TABLE`.  `CSV` format is the default, but can be specified as follows:"
   ]
  },
  {
   "cell_type": "code",
   "execution_count": 18,
   "id": "5f562694",
   "metadata": {},
   "outputs": [
    {
     "name": "stdout",
     "output_type": "stream",
     "text": [
      "id,latitude,longitude\r\n",
      "0,37.41,-122.2\r\n",
      "1,37.42,-122.2\r\n",
      "2,37.42,-122.21\r\n"
     ]
    }
   ],
   "source": [
    "!gridlabd geodata create 37.410,-122.20 37.420,-122.20 37.420,-122.21 -f CSV"
   ]
  },
  {
   "cell_type": "markdown",
   "id": "40f39832",
   "metadata": {},
   "source": [
    "JSON output looks like this:"
   ]
  },
  {
   "cell_type": "code",
   "execution_count": 19,
   "id": "6721169c",
   "metadata": {},
   "outputs": [
    {
     "name": "stdout",
     "output_type": "stream",
     "text": [
      "{\"0\":{\"latitude\":37.41,\"longitude\":-122.2},\"1\":{\"latitude\":37.42,\"longitude\":-122.2},\"2\":{\"latitude\":37.42,\"longitude\":-122.21}}\r\n"
     ]
    }
   ],
   "source": [
    "!gridlabd geodata create 37.410,-122.20 37.420,-122.20 37.420,-122.21 -f JSON"
   ]
  },
  {
   "cell_type": "markdown",
   "id": "9b7817e1",
   "metadata": {},
   "source": [
    "JSON output can be structured using the `pandas` `to_json()` `orient` options `index`, `split`, `records`, `columns`, `values`, or `table`, e.g.,"
   ]
  },
  {
   "cell_type": "code",
   "execution_count": 20,
   "id": "1006d4d3",
   "metadata": {},
   "outputs": [
    {
     "name": "stdout",
     "output_type": "stream",
     "text": [
      "{\"schema\":{\"fields\":[{\"name\":\"id\",\"type\":\"integer\"},{\"name\":\"latitude\",\"type\":\"number\"},{\"name\":\"longitude\",\"type\":\"number\"}],\"primaryKey\":[\"id\"],\"pandas_version\":\"0.20.0\"},\"data\":[{\"id\":0,\"latitude\":37.41,\"longitude\":-122.2},{\"id\":1,\"latitude\":37.42,\"longitude\":-122.2},{\"id\":2,\"latitude\":37.42,\"longitude\":-122.21}]}\r\n"
     ]
    }
   ],
   "source": [
    "!gridlabd geodata create 37.410,-122.20 37.420,-122.20 37.420,-122.21 -f JSON --json.orient=table"
   ]
  },
  {
   "cell_type": "markdown",
   "id": "4be9c006",
   "metadata": {},
   "source": [
    "Other JSON options include `data_format`, `double_precision`, `force_ascii`, and `date_unit`. See https://pandas.pydata.org/docs/reference/api/pandas.DataFrame.to_json.html for details."
   ]
  },
  {
   "cell_type": "markdown",
   "id": "bcecd73d",
   "metadata": {},
   "source": [
    "RAW output is generated as follows"
   ]
  },
  {
   "cell_type": "code",
   "execution_count": 21,
   "id": "9279215a",
   "metadata": {},
   "outputs": [
    {
     "name": "stdout",
     "output_type": "stream",
     "text": [
      "37.41 -122.2\r\n",
      "37.42 -122.2\r\n",
      "37.42 -122.21\r\n"
     ]
    }
   ],
   "source": [
    "!gridlabd geodata create 37.410,-122.20 37.420,-122.20 37.420,-122.21 -f RAW"
   ]
  },
  {
   "cell_type": "markdown",
   "id": "273e4650",
   "metadata": {},
   "source": [
    "TABLE output is generated for easy reading:"
   ]
  },
  {
   "cell_type": "code",
   "execution_count": 22,
   "id": "4cae9f9b",
   "metadata": {},
   "outputs": [
    {
     "name": "stdout",
     "output_type": "stream",
     "text": [
      "    latitude  longitude\r\n",
      "id                     \r\n",
      "0      37.41    -122.20\r\n",
      "1      37.42    -122.20\r\n",
      "2      37.42    -122.21\r\n"
     ]
    }
   ],
   "source": [
    "!gridlabd geodata create 37.410,-122.20 37.420,-122.20 37.420,-122.21 -f TABLE"
   ]
  },
  {
   "cell_type": "markdown",
   "id": "1d07a557",
   "metadata": {},
   "source": [
    "Output formats may include an ordered field list, such as"
   ]
  },
  {
   "cell_type": "code",
   "execution_count": 23,
   "id": "72ac376e",
   "metadata": {},
   "outputs": [
    {
     "name": "stdout",
     "output_type": "stream",
     "text": [
      "id,longitude,latitude\r\n",
      "0,-122.2,37.41\r\n",
      "1,-122.2,37.42\r\n",
      "2,-122.21,37.42\r\n"
     ]
    }
   ],
   "source": [
    "!gridlabd geodata create 37.410,-122.20 37.420,-122.20 37.420,-122.21 -f CSV:longitude,latitude"
   ]
  },
  {
   "cell_type": "markdown",
   "id": "024dc997",
   "metadata": {},
   "source": [
    "## Geodata indexing\n",
    "\n",
    "The output can be indexed using one of several standards keys, or keys from the data. The default key is `id` which is the row number, as seen above. This key can be explicitly specified as follows:"
   ]
  },
  {
   "cell_type": "code",
   "execution_count": 24,
   "id": "c5b568e3",
   "metadata": {},
   "outputs": [
    {
     "name": "stdout",
     "output_type": "stream",
     "text": [
      "id,latitude,longitude\r\n",
      "0,37.41,-122.2\r\n",
      "1,37.42,-122.2\r\n",
      "2,37.42,-122.21\r\n"
     ]
    }
   ],
   "source": [
    "!gridlabd geodata create 37.410,-122.20 37.420,-122.20 37.420,-122.21 -k id"
   ]
  },
  {
   "cell_type": "markdown",
   "id": "209e4084",
   "metadata": {},
   "source": [
    "The `location` key generates a geohash code:"
   ]
  },
  {
   "cell_type": "code",
   "execution_count": 25,
   "id": "043fc934",
   "metadata": {},
   "outputs": [
    {
     "name": "stdout",
     "output_type": "stream",
     "text": [
      "location,latitude,longitude,id\r\n",
      "9q9hg629j97y,37.41,-122.2,0\r\n",
      "9q9hgk0em9ef,37.42,-122.2,1\r\n",
      "9q9hgh17k9e4,37.42,-122.21,2\r\n"
     ]
    }
   ],
   "source": [
    "!gridlabd geodata create 37.410,-122.20 37.420,-122.20 37.420,-122.21 -k location"
   ]
  },
  {
   "cell_type": "markdown",
   "id": "f5953454",
   "metadata": {},
   "source": [
    "The `position` key generates a distance index, treating the data rows as a series of waypoints along a path. When this key is used, the distance and heading also generated."
   ]
  },
  {
   "cell_type": "code",
   "execution_count": 26,
   "id": "d2096dbd",
   "metadata": {},
   "outputs": [
    {
     "name": "stdout",
     "output_type": "stream",
     "text": [
      "position,latitude,longitude,id,distance,heading\r\n",
      "0,37.41,-122.2,0,0.0,\r\n",
      "1111,37.42,-122.2,1,1111.95,0.0\r\n",
      "1995,37.42,-122.21,2,1995.06,270.0\r\n"
     ]
    }
   ],
   "source": [
    "!gridlabd geodata create 37.410,-122.20 37.420,-122.20 37.420,-122.21 -k position"
   ]
  },
  {
   "cell_type": "markdown",
   "id": "97183a9a",
   "metadata": {},
   "source": [
    "Any field or set of fields may be used for indexing, e.g.,"
   ]
  },
  {
   "cell_type": "code",
   "execution_count": null,
   "id": "5b838e34",
   "metadata": {},
   "outputs": [],
   "source": [
    "!gridlabd geodata create 37.410,-122.20 37.420,-122.20 37.420,-122.21 -k latitude,longitude"
   ]
  },
  {
   "cell_type": "markdown",
   "id": "4136be24",
   "metadata": {},
   "source": [
    "## Path waypoints\n",
    "\n",
    "Waypoints can be generated along a path using the `-r` or `--resolution` option.  For example, 250-meter waypoints are generated using the following syntax:"
   ]
  },
  {
   "cell_type": "code",
   "execution_count": null,
   "id": "b6c36bbb",
   "metadata": {},
   "outputs": [],
   "source": [
    "!gridlabd geodata create 37.410,-122.20 37.420,-122.20 37.420,-122.21 -r 250 -f TABLE"
   ]
  },
  {
   "cell_type": "markdown",
   "id": "7c4ba4ce",
   "metadata": {},
   "source": [
    "The `distance` and `heading` columns are added to provide the distance and heading to the waypoint from the last location. When using waypoints, the key is automatically set to `position`, which provides the distance from the first point.  The use of other keys is not supported. In addition, any waypoint added in the process is not assigned a row `id` in order to protect the original row ids. \n",
    "\n",
    "The index can be changed with the `-k` or `--key` options using a pipe, e.g.,"
   ]
  },
  {
   "cell_type": "code",
   "execution_count": null,
   "id": "f1d3b55d",
   "metadata": {},
   "outputs": [],
   "source": [
    "!gridlabd geodata create 37.410,-122.20 37.420,-122.20 37.420,-122.21 -r 250 | gridlabd geodata create -k location -f TABLE"
   ]
  },
  {
   "cell_type": "markdown",
   "id": "18500df1",
   "metadata": {},
   "source": [
    "## Output\n",
    "\n",
    "By default all output is written to `/dev/stdout`.  The output can be written to a file using the `-o` or `--output` option, e.g.,"
   ]
  },
  {
   "cell_type": "code",
   "execution_count": null,
   "id": "eb43a6c7",
   "metadata": {},
   "outputs": [],
   "source": [
    "!gridlabd geodata create 37.410,-122.20 37.420,-122.20 37.420,-122.21 -o /tmp/test.csv\n",
    "!cat /tmp/test.csv"
   ]
  },
  {
   "cell_type": "markdown",
   "id": "535fd0c0",
   "metadata": {},
   "source": [
    "Geodata can be output to GeoPandas using the `GDF` output format, e.g.,"
   ]
  },
  {
   "cell_type": "code",
   "execution_count": null,
   "id": "dd34f363",
   "metadata": {},
   "outputs": [],
   "source": [
    "!gridlabd geodata create 37.410,-122.20 37.420,-122.20 37.420,-122.21 -o /tmp/test.gdf -f GDF\n",
    "geopandas.read_file(\"/tmp/test.gdf\")"
   ]
  },
  {
   "cell_type": "markdown",
   "id": "2fafbe4b",
   "metadata": {},
   "source": [
    "If the geodata does not include any geometry data, one is automatically created from the latitude and longitude fields."
   ]
  },
  {
   "cell_type": "markdown",
   "id": "dae5cf1e",
   "metadata": {},
   "source": [
    "----\n",
    "# Datasets\n",
    "\n",
    "The `merge` directive is used to merge a dataset into an existing geodata entity.  The general syntax is `gridlabd geodata merge -D DATASET OPTIONS`"
   ]
  },
  {
   "cell_type": "markdown",
   "id": "d7d8eb56",
   "metadata": {},
   "source": [
    "## Distance\n",
    "\n",
    "The `distance` dataset provide great-circle distance calculations.  For example, the following calculated the distance from the first point in the series."
   ]
  },
  {
   "cell_type": "code",
   "execution_count": null,
   "id": "dce56f76",
   "metadata": {},
   "outputs": [],
   "source": [
    "!gridlabd geodata merge -D distance 37.410,-122.20 37.420,-122.20 37.420,-122.21"
   ]
  },
  {
   "cell_type": "markdown",
   "id": "c112973b",
   "metadata": {},
   "source": [
    "The `distance` dataset support different units, include `meters` or `m`, `kilometers` or `km`, `feet` or `ft`, `yards` or `yd`, `miles` or `mi`.  For example, the following calculates the distances in feet:"
   ]
  },
  {
   "cell_type": "code",
   "execution_count": null,
   "id": "91611f60",
   "metadata": {},
   "outputs": [],
   "source": [
    "!gridlabd geodata merge -D distance 37.410,-122.20 37.420,-122.20 37.420,-122.21 --units=feet"
   ]
  },
  {
   "cell_type": "markdown",
   "id": "8fc2fbe5",
   "metadata": {},
   "source": [
    "Note that the default precision with which distances are calculated in 0 decimals. Thus the distance in `km` is rounded up to `1.0`:"
   ]
  },
  {
   "cell_type": "code",
   "execution_count": null,
   "id": "cece01fc",
   "metadata": {},
   "outputs": [],
   "source": [
    "!gridlabd geodata merge -D distance 37.410,-122.20 37.420,-122.20 37.420,-122.21 --units=km"
   ]
  },
  {
   "cell_type": "markdown",
   "id": "5b8f6a92",
   "metadata": {},
   "source": [
    "The precision can be changed thus: "
   ]
  },
  {
   "cell_type": "code",
   "execution_count": null,
   "id": "256df24d",
   "metadata": {},
   "outputs": [],
   "source": [
    "!gridlabd geodata merge -D distance 37.410,-122.20 37.420,-122.20 37.420,-122.21 --units=km --precision.distance=2"
   ]
  },
  {
   "cell_type": "markdown",
   "id": "fbb4c74b",
   "metadata": {},
   "source": [
    "## Address\n",
    "\n",
    "You can use the `address` dataset to perform address resolution operations, both to and from latitude and longitude.\n",
    "\n",
    "To obtain the address at a location, use the following command"
   ]
  },
  {
   "cell_type": "code",
   "execution_count": null,
   "id": "b2e5328e",
   "metadata": {},
   "outputs": [],
   "source": [
    "!gridlabd geodata merge -D address 37.420,-122.20"
   ]
  },
  {
   "cell_type": "markdown",
   "id": "011e468e",
   "metadata": {},
   "source": [
    "To find the latitude and longitude of an address, use the command:"
   ]
  },
  {
   "cell_type": "code",
   "execution_count": null,
   "id": "7cf4077c",
   "metadata": {},
   "outputs": [],
   "source": [
    "!gridlabd geodata merge -D address --reverse \"2575 Sand Hill Road, Menlo Park CA\""
   ]
  },
  {
   "cell_type": "markdown",
   "id": "b2693095",
   "metadata": {},
   "source": [
    "You can perform both operations to resolve the \"official\" address from an incomplete address:"
   ]
  },
  {
   "cell_type": "code",
   "execution_count": null,
   "id": "f0bfe454",
   "metadata": {},
   "outputs": [],
   "source": [
    "!gridlabd geodata merge -D address --reverse \"2575 Sand Hill Road, Menlo Park CA\" | gridlabd geodata merge -D address"
   ]
  },
  {
   "cell_type": "markdown",
   "id": "505c183c",
   "metadata": {},
   "source": [
    "## Elevation\n",
    "Elevation data can be obtained using the `elevation` data set, e.g.,  "
   ]
  },
  {
   "cell_type": "code",
   "execution_count": null,
   "id": "1920f2f5",
   "metadata": {},
   "outputs": [],
   "source": [
    "!gridlabd geodata merge -D elevation 37.410,-122.20 37.420,-122.20 37.420,-122.21"
   ]
  },
  {
   "cell_type": "markdown",
   "id": "20e57631",
   "metadata": {},
   "source": [
    "Elevations can be calculated in other units using the `--units=UNIT` options, e.g.,"
   ]
  },
  {
   "cell_type": "code",
   "execution_count": null,
   "id": "19359395",
   "metadata": {},
   "outputs": [],
   "source": [
    "!gridlabd geodata merge -D elevation 37.410,-122.20 37.420,-122.20 37.420,-122.21 --units=feet"
   ]
  },
  {
   "cell_type": "markdown",
   "id": "4cd4a62a",
   "metadata": {},
   "source": [
    "Valid units are `m` or `meters`, and `ft` or `feet`.\n",
    "\n",
    "The precision of the elevations can be specified as well, e.g.,"
   ]
  },
  {
   "cell_type": "code",
   "execution_count": null,
   "id": "0d9e280c",
   "metadata": {},
   "outputs": [],
   "source": [
    "!gridlabd geodata merge -D elevation 37.410,-122.20 37.420,-122.20 37.420,-122.21 --precision.elevation=2 --units=feet"
   ]
  },
  {
   "cell_type": "markdown",
   "id": "0a0235fa",
   "metadata": {},
   "source": [
    "## Utility\n",
    "\n",
    "Utility data can be obtained using the `utility` dataset.  This dataset includes information from the Homeland Infrastructure Foundation-Level Data (HIFLD).  Note that this dataset uses a very large datafile that can take some time to download the first time.\n",
    "\n",
    "The name of the utility at a location is the default data result, e.g.,"
   ]
  },
  {
   "cell_type": "code",
   "execution_count": null,
   "id": "ae45a623",
   "metadata": {},
   "outputs": [],
   "source": [
    "!gridlabd geodata merge -D utility 37.420,-122.20 "
   ]
  },
  {
   "cell_type": "markdown",
   "id": "e97a965c",
   "metadata": {},
   "source": [
    "Other data is available (see https://hifld-geoplatform.opendata.arcgis.com/datasets/electric-retail-service-territories for detail).  A list of data available can be obtained from the dataset help, e.g., using `gridlabd geodata help utility`.  \n",
    "\n",
    "To get the utility's summer and winter peak load and number of customers and the year for which the data is obtained, use the command"
   ]
  },
  {
   "cell_type": "code",
   "execution_count": null,
   "id": "dcc90edc",
   "metadata": {},
   "outputs": [],
   "source": [
    "!gridlabd geodata merge -D utility 37.420,-122.20 --fields=WINTR_PEAK,SUMMR_PEAK,CUSTOMERS,YEAR"
   ]
  },
  {
   "cell_type": "markdown",
   "id": "9f287650",
   "metadata": {},
   "source": [
    "The `utility` dataset also contains geometry data that can be used to generate maps, e.g.,"
   ]
  },
  {
   "cell_type": "code",
   "execution_count": null,
   "id": "c60b5061",
   "metadata": {},
   "outputs": [],
   "source": [
    "!gridlabd geodata merge -D utility 37.420,-122.20 --geometry -f PLOT -o /tmp/utility.png --plot.figsize=10,5\n",
    "Image(\"/tmp/utility.png\")"
   ]
  },
  {
   "cell_type": "markdown",
   "id": "7213c746",
   "metadata": {},
   "source": [
    "## Powerline\n",
    "\n",
    "Powerline calculations can be performed using the `powerline` dataset.  This dataset calculates line sag, line sway, and line gallop.  To use this dataset additional data is usually required. When the needed is not available at a specific position or location, static values can be provided using the dataset options. For example, the cable type is required and a reference to a known cable type can be given on the command line, e.g.,"
   ]
  },
  {
   "cell_type": "code",
   "execution_count": null,
   "id": "f6cc13cb",
   "metadata": {
    "scrolled": false
   },
   "outputs": [],
   "source": [
    "!gridlabd geodata merge -D powerline path_example.csv --cable_type=\"TACSR/AC 610mm^2\" -r 250 -f TABLE:linesag"
   ]
  },
  {
   "cell_type": "markdown",
   "id": "d9ac927d",
   "metadata": {},
   "source": [
    "Known cables types are listed in the `geodata_powerline_cabletypes.csv`, which contains the following data:"
   ]
  },
  {
   "cell_type": "code",
   "execution_count": null,
   "id": "99239fbc",
   "metadata": {},
   "outputs": [],
   "source": [
    "pandas.read_csv(\"../geodata_powerline_cabletypes.csv\")"
   ]
  },
  {
   "cell_type": "markdown",
   "id": "27cd731b",
   "metadata": {},
   "source": [
    "When needed data is not provided or the value provided is invalid, a warning is output and the requested values are not calculated, e.g.,"
   ]
  },
  {
   "cell_type": "code",
   "execution_count": null,
   "id": "f5a4cafc",
   "metadata": {},
   "outputs": [],
   "source": [
    "!gridlabd geodata merge -D powerline path_example.csv -f TABLE:linesag"
   ]
  },
  {
   "cell_type": "code",
   "execution_count": null,
   "id": "66d9ca3d",
   "metadata": {},
   "outputs": [],
   "source": [
    "!gridlabd geodata merge -D powerline path_example.csv -f TABLE:linesag --cable_type=\"My cabletype\""
   ]
  },
  {
   "cell_type": "markdown",
   "id": "09abbe56",
   "metadata": {},
   "source": [
    "---\n",
    "# Getting help\n",
    "\n",
    "You can obtain help using the `help` directive, e.g.,"
   ]
  },
  {
   "cell_type": "code",
   "execution_count": null,
   "id": "6627ef94",
   "metadata": {
    "scrolled": false
   },
   "outputs": [],
   "source": [
    "!gridlabd geodata help | head -n 10"
   ]
  },
  {
   "cell_type": "code",
   "execution_count": null,
   "id": "713dbc41",
   "metadata": {},
   "outputs": [],
   "source": [
    "!gridlabd geodata help distance | head -n 10"
   ]
  },
  {
   "cell_type": "markdown",
   "id": "6590f801",
   "metadata": {},
   "source": [
    "---\n",
    "# Errors, warnings, diagnostics, and debugging"
   ]
  },
  {
   "cell_type": "markdown",
   "id": "c21f43ee",
   "metadata": {},
   "source": [
    "The `-v` or `--verbose` option can be used to get additional output about the stages of processing, e.g., "
   ]
  },
  {
   "cell_type": "code",
   "execution_count": null,
   "id": "70af8b3b",
   "metadata": {},
   "outputs": [],
   "source": [
    "!gridlabd geodata merge -D distance 37,-122 38,-122 -v --units=km --precision.distance=3"
   ]
  },
  {
   "cell_type": "markdown",
   "id": "63d95fb0",
   "metadata": {},
   "source": [
    "The `-s` or `--silent` option suppresses error messages while still returning an error condition, e.g.,"
   ]
  },
  {
   "cell_type": "code",
   "execution_count": null,
   "id": "ee763942",
   "metadata": {},
   "outputs": [],
   "source": [
    "!gridlabd geodata merge -D distance 37,-122 38,-122 --badoption -s || echo \"Exit code $?\""
   ]
  },
  {
   "cell_type": "markdown",
   "id": "eb368232",
   "metadata": {},
   "source": [
    "The `-w` or `--warning` option suppresses warning messages, e.g.,"
   ]
  },
  {
   "cell_type": "code",
   "execution_count": null,
   "id": "73788755",
   "metadata": {},
   "outputs": [],
   "source": [
    "!gridlabd geodata merge -D distance 37,-122 38,-122 -r 100 -k location -w"
   ]
  },
  {
   "cell_type": "markdown",
   "id": "047cbc11",
   "metadata": {},
   "source": [
    "The `-d` or `--debug` option can be used to obtain details about why an error occurred.  For example, the following command has an invalid `lat,lon` tuple and results in a simple error message:"
   ]
  },
  {
   "cell_type": "code",
   "execution_count": null,
   "id": "19844cfd",
   "metadata": {},
   "outputs": [],
   "source": [
    "!gridlabd geodata merge -D distance 37,-122 38,-122 --units=furlongs"
   ]
  },
  {
   "cell_type": "markdown",
   "id": "6b81a51b",
   "metadata": {},
   "source": [
    "Using the debug option provides a more detailed traceback of the error that can be helpful in diagnostic the problem, particularly when it originates in a dataset package. The call arguments, options, and configuration is also output after the traceback information."
   ]
  },
  {
   "cell_type": "code",
   "execution_count": null,
   "id": "318cf241",
   "metadata": {},
   "outputs": [],
   "source": [
    "!gridlabd geodata merge -D distance 37,-122 38,-122 --units=furlongs -d"
   ]
  },
  {
   "cell_type": "markdown",
   "id": "ac705c37",
   "metadata": {},
   "source": [
    "Note that using the debug flag also enables traceback of warnings from inside python modules, but does not traceback warnings from geodata packages."
   ]
  },
  {
   "cell_type": "markdown",
   "id": "7de64aed",
   "metadata": {},
   "source": [
    "# Configurations and Options"
   ]
  },
  {
   "cell_type": "markdown",
   "id": "c6f227e5",
   "metadata": {},
   "source": [
    "The current `geodata` configuration values are obtained using the `--show_config` command line option:"
   ]
  },
  {
   "cell_type": "code",
   "execution_count": null,
   "id": "54c2eb63",
   "metadata": {},
   "outputs": [],
   "source": [
    "!gridlabd geodata --show_config"
   ]
  },
  {
   "cell_type": "markdown",
   "id": "8e339ad8",
   "metadata": {},
   "source": [
    "This list will always include all the `system`, `user`, and `local` configuration items."
   ]
  },
  {
   "cell_type": "markdown",
   "id": "79ba69a7",
   "metadata": {},
   "source": [
    "The valid `geodata` option values are obtained using a similar command for options, e.g.,"
   ]
  },
  {
   "cell_type": "code",
   "execution_count": null,
   "id": "4c346e06",
   "metadata": {},
   "outputs": [],
   "source": [
    "!gridlabd geodata --show_options"
   ]
  },
  {
   "cell_type": "code",
   "execution_count": null,
   "id": "2bec569f",
   "metadata": {},
   "outputs": [],
   "source": []
  }
 ],
 "metadata": {
  "kernelspec": {
   "display_name": "Python 3",
   "language": "python",
   "name": "python3"
  },
  "language_info": {
   "codemirror_mode": {
    "name": "ipython",
    "version": 3
   },
   "file_extension": ".py",
   "mimetype": "text/x-python",
   "name": "python",
   "nbconvert_exporter": "python",
   "pygments_lexer": "ipython3",
   "version": "3.9.4"
  }
 },
 "nbformat": 4,
 "nbformat_minor": 5
}
