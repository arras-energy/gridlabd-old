{
 "cells": [
  {
   "cell_type": "markdown",
   "id": "1386863e",
   "metadata": {},
   "source": [
    "# GridLAB-D GeoData Subcommand\n",
    "\n",
    "As of version 4.2.21, HiPAS GridLAB-D supports the handling of geographic data.  This command checks the version of GridLAB-D."
   ]
  },
  {
   "cell_type": "code",
   "execution_count": 1,
   "id": "6aa36791",
   "metadata": {},
   "outputs": [
    {
     "name": "stdout",
     "output_type": "stream",
     "text": [
      "HiPAS GridLAB-D 4.2.21-210512\r\n"
     ]
    }
   ],
   "source": [
    "!gridlabd --version"
   ]
  },
  {
   "cell_type": "markdown",
   "id": "62935d32",
   "metadata": {},
   "source": [
    "The `geodata` subcommand uses the general syntax `gridlabd geodata OPTIONS DIRECTIVE [ARGUMENTS]`.  "
   ]
  },
  {
   "cell_type": "markdown",
   "id": "d6715881",
   "metadata": {},
   "source": [
    "## Creating location data\n",
    "\n",
    "There are two basic types of geodata entities in GridLAB-D: \n",
    "\n",
    "1. an unordered collection of points each specified by a `latitude,longitude` tuple; and \n",
    "\n",
    "1. an ordered series of waypoints along a path specified by a sequence of `latitude,longitude` tuples.  \n",
    "\n",
    "The interpretation of a the entity is left to the dataset processor, but it can often been specified using the `location` or `position` keys, respectively.  A geodata entity can be converted from one to another by simply changing the key (see Geodata Indexing below)."
   ]
  },
  {
   "cell_type": "markdown",
   "id": "7e985c38",
   "metadata": {},
   "source": [
    "The `create` directive is used to create a new geodata entity.  The general syntax is `gridlabd geodata create LOCATIONS ...`.\n",
    "\n",
    "There are two methods of introducing locations.  The first method introduces one or more `latitude,longitude` tuples directly in the command line.  For example, the following command creates a dataset with the approximate location of SLAC's main gate."
   ]
  },
  {
   "cell_type": "code",
   "execution_count": 2,
   "id": "899d1d3c",
   "metadata": {},
   "outputs": [
    {
     "name": "stdout",
     "output_type": "stream",
     "text": [
      "id,latitude,longitude\r\n",
      "0,37.415,-122.201\r\n"
     ]
    }
   ],
   "source": [
    "!gridlabd geodata create 37.415,-122.201"
   ]
  },
  {
   "cell_type": "markdown",
   "id": "67f749f9",
   "metadata": {},
   "source": [
    "Multiple locations can be introduced by adding them to the command, for example:"
   ]
  },
  {
   "cell_type": "code",
   "execution_count": 3,
   "id": "2327f5b2",
   "metadata": {},
   "outputs": [
    {
     "name": "stdout",
     "output_type": "stream",
     "text": [
      "id,latitude,longitude\r\n",
      "0,37.41,-122.201\r\n",
      "1,37.42,-122.201\r\n"
     ]
    }
   ],
   "source": [
    "!gridlabd geodata create 37.410,-122.201 37.420,-122.201"
   ]
  },
  {
   "cell_type": "markdown",
   "id": "ac51f88b",
   "metadata": {},
   "source": [
    "The second method uses an input file with locations and associated data, such as this example CSV file:"
   ]
  },
  {
   "cell_type": "code",
   "execution_count": 4,
   "id": "dd3d65b2",
   "metadata": {},
   "outputs": [
    {
     "name": "stdout",
     "output_type": "stream",
     "text": [
      "latitude,longitude,configuration,pole_height\r\n",
      "37.415045141688054,-122.2056472090359,flat3,15.0\r\n",
      "37.414698020593065,-122.20848749028133,sideT,15.0\r\n",
      "37.414454093051745,-122.21044282065421,sideT,15.0\r\n"
     ]
    }
   ],
   "source": [
    "!head -n 4 path_example.csv"
   ]
  },
  {
   "cell_type": "markdown",
   "id": "95af575f",
   "metadata": {},
   "source": [
    "To use this file, the following command can be used:"
   ]
  },
  {
   "cell_type": "code",
   "execution_count": 5,
   "id": "2e960d68",
   "metadata": {},
   "outputs": [
    {
     "name": "stdout",
     "output_type": "stream",
     "text": [
      "id,latitude,longitude,configuration,pole_height\r\n",
      "0,37.41505,-122.20565,flat3,15.0\r\n",
      "1,37.4147,-122.20849,sideT,15.0\r\n",
      "2,37.41445,-122.21044,sideT,15.0\r\n"
     ]
    }
   ],
   "source": [
    "!gridlabd geodata create path_example.csv | head -n 4"
   ]
  },
  {
   "cell_type": "markdown",
   "id": "ef82e913",
   "metadata": {},
   "source": [
    "Note that if multiple locations are provided they are sequences in the order in which they are presented, including if locations are provided directly on the command line or from data files."
   ]
  },
  {
   "cell_type": "markdown",
   "id": "b6ae5329",
   "metadata": {},
   "source": [
    "If no location information is given, then the geodata is read from `/dev/stdin`, e.g.,"
   ]
  },
  {
   "cell_type": "code",
   "execution_count": 6,
   "id": "b2f6c6ac",
   "metadata": {},
   "outputs": [
    {
     "name": "stdout",
     "output_type": "stream",
     "text": [
      "id,latitude,longitude\r\n",
      "0,37.41505,-122.20565\r\n",
      "1,37.4147,-122.20849\r\n",
      "2,37.41445,-122.21044\r\n"
     ]
    }
   ],
   "source": [
    "!head -n 4 path_example.csv | cut -f1-2 -d, | gridlabd geodata create"
   ]
  },
  {
   "cell_type": "markdown",
   "id": "c869e611",
   "metadata": {},
   "source": [
    "## Some useful options"
   ]
  },
  {
   "cell_type": "markdown",
   "id": "3fce7cb6",
   "metadata": {},
   "source": [
    "The default precision with which latitudes and longitudes are output is 5 decimals, which is approximately 1 meter resolution. You can change the precision with which latitudes and longitudes are output using the `-p` or `--precision` option, e.g.,"
   ]
  },
  {
   "cell_type": "code",
   "execution_count": 7,
   "id": "120e4bbd",
   "metadata": {},
   "outputs": [
    {
     "name": "stdout",
     "output_type": "stream",
     "text": [
      "id,latitude,longitude\r\n",
      "0,37.41,-122.201\r\n",
      "1,37.42,-122.201\r\n"
     ]
    }
   ],
   "source": [
    "!gridlabd geodata create 37.410,-122.201 37.420,-122.201 -p 4"
   ]
  },
  {
   "cell_type": "markdown",
   "id": "8129b1c7",
   "metadata": {},
   "source": [
    "The default field separator for RAW output is a space. You can change this to any string using the `--fieldsep=STRING` option, e.g.,"
   ]
  },
  {
   "cell_type": "code",
   "execution_count": 8,
   "id": "cc5a5c77",
   "metadata": {},
   "outputs": [
    {
     "name": "stdout",
     "output_type": "stream",
     "text": [
      "37.41:-122.201\r\n",
      "37.42:-122.201\r\n"
     ]
    }
   ],
   "source": [
    "!gridlabd geodata create 37.410,-122.201 37.420,-122.201 -f RAW --fieldsep=:"
   ]
  },
  {
   "cell_type": "markdown",
   "id": "c35ad9d8",
   "metadata": {},
   "source": [
    "Similarly the default record separator for RAW output is a newline. You can change this to any string using the `--recordsep=STRING` option, e.g.,"
   ]
  },
  {
   "cell_type": "code",
   "execution_count": 9,
   "id": "e2478429",
   "metadata": {},
   "outputs": [
    {
     "name": "stdout",
     "output_type": "stream",
     "text": [
      "37.41 -122.201 ; 37.42 -122.201\r\n"
     ]
    }
   ],
   "source": [
    "!gridlabd geodata create 37.410,-122.201 37.420,-122.201 -f RAW --recordsep=' ; '"
   ]
  },
  {
   "cell_type": "markdown",
   "id": "87b3a0c4",
   "metadata": {},
   "source": [
    "## Configurations\n",
    "There are three locations where configuration settings are maintain: (1) system, (2) user, and (3) local.  They are consulted in this order so that the system configuration overrides the default configuration, the user configuration override the system, and the local configuration overrides the user configuration.  \n",
    "\n",
    "By default the configuration files are named `geodata.conf`.  The system configuration is stored in `$GLD_ETC/geodata/geodata.conf` folder.  The user configuration is stored in `$HOME/.gridlabd/geodata/geodata.conf` and the local configuration is stored in `$PWD/geodata.conf`. \n",
    "\n",
    "The default configuration file name can be changed using the `-C FILENAME` or `--configfile FILENAME` option."
   ]
  },
  {
   "cell_type": "markdown",
   "id": "d71579f3",
   "metadata": {},
   "source": [
    "You can manage the current configuration using the `config` directive, e.g., to set the local configuration parameter `name` to `value`, use the `set` option"
   ]
  },
  {
   "cell_type": "code",
   "execution_count": 10,
   "id": "5b4622ae",
   "metadata": {},
   "outputs": [
    {
     "name": "stdout",
     "output_type": "stream",
     "text": [
      "WARNING [geodata/None]: config file '/Users/dchassin/Documents/GitHub/slacgismo/gridlabd/gldcore/geodata/docs/geodata.conf' is not found\r\n"
     ]
    }
   ],
   "source": [
    "!gridlabd geodata config set name local_value"
   ]
  },
  {
   "cell_type": "markdown",
   "id": "bf57f761",
   "metadata": {},
   "source": [
    "Note that if the file in which the parameter is stored does not already exist, you will get a warning before it is created."
   ]
  },
  {
   "cell_type": "markdown",
   "id": "ab08cedc",
   "metadata": {},
   "source": [
    "To get the value, use the `get` option:"
   ]
  },
  {
   "cell_type": "code",
   "execution_count": 11,
   "id": "4f0dba14",
   "metadata": {},
   "outputs": [
    {
     "name": "stdout",
     "output_type": "stream",
     "text": [
      "local_value\r\n"
     ]
    }
   ],
   "source": [
    "!gridlabd geodata config get name"
   ]
  },
  {
   "cell_type": "markdown",
   "id": "3f1e2644",
   "metadata": {},
   "source": [
    "To show all the configuration values, use the `show` option:"
   ]
  },
  {
   "cell_type": "code",
   "execution_count": 12,
   "id": "983877fd",
   "metadata": {},
   "outputs": [
    {
     "name": "stdout",
     "output_type": "stream",
     "text": [
      "name='local_value'\r\n"
     ]
    }
   ],
   "source": [
    "!gridlabd geodata config show"
   ]
  },
  {
   "cell_type": "markdown",
   "id": "fa68dbbc",
   "metadata": {},
   "source": [
    "To set a user configuration, use the `user.` prefix, e.g.,"
   ]
  },
  {
   "cell_type": "code",
   "execution_count": 13,
   "id": "c43e589b",
   "metadata": {},
   "outputs": [
    {
     "name": "stdout",
     "output_type": "stream",
     "text": [
      "name='local_value'\r\n",
      "user.name='user_value'\r\n"
     ]
    }
   ],
   "source": [
    "!gridlabd geodata config set user.name user_value\n",
    "!gridlabd geodata config show"
   ]
  },
  {
   "cell_type": "markdown",
   "id": "385f60c9",
   "metadata": {},
   "source": [
    "The same syntax is used for system configuration values, e.g.,"
   ]
  },
  {
   "cell_type": "code",
   "execution_count": 14,
   "id": "ac492e63",
   "metadata": {},
   "outputs": [
    {
     "name": "stdout",
     "output_type": "stream",
     "text": [
      "name='local_value'\r\n",
      "user.name='user_value'\r\n",
      "system.name='system_value'\r\n"
     ]
    }
   ],
   "source": [
    "!gridlabd geodata config set system.name system_value\n",
    "!gridlabd geodata config show"
   ]
  },
  {
   "cell_type": "markdown",
   "id": "1f792872",
   "metadata": {},
   "source": [
    "To remove a value, use the `unset` option, e.g.,"
   ]
  },
  {
   "cell_type": "code",
   "execution_count": 15,
   "id": "5110cdc3",
   "metadata": {},
   "outputs": [
    {
     "name": "stdout",
     "output_type": "stream",
     "text": [
      "user.name='user_value'\r\n",
      "system.name='system_value'\r\n"
     ]
    }
   ],
   "source": [
    "!gridlabd geodata config unset name\n",
    "!gridlabd geodata config show"
   ]
  },
  {
   "cell_type": "markdown",
   "id": "20926937",
   "metadata": {},
   "source": [
    "## Geodata formatting\n",
    "\n",
    "The output format can be changed using the `-f` or `--format` option. The valid formats are `CSV`, `JSON`, `RAW`, and `TABLE`.  `CSV` format is the default, but can be specified as follows:"
   ]
  },
  {
   "cell_type": "code",
   "execution_count": 16,
   "id": "5f562694",
   "metadata": {},
   "outputs": [
    {
     "name": "stdout",
     "output_type": "stream",
     "text": [
      "id,latitude,longitude\r\n",
      "0,37.41,-122.201\r\n",
      "1,37.42,-122.201\r\n"
     ]
    }
   ],
   "source": [
    "!gridlabd geodata create 37.410,-122.201 37.420,-122.201 -f CSV"
   ]
  },
  {
   "cell_type": "markdown",
   "id": "40f39832",
   "metadata": {},
   "source": [
    "JSON output looks like this:"
   ]
  },
  {
   "cell_type": "code",
   "execution_count": 17,
   "id": "6721169c",
   "metadata": {},
   "outputs": [
    {
     "name": "stdout",
     "output_type": "stream",
     "text": [
      "[{\"latitude\":37.41,\"longitude\":-122.201},{\"latitude\":37.42,\"longitude\":-122.201}]\r\n"
     ]
    }
   ],
   "source": [
    "!gridlabd geodata create 37.410,-122.201 37.420,-122.201 -f JSON"
   ]
  },
  {
   "cell_type": "markdown",
   "id": "bcecd73d",
   "metadata": {},
   "source": [
    "RAW output is generated as follows"
   ]
  },
  {
   "cell_type": "code",
   "execution_count": 18,
   "id": "9279215a",
   "metadata": {},
   "outputs": [
    {
     "name": "stdout",
     "output_type": "stream",
     "text": [
      "37.41 -122.201\r\n",
      "37.42 -122.201\r\n"
     ]
    }
   ],
   "source": [
    "!gridlabd geodata create 37.410,-122.201 37.420,-122.201 -f RAW"
   ]
  },
  {
   "cell_type": "markdown",
   "id": "273e4650",
   "metadata": {},
   "source": [
    "TABLE output is generated for easy reading:"
   ]
  },
  {
   "cell_type": "code",
   "execution_count": 19,
   "id": "4cae9f9b",
   "metadata": {},
   "outputs": [
    {
     "name": "stdout",
     "output_type": "stream",
     "text": [
      "    latitude  longitude\r\n",
      "id                     \r\n",
      "0      37.41   -122.201\r\n",
      "1      37.42   -122.201\r\n"
     ]
    }
   ],
   "source": [
    "!gridlabd geodata create 37.410,-122.201 37.420,-122.201 -f TABLE"
   ]
  },
  {
   "cell_type": "markdown",
   "id": "1d07a557",
   "metadata": {},
   "source": [
    "Output formats may include an ordered field list, such as"
   ]
  },
  {
   "cell_type": "code",
   "execution_count": 20,
   "id": "72ac376e",
   "metadata": {},
   "outputs": [
    {
     "name": "stdout",
     "output_type": "stream",
     "text": [
      "id,longitude,latitude\r\n",
      "0,-122.201,37.41\r\n",
      "1,-122.201,37.42\r\n"
     ]
    }
   ],
   "source": [
    "!gridlabd geodata create 37.410,-122.201 37.420,-122.201 -f CSV:longitude,latitude"
   ]
  },
  {
   "cell_type": "markdown",
   "id": "024dc997",
   "metadata": {},
   "source": [
    "## Geodata indexing\n",
    "\n",
    "The output can be indexed using one of several standards keys, or keys from the data. The default key is `id` which is the row number, as seen above. This key can be explicitly specified as follows:"
   ]
  },
  {
   "cell_type": "code",
   "execution_count": 21,
   "id": "c5b568e3",
   "metadata": {},
   "outputs": [
    {
     "name": "stdout",
     "output_type": "stream",
     "text": [
      "id,latitude,longitude\r\n",
      "0,37.41,-122.201\r\n",
      "1,37.42,-122.201\r\n"
     ]
    }
   ],
   "source": [
    "!gridlabd geodata create 37.410,-122.201 37.420,-122.201 -k id"
   ]
  },
  {
   "cell_type": "markdown",
   "id": "209e4084",
   "metadata": {},
   "source": [
    "The `location` key generates a geohash code:"
   ]
  },
  {
   "cell_type": "code",
   "execution_count": 22,
   "id": "043fc934",
   "metadata": {},
   "outputs": [
    {
     "name": "stdout",
     "output_type": "stream",
     "text": [
      "location,latitude,longitude,id\r\n",
      "9q9hg4rcn36n,37.41,-122.201,0\r\n",
      "9q9hghpgq3d4,37.42,-122.201,1\r\n"
     ]
    }
   ],
   "source": [
    "!gridlabd geodata create 37.410,-122.201 37.420,-122.201 -k location"
   ]
  },
  {
   "cell_type": "markdown",
   "id": "f5953454",
   "metadata": {},
   "source": [
    "The `position` key generates a distance index, treating the data rows as a series of waypoints along a path. When this key is used, the distance and heading also generated."
   ]
  },
  {
   "cell_type": "code",
   "execution_count": 23,
   "id": "d2096dbd",
   "metadata": {},
   "outputs": [
    {
     "name": "stdout",
     "output_type": "stream",
     "text": [
      "position,latitude,longitude,id,distance,heading\r\n",
      "0,37.41,-122.201,0,0.0,\r\n",
      "1111,37.42,-122.201,1,1111.95,0.0\r\n"
     ]
    }
   ],
   "source": [
    "!gridlabd geodata create 37.410,-122.201 37.420,-122.201 -k position"
   ]
  },
  {
   "cell_type": "markdown",
   "id": "97183a9a",
   "metadata": {},
   "source": [
    "Any field or set of fields may be used for indexing, e.g.,"
   ]
  },
  {
   "cell_type": "code",
   "execution_count": 24,
   "id": "5b838e34",
   "metadata": {},
   "outputs": [
    {
     "name": "stdout",
     "output_type": "stream",
     "text": [
      "latitude,longitude,id\r\n",
      "37.41,-122.201,0\r\n",
      "37.42,-122.201,1\r\n"
     ]
    }
   ],
   "source": [
    "!gridlabd geodata create 37.410,-122.201 37.420,-122.201 -k latitude,longitude"
   ]
  },
  {
   "cell_type": "markdown",
   "id": "4136be24",
   "metadata": {},
   "source": [
    "## Path waypoints\n",
    "\n",
    "Waypoints can be generated along a path using the `-r` or `--resolution` option.  For example, 250-meter waypoints are generated using the following syntax:"
   ]
  },
  {
   "cell_type": "code",
   "execution_count": 45,
   "id": "b6c36bbb",
   "metadata": {},
   "outputs": [
    {
     "name": "stdout",
     "output_type": "stream",
     "text": [
      "          latitude  longitude   id  distance  heading\r\n",
      "position                                             \r\n",
      "0         37.41000   -122.201  0.0      0.00      NaN\r\n",
      "250       37.41225   -122.201  NaN    250.00      0.0\r\n",
      "500       37.41450   -122.201  NaN    500.00      0.0\r\n",
      "750       37.41674   -122.201  NaN    750.00      0.0\r\n",
      "1000      37.41899   -122.201  NaN   1000.00      0.0\r\n",
      "1111      37.42000   -122.201  1.0   1111.95      0.0\r\n"
     ]
    }
   ],
   "source": [
    "!gridlabd geodata create 37.410,-122.201 37.420,-122.201 -r 250 -f TABLE"
   ]
  },
  {
   "cell_type": "markdown",
   "id": "7c4ba4ce",
   "metadata": {},
   "source": [
    "The `distance` and `heading` columns are added to provide the distance and heading to the waypoint from the last location. When using waypoints, the key is automatically set to `position`, which provides the distance from the first point.  The use of other keys is not supported. In addition, any waypoint added in the process is not assigned a row `id` in order to protect the original row ids. \n",
    "\n",
    "The index can be changed with the `-k` or `--key` options using a pipe, e.g.,"
   ]
  },
  {
   "cell_type": "code",
   "execution_count": 41,
   "id": "f1d3b55d",
   "metadata": {},
   "outputs": [
    {
     "name": "stdout",
     "output_type": "stream",
     "text": [
      "              position  latitude  longitude   id  distance  heading\r\n",
      "location                                                           \r\n",
      "9q9hg4rcn36n         0  37.41000   -122.201  0.0      0.00      NaN\r\n",
      "9q9hg4xynkfh       250  37.41225   -122.201  NaN    250.00      0.0\r\n",
      "9q9hg5pgq261       500  37.41450   -122.201  NaN    500.00      0.0\r\n",
      "9q9hg5xbq3fh       750  37.41674   -122.201  NaN    750.00      0.0\r\n",
      "9q9hg5zvqm61      1000  37.41899   -122.201  NaN   1000.00      0.0\r\n",
      "9q9hghpgq3d4      1111  37.42000   -122.201  1.0   1111.95      0.0\r\n"
     ]
    }
   ],
   "source": [
    "!gridlabd geodata create 37.410,-122.201 37.420,-122.201 -r 250 | gridlabd geodata create -k location -f TABLE"
   ]
  },
  {
   "cell_type": "markdown",
   "id": "18500df1",
   "metadata": {},
   "source": [
    "## Output\n",
    "\n",
    "By default all output is written to `/dev/stdout`.  The output can be written to a file using the `-o` or `--output` option, e.g.,"
   ]
  },
  {
   "cell_type": "code",
   "execution_count": 27,
   "id": "eb43a6c7",
   "metadata": {},
   "outputs": [
    {
     "name": "stdout",
     "output_type": "stream",
     "text": [
      "id,latitude,longitude\r\n",
      "0,37.41,-122.201\r\n",
      "1,37.42,-122.201\r\n"
     ]
    }
   ],
   "source": [
    "!gridlabd geodata create 37.410,-122.201 37.420,-122.201 -o /tmp/test.csv\n",
    "!cat /tmp/test.csv"
   ]
  },
  {
   "cell_type": "markdown",
   "id": "dae5cf1e",
   "metadata": {},
   "source": [
    "----\n",
    "# Datasets\n",
    "\n",
    "The `merge` directive is used to merge a dataset into an existing geodata entity.  The general syntax is `gridlabd geodata merge -D DATASET OPTIONS`"
   ]
  },
  {
   "cell_type": "markdown",
   "id": "d7d8eb56",
   "metadata": {},
   "source": [
    "## Distance\n",
    "\n",
    "The `distance` dataset provide great-circle distance calculations.  For example, the following calculated the distance from the first point in the series."
   ]
  },
  {
   "cell_type": "code",
   "execution_count": 28,
   "id": "dce56f76",
   "metadata": {},
   "outputs": [
    {
     "name": "stdout",
     "output_type": "stream",
     "text": [
      "id,latitude,longitude,distance\r\n",
      "0,37.41,-122.201,0.0\r\n",
      "1,37.42,-122.201,593.0\r\n"
     ]
    }
   ],
   "source": [
    "!gridlabd geodata merge -D distance 37.410,-122.201 37.420,-122.201"
   ]
  },
  {
   "cell_type": "markdown",
   "id": "c112973b",
   "metadata": {},
   "source": [
    "The `distance` dataset support different units, include `meters` or `m`, `kilometers` or `km`, `feet` or `ft`, `yards` or `yd`, `miles` or `mi`.  For example, the following calculates the distances in feet:"
   ]
  },
  {
   "cell_type": "code",
   "execution_count": 29,
   "id": "91611f60",
   "metadata": {},
   "outputs": [
    {
     "name": "stdout",
     "output_type": "stream",
     "text": [
      "id,latitude,longitude,distance\r\n",
      "0,37.41,-122.201,0.0\r\n",
      "1,37.42,-122.201,1944.0\r\n"
     ]
    }
   ],
   "source": [
    "!gridlabd geodata merge -D distance 37.410,-122.201 37.420,-122.201 --units=feet"
   ]
  },
  {
   "cell_type": "markdown",
   "id": "8fc2fbe5",
   "metadata": {},
   "source": [
    "Note that the default precision with which distances are calculated in 0 decimals. Thus the distance in `km` is rounded up to `1.0`:"
   ]
  },
  {
   "cell_type": "code",
   "execution_count": 30,
   "id": "cece01fc",
   "metadata": {},
   "outputs": [
    {
     "name": "stdout",
     "output_type": "stream",
     "text": [
      "id,latitude,longitude,distance\r\n",
      "0,37.41,-122.201,0.0\r\n",
      "1,37.42,-122.201,1.0\r\n"
     ]
    }
   ],
   "source": [
    "!gridlabd geodata merge -D distance 37.410,-122.201 37.420,-122.201 --units=km"
   ]
  },
  {
   "cell_type": "markdown",
   "id": "5b8f6a92",
   "metadata": {},
   "source": [
    "The precision can be changed thus: "
   ]
  },
  {
   "cell_type": "code",
   "execution_count": 31,
   "id": "256df24d",
   "metadata": {},
   "outputs": [
    {
     "name": "stdout",
     "output_type": "stream",
     "text": [
      "id,latitude,longitude,distance\r\n",
      "0,37.41,-122.201,0.0\r\n",
      "1,37.42,-122.201,0.59\r\n"
     ]
    }
   ],
   "source": [
    "!gridlabd geodata merge -D distance 37.410,-122.201 37.420,-122.201 --units=km --precision=2"
   ]
  },
  {
   "cell_type": "markdown",
   "id": "fbb4c74b",
   "metadata": {},
   "source": [
    "## Address\n",
    "\n",
    "You can use the `address` dataset to perform address resolution operations, both to and from latitude and longitude.\n",
    "\n",
    "To obtain the address at a location, use the following command"
   ]
  },
  {
   "cell_type": "code",
   "execution_count": 32,
   "id": "b2e5328e",
   "metadata": {},
   "outputs": [
    {
     "name": "stdout",
     "output_type": "stream",
     "text": [
      "id,latitude,longitude,address\r\n",
      "0,37.415,-122.201,\"Stanford Linear Accelerator Center National Accelerator Laboratory, Sand Hill Road, Menlo Park, San Mateo County, California, 94028, United States\"\r\n"
     ]
    }
   ],
   "source": [
    "!gridlabd geodata merge -D address 37.415,-122.201"
   ]
  },
  {
   "cell_type": "markdown",
   "id": "011e468e",
   "metadata": {},
   "source": [
    "To find the latitude and longitude of an address, use the command:"
   ]
  },
  {
   "cell_type": "code",
   "execution_count": 33,
   "id": "7cf4077c",
   "metadata": {},
   "outputs": [
    {
     "name": "stdout",
     "output_type": "stream",
     "text": [
      "id,index,address,longitude,latitude\r\n",
      "0,0,\"2575 Sand Hill Road, Menlo Park CA\",-122.20118,37.41546\r\n"
     ]
    }
   ],
   "source": [
    "!gridlabd geodata merge -D address --reverse \"2575 Sand Hill Road, Menlo Park CA\""
   ]
  },
  {
   "cell_type": "markdown",
   "id": "b2693095",
   "metadata": {},
   "source": [
    "You can perform both operations to resolve the \"official\" address from an incomplete address:"
   ]
  },
  {
   "cell_type": "code",
   "execution_count": 34,
   "id": "f0bfe454",
   "metadata": {},
   "outputs": [
    {
     "name": "stdout",
     "output_type": "stream",
     "text": [
      "id,index,address,longitude,latitude\r\n",
      "0,0,\"Stanford Linear Accelerator Center National Accelerator Laboratory, Sand Hill Road, Menlo Park, San Mateo County, California, 94028, United States\",-122.20118,37.41546\r\n"
     ]
    }
   ],
   "source": [
    "!gridlabd geodata merge -D address --reverse \"2575 Sand Hill Road, Menlo Park CA\" | gridlabd geodata merge -D address"
   ]
  },
  {
   "cell_type": "markdown",
   "id": "505c183c",
   "metadata": {},
   "source": [
    "## Elevation\n",
    "Elevation data can be obtained using the `elevation` data set, e.g.,  "
   ]
  },
  {
   "cell_type": "code",
   "execution_count": 66,
   "id": "1920f2f5",
   "metadata": {},
   "outputs": [
    {
     "name": "stdout",
     "output_type": "stream",
     "text": [
      "id,latitude,longitude,elevation\r\n",
      "0,37.415,-122.201,83.0\r\n"
     ]
    }
   ],
   "source": [
    "!gridlabd geodata merge -D elevation 37.415,-122.201 "
   ]
  },
  {
   "cell_type": "markdown",
   "id": "23ae8d32",
   "metadata": {},
   "source": [
    "Elevations can be calculated in other units using the `--units=UNIT` options, e.g.,"
   ]
  },
  {
   "cell_type": "code",
   "execution_count": 67,
   "id": "a69b3a79",
   "metadata": {},
   "outputs": [
    {
     "name": "stdout",
     "output_type": "stream",
     "text": [
      "id,latitude,longitude,elevation\r\n",
      "0,37.415,-122.201,272.0\r\n"
     ]
    }
   ],
   "source": [
    "!gridlabd geodata merge -D elevation 37.415,-122.201 --units=feet"
   ]
  },
  {
   "cell_type": "markdown",
   "id": "19c10fde",
   "metadata": {},
   "source": [
    "Valid units are `m` or `meters`, and `ft` or `feet`.\n",
    "\n",
    "The precision of the elevations can be specified as well, e.g.,"
   ]
  },
  {
   "cell_type": "code",
   "execution_count": 71,
   "id": "8b2bcc5b",
   "metadata": {},
   "outputs": [
    {
     "name": "stdout",
     "output_type": "stream",
     "text": [
      "id,latitude,longitude,elevation\r\n",
      "0,37.415,-122.201,272.31\r\n"
     ]
    }
   ],
   "source": [
    "!gridlabd geodata merge -D elevation 37.415,-122.201 --precision.elevation=2 --units=feet"
   ]
  },
  {
   "cell_type": "markdown",
   "id": "87583f53",
   "metadata": {},
   "source": [
    "## Utility\n",
    "\n",
    "Utility data can be obtained using the `utility` dataset.  This dataset includes information from the Homeland Infrastructure Foundation-Level Data (HIFLD).  Note that this dataset uses a very large datafile that can take some time to download the first time.\n",
    "\n",
    "The name of the utility at a location is the default data result, e.g.,"
   ]
  },
  {
   "cell_type": "code",
   "execution_count": 86,
   "id": "e5586f7a",
   "metadata": {},
   "outputs": [
    {
     "name": "stdout",
     "output_type": "stream",
     "text": [
      "id,latitude,longitude,NAME\r\n",
      "0,37.415,-122.201,PACIFIC GAS & ELECTRIC CO.\r\n"
     ]
    }
   ],
   "source": [
    "!gridlabd geodata merge -D utility 37.415,-122.201"
   ]
  },
  {
   "cell_type": "markdown",
   "id": "14cd7501",
   "metadata": {},
   "source": [
    "Other data is available (see https://hifld-geoplatform.opendata.arcgis.com/datasets/electric-retail-service-territories for detail).  A list of data available can be obtained from the dataset help, e.g., using `gridlabd geodata help utility`.  \n",
    "\n",
    "To get the utility's summer and winter peak load and number of customers and the year for which the data is obtained, use the command"
   ]
  },
  {
   "cell_type": "code",
   "execution_count": 90,
   "id": "fb8bc753",
   "metadata": {},
   "outputs": [
    {
     "name": "stdout",
     "output_type": "stream",
     "text": [
      "id,latitude,longitude,WINTR_PEAK,SUMMR_PEAK,CUSTOMERS,YEAR\r\n",
      "0,37.415,-122.201,12624.0,17263.0,5471786.0,2018.0\r\n"
     ]
    }
   ],
   "source": [
    "!gridlabd geodata merge -D utility 37.415,-122.201 --fields=WINTR_PEAK,SUMMR_PEAK,CUSTOMERS,YEAR"
   ]
  },
  {
   "cell_type": "markdown",
   "id": "a2fc8966",
   "metadata": {},
   "source": [
    "The `utility` dataset also contains geometry data that can be used to generate maps, e.g.,"
   ]
  },
  {
   "cell_type": "code",
   "execution_count": 153,
   "id": "92eca0e1",
   "metadata": {},
   "outputs": [
    {
     "name": "stdout",
     "output_type": "stream",
     "text": [
      "DEBUG [geodata/utility]: merge(args='['37.415,-122.201', '--geometry']') --> data = \n",
      "--------------------------------------------------------------------\n",
      "    latitude  ...                                           geometry\n",
      "id            ...                                                   \n",
      "0     37.415  ...  199    MULTIPOLYGON (((-124.16609 40.80788, -1...\n",
      "\n",
      "[1 rows x 4 columns]\n",
      "--------------------------------------------------------------------\n",
      "options = {\n",
      "    \"plot\": {\n",
      "        \"figsize\": [\n",
      "            7.0,\n",
      "            5.0\n",
      "        ],\n",
      "        \"cmap\": \"\",\n",
      "        \"categorical\": false,\n",
      "        \"legend\": false,\n",
      "        \"scheme\": \"\",\n",
      "        \"k\": 5,\n",
      "        \"vmin\": NaN,\n",
      "        \"vmax\": NaN,\n",
      "        \"aspect\": \"auto\"\n",
      "    },\n",
      "    \"show\": {\n",
      "        \"block\": true\n",
      "    },\n",
      "    \"savefig\": {\n",
      "        \"dpi\": 300,\n",
      "        \"facecolor\": \"w\",\n",
      "        \"edgecolor\": \"k\",\n",
      "        \"orientation\": \"landscape\",\n",
      "        \"format\": \"png\",\n",
      "        \"transparent\": false,\n",
      "        \"pad_inches\": 0.1\n",
      "    },\n",
      "    \"table\": {\n",
      "        \"max_rows\": 10,\n",
      "        \"max_columns\": 10,\n",
      "        \"width\": 100,\n",
      "        \"max_colwidth\": 10\n",
      "    },\n",
      "    \"precision\": {\n",
      "        \"distance\": 2,\n",
      "        \"heading\": 1,\n",
      "        \"geolocation\": 5,\n",
      "        \"id\": 0\n",
      "    },\n",
      "    \"resolution\": 0,\n",
      "    \"fields\": [\n",
      "        \"NAME\"\n",
      "    ],\n",
      "    \"geometry\": true\n",
      "}\n",
      "config = {\n",
      "    \"repourl\": \"http://geodata.gridlabd.us/utility\",\n",
      "    \"kmlrepo\": \"http://geodata.gridlabd.us/utility/geometry.kml\",\n",
      "    \"csvrepo\": \"http://geodata.gridlabd.us/utility/information.csv\",\n",
      "    \"cachedir\": \"/usr/local/opt/gridlabd/4.2.21-210512-develop_geodata_subcommand/share/gridlabd/geodata/utility\",\n",
      "    \"kmlfile\": \"/usr/local/opt/gridlabd/4.2.21-210512-develop_geodata_subcommand/share/gridlabd/geometry.kml\",\n",
      "    \"csvfile\": \"/usr/local/opt/gridlabd/4.2.21-210512-develop_geodata_subcommand/share/gridlabd/information.csv\"\n",
      "}\n",
      "id,latitude,longitude,NAME,geometry\n",
      "0,37.415,-122.201,PACIFIC GAS & ELECTRIC CO.,\"199    MULTIPOLYGON (((-124.16609 40.80788, -124.1661...\n",
      "Name: geometry, dtype: geometry\"\n"
     ]
    }
   ],
   "source": [
    "!gridlabd geodata merge -D utility 37.415,-122.201 --geometry -d #-f PLOT -o example.png -d"
   ]
  },
  {
   "cell_type": "code",
   "execution_count": 144,
   "id": "fe7d5a30",
   "metadata": {},
   "outputs": [
    {
     "data": {
      "text/html": [
       "<img src=\"example.png\" width=\"50%\"/>\n"
      ],
      "text/plain": [
       "<IPython.core.display.HTML object>"
      ]
     },
     "metadata": {},
     "output_type": "display_data"
    }
   ],
   "source": [
    "%%HTML \n",
    "<img src=\"example.png\" width=\"50%\" />"
   ]
  },
  {
   "cell_type": "markdown",
   "id": "a34c7c22",
   "metadata": {},
   "source": [
    "## Powerline\n",
    "\n",
    "Powerline calculations can be performed using the `powerline` dataset.  This dataset calculates line sag, line sway, and line gallop.  To use this dataset some additional data is required. When the needed is not available at a specific location, static values can be provided using the dataset options, e.g.,"
   ]
  },
  {
   "cell_type": "code",
   "execution_count": 84,
   "id": "7076d379",
   "metadata": {},
   "outputs": [
    {
     "name": "stdout",
     "output_type": "stream",
     "text": [
      "/usr/local/lib/python3.9/site-packages/numpy/core/_asarray.py:136: VisibleDeprecationWarning: Creating an ndarray from ragged nested sequences (which is a list-or-tuple of lists-or-tuples-or ndarrays with different lengths or shapes) is deprecated. If you meant to do this, you must specify 'dtype=object' when creating the ndarray\r\n",
      "  return array(a, dtype, copy=False, order=order, subok=True)\r\n",
      "ERROR [geodata/powerline]: cannot set using a multi-index selection indexer with a different length than the value\r\n"
     ]
    }
   ],
   "source": [
    "!gridlabd geodata merge -D powerline path_example.csv --cable_type=\"TACSR/AC 610mm^2\" -r 100"
   ]
  },
  {
   "cell_type": "markdown",
   "id": "09abbe56",
   "metadata": {},
   "source": [
    "---\n",
    "# Getting help\n",
    "\n",
    "You can obtain help using the `help` directive, e.g.,"
   ]
  },
  {
   "cell_type": "code",
   "execution_count": 36,
   "id": "6627ef94",
   "metadata": {
    "scrolled": false
   },
   "outputs": [
    {
     "name": "stdout",
     "output_type": "stream",
     "text": [
      "Help on module __main__:\r\n",
      "\r\n",
      "NAME\r\n",
      "    __main__ - Syntax: gridlabd geodata OPTIONS DIRECTIVE [ARGUMENTS]\r\n",
      "\r\n",
      "DESCRIPTION\r\n",
      "    The geodata command gathers and joins geographic data. The geodata subcommand\r\n",
      "    uses directives that are documented in the DIRECTIVES section below.\r\n",
      "    \r\n",
      "    In general geodata is used to acquire geographic information at a location or\r\n"
     ]
    }
   ],
   "source": [
    "!gridlabd geodata help | head -n 10"
   ]
  },
  {
   "cell_type": "code",
   "execution_count": 37,
   "id": "713dbc41",
   "metadata": {},
   "outputs": [
    {
     "name": "stdout",
     "output_type": "stream",
     "text": [
      "Help on module geodata_distance:\r\n",
      "\r\n",
      "NAME\r\n",
      "    geodata_distance - GridLAB-D Geodata Distance Package\r\n",
      "\r\n",
      "DESCRIPTION\r\n",
      "    The distance package computes the shortest distance between consecutive\r\n",
      "    positions.\r\n",
      "    \r\n",
      "    OPTIONS\r\n"
     ]
    }
   ],
   "source": [
    "!gridlabd geodata help distance | head -n 10"
   ]
  },
  {
   "cell_type": "markdown",
   "id": "047cbc11",
   "metadata": {},
   "source": [
    "---\n",
    "# Debugging\n",
    "\n",
    "The `-d` or `--debug` option can be used to obtain details about why an error occurred.  For example, the following command has an invalid `lat,lon` tuple and results in a simple error message:"
   ]
  },
  {
   "cell_type": "code",
   "execution_count": 38,
   "id": "19844cfd",
   "metadata": {},
   "outputs": [
    {
     "name": "stdout",
     "output_type": "stream",
     "text": [
      "ERROR [geodata/distance]: unit 'furlongs' is not recognized\r\n"
     ]
    }
   ],
   "source": [
    "!gridlabd geodata merge -D distance 37,-122 38,-122 --units=furlongs"
   ]
  },
  {
   "cell_type": "markdown",
   "id": "6b81a51b",
   "metadata": {},
   "source": [
    "Using the debug option provides a more detailed traceback of the error that can be helpful in diagnostic the problem, particularly when it originates in a dataset package."
   ]
  },
  {
   "cell_type": "code",
   "execution_count": 39,
   "id": "318cf241",
   "metadata": {},
   "outputs": [
    {
     "name": "stdout",
     "output_type": "stream",
     "text": [
      "Traceback (most recent call last):\r\n",
      "  File \"/usr/local/opt/gridlabd/4.2.21-210512-develop_geodata_subcommand/bin/gridlabd-geodata\", line 801, in merge\r\n",
      "    result = MODULE.apply(data,options,config,warning)\r\n",
      "  File \"/usr/local/opt/gridlabd/4.2.21-210512-develop_geodata_subcommand/share/gridlabd/geodata_distance.py\", line 103, in apply\r\n",
      "    raise Exception(f\"unit '{options['units']}' is not recognized\")\r\n",
      "Exception: unit 'furlongs' is not recognized\r\n",
      "DEBUG [geodata/distance]: merge(args='['37,-122', '38,-122', '--units=furlongs']') --> data = \r\n",
      "----\r\n",
      "None\r\n",
      "----\r\n",
      "options = {\r\n",
      "    \"plot\": {\r\n",
      "        \"figsize\": [\r\n",
      "            7.0,\r\n",
      "            5.0\r\n",
      "        ],\r\n",
      "        \"cmap\": \"\",\r\n",
      "        \"categorical\": false,\r\n",
      "        \"legend\": false,\r\n",
      "        \"scheme\": \"\",\r\n",
      "        \"k\": 5,\r\n",
      "        \"vmin\": NaN,\r\n",
      "        \"vmax\": NaN,\r\n",
      "        \"aspect\": \"auto\"\r\n",
      "    },\r\n",
      "    \"show\": {\r\n",
      "        \"block\": true\r\n",
      "    },\r\n",
      "    \"savefig\": {\r\n",
      "        \"dpi\": 300,\r\n",
      "        \"facecolor\": \"w\",\r\n",
      "        \"edgecolor\": \"k\",\r\n",
      "        \"orientation\": \"landscape\",\r\n",
      "        \"format\": \"png\",\r\n",
      "        \"transparent\": false,\r\n",
      "        \"bbox_inches\": 0.25,\r\n",
      "        \"pad_inches\": 0.1,\r\n",
      "        \"metadata\": \"{\\\"application\\\": \\\"gridlabd-geodata\\\", \\\"version\\\": \\\"0.0.0\\\"}\"\r\n",
      "    },\r\n",
      "    \"table\": {\r\n",
      "        \"max_rows\": 10,\r\n",
      "        \"max_columns\": 10,\r\n",
      "        \"width\": 100,\r\n",
      "        \"max_colwidth\": 10\r\n",
      "    },\r\n",
      "    \"units\": \"furlongs\"\r\n",
      "}\r\n",
      "config = {\r\n",
      "    \"user.name\": \"user_value\",\r\n",
      "    \"system.name\": \"system_value\",\r\n",
      "    \"precision\": 0\r\n",
      "}\r\n"
     ]
    }
   ],
   "source": [
    "!gridlabd geodata merge -D distance 37,-122 38,-122 --units=furlongs -d"
   ]
  }
 ],
 "metadata": {
  "kernelspec": {
   "display_name": "Python 3",
   "language": "python",
   "name": "python3"
  },
  "language_info": {
   "codemirror_mode": {
    "name": "ipython",
    "version": 3
   },
   "file_extension": ".py",
   "mimetype": "text/x-python",
   "name": "python",
   "nbconvert_exporter": "python",
   "pygments_lexer": "ipython3",
   "version": "3.9.4"
  }
 },
 "nbformat": 4,
 "nbformat_minor": 5
}
