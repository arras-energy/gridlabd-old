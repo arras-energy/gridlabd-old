{
 "cells": [
  {
   "cell_type": "markdown",
   "metadata": {},
   "source": [
    "# Analog\n",
    "\n",
    "Analog loadshape are driven by schedules using a zero-order hold.  Two methods of generating the magnitude are used. For each of these examples, the following schedules and classes are used to illustrate usage."
   ]
  },
  {
   "cell_type": "raw",
   "metadata": {},
   "source": [
    "schedule unit \n",
    "{\n",
    "    *  0 * * * 1.0; *  1 * * * 1.0; *  2 * * * 1.0; *  3 * * * 1.0;\n",
    "    *  4 * * * 1.0; *  5 * * * 1.0; *  6 * * * 1.0; *  7 * * * 1.0;\n",
    "    *  8 * * * 1.0; *  9 * * * 1.0; * 10 * * * 1.0; * 11 * * * 1.0;\n",
    "    * 12 * * * 1.0; * 13 * * * 1.0; * 14 * * * 1.0; * 15 * * * 1.0;\n",
    "    * 16 * * * 1.0; * 17 * * * 1.0; * 18 * * * 1.0; * 19 * * * 1.0;\n",
    "    * 20 * * * 1.0; * 21 * * * 1.0; * 22 * * * 1.0; * 23 * * * 1.0;\n",
    "}\n",
    "class test_loadshape \n",
    "{\n",
    "    loadshape shape;\n",
    "    double load;\n",
    "}\n",
    "filter delay1h(z,3600s) = 1/z;"
   ]
  },
  {
   "cell_type": "markdown",
   "metadata": {},
   "source": [
    "## Direct\n",
    "\n",
    "The load value is copied directly from the schedule with no scaling. In this case, the  value in the schedule is assumed to be given in unit of power. To specify a direct loadshape use the following syntax. "
   ]
  },
  {
   "cell_type": "raw",
   "metadata": {},
   "source": [
    "object test_loadshape\n",
    "{\n",
    "    name \"unit_normal_analog_direct\";\n",
    "    shape \"type:analog; schedule:unit;\";\n",
    "    load delay1h(shape);\n",
    "}"
   ]
  },
  {
   "cell_type": "markdown",
   "metadata": {},
   "source": [
    "## Power"
   ]
  },
  {
   "cell_type": "markdown",
   "metadata": {},
   "source": [
    "The load value is scaled from the schedule using the magnitude of the power specified. In this case, the value in the schedule is assumed to be given per unit of power.  To specify a power loadshape use the following syntax."
   ]
  },
  {
   "cell_type": "raw",
   "metadata": {},
   "source": [
    "object test_loadshape\n",
    "{\n",
    "    name \"unit_normal_analog_direct\";\n",
    "    shape \"type:analog; schedule:unit_normal; power: 1.0 kW\";\n",
    "    load delay1h(shape);\n",
    "}"
   ]
  },
  {
   "cell_type": "markdown",
   "metadata": {},
   "source": [
    "To scale per unit of energy per unit time, use the following syntax."
   ]
  },
  {
   "cell_type": "raw",
   "metadata": {},
   "source": [
    "object test_loadshape\n",
    "{\n",
    "    name \"unit_normal_analog_direct\";\n",
    "    shape \"type:analog; schedule:unit_normal; power: 24.0 kWh/day\";\n",
    "    load delay1h(shape);\n",
    "}"
   ]
  }
 ],
 "metadata": {
  "kernelspec": {
   "display_name": "Python 3",
   "language": "python",
   "name": "python3"
  },
  "language_info": {
   "codemirror_mode": {
    "name": "ipython",
    "version": 3
   },
   "file_extension": ".py",
   "mimetype": "text/x-python",
   "name": "python",
   "nbconvert_exporter": "python",
   "pygments_lexer": "ipython3",
   "version": "3.7.3"
  }
 },
 "nbformat": 4,
 "nbformat_minor": 2
}
